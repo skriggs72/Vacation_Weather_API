{
 "cells": [
  {
   "cell_type": "markdown",
   "metadata": {},
   "source": [
    "# WeatherPy\n",
    "----\n",
    "\n",
    "#### Note\n",
    "* Instructions have been included for each segment. You do not have to follow them exactly, but they are included to help you think through the steps."
   ]
  },
  {
   "cell_type": "markdown",
   "metadata": {},
   "source": [
    "Observation 1: Southern Hemisphere climates tend to be slightly milder than those at similar latitudes in the Northern Hemisphere. This is because teh Southern Hemisphere has significantly more ocean and much less land; water heats up and cools down more slowly than land.\n",
    "\n",
    "Observation 2: Highest temperature is found at 0 latituted and as the latitude increases or decreases, temperature drops. This happens as equatorial region receives sunlight straight with less or no angle due to curvature shape of the earth.\n",
    "\n",
    "Observation 3: Latitude doesn't have a storng influence on wind speed. The speed of the wind is controlled by the strength of the air pressure gradient, the stonger the pressure gradient the higher the higher the wind speed."
   ]
  },
  {
   "cell_type": "code",
   "execution_count": 1,
   "metadata": {
    "scrolled": true
   },
   "outputs": [],
   "source": [
    "# Dependencies and Setup\n",
    "import matplotlib.pyplot as plt\n",
    "import pandas as pd\n",
    "import numpy as np\n",
    "import requests\n",
    "import time\n",
    "import scipy.stats as st\n",
    "from scipy.stats import linregress\n",
    "import datetime\n",
    "from datetime import date\n",
    "\n",
    "# Import API key\n",
    "from api_keys import weather_api_key\n",
    "\n",
    "# Incorporated citipy to determine city based on latitude and longitude\n",
    "from citipy import citipy\n",
    "\n",
    "# Output File (CSV)\n",
    "output_data_file = \"output_data/cities.csv\"\n",
    "\n",
    "# Range of latitudes and longitudes\n",
    "lat_range = (-90, 90)\n",
    "lng_range = (-180, 180)"
   ]
  },
  {
   "cell_type": "markdown",
   "metadata": {},
   "source": [
    "## Generate Cities List"
   ]
  },
  {
   "cell_type": "code",
   "execution_count": 2,
   "metadata": {},
   "outputs": [
    {
     "data": {
      "text/plain": [
       "625"
      ]
     },
     "execution_count": 2,
     "metadata": {},
     "output_type": "execute_result"
    }
   ],
   "source": [
    "# List for holding lat_lngs and cities\n",
    "lat_lngs = []\n",
    "cities = []\n",
    "countries = []\n",
    "\n",
    "# Create a set of random lat and lng combinations\n",
    "lats = np.random.uniform(low=-90.000, high=90.000, size=1500)\n",
    "lngs = np.random.uniform(low =-180.000, high=180.000, size=1500)\n",
    "lat_lngs = zip(lats, lngs)\n",
    "\n",
    "# Identify nearest city for each lat, lng combination\n",
    "for lat_lng in lat_lngs:\n",
    "    city = citipy.nearest_city(lat_lng[0], lat_lng[1]).city_name\n",
    "    \n",
    "    # If the city is unique, then add it to a our cities list\n",
    "    if city not in cities:\n",
    "        cities.append(city)\n",
    "                \n",
    "# Print the city count to confirm sufficient count\n",
    "len(cities)"
   ]
  },
  {
   "cell_type": "code",
   "execution_count": 3,
   "metadata": {
    "scrolled": true
   },
   "outputs": [],
   "source": [
    "city_name_list = []\n",
    "cloudiness_list = []\n",
    "country_list = []\n",
    "date_list = []\n",
    "humidity_list = []\n",
    "lat_list = []\n",
    "lng_list = []\n",
    "max_temp_list = []\n",
    "wind_speed_list = []\n",
    "index_counter = 0\n",
    "set_counter = 1"
   ]
  },
  {
   "cell_type": "markdown",
   "metadata": {},
   "source": [
    "### Perform API Calls\n",
    "* Perform a weather check on each city using a series of successive API calls.\n",
    "* Include a print log of each city as it'sbeing processed (with the city number and city name).\n"
   ]
  },
  {
   "cell_type": "code",
   "execution_count": 4,
   "metadata": {
    "scrolled": true
   },
   "outputs": [
    {
     "name": "stdout",
     "output_type": "stream",
     "text": [
      "Beginning Data Retrieval \n",
      "-----------------------------\n",
      "Processing Record 1 of Set 1 : kedougou\n",
      "Processing Record 2 of Set 1 : rikitea\n",
      "Processing Record 3 of Set 1 : tuktoyaktuk\n",
      "Processing Record 4 of Set 1 : cape town\n",
      "Processing Record 5 of Set 1 : tilichiki\n",
      "Processing Record 6 of Set 1 : kaitangata\n",
      "Processing Record 7 of Set 1 : portland\n",
      "Processing Record 8 of Set 1 : hobart\n",
      "Processing Record 9 of Set 1 : naze\n",
      "Processing Record 10 of Set 1 : lompoc\n",
      "Processing Record 11 of Set 1 : avarua\n",
      "Processing Record 12 of Set 1 : hualmay\n",
      "City not found. Skipping...\n",
      "City not found. Skipping...\n",
      "Processing Record 13 of Set 1 : saint george\n",
      "Processing Record 14 of Set 1 : lattes\n",
      "Processing Record 15 of Set 1 : valparaiso\n",
      "Processing Record 16 of Set 1 : yellowknife\n",
      "Processing Record 17 of Set 1 : albany\n",
      "Processing Record 18 of Set 1 : karlskrona\n",
      "Processing Record 19 of Set 1 : qaanaaq\n",
      "Processing Record 20 of Set 1 : lufkin\n",
      "Processing Record 21 of Set 1 : inuvik\n",
      "Processing Record 22 of Set 1 : tautira\n",
      "Processing Record 23 of Set 1 : amalapuram\n",
      "Processing Record 24 of Set 1 : kavaratti\n",
      "Processing Record 25 of Set 1 : atuona\n",
      "Processing Record 26 of Set 1 : hilo\n",
      "Processing Record 27 of Set 1 : hithadhoo\n",
      "Processing Record 28 of Set 1 : illapel\n",
      "Processing Record 29 of Set 1 : nikolskoye\n",
      "Processing Record 30 of Set 1 : ushuaia\n",
      "Processing Record 31 of Set 1 : mar del plata\n",
      "City not found. Skipping...\n",
      "Processing Record 32 of Set 1 : valdivia\n",
      "Processing Record 33 of Set 1 : mataura\n",
      "Processing Record 34 of Set 1 : alofi\n",
      "Processing Record 35 of Set 1 : khandyga\n",
      "City not found. Skipping...\n",
      "City not found. Skipping...\n",
      "Processing Record 36 of Set 1 : aden\n",
      "Processing Record 37 of Set 1 : barrow\n",
      "Processing Record 38 of Set 1 : provideniya\n",
      "Processing Record 39 of Set 1 : puerto colombia\n",
      "Processing Record 40 of Set 1 : san quintin\n",
      "Processing Record 41 of Set 1 : luanda\n",
      "Processing Record 42 of Set 1 : kigoma\n",
      "City not found. Skipping...\n",
      "Processing Record 43 of Set 1 : arraial do cabo\n",
      "Processing Record 44 of Set 1 : busselton\n",
      "Processing Record 45 of Set 1 : pevek\n",
      "Processing Record 46 of Set 1 : longyearbyen\n",
      "Processing Record 47 of Set 1 : dikson\n",
      "Processing Record 48 of Set 1 : ancud\n",
      "Processing Record 49 of Set 1 : klyuchi\n",
      "Processing Record 50 of Set 1 : carnarvon\n",
      "Processing Record 0 of Set 2 : tasiilaq\n",
      "Processing Record 1 of Set 2 : butaritari\n",
      "Processing Record 2 of Set 2 : inhambane\n",
      "Processing Record 3 of Set 2 : high level\n",
      "Processing Record 4 of Set 2 : kayerkan\n",
      "City not found. Skipping...\n",
      "City not found. Skipping...\n",
      "Processing Record 5 of Set 2 : bredasdorp\n",
      "Processing Record 6 of Set 2 : port alfred\n",
      "Processing Record 7 of Set 2 : lorengau\n",
      "Processing Record 8 of Set 2 : saskylakh\n",
      "Processing Record 9 of Set 2 : vostok\n",
      "Processing Record 10 of Set 2 : port elizabeth\n",
      "Processing Record 11 of Set 2 : kieta\n",
      "Processing Record 12 of Set 2 : jardim\n",
      "City not found. Skipping...\n",
      "Processing Record 13 of Set 2 : georgetown\n",
      "Processing Record 14 of Set 2 : hami\n",
      "Processing Record 15 of Set 2 : petropavlovsk-kamchatskiy\n",
      "Processing Record 16 of Set 2 : puerto ayora\n",
      "Processing Record 17 of Set 2 : thompson\n",
      "Processing Record 18 of Set 2 : makakilo city\n",
      "Processing Record 19 of Set 2 : kulhudhuffushi\n",
      "Processing Record 20 of Set 2 : cayenne\n",
      "Processing Record 21 of Set 2 : punta arenas\n",
      "Processing Record 22 of Set 2 : sandakan\n",
      "Processing Record 23 of Set 2 : bintulu\n",
      "Processing Record 24 of Set 2 : wajid\n",
      "Processing Record 25 of Set 2 : canyon\n",
      "Processing Record 26 of Set 2 : taoudenni\n",
      "Processing Record 27 of Set 2 : vaini\n",
      "Processing Record 28 of Set 2 : kapuskasing\n",
      "Processing Record 29 of Set 2 : aksu\n",
      "Processing Record 30 of Set 2 : barra do garcas\n",
      "Processing Record 31 of Set 2 : kodiak\n",
      "Processing Record 32 of Set 2 : sawtell\n",
      "Processing Record 33 of Set 2 : aklavik\n",
      "Processing Record 34 of Set 2 : new norfolk\n",
      "Processing Record 35 of Set 2 : kasongo\n",
      "City not found. Skipping...\n",
      "Processing Record 36 of Set 2 : hermanus\n",
      "Processing Record 37 of Set 2 : cidreira\n",
      "Processing Record 38 of Set 2 : rio grande\n",
      "Processing Record 39 of Set 2 : clyde river\n",
      "Processing Record 40 of Set 2 : north bend\n",
      "Processing Record 41 of Set 2 : bluff\n",
      "Processing Record 42 of Set 2 : yulara\n",
      "Processing Record 43 of Set 2 : bengkulu\n",
      "Processing Record 44 of Set 2 : warrington\n",
      "Processing Record 45 of Set 2 : strezhevoy\n",
      "Processing Record 46 of Set 2 : faanui\n",
      "Processing Record 47 of Set 2 : maceio\n",
      "Processing Record 48 of Set 2 : mahebourg\n",
      "Processing Record 49 of Set 2 : lagoa\n",
      "Processing Record 50 of Set 2 : xining\n",
      "Processing Record 0 of Set 3 : novo aripuana\n",
      "Processing Record 1 of Set 3 : aberdeen\n",
      "Processing Record 2 of Set 3 : nelson bay\n",
      "Processing Record 3 of Set 3 : camacha\n",
      "Processing Record 4 of Set 3 : ostrovnoy\n",
      "Processing Record 5 of Set 3 : chokurdakh\n",
      "Processing Record 6 of Set 3 : viedma\n",
      "Processing Record 7 of Set 3 : pimentel\n",
      "Processing Record 8 of Set 3 : maragogi\n",
      "Processing Record 9 of Set 3 : ponta do sol\n",
      "Processing Record 10 of Set 3 : nehe\n",
      "Processing Record 11 of Set 3 : adwa\n",
      "Processing Record 12 of Set 3 : keetmanshoop\n",
      "City not found. Skipping...\n",
      "Processing Record 13 of Set 3 : koundara\n",
      "Processing Record 14 of Set 3 : nioki\n",
      "Processing Record 15 of Set 3 : miguel auza\n",
      "Processing Record 16 of Set 3 : carndonagh\n",
      "Processing Record 17 of Set 3 : jamestown\n",
      "Processing Record 18 of Set 3 : alghero\n",
      "Processing Record 19 of Set 3 : katsuura\n",
      "Processing Record 20 of Set 3 : east london\n",
      "Processing Record 21 of Set 3 : necochea\n",
      "Processing Record 22 of Set 3 : fare\n",
      "Processing Record 23 of Set 3 : tiksi\n",
      "Processing Record 24 of Set 3 : springfield\n",
      "Processing Record 25 of Set 3 : khatanga\n",
      "Processing Record 26 of Set 3 : asyut\n",
      "Processing Record 27 of Set 3 : mehamn\n",
      "Processing Record 28 of Set 3 : chuy\n",
      "Processing Record 29 of Set 3 : guerrero negro\n",
      "Processing Record 30 of Set 3 : rabo de peixe\n",
      "Processing Record 31 of Set 3 : pundaguitan\n",
      "Processing Record 32 of Set 3 : castro\n",
      "Processing Record 33 of Set 3 : bonavista\n",
      "Processing Record 34 of Set 3 : vanavara\n",
      "City not found. Skipping...\n",
      "Processing Record 35 of Set 3 : lata\n",
      "Processing Record 36 of Set 3 : hamilton\n",
      "Processing Record 37 of Set 3 : baragua\n",
      "Processing Record 38 of Set 3 : nabire\n",
      "Processing Record 39 of Set 3 : casablanca\n",
      "Processing Record 40 of Set 3 : christchurch\n",
      "Processing Record 41 of Set 3 : sioux lookout\n",
      "City not found. Skipping...\n",
      "Processing Record 42 of Set 3 : lancaster\n",
      "Processing Record 43 of Set 3 : mwinilunga\n",
      "Processing Record 44 of Set 3 : cabedelo\n",
      "Processing Record 45 of Set 3 : la ronge\n",
      "Processing Record 46 of Set 3 : jurado\n",
      "Processing Record 47 of Set 3 : kruisfontein\n",
      "Processing Record 48 of Set 3 : cherskiy\n",
      "Processing Record 49 of Set 3 : pallasovka\n",
      "Processing Record 50 of Set 3 : nanchang\n",
      "Processing Record 0 of Set 4 : saint-philippe\n",
      "Processing Record 1 of Set 4 : roald\n",
      "Processing Record 2 of Set 4 : cabo san lucas\n",
      "Processing Record 3 of Set 4 : rtishchevo\n",
      "Processing Record 4 of Set 4 : praia\n",
      "Processing Record 5 of Set 4 : san carlos de bariloche\n",
      "Processing Record 6 of Set 4 : rawson\n",
      "City not found. Skipping...\n",
      "Processing Record 7 of Set 4 : lebu\n",
      "Processing Record 8 of Set 4 : ponta delgada\n",
      "Processing Record 9 of Set 4 : moron\n",
      "Processing Record 10 of Set 4 : bethel\n",
      "Processing Record 11 of Set 4 : pisco\n",
      "Processing Record 12 of Set 4 : podor\n",
      "Processing Record 13 of Set 4 : marawi\n",
      "Processing Record 14 of Set 4 : ribeira grande\n",
      "Processing Record 15 of Set 4 : iqaluit\n",
      "Processing Record 16 of Set 4 : arica\n",
      "Processing Record 17 of Set 4 : port hedland\n",
      "Processing Record 18 of Set 4 : bambous virieux\n",
      "Processing Record 19 of Set 4 : bogovarovo\n",
      "Processing Record 20 of Set 4 : saint-georges\n",
      "Processing Record 21 of Set 4 : araguacu\n",
      "Processing Record 22 of Set 4 : vila franca do campo\n",
      "Processing Record 23 of Set 4 : lasa\n",
      "Processing Record 24 of Set 4 : itarema\n",
      "Processing Record 25 of Set 4 : kapaa\n",
      "Processing Record 26 of Set 4 : talnakh\n",
      "City not found. Skipping...\n",
      "Processing Record 27 of Set 4 : storm lake\n",
      "Processing Record 28 of Set 4 : sao filipe\n",
      "Processing Record 29 of Set 4 : sao jose da coroa grande\n",
      "Processing Record 30 of Set 4 : san cristobal\n",
      "Processing Record 31 of Set 4 : samana\n",
      "Processing Record 32 of Set 4 : hovd\n",
      "Processing Record 33 of Set 4 : nemuro\n",
      "Processing Record 34 of Set 4 : newport\n"
     ]
    },
    {
     "name": "stdout",
     "output_type": "stream",
     "text": [
      "Processing Record 35 of Set 4 : rayong\n",
      "City not found. Skipping...\n",
      "Processing Record 36 of Set 4 : okhotsk\n",
      "Processing Record 37 of Set 4 : biloli\n",
      "Processing Record 38 of Set 4 : bouar\n",
      "Processing Record 39 of Set 4 : ust-kuyga\n",
      "Processing Record 40 of Set 4 : brae\n",
      "Processing Record 41 of Set 4 : lichinga\n",
      "Processing Record 42 of Set 4 : selkirk\n",
      "Processing Record 43 of Set 4 : pali\n",
      "Processing Record 44 of Set 4 : nanortalik\n",
      "Processing Record 45 of Set 4 : goure\n",
      "Processing Record 46 of Set 4 : leningradskiy\n",
      "Processing Record 47 of Set 4 : bambanglipuro\n",
      "Processing Record 48 of Set 4 : ginda\n",
      "Processing Record 49 of Set 4 : quatre cocos\n",
      "Processing Record 50 of Set 4 : powell\n",
      "Processing Record 0 of Set 5 : nome\n",
      "Processing Record 1 of Set 5 : powell river\n",
      "Processing Record 2 of Set 5 : halifax\n",
      "Processing Record 3 of Set 5 : berga\n",
      "Processing Record 4 of Set 5 : manadhoo\n",
      "Processing Record 5 of Set 5 : phangnga\n",
      "Processing Record 6 of Set 5 : atbasar\n",
      "Processing Record 7 of Set 5 : muroto\n",
      "Processing Record 8 of Set 5 : nizhniy odes\n",
      "Processing Record 9 of Set 5 : banda aceh\n",
      "City not found. Skipping...\n",
      "Processing Record 10 of Set 5 : lumphat\n",
      "City not found. Skipping...\n",
      "Processing Record 11 of Set 5 : kangaba\n",
      "Processing Record 12 of Set 5 : tura\n",
      "Processing Record 13 of Set 5 : kavieng\n",
      "Processing Record 14 of Set 5 : mumbwa\n",
      "Processing Record 15 of Set 5 : severodvinsk\n",
      "Processing Record 16 of Set 5 : hearst\n",
      "Processing Record 17 of Set 5 : ciolpani\n",
      "Processing Record 18 of Set 5 : champerico\n",
      "Processing Record 19 of Set 5 : batemans bay\n",
      "Processing Record 20 of Set 5 : norman wells\n",
      "Processing Record 21 of Set 5 : balaipungut\n",
      "Processing Record 22 of Set 5 : prainha\n",
      "City not found. Skipping...\n",
      "Processing Record 23 of Set 5 : uren\n",
      "City not found. Skipping...\n",
      "Processing Record 24 of Set 5 : tessalit\n",
      "Processing Record 25 of Set 5 : aurillac\n",
      "Processing Record 26 of Set 5 : pangnirtung\n",
      "Processing Record 27 of Set 5 : ghanzi\n",
      "Processing Record 28 of Set 5 : taos\n",
      "Processing Record 29 of Set 5 : codrington\n",
      "Processing Record 30 of Set 5 : ciro marina\n",
      "Processing Record 31 of Set 5 : muros\n",
      "Processing Record 32 of Set 5 : omsukchan\n",
      "Processing Record 33 of Set 5 : airai\n",
      "Processing Record 34 of Set 5 : olafsvik\n",
      "Processing Record 35 of Set 5 : mareeba\n",
      "Processing Record 36 of Set 5 : yate\n",
      "Processing Record 37 of Set 5 : port-gentil\n",
      "Processing Record 38 of Set 5 : bahia honda\n",
      "Processing Record 39 of Set 5 : caravelas\n",
      "Processing Record 40 of Set 5 : pradopolis\n",
      "Processing Record 41 of Set 5 : saint-pierre\n",
      "Processing Record 42 of Set 5 : hasaki\n",
      "Processing Record 43 of Set 5 : umirim\n",
      "Processing Record 44 of Set 5 : san miguel\n",
      "Processing Record 45 of Set 5 : xinyu\n",
      "Processing Record 46 of Set 5 : salalah\n",
      "Processing Record 47 of Set 5 : vila velha\n",
      "Processing Record 48 of Set 5 : puerto escondido\n",
      "Processing Record 49 of Set 5 : coihaique\n",
      "Processing Record 50 of Set 5 : huilong\n",
      "Processing Record 0 of Set 6 : broome\n",
      "Processing Record 1 of Set 6 : pauini\n",
      "Processing Record 2 of Set 6 : husavik\n",
      "Processing Record 3 of Set 6 : tynset\n",
      "Processing Record 4 of Set 6 : emerald\n",
      "Processing Record 5 of Set 6 : itaituba\n",
      "Processing Record 6 of Set 6 : drovyanaya\n",
      "City not found. Skipping...\n",
      "Processing Record 7 of Set 6 : narsaq\n",
      "Processing Record 8 of Set 6 : nancha\n",
      "Processing Record 9 of Set 6 : westport\n",
      "Processing Record 10 of Set 6 : solwezi\n",
      "Processing Record 11 of Set 6 : hambantota\n",
      "Processing Record 12 of Set 6 : coquimbo\n",
      "Processing Record 13 of Set 6 : calama\n",
      "Processing Record 14 of Set 6 : torbay\n",
      "Processing Record 15 of Set 6 : saint anthony\n",
      "Processing Record 16 of Set 6 : warsaw\n",
      "Processing Record 17 of Set 6 : chardara\n",
      "Processing Record 18 of Set 6 : san andres\n",
      "Processing Record 19 of Set 6 : holme\n",
      "Processing Record 20 of Set 6 : waingapu\n",
      "City not found. Skipping...\n",
      "Processing Record 21 of Set 6 : loding\n",
      "Processing Record 22 of Set 6 : saint-augustin\n",
      "City not found. Skipping...\n",
      "Processing Record 23 of Set 6 : dalen\n",
      "Processing Record 24 of Set 6 : joshimath\n",
      "Processing Record 25 of Set 6 : padang\n",
      "Processing Record 26 of Set 6 : esperance\n",
      "City not found. Skipping...\n",
      "Processing Record 27 of Set 6 : severo-kurilsk\n",
      "Processing Record 28 of Set 6 : camana\n",
      "Processing Record 29 of Set 6 : sitka\n",
      "Processing Record 30 of Set 6 : kargasok\n",
      "Processing Record 31 of Set 6 : clarksville\n",
      "Processing Record 32 of Set 6 : soyo\n",
      "Processing Record 33 of Set 6 : pozo colorado\n",
      "Processing Record 34 of Set 6 : ostersund\n",
      "Processing Record 35 of Set 6 : puerto el triunfo\n",
      "Processing Record 36 of Set 6 : pemberton\n",
      "Processing Record 37 of Set 6 : egvekinot\n",
      "Processing Record 38 of Set 6 : mount gambier\n",
      "Processing Record 39 of Set 6 : vao\n",
      "Processing Record 40 of Set 6 : moree\n",
      "Processing Record 41 of Set 6 : ravar\n",
      "Processing Record 42 of Set 6 : bonthe\n",
      "City not found. Skipping...\n",
      "Processing Record 43 of Set 6 : port blair\n",
      "Processing Record 44 of Set 6 : kurumoch\n",
      "Processing Record 45 of Set 6 : atchison\n",
      "Processing Record 46 of Set 6 : nuevo progreso\n",
      "Processing Record 47 of Set 6 : ilulissat\n",
      "Processing Record 48 of Set 6 : oussouye\n",
      "Processing Record 49 of Set 6 : comodoro rivadavia\n",
      "Processing Record 50 of Set 6 : kysyl-syr\n",
      "Processing Record 0 of Set 7 : road town\n",
      "Processing Record 1 of Set 7 : haines junction\n",
      "Processing Record 2 of Set 7 : sulat\n",
      "Processing Record 3 of Set 7 : port victoria\n",
      "City not found. Skipping...\n",
      "Processing Record 4 of Set 7 : saint-joseph\n",
      "Processing Record 5 of Set 7 : dublin\n",
      "Processing Record 6 of Set 7 : kahului\n",
      "Processing Record 7 of Set 7 : tabou\n",
      "Processing Record 8 of Set 7 : padre bernardo\n",
      "City not found. Skipping...\n",
      "City not found. Skipping...\n",
      "City not found. Skipping...\n",
      "Processing Record 9 of Set 7 : varna\n",
      "Processing Record 10 of Set 7 : manzhouli\n",
      "Processing Record 11 of Set 7 : gualaceo\n",
      "City not found. Skipping...\n",
      "Processing Record 12 of Set 7 : elliot\n",
      "Processing Record 13 of Set 7 : pringsewu\n",
      "Processing Record 14 of Set 7 : bol\n",
      "Processing Record 15 of Set 7 : marfino\n",
      "Processing Record 16 of Set 7 : paamiut\n",
      "Processing Record 17 of Set 7 : paoua\n",
      "Processing Record 18 of Set 7 : faya\n",
      "Processing Record 19 of Set 7 : redmond\n",
      "Processing Record 20 of Set 7 : jackson\n",
      "Processing Record 21 of Set 7 : kristiansund\n",
      "Processing Record 22 of Set 7 : richards bay\n",
      "Processing Record 23 of Set 7 : gladstone\n",
      "Processing Record 24 of Set 7 : sadri\n",
      "Processing Record 25 of Set 7 : neryungri\n",
      "Processing Record 26 of Set 7 : meulaboh\n",
      "Processing Record 27 of Set 7 : noumea\n",
      "Processing Record 28 of Set 7 : lundazi\n",
      "Processing Record 29 of Set 7 : tinde\n",
      "Processing Record 30 of Set 7 : kutum\n",
      "Processing Record 31 of Set 7 : hofn\n",
      "Processing Record 32 of Set 7 : zverinogolovskoye\n",
      "Processing Record 33 of Set 7 : zharkent\n",
      "Processing Record 34 of Set 7 : grindavik\n",
      "Processing Record 35 of Set 7 : sao felix do xingu\n",
      "City not found. Skipping...\n",
      "Processing Record 36 of Set 7 : geraldton\n",
      "Processing Record 37 of Set 7 : sokoni\n",
      "Processing Record 38 of Set 7 : cockburn town\n",
      "Processing Record 39 of Set 7 : mehran\n",
      "Processing Record 40 of Set 7 : knittelfeld\n",
      "Processing Record 41 of Set 7 : markivka\n",
      "Processing Record 42 of Set 7 : astara\n",
      "Processing Record 43 of Set 7 : phonhong\n",
      "Processing Record 44 of Set 7 : kankon\n",
      "Processing Record 45 of Set 7 : tadine\n",
      "Processing Record 46 of Set 7 : havoysund\n",
      "City not found. Skipping...\n",
      "Processing Record 47 of Set 7 : yabrud\n",
      "Processing Record 48 of Set 7 : usakos\n",
      "Processing Record 49 of Set 7 : wakkanai\n",
      "Processing Record 50 of Set 7 : sarkand\n",
      "Processing Record 0 of Set 8 : nouadhibou\n",
      "Processing Record 1 of Set 8 : bonnyville\n",
      "Processing Record 2 of Set 8 : pangkalanbuun\n",
      "Processing Record 3 of Set 8 : uirauna\n",
      "Processing Record 4 of Set 8 : port lincoln\n",
      "Processing Record 5 of Set 8 : pitimbu\n",
      "Processing Record 6 of Set 8 : gaziantep\n",
      "Processing Record 7 of Set 8 : srednekolymsk\n",
      "Processing Record 8 of Set 8 : hondo\n",
      "Processing Record 9 of Set 8 : seoul\n",
      "Processing Record 10 of Set 8 : turki\n",
      "Processing Record 11 of Set 8 : lensk\n",
      "Processing Record 12 of Set 8 : mao\n",
      "Processing Record 13 of Set 8 : maua\n",
      "Processing Record 14 of Set 8 : flinders\n",
      "Processing Record 15 of Set 8 : chamrajnagar\n",
      "City not found. Skipping...\n",
      "Processing Record 16 of Set 8 : isangel\n",
      "Processing Record 17 of Set 8 : tongzhou\n",
      "Processing Record 18 of Set 8 : rocha\n",
      "Processing Record 19 of Set 8 : lahaina\n"
     ]
    },
    {
     "name": "stdout",
     "output_type": "stream",
     "text": [
      "Processing Record 20 of Set 8 : kawambwa\n",
      "Processing Record 21 of Set 8 : shelburne\n",
      "Processing Record 22 of Set 8 : dharchula\n",
      "Processing Record 23 of Set 8 : kokstad\n",
      "Processing Record 24 of Set 8 : fort-shevchenko\n",
      "Processing Record 25 of Set 8 : jalu\n",
      "Processing Record 26 of Set 8 : havre-saint-pierre\n",
      "City not found. Skipping...\n",
      "Processing Record 27 of Set 8 : hun\n",
      "Processing Record 28 of Set 8 : ulladulla\n",
      "Processing Record 29 of Set 8 : fortuna\n",
      "Processing Record 30 of Set 8 : kigorobya\n",
      "City not found. Skipping...\n",
      "Processing Record 31 of Set 8 : north platte\n",
      "Processing Record 32 of Set 8 : chicama\n",
      "Processing Record 33 of Set 8 : suntar\n",
      "Processing Record 34 of Set 8 : dinguiraye\n",
      "Processing Record 35 of Set 8 : nizwa\n",
      "Processing Record 36 of Set 8 : divnomorskoye\n",
      "Processing Record 37 of Set 8 : porto walter\n",
      "Processing Record 38 of Set 8 : oktyabrskiy\n",
      "Processing Record 39 of Set 8 : andenes\n",
      "Processing Record 40 of Set 8 : ambilobe\n",
      "Processing Record 41 of Set 8 : fereydun kenar\n",
      "Processing Record 42 of Set 8 : huarmey\n",
      "City not found. Skipping...\n",
      "Processing Record 43 of Set 8 : aquiraz\n",
      "Processing Record 44 of Set 8 : atambua\n",
      "Processing Record 45 of Set 8 : grants\n",
      "Processing Record 46 of Set 8 : kilindoni\n",
      "Processing Record 47 of Set 8 : kenai\n",
      "Processing Record 48 of Set 8 : mchinji\n",
      "Processing Record 49 of Set 8 : merke\n",
      "Processing Record 50 of Set 8 : meadow lake\n",
      "City not found. Skipping...\n",
      "Processing Record 0 of Set 9 : yozgat\n",
      "Processing Record 1 of Set 9 : sirvintos\n",
      "Processing Record 2 of Set 9 : bac lieu\n",
      "Processing Record 3 of Set 9 : kayunga\n",
      "Processing Record 4 of Set 9 : jumla\n",
      "Processing Record 5 of Set 9 : uvarovo\n",
      "Processing Record 6 of Set 9 : lazaro cardenas\n",
      "City not found. Skipping...\n",
      "Processing Record 7 of Set 9 : marshfield\n",
      "Processing Record 8 of Set 9 : san juan\n",
      "Processing Record 9 of Set 9 : boa vista\n",
      "Processing Record 10 of Set 9 : pedernales\n",
      "Processing Record 11 of Set 9 : chiredzi\n",
      "Processing Record 12 of Set 9 : sete\n",
      "Processing Record 13 of Set 9 : liverpool\n",
      "Processing Record 14 of Set 9 : ishigaki\n",
      "Processing Record 15 of Set 9 : saldanha\n",
      "Processing Record 16 of Set 9 : half moon bay\n",
      "Processing Record 17 of Set 9 : anadyr\n",
      "Processing Record 18 of Set 9 : samarai\n",
      "Processing Record 19 of Set 9 : dawson creek\n",
      "City not found. Skipping...\n",
      "Processing Record 20 of Set 9 : gornoye loo\n",
      "Processing Record 21 of Set 9 : aku\n",
      "Processing Record 22 of Set 9 : ucluelet\n",
      "Processing Record 23 of Set 9 : deer lake\n",
      "City not found. Skipping...\n",
      "Processing Record 24 of Set 9 : arak\n",
      "Processing Record 25 of Set 9 : lano\n",
      "Processing Record 26 of Set 9 : corinth\n",
      "Processing Record 27 of Set 9 : thinadhoo\n",
      "Processing Record 28 of Set 9 : zeya\n",
      "Processing Record 29 of Set 9 : berlevag\n",
      "Processing Record 30 of Set 9 : takoradi\n",
      "City not found. Skipping...\n",
      "Processing Record 31 of Set 9 : lerwick\n",
      "Processing Record 32 of Set 9 : cliza\n",
      "Processing Record 33 of Set 9 : haicheng\n",
      "Processing Record 34 of Set 9 : lakatoro\n",
      "Processing Record 35 of Set 9 : ballina\n",
      "Processing Record 36 of Set 9 : upernavik\n",
      "Processing Record 37 of Set 9 : salisbury\n",
      "Processing Record 38 of Set 9 : akdepe\n",
      "Processing Record 39 of Set 9 : sande\n",
      "Processing Record 40 of Set 9 : salvador\n",
      "Processing Record 41 of Set 9 : gao\n",
      "Processing Record 42 of Set 9 : kindu\n",
      "Processing Record 43 of Set 9 : hirara\n",
      "Processing Record 44 of Set 9 : stornoway\n",
      "Processing Record 45 of Set 9 : college\n",
      "Processing Record 46 of Set 9 : kirovsk\n",
      "Processing Record 47 of Set 9 : porto belo\n",
      "Processing Record 48 of Set 9 : waipawa\n",
      "Processing Record 49 of Set 9 : las vegas\n",
      "Processing Record 50 of Set 9 : mindelo\n",
      "Processing Record 0 of Set 10 : talcahuano\n",
      "Processing Record 1 of Set 10 : harper\n",
      "City not found. Skipping...\n",
      "Processing Record 2 of Set 10 : rozsypne\n",
      "Processing Record 3 of Set 10 : zaplavnoye\n",
      "Processing Record 4 of Set 10 : miyako\n",
      "Processing Record 5 of Set 10 : ust-nera\n",
      "Processing Record 6 of Set 10 : peyima\n",
      "Processing Record 7 of Set 10 : leipzig\n",
      "Processing Record 8 of Set 10 : dalvik\n",
      "Processing Record 9 of Set 10 : panguna\n",
      "Processing Record 10 of Set 10 : amuntai\n",
      "Processing Record 11 of Set 10 : acarau\n",
      "Processing Record 12 of Set 10 : oranjestad\n",
      "Processing Record 13 of Set 10 : adrar\n",
      "Processing Record 14 of Set 10 : barela\n",
      "Processing Record 15 of Set 10 : cahabon\n",
      "Processing Record 16 of Set 10 : tazovskiy\n",
      "Processing Record 17 of Set 10 : gazojak\n",
      "Processing Record 18 of Set 10 : mount isa\n",
      "Processing Record 19 of Set 10 : batagay-alyta\n",
      "Processing Record 20 of Set 10 : eyl\n",
      "Processing Record 21 of Set 10 : alappuzha\n",
      "Processing Record 22 of Set 10 : dire dawa\n",
      "City not found. Skipping...\n",
      "Processing Record 23 of Set 10 : valleyview\n",
      "Processing Record 24 of Set 10 : xinyang\n",
      "Processing Record 25 of Set 10 : gohpur\n",
      "Processing Record 26 of Set 10 : bolitoc\n",
      "Processing Record 27 of Set 10 : kuandian\n",
      "Processing Record 28 of Set 10 : boysun\n",
      "Processing Record 29 of Set 10 : fort nelson\n",
      "Processing Record 30 of Set 10 : saint augustine\n",
      "Processing Record 31 of Set 10 : litovko\n",
      "Processing Record 32 of Set 10 : westerland\n",
      "Processing Record 33 of Set 10 : bereda\n",
      "Processing Record 34 of Set 10 : abrau-dyurso\n",
      "Processing Record 35 of Set 10 : faro\n",
      "Processing Record 36 of Set 10 : qasigiannguit\n",
      "City not found. Skipping...\n",
      "Processing Record 37 of Set 10 : santa maria\n",
      "Processing Record 38 of Set 10 : mokolo\n",
      "Processing Record 39 of Set 10 : korla\n",
      "Processing Record 40 of Set 10 : lapinig\n",
      "Processing Record 41 of Set 10 : okakarara\n",
      "Processing Record 42 of Set 10 : sarh\n",
      "Processing Record 43 of Set 10 : yelan\n",
      "Processing Record 44 of Set 10 : pervomayskoye\n",
      "Processing Record 45 of Set 10 : banjar\n",
      "Processing Record 46 of Set 10 : kirakira\n",
      "City not found. Skipping...\n",
      "Processing Record 47 of Set 10 : acapulco\n",
      "Processing Record 48 of Set 10 : sola\n",
      "Processing Record 49 of Set 10 : morros\n",
      "Processing Record 50 of Set 10 : innisfail\n",
      "Processing Record 0 of Set 11 : prince rupert\n",
      "Processing Record 1 of Set 11 : bandipur\n",
      "Processing Record 2 of Set 11 : vlore\n",
      "Processing Record 3 of Set 11 : ahipara\n",
      "Processing Record 4 of Set 11 : belaya gora\n",
      "Processing Record 5 of Set 11 : arinos\n",
      "Processing Record 6 of Set 11 : mulanje\n",
      "Processing Record 7 of Set 11 : anapskaya\n",
      "Processing Record 8 of Set 11 : shaowu\n",
      "Processing Record 9 of Set 11 : iralaya\n",
      "Processing Record 10 of Set 11 : nuuk\n",
      "Processing Record 11 of Set 11 : hervey bay\n",
      "Processing Record 12 of Set 11 : kariba\n",
      "Processing Record 13 of Set 11 : vigrestad\n",
      "Processing Record 14 of Set 11 : san pablo de borbur\n",
      "Processing Record 15 of Set 11 : skjervoy\n",
      "Processing Record 16 of Set 11 : beringovskiy\n",
      "Processing Record 17 of Set 11 : conakry\n",
      "Processing Record 18 of Set 11 : noyabrsk\n",
      "Processing Record 19 of Set 11 : borovichi\n",
      "Processing Record 20 of Set 11 : atar\n",
      "City not found. Skipping...\n",
      "Processing Record 21 of Set 11 : vestmannaeyjar\n",
      "Processing Record 22 of Set 11 : belgrade\n",
      "Processing Record 23 of Set 11 : rosarito\n",
      "Processing Record 24 of Set 11 : arawa\n",
      "Processing Record 25 of Set 11 : petatlan\n",
      "Processing Record 26 of Set 11 : henties bay\n",
      "Processing Record 27 of Set 11 : chenghai\n",
      "Processing Record 28 of Set 11 : klaksvik\n",
      "Processing Record 29 of Set 11 : komsomolskiy\n",
      "Processing Record 30 of Set 11 : alugan\n",
      "Processing Record 31 of Set 11 : uige\n",
      "Processing Record 32 of Set 11 : port hardy\n",
      "Processing Record 33 of Set 11 : inta\n",
      "Processing Record 34 of Set 11 : prieska\n",
      "Processing Record 35 of Set 11 : sovetskiy\n",
      "Processing Record 36 of Set 11 : jacareacanga\n",
      "Processing Record 37 of Set 11 : villazon\n",
      "Processing Record 38 of Set 11 : pudem\n",
      "Processing Record 39 of Set 11 : san isidro\n",
      "Processing Record 40 of Set 11 : roma\n",
      "Processing Record 41 of Set 11 : deputatskiy\n",
      "Processing Record 42 of Set 11 : dwarahat\n",
      "Processing Record 43 of Set 11 : wellington\n",
      "Processing Record 44 of Set 11 : margherita\n",
      "Processing Record 45 of Set 11 : big bend\n",
      "Processing Record 46 of Set 11 : dasoguz\n",
      "Processing Record 47 of Set 11 : ngama\n",
      "Processing Record 48 of Set 11 : desbiens\n",
      "Processing Record 49 of Set 11 : pedasi\n",
      "Processing Record 50 of Set 11 : kouroussa\n",
      "Processing Record 0 of Set 12 : te anau\n",
      "Processing Record 1 of Set 12 : san-pedro\n",
      "Processing Record 2 of Set 12 : ponazyrevo\n",
      "Processing Record 3 of Set 12 : bardsir\n",
      "City not found. Skipping...\n",
      "City not found. Skipping...\n",
      "Processing Record 4 of Set 12 : le port\n"
     ]
    },
    {
     "name": "stdout",
     "output_type": "stream",
     "text": [
      "Processing Record 5 of Set 12 : washington\n",
      "Processing Record 6 of Set 12 : derzhavinsk\n",
      "Processing Record 7 of Set 12 : giyani\n",
      "Processing Record 8 of Set 12 : kaniama\n",
      "Processing Record 9 of Set 12 : belmonte\n",
      "Processing Record 10 of Set 12 : otane\n",
      "Processing Record 11 of Set 12 : kiama\n",
      "Processing Record 12 of Set 12 : miguel hidalgo\n",
      "Processing Record 13 of Set 12 : axim\n",
      "Processing Record 14 of Set 12 : wanaka\n",
      "Processing Record 15 of Set 12 : angoche\n",
      "Processing Record 16 of Set 12 : mae sai\n",
      "----------------------------\n",
      "Data Retrieval Complete\n",
      "----------------------------\n"
     ]
    }
   ],
   "source": [
    "print(\"Beginning Data Retrieval \")\n",
    "print(\"-----------------------------\")\n",
    "\n",
    "base_url = \"http://api.openweathermap.org/data/2.5/weather?\"\n",
    "units = \"imperial\"\n",
    "query_url = f\"{base_url}appid={weather_api_key}&units={units}&q=\"\n",
    "\n",
    "# For each city name in cities list, do the following...\n",
    "for index, city in enumerate(cities, start = 1):\n",
    "    try:\n",
    "        response = requests.get(query_url + city).json()\n",
    "        city_name_list.append(response['name'])\n",
    "        cloudiness_list.append(response['clouds']['all'])\n",
    "        country_list.append(response['sys']['country'])\n",
    "        date_list.append(response[\"dt\"])\n",
    "        humidity_list.append(response['main']['humidity'])\n",
    "        lat_list.append(response['coord']['lat'])\n",
    "        lng_list.append(response['coord']['lon'])\n",
    "        max_temp_list.append(response['main']['temp_max'])\n",
    "        wind_speed_list.append(response['wind']['speed'])\n",
    "        if index_counter > 49:\n",
    "            index_counter = 0\n",
    "            set_counter = set_counter + 1\n",
    "        else:\n",
    "            index_counter = index_counter + 1\n",
    "        print(f\"Processing Record {index_counter} of Set {set_counter} : {city}\")\n",
    "    \n",
    "    except(KeyError, IndexError):\n",
    "        print(\"City not found. Skipping...\")\n",
    "\n",
    "print(\"----------------------------\")\n",
    "print(\"Data Retrieval Complete\")\n",
    "print(\"----------------------------\")"
   ]
  },
  {
   "cell_type": "markdown",
   "metadata": {},
   "source": [
    "### Convert Raw Data to DataFrame\n",
    "* Export the city data into a .csv.\n",
    "* Display the DataFrame"
   ]
  },
  {
   "cell_type": "code",
   "execution_count": 5,
   "metadata": {},
   "outputs": [],
   "source": [
    "# Create initial dictionary with API calls\n",
    "weather_dict = pd.DataFrame ({\"City\":city_name_list,\n",
    "                            \"Cloudiness\":cloudiness_list,\n",
    "                            \"Country\" : country_list,\n",
    "                            \"Date\" : date_list,\n",
    "                            \"Humidity\":humidity_list,\n",
    "                            \"Lat\":lat_list,\n",
    "                            \"Lng\":lng_list,\n",
    "                            \"Max Temp\":max_temp_list,\n",
    "                            \"Wind Speed\":wind_speed_list})"
   ]
  },
  {
   "cell_type": "code",
   "execution_count": 6,
   "metadata": {},
   "outputs": [
    {
     "data": {
      "text/plain": [
       "City          577\n",
       "Cloudiness    577\n",
       "Country       577\n",
       "Date          577\n",
       "Humidity      577\n",
       "Lat           577\n",
       "Lng           577\n",
       "Max Temp      577\n",
       "Wind Speed    577\n",
       "dtype: int64"
      ]
     },
     "execution_count": 6,
     "metadata": {},
     "output_type": "execute_result"
    }
   ],
   "source": [
    "weather_dict.count()"
   ]
  },
  {
   "cell_type": "code",
   "execution_count": 7,
   "metadata": {},
   "outputs": [
    {
     "data": {
      "text/html": [
       "<div>\n",
       "<style scoped>\n",
       "    .dataframe tbody tr th:only-of-type {\n",
       "        vertical-align: middle;\n",
       "    }\n",
       "\n",
       "    .dataframe tbody tr th {\n",
       "        vertical-align: top;\n",
       "    }\n",
       "\n",
       "    .dataframe thead th {\n",
       "        text-align: right;\n",
       "    }\n",
       "</style>\n",
       "<table border=\"1\" class=\"dataframe\">\n",
       "  <thead>\n",
       "    <tr style=\"text-align: right;\">\n",
       "      <th></th>\n",
       "      <th>City</th>\n",
       "      <th>Cloudiness</th>\n",
       "      <th>Country</th>\n",
       "      <th>Date</th>\n",
       "      <th>Humidity</th>\n",
       "      <th>Lat</th>\n",
       "      <th>Lng</th>\n",
       "      <th>Max Temp</th>\n",
       "      <th>Wind Speed</th>\n",
       "    </tr>\n",
       "  </thead>\n",
       "  <tbody>\n",
       "    <tr>\n",
       "      <th>0</th>\n",
       "      <td>Kédougou</td>\n",
       "      <td>0</td>\n",
       "      <td>SN</td>\n",
       "      <td>1607635012</td>\n",
       "      <td>25</td>\n",
       "      <td>12.56</td>\n",
       "      <td>-12.17</td>\n",
       "      <td>82.96</td>\n",
       "      <td>1.70</td>\n",
       "    </tr>\n",
       "    <tr>\n",
       "      <th>1</th>\n",
       "      <td>Rikitea</td>\n",
       "      <td>2</td>\n",
       "      <td>PF</td>\n",
       "      <td>1607635012</td>\n",
       "      <td>81</td>\n",
       "      <td>-23.12</td>\n",
       "      <td>-134.97</td>\n",
       "      <td>76.95</td>\n",
       "      <td>13.89</td>\n",
       "    </tr>\n",
       "    <tr>\n",
       "      <th>2</th>\n",
       "      <td>Tuktoyaktuk</td>\n",
       "      <td>75</td>\n",
       "      <td>CA</td>\n",
       "      <td>1607635012</td>\n",
       "      <td>83</td>\n",
       "      <td>69.45</td>\n",
       "      <td>-133.04</td>\n",
       "      <td>-11.20</td>\n",
       "      <td>13.87</td>\n",
       "    </tr>\n",
       "    <tr>\n",
       "      <th>3</th>\n",
       "      <td>Cape Town</td>\n",
       "      <td>20</td>\n",
       "      <td>ZA</td>\n",
       "      <td>1607635012</td>\n",
       "      <td>82</td>\n",
       "      <td>-33.93</td>\n",
       "      <td>18.42</td>\n",
       "      <td>66.00</td>\n",
       "      <td>4.70</td>\n",
       "    </tr>\n",
       "    <tr>\n",
       "      <th>4</th>\n",
       "      <td>Tilichiki</td>\n",
       "      <td>100</td>\n",
       "      <td>RU</td>\n",
       "      <td>1607635012</td>\n",
       "      <td>94</td>\n",
       "      <td>60.47</td>\n",
       "      <td>166.10</td>\n",
       "      <td>22.80</td>\n",
       "      <td>15.23</td>\n",
       "    </tr>\n",
       "    <tr>\n",
       "      <th>...</th>\n",
       "      <td>...</td>\n",
       "      <td>...</td>\n",
       "      <td>...</td>\n",
       "      <td>...</td>\n",
       "      <td>...</td>\n",
       "      <td>...</td>\n",
       "      <td>...</td>\n",
       "      <td>...</td>\n",
       "      <td>...</td>\n",
       "    </tr>\n",
       "    <tr>\n",
       "      <th>572</th>\n",
       "      <td>Miguel Hidalgo</td>\n",
       "      <td>5</td>\n",
       "      <td>MX</td>\n",
       "      <td>1607634975</td>\n",
       "      <td>27</td>\n",
       "      <td>19.42</td>\n",
       "      <td>-99.20</td>\n",
       "      <td>73.40</td>\n",
       "      <td>2.48</td>\n",
       "    </tr>\n",
       "    <tr>\n",
       "      <th>573</th>\n",
       "      <td>Esim</td>\n",
       "      <td>10</td>\n",
       "      <td>GH</td>\n",
       "      <td>1607635078</td>\n",
       "      <td>85</td>\n",
       "      <td>4.87</td>\n",
       "      <td>-2.24</td>\n",
       "      <td>79.03</td>\n",
       "      <td>6.42</td>\n",
       "    </tr>\n",
       "    <tr>\n",
       "      <th>574</th>\n",
       "      <td>Wanaka</td>\n",
       "      <td>68</td>\n",
       "      <td>NZ</td>\n",
       "      <td>1607635079</td>\n",
       "      <td>73</td>\n",
       "      <td>-44.70</td>\n",
       "      <td>169.15</td>\n",
       "      <td>46.00</td>\n",
       "      <td>1.99</td>\n",
       "    </tr>\n",
       "    <tr>\n",
       "      <th>575</th>\n",
       "      <td>Angoche</td>\n",
       "      <td>99</td>\n",
       "      <td>MZ</td>\n",
       "      <td>1607635079</td>\n",
       "      <td>84</td>\n",
       "      <td>-16.23</td>\n",
       "      <td>39.91</td>\n",
       "      <td>78.82</td>\n",
       "      <td>3.47</td>\n",
       "    </tr>\n",
       "    <tr>\n",
       "      <th>576</th>\n",
       "      <td>Mae Sai</td>\n",
       "      <td>21</td>\n",
       "      <td>TH</td>\n",
       "      <td>1607635079</td>\n",
       "      <td>100</td>\n",
       "      <td>20.43</td>\n",
       "      <td>99.88</td>\n",
       "      <td>57.99</td>\n",
       "      <td>1.43</td>\n",
       "    </tr>\n",
       "  </tbody>\n",
       "</table>\n",
       "<p>577 rows × 9 columns</p>\n",
       "</div>"
      ],
      "text/plain": [
       "               City  Cloudiness Country        Date  Humidity    Lat     Lng  \\\n",
       "0          Kédougou           0      SN  1607635012        25  12.56  -12.17   \n",
       "1           Rikitea           2      PF  1607635012        81 -23.12 -134.97   \n",
       "2       Tuktoyaktuk          75      CA  1607635012        83  69.45 -133.04   \n",
       "3         Cape Town          20      ZA  1607635012        82 -33.93   18.42   \n",
       "4         Tilichiki         100      RU  1607635012        94  60.47  166.10   \n",
       "..              ...         ...     ...         ...       ...    ...     ...   \n",
       "572  Miguel Hidalgo           5      MX  1607634975        27  19.42  -99.20   \n",
       "573            Esim          10      GH  1607635078        85   4.87   -2.24   \n",
       "574          Wanaka          68      NZ  1607635079        73 -44.70  169.15   \n",
       "575         Angoche          99      MZ  1607635079        84 -16.23   39.91   \n",
       "576         Mae Sai          21      TH  1607635079       100  20.43   99.88   \n",
       "\n",
       "     Max Temp  Wind Speed  \n",
       "0       82.96        1.70  \n",
       "1       76.95       13.89  \n",
       "2      -11.20       13.87  \n",
       "3       66.00        4.70  \n",
       "4       22.80       15.23  \n",
       "..        ...         ...  \n",
       "572     73.40        2.48  \n",
       "573     79.03        6.42  \n",
       "574     46.00        1.99  \n",
       "575     78.82        3.47  \n",
       "576     57.99        1.43  \n",
       "\n",
       "[577 rows x 9 columns]"
      ]
     },
     "execution_count": 7,
     "metadata": {},
     "output_type": "execute_result"
    }
   ],
   "source": [
    "# Display the Data Frame\n",
    "weather_dict"
   ]
  },
  {
   "cell_type": "code",
   "execution_count": 8,
   "metadata": {},
   "outputs": [
    {
     "data": {
      "text/html": [
       "<div>\n",
       "<style scoped>\n",
       "    .dataframe tbody tr th:only-of-type {\n",
       "        vertical-align: middle;\n",
       "    }\n",
       "\n",
       "    .dataframe tbody tr th {\n",
       "        vertical-align: top;\n",
       "    }\n",
       "\n",
       "    .dataframe thead th {\n",
       "        text-align: right;\n",
       "    }\n",
       "</style>\n",
       "<table border=\"1\" class=\"dataframe\">\n",
       "  <thead>\n",
       "    <tr style=\"text-align: right;\">\n",
       "      <th></th>\n",
       "      <th>Cloudiness</th>\n",
       "      <th>Date</th>\n",
       "      <th>Humidity</th>\n",
       "      <th>Lat</th>\n",
       "      <th>Lng</th>\n",
       "      <th>Max Temp</th>\n",
       "      <th>Wind Speed</th>\n",
       "    </tr>\n",
       "  </thead>\n",
       "  <tbody>\n",
       "    <tr>\n",
       "      <th>count</th>\n",
       "      <td>577.000000</td>\n",
       "      <td>5.770000e+02</td>\n",
       "      <td>577.000000</td>\n",
       "      <td>577.000000</td>\n",
       "      <td>577.000000</td>\n",
       "      <td>577.000000</td>\n",
       "      <td>577.000000</td>\n",
       "    </tr>\n",
       "    <tr>\n",
       "      <th>mean</th>\n",
       "      <td>50.670711</td>\n",
       "      <td>1.607635e+09</td>\n",
       "      <td>73.870017</td>\n",
       "      <td>19.617227</td>\n",
       "      <td>14.639757</td>\n",
       "      <td>52.814055</td>\n",
       "      <td>8.093553</td>\n",
       "    </tr>\n",
       "    <tr>\n",
       "      <th>std</th>\n",
       "      <td>40.428294</td>\n",
       "      <td>7.556829e+01</td>\n",
       "      <td>20.447649</td>\n",
       "      <td>33.658478</td>\n",
       "      <td>89.277211</td>\n",
       "      <td>28.769302</td>\n",
       "      <td>5.693616</td>\n",
       "    </tr>\n",
       "    <tr>\n",
       "      <th>min</th>\n",
       "      <td>0.000000</td>\n",
       "      <td>1.607634e+09</td>\n",
       "      <td>8.000000</td>\n",
       "      <td>-54.800000</td>\n",
       "      <td>-179.170000</td>\n",
       "      <td>-38.400000</td>\n",
       "      <td>0.070000</td>\n",
       "    </tr>\n",
       "    <tr>\n",
       "      <th>25%</th>\n",
       "      <td>2.000000</td>\n",
       "      <td>1.607635e+09</td>\n",
       "      <td>66.000000</td>\n",
       "      <td>-8.270000</td>\n",
       "      <td>-61.750000</td>\n",
       "      <td>35.600000</td>\n",
       "      <td>3.360000</td>\n",
       "    </tr>\n",
       "    <tr>\n",
       "      <th>50%</th>\n",
       "      <td>57.000000</td>\n",
       "      <td>1.607635e+09</td>\n",
       "      <td>79.000000</td>\n",
       "      <td>21.460000</td>\n",
       "      <td>17.430000</td>\n",
       "      <td>62.600000</td>\n",
       "      <td>6.930000</td>\n",
       "    </tr>\n",
       "    <tr>\n",
       "      <th>75%</th>\n",
       "      <td>90.000000</td>\n",
       "      <td>1.607635e+09</td>\n",
       "      <td>88.000000</td>\n",
       "      <td>48.700000</td>\n",
       "      <td>81.120000</td>\n",
       "      <td>75.880000</td>\n",
       "      <td>11.480000</td>\n",
       "    </tr>\n",
       "    <tr>\n",
       "      <th>max</th>\n",
       "      <td>100.000000</td>\n",
       "      <td>1.607635e+09</td>\n",
       "      <td>100.000000</td>\n",
       "      <td>78.220000</td>\n",
       "      <td>179.320000</td>\n",
       "      <td>106.200000</td>\n",
       "      <td>28.860000</td>\n",
       "    </tr>\n",
       "  </tbody>\n",
       "</table>\n",
       "</div>"
      ],
      "text/plain": [
       "       Cloudiness          Date    Humidity         Lat         Lng  \\\n",
       "count  577.000000  5.770000e+02  577.000000  577.000000  577.000000   \n",
       "mean    50.670711  1.607635e+09   73.870017   19.617227   14.639757   \n",
       "std     40.428294  7.556829e+01   20.447649   33.658478   89.277211   \n",
       "min      0.000000  1.607634e+09    8.000000  -54.800000 -179.170000   \n",
       "25%      2.000000  1.607635e+09   66.000000   -8.270000  -61.750000   \n",
       "50%     57.000000  1.607635e+09   79.000000   21.460000   17.430000   \n",
       "75%     90.000000  1.607635e+09   88.000000   48.700000   81.120000   \n",
       "max    100.000000  1.607635e+09  100.000000   78.220000  179.320000   \n",
       "\n",
       "         Max Temp  Wind Speed  \n",
       "count  577.000000  577.000000  \n",
       "mean    52.814055    8.093553  \n",
       "std     28.769302    5.693616  \n",
       "min    -38.400000    0.070000  \n",
       "25%     35.600000    3.360000  \n",
       "50%     62.600000    6.930000  \n",
       "75%     75.880000   11.480000  \n",
       "max    106.200000   28.860000  "
      ]
     },
     "execution_count": 8,
     "metadata": {},
     "output_type": "execute_result"
    }
   ],
   "source": [
    "weather_dict.describe()"
   ]
  },
  {
   "cell_type": "code",
   "execution_count": 9,
   "metadata": {},
   "outputs": [],
   "source": [
    "# Save city data into a csv file\n",
    "weather_dict.to_csv(\"output_data/cities.csv\", index = False)"
   ]
  },
  {
   "cell_type": "markdown",
   "metadata": {},
   "source": [
    "## Inspect the data and remove the cities where the humidity > 100%.\n",
    "----\n",
    "Skip this step if there are no cities that have humidity > 100%. "
   ]
  },
  {
   "cell_type": "code",
   "execution_count": 10,
   "metadata": {},
   "outputs": [
    {
     "data": {
      "text/html": [
       "<div>\n",
       "<style scoped>\n",
       "    .dataframe tbody tr th:only-of-type {\n",
       "        vertical-align: middle;\n",
       "    }\n",
       "\n",
       "    .dataframe tbody tr th {\n",
       "        vertical-align: top;\n",
       "    }\n",
       "\n",
       "    .dataframe thead th {\n",
       "        text-align: right;\n",
       "    }\n",
       "</style>\n",
       "<table border=\"1\" class=\"dataframe\">\n",
       "  <thead>\n",
       "    <tr style=\"text-align: right;\">\n",
       "      <th></th>\n",
       "      <th>Cloudiness</th>\n",
       "      <th>Date</th>\n",
       "      <th>Humidity</th>\n",
       "      <th>Lat</th>\n",
       "      <th>Lng</th>\n",
       "      <th>Max Temp</th>\n",
       "      <th>Wind Speed</th>\n",
       "    </tr>\n",
       "  </thead>\n",
       "  <tbody>\n",
       "    <tr>\n",
       "      <th>count</th>\n",
       "      <td>577.000000</td>\n",
       "      <td>5.770000e+02</td>\n",
       "      <td>577.000000</td>\n",
       "      <td>577.000000</td>\n",
       "      <td>577.000000</td>\n",
       "      <td>577.000000</td>\n",
       "      <td>577.000000</td>\n",
       "    </tr>\n",
       "    <tr>\n",
       "      <th>mean</th>\n",
       "      <td>50.670711</td>\n",
       "      <td>1.607635e+09</td>\n",
       "      <td>73.870017</td>\n",
       "      <td>19.617227</td>\n",
       "      <td>14.639757</td>\n",
       "      <td>52.814055</td>\n",
       "      <td>8.093553</td>\n",
       "    </tr>\n",
       "    <tr>\n",
       "      <th>std</th>\n",
       "      <td>40.428294</td>\n",
       "      <td>7.556829e+01</td>\n",
       "      <td>20.447649</td>\n",
       "      <td>33.658478</td>\n",
       "      <td>89.277211</td>\n",
       "      <td>28.769302</td>\n",
       "      <td>5.693616</td>\n",
       "    </tr>\n",
       "    <tr>\n",
       "      <th>min</th>\n",
       "      <td>0.000000</td>\n",
       "      <td>1.607634e+09</td>\n",
       "      <td>8.000000</td>\n",
       "      <td>-54.800000</td>\n",
       "      <td>-179.170000</td>\n",
       "      <td>-38.400000</td>\n",
       "      <td>0.070000</td>\n",
       "    </tr>\n",
       "    <tr>\n",
       "      <th>25%</th>\n",
       "      <td>2.000000</td>\n",
       "      <td>1.607635e+09</td>\n",
       "      <td>66.000000</td>\n",
       "      <td>-8.270000</td>\n",
       "      <td>-61.750000</td>\n",
       "      <td>35.600000</td>\n",
       "      <td>3.360000</td>\n",
       "    </tr>\n",
       "    <tr>\n",
       "      <th>50%</th>\n",
       "      <td>57.000000</td>\n",
       "      <td>1.607635e+09</td>\n",
       "      <td>79.000000</td>\n",
       "      <td>21.460000</td>\n",
       "      <td>17.430000</td>\n",
       "      <td>62.600000</td>\n",
       "      <td>6.930000</td>\n",
       "    </tr>\n",
       "    <tr>\n",
       "      <th>75%</th>\n",
       "      <td>90.000000</td>\n",
       "      <td>1.607635e+09</td>\n",
       "      <td>88.000000</td>\n",
       "      <td>48.700000</td>\n",
       "      <td>81.120000</td>\n",
       "      <td>75.880000</td>\n",
       "      <td>11.480000</td>\n",
       "    </tr>\n",
       "    <tr>\n",
       "      <th>max</th>\n",
       "      <td>100.000000</td>\n",
       "      <td>1.607635e+09</td>\n",
       "      <td>100.000000</td>\n",
       "      <td>78.220000</td>\n",
       "      <td>179.320000</td>\n",
       "      <td>106.200000</td>\n",
       "      <td>28.860000</td>\n",
       "    </tr>\n",
       "  </tbody>\n",
       "</table>\n",
       "</div>"
      ],
      "text/plain": [
       "       Cloudiness          Date    Humidity         Lat         Lng  \\\n",
       "count  577.000000  5.770000e+02  577.000000  577.000000  577.000000   \n",
       "mean    50.670711  1.607635e+09   73.870017   19.617227   14.639757   \n",
       "std     40.428294  7.556829e+01   20.447649   33.658478   89.277211   \n",
       "min      0.000000  1.607634e+09    8.000000  -54.800000 -179.170000   \n",
       "25%      2.000000  1.607635e+09   66.000000   -8.270000  -61.750000   \n",
       "50%     57.000000  1.607635e+09   79.000000   21.460000   17.430000   \n",
       "75%     90.000000  1.607635e+09   88.000000   48.700000   81.120000   \n",
       "max    100.000000  1.607635e+09  100.000000   78.220000  179.320000   \n",
       "\n",
       "         Max Temp  Wind Speed  \n",
       "count  577.000000  577.000000  \n",
       "mean    52.814055    8.093553  \n",
       "std     28.769302    5.693616  \n",
       "min    -38.400000    0.070000  \n",
       "25%     35.600000    3.360000  \n",
       "50%     62.600000    6.930000  \n",
       "75%     75.880000   11.480000  \n",
       "max    106.200000   28.860000  "
      ]
     },
     "execution_count": 10,
     "metadata": {},
     "output_type": "execute_result"
    }
   ],
   "source": [
    "dry_cities = weather_dict[weather_dict[\"Humidity\"]<=100]\n",
    "dry_cities.describe()"
   ]
  },
  {
   "cell_type": "code",
   "execution_count": 11,
   "metadata": {},
   "outputs": [
    {
     "name": "stdout",
     "output_type": "stream",
     "text": [
      "There are 0 cities with over 100% humidity\n"
     ]
    }
   ],
   "source": [
    "#  Get the indices of cities that have humidity over 100%.\n",
    "high_humid = weather_dict.index[weather_dict[\"Humidity\"]>100].tolist()\n",
    "\n",
    "print(f\"There are {len(high_humid)} cities with over 100% humidity\")"
   ]
  },
  {
   "cell_type": "code",
   "execution_count": 12,
   "metadata": {},
   "outputs": [
    {
     "data": {
      "text/html": [
       "<div>\n",
       "<style scoped>\n",
       "    .dataframe tbody tr th:only-of-type {\n",
       "        vertical-align: middle;\n",
       "    }\n",
       "\n",
       "    .dataframe tbody tr th {\n",
       "        vertical-align: top;\n",
       "    }\n",
       "\n",
       "    .dataframe thead th {\n",
       "        text-align: right;\n",
       "    }\n",
       "</style>\n",
       "<table border=\"1\" class=\"dataframe\">\n",
       "  <thead>\n",
       "    <tr style=\"text-align: right;\">\n",
       "      <th></th>\n",
       "      <th>Cloudiness</th>\n",
       "      <th>Date</th>\n",
       "      <th>Humidity</th>\n",
       "      <th>Lat</th>\n",
       "      <th>Lng</th>\n",
       "      <th>Max Temp</th>\n",
       "      <th>Wind Speed</th>\n",
       "    </tr>\n",
       "  </thead>\n",
       "  <tbody>\n",
       "    <tr>\n",
       "      <th>count</th>\n",
       "      <td>577.000000</td>\n",
       "      <td>5.770000e+02</td>\n",
       "      <td>577.000000</td>\n",
       "      <td>577.000000</td>\n",
       "      <td>577.000000</td>\n",
       "      <td>577.000000</td>\n",
       "      <td>577.000000</td>\n",
       "    </tr>\n",
       "    <tr>\n",
       "      <th>mean</th>\n",
       "      <td>50.670711</td>\n",
       "      <td>1.607635e+09</td>\n",
       "      <td>73.870017</td>\n",
       "      <td>19.617227</td>\n",
       "      <td>14.639757</td>\n",
       "      <td>52.814055</td>\n",
       "      <td>8.093553</td>\n",
       "    </tr>\n",
       "    <tr>\n",
       "      <th>std</th>\n",
       "      <td>40.428294</td>\n",
       "      <td>7.556829e+01</td>\n",
       "      <td>20.447649</td>\n",
       "      <td>33.658478</td>\n",
       "      <td>89.277211</td>\n",
       "      <td>28.769302</td>\n",
       "      <td>5.693616</td>\n",
       "    </tr>\n",
       "    <tr>\n",
       "      <th>min</th>\n",
       "      <td>0.000000</td>\n",
       "      <td>1.607634e+09</td>\n",
       "      <td>8.000000</td>\n",
       "      <td>-54.800000</td>\n",
       "      <td>-179.170000</td>\n",
       "      <td>-38.400000</td>\n",
       "      <td>0.070000</td>\n",
       "    </tr>\n",
       "    <tr>\n",
       "      <th>25%</th>\n",
       "      <td>2.000000</td>\n",
       "      <td>1.607635e+09</td>\n",
       "      <td>66.000000</td>\n",
       "      <td>-8.270000</td>\n",
       "      <td>-61.750000</td>\n",
       "      <td>35.600000</td>\n",
       "      <td>3.360000</td>\n",
       "    </tr>\n",
       "    <tr>\n",
       "      <th>50%</th>\n",
       "      <td>57.000000</td>\n",
       "      <td>1.607635e+09</td>\n",
       "      <td>79.000000</td>\n",
       "      <td>21.460000</td>\n",
       "      <td>17.430000</td>\n",
       "      <td>62.600000</td>\n",
       "      <td>6.930000</td>\n",
       "    </tr>\n",
       "    <tr>\n",
       "      <th>75%</th>\n",
       "      <td>90.000000</td>\n",
       "      <td>1.607635e+09</td>\n",
       "      <td>88.000000</td>\n",
       "      <td>48.700000</td>\n",
       "      <td>81.120000</td>\n",
       "      <td>75.880000</td>\n",
       "      <td>11.480000</td>\n",
       "    </tr>\n",
       "    <tr>\n",
       "      <th>max</th>\n",
       "      <td>100.000000</td>\n",
       "      <td>1.607635e+09</td>\n",
       "      <td>100.000000</td>\n",
       "      <td>78.220000</td>\n",
       "      <td>179.320000</td>\n",
       "      <td>106.200000</td>\n",
       "      <td>28.860000</td>\n",
       "    </tr>\n",
       "  </tbody>\n",
       "</table>\n",
       "</div>"
      ],
      "text/plain": [
       "       Cloudiness          Date    Humidity         Lat         Lng  \\\n",
       "count  577.000000  5.770000e+02  577.000000  577.000000  577.000000   \n",
       "mean    50.670711  1.607635e+09   73.870017   19.617227   14.639757   \n",
       "std     40.428294  7.556829e+01   20.447649   33.658478   89.277211   \n",
       "min      0.000000  1.607634e+09    8.000000  -54.800000 -179.170000   \n",
       "25%      2.000000  1.607635e+09   66.000000   -8.270000  -61.750000   \n",
       "50%     57.000000  1.607635e+09   79.000000   21.460000   17.430000   \n",
       "75%     90.000000  1.607635e+09   88.000000   48.700000   81.120000   \n",
       "max    100.000000  1.607635e+09  100.000000   78.220000  179.320000   \n",
       "\n",
       "         Max Temp  Wind Speed  \n",
       "count  577.000000  577.000000  \n",
       "mean    52.814055    8.093553  \n",
       "std     28.769302    5.693616  \n",
       "min    -38.400000    0.070000  \n",
       "25%     35.600000    3.360000  \n",
       "50%     62.600000    6.930000  \n",
       "75%     75.880000   11.480000  \n",
       "max    106.200000   28.860000  "
      ]
     },
     "execution_count": 12,
     "metadata": {},
     "output_type": "execute_result"
    }
   ],
   "source": [
    "# Make a new DataFrame equal to the city data to drop all humidity outliers by index.\n",
    "# Passing \"inplace=False\" will make a copy of the city_data DataFrame, which we call \"clean_city_data\".\n",
    "\n",
    "clean_city_data = weather_dict.drop(labels=high_humid,inplace=False)\n",
    "clean_city_data.head()\n",
    "clean_city_data.describe()"
   ]
  },
  {
   "cell_type": "code",
   "execution_count": 13,
   "metadata": {},
   "outputs": [],
   "source": [
    "date = date.today()"
   ]
  },
  {
   "cell_type": "markdown",
   "metadata": {},
   "source": [
    "## Plotting the Data\n",
    "* Use proper labeling of the plots using plot titles (including date of analysis) and axes labels.\n",
    "* Save the plotted figures as .pngs."
   ]
  },
  {
   "cell_type": "markdown",
   "metadata": {},
   "source": [
    "## Latitude vs. Temperature Plot"
   ]
  },
  {
   "cell_type": "code",
   "execution_count": 14,
   "metadata": {
    "scrolled": true
   },
   "outputs": [
    {
     "data": {
      "image/png": "[encoded data removed]",
      "text/plain": [
       "<Figure size 432x288 with 1 Axes>"
      ]
     },
     "metadata": {
      "needs_background": "light"
     },
     "output_type": "display_data"
    }
   ],
   "source": [
    "# Create Latitude vs. Temperature Plot scatter plot\n",
    "plt.scatter(weather_dict[\"Lat\"], weather_dict[\"Max Temp\"], facecolor = \"red\", edgecolor = \"black\")\n",
    "\n",
    "# Set title\n",
    "plt.title(f\"City Latitude vs. Max Temperature {date}\")\n",
    "\n",
    "# Set x axis label\n",
    "plt.xlabel(\"Latitude\")\n",
    "\n",
    "# Set y axis label\n",
    "plt.ylabel(\"Max Temperature (F)\")\n",
    "\n",
    "# Set grid line\n",
    "plt.grid(linestyle=\"-\", linewidth=1, alpha = 0.5)\n",
    "\n",
    "# Save the plotted figure as .pngs\n",
    "plt.savefig(\"output_data/Images/City Latitude vs Max Temperature.png\")"
   ]
  },
  {
   "cell_type": "markdown",
   "metadata": {},
   "source": [
    "Highest temperature is found at 0 latitude and as the latitude increases or decreases, temperature drops."
   ]
  },
  {
   "cell_type": "markdown",
   "metadata": {},
   "source": [
    "## Latitude vs. Humidity Plot"
   ]
  },
  {
   "cell_type": "code",
   "execution_count": 15,
   "metadata": {},
   "outputs": [
    {
     "data": {
      "image/png": "[encoded data removed]",
      "text/plain": [
       "<Figure size 432x288 with 1 Axes>"
      ]
     },
     "metadata": {
      "needs_background": "light"
     },
     "output_type": "display_data"
    }
   ],
   "source": [
    "# Create Latitude vs. Humidity Plot scatter plot\n",
    "plt.scatter(weather_dict[\"Lat\"], weather_dict[\"Humidity\"], facecolor = \"orange\", edgecolor = \"black\")\n",
    "\n",
    "# Set title\n",
    "plt.title(f\"City Latitude vs. Humidity {date}\")\n",
    "\n",
    "# Set x axis label\n",
    "plt.xlabel(\"Latitude\")\n",
    "\n",
    "# Set y axis label\n",
    "plt.ylabel(\"Humidity (%)\")\n",
    "\n",
    "# Set grid line\n",
    "plt.grid(linestyle=\"-\", linewidth=1, alpha = 0.5)\n",
    "\n",
    "# Save the plotted figure as png\n",
    "plt.savefig(\"output_data/Images/City Latitude vs Humidity.png\")"
   ]
  },
  {
   "cell_type": "markdown",
   "metadata": {},
   "source": [
    "Polar regions have lower humidity and as latitude gets higher, humidity gets higher in the southern hemisphere."
   ]
  },
  {
   "cell_type": "markdown",
   "metadata": {},
   "source": [
    "## Latitude vs. Cloudiness Plot"
   ]
  },
  {
   "cell_type": "code",
   "execution_count": 16,
   "metadata": {},
   "outputs": [
    {
     "data": {
      "image/png": "[encoded data removed]",
      "text/plain": [
       "<Figure size 432x288 with 1 Axes>"
      ]
     },
     "metadata": {
      "needs_background": "light"
     },
     "output_type": "display_data"
    }
   ],
   "source": [
    "# Create a Latitude vs. Cloudiness Plot scatter plot\n",
    "plt.scatter(weather_dict[\"Lat\"], weather_dict[\"Cloudiness\"], facecolor = \"yellow\", edgecolor= \"black\")\n",
    "\n",
    "# Set title\n",
    "plt.title(f\"City Latitude vs Cloudiness {date}\")\n",
    "\n",
    "# Set x axis label\n",
    "plt.xlabel(\"Latitude\")\n",
    "\n",
    "# Set y axis label\n",
    "plt.ylabel(\"Cloudiness\")\n",
    "\n",
    "# Set grid line\n",
    "plt.grid(linestyle=\"-\", linewidth=1, alpha = 0.5)\n",
    "\n",
    "# Save the plotted figure as png\n",
    "plt.savefig(\"output_data/Images/City Latitude vs Cloudiness.png\")"
   ]
  },
  {
   "cell_type": "markdown",
   "metadata": {},
   "source": [
    "Cloudiness data is widely spread across the latitude."
   ]
  },
  {
   "cell_type": "markdown",
   "metadata": {},
   "source": [
    "## Latitude vs. Wind Speed Plot"
   ]
  },
  {
   "cell_type": "code",
   "execution_count": 17,
   "metadata": {},
   "outputs": [
    {
     "data": {
      "image/png": "[encoded data removed]",
      "text/plain": [
       "<Figure size 432x288 with 1 Axes>"
      ]
     },
     "metadata": {
      "needs_background": "light"
     },
     "output_type": "display_data"
    }
   ],
   "source": [
    "# Create Latitude vs. Wind Speed Plot scatter plot\n",
    "plt.scatter(weather_dict[\"Lat\"], weather_dict[\"Wind Speed\"], facecolor =\"green\", edgecolor = \"black\")\n",
    "\n",
    "# Set title\n",
    "plt. title(f\"City Latitude vs. Wind Speed (mph) {date}\")\n",
    "\n",
    "# Set x axis label\n",
    "plt.xlabel(\"Latitude\")\n",
    "\n",
    "# Set y axis label\n",
    "plt.ylabel(\"Wind Speed (%)\")\n",
    "\n",
    "# Set y axis limit\n",
    "plt.ylim(-2,50)\n",
    "\n",
    "# Set grid line\n",
    "plt.grid(linestyle=\"-\", linewidth=1, alpha =0.5)\n",
    "\n",
    "# Save the plotted figure as png\n",
    "plt.savefig(\"output_data/Images/City Latitude vs Wind Speed (mph).png\")"
   ]
  },
  {
   "cell_type": "markdown",
   "metadata": {},
   "source": [
    "Wind speed data is widely spread across the latitude"
   ]
  },
  {
   "cell_type": "markdown",
   "metadata": {},
   "source": [
    "## Linear Regression"
   ]
  },
  {
   "cell_type": "code",
   "execution_count": 18,
   "metadata": {},
   "outputs": [],
   "source": [
    "# Create Northern and Southern Hemisphere DataFrames\n",
    "northern_hemisphere = weather_dict.loc[weather_dict[\"Lat\"] >= 0]\n",
    "southern_hemisphere = weather_dict.loc[weather_dict[\"Lng\"] < 0]"
   ]
  },
  {
   "cell_type": "code",
   "execution_count": 19,
   "metadata": {},
   "outputs": [],
   "source": [
    "# Define function for creating linear agression and scatter plot\n",
    "def linear_agression(x,y):\n",
    "    print(f\"The r squared is : {round(st.pearsonr(x,y)[0],2)}\")\n",
    "    (slope, intercept, rvalue, pvalue, stderr) =  linregress(x,y)\n",
    "    regress_values = x * slope + intercept\n",
    "    line_eq = \"y = \" + str(round(slope,2)) + \"x + \" + str(round(intercept,2))\n",
    "    plt.scatter(x, y)\n",
    "    plt.plot(x,regress_values,\"r-\")\n",
    "    return line_eq\n",
    "\n",
    "# Define a function for annotating\n",
    "def annotate(line_eq, a, b):\n",
    "    plt.annotate(line_eq,(a,b),fontsize=15, color =\"red\")"
   ]
  },
  {
   "cell_type": "markdown",
   "metadata": {},
   "source": [
    "####  Northern Hemisphere - Max Temp vs. Latitude Linear Regression"
   ]
  },
  {
   "cell_type": "code",
   "execution_count": 20,
   "metadata": {},
   "outputs": [
    {
     "name": "stdout",
     "output_type": "stream",
     "text": [
      "The r squared is : -0.85\n"
     ]
    },
    {
     "data": {
      "image/png": "[encoded data removed]",
      "text/plain": [
       "<Figure size 432x288 with 1 Axes>"
      ]
     },
     "metadata": {
      "needs_background": "light"
     },
     "output_type": "display_data"
    }
   ],
   "source": [
    "# Call on function #1\n",
    "equation = linear_agression(northern_hemisphere[\"Lat\"], northern_hemisphere[\"Max Temp\"])\n",
    "\n",
    "# Call on function #2\n",
    "annotate(equation, 0, 0)\n",
    "\n",
    "#Set a title#\n",
    "plt.title(\"Northern Hemisphere - Max Temp vs. Latitude Linear Regression\")\n",
    "\n",
    "# Set xlabel\n",
    "plt.xlabel(\"Latitude\")\n",
    "\n",
    "#Set ylabel\n",
    "plt.ylabel(\"Max Temp (F)\")\n",
    "\n",
    "# Save the figure as png\n",
    "plt.savefig(\"output_data/Images/Northern Hemisphere - Max Temp vs Latitude Linear Regression.png\")"
   ]
  },
  {
   "cell_type": "markdown",
   "metadata": {},
   "source": [
    "There is a strong negative correlation between latitude and max temperature for the northern hemisphere."
   ]
  },
  {
   "cell_type": "markdown",
   "metadata": {},
   "source": [
    "####  Southern Hemisphere - Max Temp vs. Latitude Linear Regression"
   ]
  },
  {
   "cell_type": "code",
   "execution_count": 21,
   "metadata": {
    "scrolled": true
   },
   "outputs": [
    {
     "name": "stdout",
     "output_type": "stream",
     "text": [
      "The r squared is : -0.76\n"
     ]
    },
    {
     "data": {
      "image/png": "[encoded data removed]",
      "text/plain": [
       "<Figure size 432x288 with 1 Axes>"
      ]
     },
     "metadata": {
      "needs_background": "light"
     },
     "output_type": "display_data"
    }
   ],
   "source": [
    "# Call on function #1\n",
    "equation = linear_agression(southern_hemisphere[\"Lat\"],southern_hemisphere[\"Max Temp\"])\n",
    "\n",
    "# Call on function #2\n",
    "annotate(equation, -30, 50)\n",
    "\n",
    "# Set a title\n",
    "plt.title(\"Southern Hemisphere - Max Temp vs. Latitude Linear Regression\")\n",
    "\n",
    "# Set xlabel\n",
    "plt.xlabel(\"Latitude\")\n",
    "\n",
    "# Set ylabel\n",
    "plt.ylabel(\"Max Temp (F)\")\n",
    "\n",
    "# Save the figure as png\n",
    "plt.savefig(\"output_data/Images/Southern Hemisphere - Max Temp vs Latitude Linear Regression.png\")"
   ]
  },
  {
   "cell_type": "markdown",
   "metadata": {},
   "source": [
    "There is a negative correlation between latitude and max temperature for southern hemisphere."
   ]
  },
  {
   "cell_type": "markdown",
   "metadata": {},
   "source": [
    "####  Northern Hemisphere - Humidity (%) vs. Latitude Linear Regression"
   ]
  },
  {
   "cell_type": "code",
   "execution_count": 22,
   "metadata": {},
   "outputs": [
    {
     "name": "stdout",
     "output_type": "stream",
     "text": [
      "The r squared is : 0.34\n"
     ]
    },
    {
     "data": {
      "image/png": "[encoded data removed]",
      "text/plain": [
       "<Figure size 432x288 with 1 Axes>"
      ]
     },
     "metadata": {
      "needs_background": "light"
     },
     "output_type": "display_data"
    }
   ],
   "source": [
    "# Call on function #1\n",
    "equation = linear_agression(northern_hemisphere[\"Lat\"], northern_hemisphere[\"Humidity\"])\n",
    "\n",
    "# Call on function #2\n",
    "annotate(equation, 40, 15)\n",
    "\n",
    "# Set a title\n",
    "plt.title(\"Northern Hemisphere = Humidity (%) vs. Latitude Linear Regression\")\n",
    "\n",
    "# Set xlabel\n",
    "plt.xlabel(\"Latitude\")\n",
    "\n",
    "# Set ylabel\n",
    "plt.ylabel(\"Humidity (%)\")\n",
    "\n",
    "# Save the figure\n",
    "plt.savefig(\"output_data/Images/Northern Hemisphere - Humidity (%) vs Latitude Linear Regression.png\")\n",
    "                                                                "
   ]
  },
  {
   "cell_type": "markdown",
   "metadata": {},
   "source": [
    "There is a moderate positive correlation between latitude and humidity for northern hemisphere."
   ]
  },
  {
   "cell_type": "markdown",
   "metadata": {},
   "source": [
    "####  Southern Hemisphere - Humidity (%) vs. Latitude Linear Regression"
   ]
  },
  {
   "cell_type": "code",
   "execution_count": 23,
   "metadata": {},
   "outputs": [
    {
     "name": "stdout",
     "output_type": "stream",
     "text": [
      "The r squared is : 0.32\n"
     ]
    },
    {
     "data": {
      "image/png": "[encoded data removed]",
      "text/plain": [
       "<Figure size 432x288 with 1 Axes>"
      ]
     },
     "metadata": {
      "needs_background": "light"
     },
     "output_type": "display_data"
    }
   ],
   "source": [
    "# Call on function #1\n",
    "equation = linear_agression(southern_hemisphere[\"Lat\"], southern_hemisphere[\"Humidity\"])\n",
    "\n",
    "# Call on function #2\n",
    "annotate(equation, -40, 50)\n",
    "\n",
    "# Set title\n",
    "plt.title(\"Southern Hemishpere = Humidity (%) vs. Latitude Linear Regression\")\n",
    "\n",
    "# Set xlabel\n",
    "plt.xlabel(\"Latitude\")\n",
    "\n",
    "# Set ylabel\n",
    "plt.ylabel(\"Humidity (%)\")\n",
    "\n",
    "# Save the figure in png\n",
    "plt.savefig(\"output_data/Images/Southern Hemisphere - Humidity (%) vs Latitude Linear Regression.png\")"
   ]
  },
  {
   "cell_type": "markdown",
   "metadata": {},
   "source": [
    "There is a moderate positive correlation between latitude and humidity for the southern hemisphere."
   ]
  },
  {
   "cell_type": "markdown",
   "metadata": {},
   "source": [
    "####  Northern Hemisphere - Cloudiness (%) vs. Latitude Linear Regression"
   ]
  },
  {
   "cell_type": "code",
   "execution_count": 24,
   "metadata": {},
   "outputs": [
    {
     "name": "stdout",
     "output_type": "stream",
     "text": [
      "The r squared is : 0.18\n"
     ]
    },
    {
     "data": {
      "image/png": "[encoded data removed]",
      "text/plain": [
       "<Figure size 432x288 with 1 Axes>"
      ]
     },
     "metadata": {
      "needs_background": "light"
     },
     "output_type": "display_data"
    }
   ],
   "source": [
    "# Call on function #1\n",
    "equation = linear_agression(northern_hemisphere[\"Lat\"], northern_hemisphere[\"Cloudiness\"])\n",
    "\n",
    "# Call on function #2\n",
    "annotate(equation, 30, 40)\n",
    "\n",
    "# Set a title\n",
    "plt.title(\"Northern Hemishpere - Cloudiness (%) vs Latitude Linear Regression\")\n",
    "\n",
    "# Set xlabel\n",
    "plt.xlabel(\"Latitude\")\n",
    "\n",
    "# Set ylabel\n",
    "plt.ylabel(\"Cloudiness (%)\")\n",
    "\n",
    "# Save the figure as a png\n",
    "plt.savefig(\"output_data/Images/Northern Hemisphere - Cloudiness (%) vs Latitude Linear Regression.png\")"
   ]
  },
  {
   "cell_type": "markdown",
   "metadata": {},
   "source": [
    "There is a weak positive correlation between latitude and cloudiness for the norhtern hemisphere."
   ]
  },
  {
   "cell_type": "markdown",
   "metadata": {},
   "source": [
    "####  Southern Hemisphere - Cloudiness (%) vs. Latitude Linear Regression"
   ]
  },
  {
   "cell_type": "code",
   "execution_count": 25,
   "metadata": {
    "scrolled": true
   },
   "outputs": [
    {
     "name": "stdout",
     "output_type": "stream",
     "text": [
      "The r squared is : 0.2\n"
     ]
    },
    {
     "data": {
      "image/png": "[encoded data removed]",
      "text/plain": [
       "<Figure size 432x288 with 1 Axes>"
      ]
     },
     "metadata": {
      "needs_background": "light"
     },
     "output_type": "display_data"
    }
   ],
   "source": [
    "# Call function #1\n",
    "equation = linear_agression(southern_hemisphere[\"Lat\"], southern_hemisphere[\"Cloudiness\"])\n",
    "\n",
    "# Call on function #2\n",
    "annotate(equation, -30, 40)\n",
    "\n",
    "# Set a title\n",
    "plt.title(\"Southern Hemisphere - Cloudiness (%) vs. Latitude Linear Regression\")\n",
    "\n",
    "# Set xlabel\n",
    "plt.xlabel(\"Latitude\")\n",
    "\n",
    "# Set ylabel\n",
    "plt.ylabel(\"Cloudiness (%)\")\n",
    "\n",
    "# Save the figure as png\n",
    "plt.savefig(\"output_data/Images/Southern Hemisphere - Cloudiness (%) vs Latitude Linear Regression.png\")"
   ]
  },
  {
   "cell_type": "markdown",
   "metadata": {},
   "source": [
    "There is a weak positive correlation between latitude and cloudiness for the southern hemisphere."
   ]
  },
  {
   "cell_type": "markdown",
   "metadata": {},
   "source": [
    "####  Northern Hemisphere - Wind Speed (mph) vs. Latitude Linear Regression"
   ]
  },
  {
   "cell_type": "code",
   "execution_count": 26,
   "metadata": {},
   "outputs": [
    {
     "name": "stdout",
     "output_type": "stream",
     "text": [
      "The r squared is : 0.12\n"
     ]
    },
    {
     "data": {
      "image/png": "[encoded data removed]",
      "text/plain": [
       "<Figure size 432x288 with 1 Axes>"
      ]
     },
     "metadata": {
      "needs_background": "light"
     },
     "output_type": "display_data"
    }
   ],
   "source": [
    "# Call an function #1\n",
    "equation = linear_agression(northern_hemisphere[\"Lat\"], northern_hemisphere[\"Wind Speed\"])\n",
    "\n",
    "# Call an function #2\n",
    "annotate(equation, 40, 20)\n",
    "\n",
    "# Set  title\n",
    "plt.title(\"Northern Hemisphere - Wind Speed (mph) vs. Latitude Linear Regression\")\n",
    "\n",
    "# Set xlabel\n",
    "plt.xlabel(\"Latitude\")\n",
    "\n",
    "# Set ylabel\n",
    "plt.ylabel(\"Wind Speed (mph)\")\n",
    "\n",
    "# Save the figure\n",
    "plt.savefig(\"output_data/Images/Northern Hemisphere - Wind Speed vs Latitude Linear Regression.png\")"
   ]
  },
  {
   "cell_type": "markdown",
   "metadata": {},
   "source": [
    "There is a weak positive correlation between latitude and wind speed for northern hemisphere."
   ]
  },
  {
   "cell_type": "markdown",
   "metadata": {},
   "source": [
    "####  Southern Hemisphere - Wind Speed (mph) vs. Latitude Linear Regression"
   ]
  },
  {
   "cell_type": "code",
   "execution_count": 27,
   "metadata": {},
   "outputs": [
    {
     "name": "stdout",
     "output_type": "stream",
     "text": [
      "The r squared is : -0.17\n"
     ]
    },
    {
     "data": {
      "image/png": "[encoded data removed]",
      "text/plain": [
       "<Figure size 432x288 with 1 Axes>"
      ]
     },
     "metadata": {
      "needs_background": "light"
     },
     "output_type": "display_data"
    }
   ],
   "source": [
    "# Call an function #1\n",
    "equation = linear_agression(southern_hemisphere[\"Lat\"], southern_hemisphere[\"Wind Speed\"])\n",
    "\n",
    "# Call an function #2\n",
    "annotate(equation, -30, 15)\n",
    "\n",
    "# Set  title\n",
    "plt.title(\"Southern Hemisphere - Wind Speed (mph) vs. Latitude Linear Regression\")\n",
    "\n",
    "# Set xlabel\n",
    "plt.xlabel(\"Latitude\")\n",
    "\n",
    "# Set ylabel\n",
    "plt.ylabel(\"Wind Speed (mph)\")\n",
    "\n",
    "# Save the figure\n",
    "plt.savefig(\"output_data/Images/Southern Hemisphere - Wind Speed vs Latitude Linear Regression.png\")"
   ]
  },
  {
   "cell_type": "markdown",
   "metadata": {},
   "source": [
    "There is a weak negative correlation between latitude and wind speed for the southern hemisphere."
   ]
  }
 ],
 "metadata": {
  "anaconda-cloud": {},
  "kernel_info": {
   "name": "python3"
  },
  "kernelspec": {
   "display_name": "PythonData2",
   "language": "python",
   "name": "pythondata2"
  },
  "language_info": {
   "codemirror_mode": {
    "name": "ipython",
    "version": 3
   },
   "file_extension": ".py",
   "mimetype": "text/x-python",
   "name": "python",
   "nbconvert_exporter": "python",
   "pygments_lexer": "ipython3",
   "version": "3.8.3"
  },
  "latex_envs": {
   "LaTeX_envs_menu_present": true,
   "autoclose": false,
   "autocomplete": true,
   "bibliofile": "biblio.bib",
   "cite_by": "apalike",
   "current_citInitial": 1,
   "eqLabelWithNumbers": true,
   "eqNumInitial": 1,
   "hotkeys": {
    "equation": "Ctrl-E",
    "itemize": "Ctrl-I"
   },
   "labels_anchors": false,
   "latex_user_defs": false,
   "report_style_numbering": false,
   "user_envs_cfg": false
  },
  "nteract": {
   "version": "0.12.3"
  }
 },
 "nbformat": 4,
 "nbformat_minor": 2
}
