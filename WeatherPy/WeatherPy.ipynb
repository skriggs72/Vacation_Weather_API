{
 "cells": [
  {
   "cell_type": "markdown",
   "metadata": {},
   "source": [
    "# WeatherPy\n",
    "----\n",
    "\n",
    "#### Note\n",
    "* Instructions have been included for each segment. You do not have to follow them exactly, but they are included to help you think through the steps."
   ]
  },
  {
   "cell_type": "markdown",
   "metadata": {},
   "source": [
    "Observation 1: Southern Hemisphere climates tend to be slightly milder than those at similar latitudes in the Northern Hemisphere. This is because teh Southern Hemisphere has significantly more ocean and much less land; water heats up and cools down more slowly than land.\n",
    "\n",
    "Observation 2: Highest temperature is found at 0 latituted and as the latitude increases or decreases, temperature drops. This happens as equatorial region receives sunlight straight with less or no angle due to curvature shape of the earth.\n",
    "\n",
    "Observation 3: Latitude doesn't have a storng influence on wind speed. The speed of the wind is controlled by the strength of the air pressure gradient, the stonger the pressure gradient the higher the higher the wind speed."
   ]
  },
  {
   "cell_type": "code",
   "execution_count": 1,
   "metadata": {
    "scrolled": true
   },
   "outputs": [],
   "source": [
    "# Dependencies and Setup\n",
    "import matplotlib.pyplot as plt\n",
    "import pandas as pd\n",
    "import numpy as np\n",
    "import requests\n",
    "import time\n",
    "import scipy.stats as st\n",
    "from scipy.stats import linregress\n",
    "import datetime\n",
    "from datetime import date\n",
    "\n",
    "# Import API key\n",
    "from api_keys import weather_api_key\n",
    "\n",
    "# Incorporated citipy to determine city based on latitude and longitude\n",
    "from citipy import citipy\n",
    "\n",
    "# Output File (CSV)\n",
    "output_data_file = \"output_data/cities.csv\"\n",
    "\n",
    "# Range of latitudes and longitudes\n",
    "lat_range = (-90, 90)\n",
    "lng_range = (-180, 180)"
   ]
  },
  {
   "cell_type": "markdown",
   "metadata": {},
   "source": [
    "## Generate Cities List"
   ]
  },
  {
   "cell_type": "code",
   "execution_count": 2,
   "metadata": {},
   "outputs": [
    {
     "data": {
      "text/plain": [
       "601"
      ]
     },
     "execution_count": 2,
     "metadata": {},
     "output_type": "execute_result"
    }
   ],
   "source": [
    "# List for holding lat_lngs and cities\n",
    "lat_lngs = []\n",
    "cities = []\n",
    "countries = []\n",
    "\n",
    "# Create a set of random lat and lng combinations\n",
    "lats = np.random.uniform(low=-90.000, high=90.000, size=1500)\n",
    "lngs = np.random.uniform(low =-180.000, high=180.000, size=1500)\n",
    "lat_lngs = zip(lats, lngs)\n",
    "\n",
    "# Identify nearest city for each lat, lng combination\n",
    "for lat_lng in lat_lngs:\n",
    "    city = citipy.nearest_city(lat_lng[0], lat_lng[1]).city_name\n",
    "    \n",
    "    # If the city is unique, then add it to a our cities list\n",
    "    if city not in cities:\n",
    "        cities.append(city)\n",
    "                \n",
    "# Print the city count to confirm sufficient count\n",
    "len(cities)"
   ]
  },
  {
   "cell_type": "code",
   "execution_count": 3,
   "metadata": {
    "scrolled": true
   },
   "outputs": [],
   "source": [
    "city_name_list = []\n",
    "cloudiness_list = []\n",
    "country_list = []\n",
    "humidity_list = []\n",
    "lat_list = []\n",
    "lng_list = []\n",
    "max_temp_list = []\n",
    "wind_speed_list = []\n",
    "index_counter = 0\n",
    "set_counter = 1"
   ]
  },
  {
   "cell_type": "markdown",
   "metadata": {},
   "source": [
    "### Perform API Calls\n",
    "* Perform a weather check on each city using a series of successive API calls.\n",
    "* Include a print log of each city as it'sbeing processed (with the city number and city name).\n"
   ]
  },
  {
   "cell_type": "code",
   "execution_count": 4,
   "metadata": {
    "scrolled": true
   },
   "outputs": [
    {
     "name": "stdout",
     "output_type": "stream",
     "text": [
      "Beginning Data Retrieval \n",
      "-----------------------------\n",
      "Processing Record 1 of Set 1 : mana\n",
      "Processing Record 2 of Set 1 : saint-joseph\n",
      "Processing Record 3 of Set 1 : hermanus\n",
      "Processing Record 4 of Set 1 : thompson\n",
      "Processing Record 5 of Set 1 : bredasdorp\n",
      "City not found. Skipping...\n",
      "Processing Record 6 of Set 1 : butaritari\n",
      "Processing Record 7 of Set 1 : rikitea\n",
      "Processing Record 8 of Set 1 : alofi\n",
      "Processing Record 9 of Set 1 : huarmey\n",
      "Processing Record 10 of Set 1 : lompoc\n",
      "Processing Record 11 of Set 1 : mahebourg\n",
      "Processing Record 12 of Set 1 : punta arenas\n",
      "Processing Record 13 of Set 1 : kapaa\n",
      "Processing Record 14 of Set 1 : along\n",
      "Processing Record 15 of Set 1 : east london\n",
      "Processing Record 16 of Set 1 : ushuaia\n",
      "Processing Record 17 of Set 1 : sheffield\n",
      "Processing Record 18 of Set 1 : college\n",
      "Processing Record 19 of Set 1 : tuktoyaktuk\n",
      "Processing Record 20 of Set 1 : severo-kurilsk\n",
      "Processing Record 21 of Set 1 : la baule-escoublac\n",
      "Processing Record 22 of Set 1 : truro\n",
      "Processing Record 23 of Set 1 : port hardy\n",
      "Processing Record 24 of Set 1 : wanning\n",
      "Processing Record 25 of Set 1 : mwene-ditu\n",
      "Processing Record 26 of Set 1 : busselton\n",
      "Processing Record 27 of Set 1 : avarua\n",
      "Processing Record 28 of Set 1 : new norfolk\n",
      "Processing Record 29 of Set 1 : torbay\n",
      "Processing Record 30 of Set 1 : bathsheba\n",
      "Processing Record 31 of Set 1 : hilo\n",
      "Processing Record 32 of Set 1 : port lincoln\n",
      "Processing Record 33 of Set 1 : lorengau\n",
      "City not found. Skipping...\n",
      "Processing Record 34 of Set 1 : mozarlandia\n",
      "Processing Record 35 of Set 1 : hithadhoo\n",
      "Processing Record 36 of Set 1 : bachaquero\n",
      "Processing Record 37 of Set 1 : deputatskiy\n",
      "Processing Record 38 of Set 1 : tigzirt\n",
      "Processing Record 39 of Set 1 : majene\n",
      "Processing Record 40 of Set 1 : clyde river\n",
      "City not found. Skipping...\n",
      "Processing Record 41 of Set 1 : jamestown\n",
      "Processing Record 42 of Set 1 : saint-philippe\n",
      "Processing Record 43 of Set 1 : ketchikan\n",
      "Processing Record 44 of Set 1 : mehamn\n",
      "Processing Record 45 of Set 1 : solnechnyy\n",
      "Processing Record 46 of Set 1 : yellowknife\n",
      "Processing Record 47 of Set 1 : guerrero negro\n",
      "Processing Record 48 of Set 1 : kaitangata\n",
      "Processing Record 49 of Set 1 : general pico\n",
      "Processing Record 50 of Set 1 : talaya\n",
      "Processing Record 0 of Set 2 : atuona\n",
      "Processing Record 1 of Set 2 : sayyan\n",
      "Processing Record 2 of Set 2 : carutapera\n",
      "Processing Record 3 of Set 2 : castro\n",
      "Processing Record 4 of Set 2 : broome\n",
      "Processing Record 5 of Set 2 : lezajsk\n",
      "Processing Record 6 of Set 2 : nome\n",
      "Processing Record 7 of Set 2 : mataura\n",
      "Processing Record 8 of Set 2 : tamboril\n",
      "Processing Record 9 of Set 2 : barrow\n",
      "Processing Record 10 of Set 2 : lata\n",
      "Processing Record 11 of Set 2 : prince rupert\n",
      "Processing Record 12 of Set 2 : virginia beach\n",
      "Processing Record 13 of Set 2 : windhoek\n",
      "Processing Record 14 of Set 2 : cambuci\n",
      "Processing Record 15 of Set 2 : oliveira\n",
      "City not found. Skipping...\n",
      "Processing Record 16 of Set 2 : basco\n",
      "Processing Record 17 of Set 2 : qaanaaq\n",
      "Processing Record 18 of Set 2 : ambilobe\n",
      "Processing Record 19 of Set 2 : grootfontein\n",
      "Processing Record 20 of Set 2 : lazaro cardenas\n",
      "City not found. Skipping...\n",
      "Processing Record 21 of Set 2 : olinda\n",
      "Processing Record 22 of Set 2 : mayor pablo lagerenza\n",
      "Processing Record 23 of Set 2 : barcelona\n",
      "Processing Record 24 of Set 2 : kavieng\n",
      "Processing Record 25 of Set 2 : albany\n",
      "Processing Record 26 of Set 2 : olafsvik\n",
      "City not found. Skipping...\n",
      "Processing Record 27 of Set 2 : dudinka\n",
      "Processing Record 28 of Set 2 : ust-maya\n",
      "Processing Record 29 of Set 2 : vestmannaeyjar\n",
      "Processing Record 30 of Set 2 : atherton\n",
      "Processing Record 31 of Set 2 : paidha\n",
      "Processing Record 32 of Set 2 : nikolskoye\n",
      "Processing Record 33 of Set 2 : butte\n",
      "City not found. Skipping...\n",
      "Processing Record 34 of Set 2 : cabo san lucas\n",
      "Processing Record 35 of Set 2 : yatou\n",
      "Processing Record 36 of Set 2 : chokurdakh\n",
      "Processing Record 37 of Set 2 : port alfred\n",
      "Processing Record 38 of Set 2 : cherskiy\n",
      "Processing Record 39 of Set 2 : sao felix do xingu\n",
      "City not found. Skipping...\n",
      "Processing Record 40 of Set 2 : basey\n",
      "Processing Record 41 of Set 2 : vaini\n",
      "Processing Record 42 of Set 2 : north platte\n",
      "Processing Record 43 of Set 2 : synya\n",
      "Processing Record 44 of Set 2 : savannah bight\n",
      "Processing Record 45 of Set 2 : banda aceh\n",
      "Processing Record 46 of Set 2 : muros\n",
      "Processing Record 47 of Set 2 : beringovskiy\n",
      "Processing Record 48 of Set 2 : gizo\n",
      "Processing Record 49 of Set 2 : bambous virieux\n",
      "Processing Record 50 of Set 2 : nanortalik\n",
      "Processing Record 0 of Set 3 : ribeira grande\n",
      "Processing Record 1 of Set 3 : dvinskoy\n",
      "Processing Record 2 of Set 3 : iracoubo\n",
      "Processing Record 3 of Set 3 : cape town\n",
      "City not found. Skipping...\n",
      "Processing Record 4 of Set 3 : half moon bay\n",
      "Processing Record 5 of Set 3 : nyurba\n",
      "Processing Record 6 of Set 3 : hobart\n",
      "Processing Record 7 of Set 3 : cap malheureux\n",
      "Processing Record 8 of Set 3 : hambantota\n",
      "Processing Record 9 of Set 3 : peleduy\n",
      "Processing Record 10 of Set 3 : djambala\n",
      "Processing Record 11 of Set 3 : sijunjung\n",
      "City not found. Skipping...\n",
      "Processing Record 12 of Set 3 : takestan\n",
      "Processing Record 13 of Set 3 : cuiluan\n",
      "City not found. Skipping...\n",
      "Processing Record 14 of Set 3 : egvekinot\n",
      "Processing Record 15 of Set 3 : bluff\n",
      "Processing Record 16 of Set 3 : west fargo\n",
      "Processing Record 17 of Set 3 : iqaluit\n",
      "City not found. Skipping...\n",
      "Processing Record 18 of Set 3 : wajid\n",
      "Processing Record 19 of Set 3 : carnarvon\n",
      "Processing Record 20 of Set 3 : aanekoski\n",
      "Processing Record 21 of Set 3 : yar-sale\n",
      "Processing Record 22 of Set 3 : sola\n",
      "Processing Record 23 of Set 3 : tasiilaq\n",
      "Processing Record 24 of Set 3 : dikson\n",
      "Processing Record 25 of Set 3 : laguna\n",
      "Processing Record 26 of Set 3 : tshikapa\n",
      "Processing Record 27 of Set 3 : padang\n",
      "Processing Record 28 of Set 3 : taoudenni\n",
      "Processing Record 29 of Set 3 : am timan\n",
      "Processing Record 30 of Set 3 : hosur\n",
      "Processing Record 31 of Set 3 : westport\n",
      "Processing Record 32 of Set 3 : port hawkesbury\n",
      "Processing Record 33 of Set 3 : chardara\n",
      "Processing Record 34 of Set 3 : ambon\n",
      "Processing Record 35 of Set 3 : istok\n",
      "Processing Record 36 of Set 3 : itaqui\n",
      "Processing Record 37 of Set 3 : plettenberg bay\n",
      "Processing Record 38 of Set 3 : tiksi\n",
      "Processing Record 39 of Set 3 : nador\n",
      "Processing Record 40 of Set 3 : athni\n",
      "Processing Record 41 of Set 3 : tura\n",
      "Processing Record 42 of Set 3 : victoria\n",
      "Processing Record 43 of Set 3 : diffa\n",
      "Processing Record 44 of Set 3 : vardo\n",
      "Processing Record 45 of Set 3 : alenquer\n",
      "Processing Record 46 of Set 3 : luderitz\n",
      "Processing Record 47 of Set 3 : khatima\n",
      "City not found. Skipping...\n",
      "City not found. Skipping...\n",
      "Processing Record 48 of Set 3 : lebu\n",
      "Processing Record 49 of Set 3 : tamandare\n",
      "Processing Record 50 of Set 3 : arraial do cabo\n",
      "Processing Record 0 of Set 4 : saint george\n",
      "Processing Record 1 of Set 4 : itoman\n",
      "Processing Record 2 of Set 4 : hervey bay\n",
      "Processing Record 3 of Set 4 : adrar\n",
      "Processing Record 4 of Set 4 : damietta\n",
      "Processing Record 5 of Set 4 : crestline\n",
      "Processing Record 6 of Set 4 : pevek\n",
      "Processing Record 7 of Set 4 : palmer\n",
      "City not found. Skipping...\n",
      "Processing Record 8 of Set 4 : leningradskiy\n",
      "Processing Record 9 of Set 4 : bengkulu\n",
      "Processing Record 10 of Set 4 : mobaye\n",
      "City not found. Skipping...\n",
      "Processing Record 11 of Set 4 : chuy\n",
      "Processing Record 12 of Set 4 : puerto ayora\n",
      "Processing Record 13 of Set 4 : vao\n",
      "Processing Record 14 of Set 4 : naze\n",
      "Processing Record 15 of Set 4 : kiama\n",
      "Processing Record 16 of Set 4 : grindavik\n",
      "Processing Record 17 of Set 4 : ponta delgada\n",
      "Processing Record 18 of Set 4 : kieta\n",
      "City not found. Skipping...\n",
      "Processing Record 19 of Set 4 : ancud\n",
      "Processing Record 20 of Set 4 : lagoa\n",
      "City not found. Skipping...\n",
      "Processing Record 21 of Set 4 : sambava\n",
      "City not found. Skipping...\n",
      "Processing Record 22 of Set 4 : warri\n",
      "Processing Record 23 of Set 4 : gornopravdinsk\n",
      "Processing Record 24 of Set 4 : tomatlan\n",
      "Processing Record 25 of Set 4 : georgetown\n",
      "Processing Record 26 of Set 4 : bubaque\n",
      "Processing Record 27 of Set 4 : mandalgovi\n",
      "Processing Record 28 of Set 4 : sitka\n",
      "Processing Record 29 of Set 4 : vila velha\n",
      "Processing Record 30 of Set 4 : souillac\n",
      "Processing Record 31 of Set 4 : champerico\n",
      "Processing Record 32 of Set 4 : whitehaven\n"
     ]
    },
    {
     "name": "stdout",
     "output_type": "stream",
     "text": [
      "Processing Record 33 of Set 4 : samarai\n",
      "Processing Record 34 of Set 4 : kholtoson\n",
      "City not found. Skipping...\n",
      "Processing Record 35 of Set 4 : jacmel\n",
      "Processing Record 36 of Set 4 : pringsewu\n",
      "Processing Record 37 of Set 4 : biak\n",
      "Processing Record 38 of Set 4 : esperance\n",
      "Processing Record 39 of Set 4 : oranjemund\n",
      "Processing Record 40 of Set 4 : qui nhon\n",
      "Processing Record 41 of Set 4 : lasa\n",
      "Processing Record 42 of Set 4 : hay river\n",
      "Processing Record 43 of Set 4 : rawson\n",
      "Processing Record 44 of Set 4 : general delgado\n",
      "City not found. Skipping...\n",
      "Processing Record 45 of Set 4 : babynino\n",
      "City not found. Skipping...\n",
      "Processing Record 46 of Set 4 : ormara\n",
      "Processing Record 47 of Set 4 : taganak\n",
      "Processing Record 48 of Set 4 : harij\n",
      "Processing Record 49 of Set 4 : moose jaw\n",
      "Processing Record 50 of Set 4 : aden\n",
      "Processing Record 0 of Set 5 : disna\n",
      "Processing Record 1 of Set 5 : tebingtinggi\n",
      "Processing Record 2 of Set 5 : mareeba\n",
      "Processing Record 3 of Set 5 : junction city\n",
      "Processing Record 4 of Set 5 : vila\n",
      "Processing Record 5 of Set 5 : ilulissat\n",
      "Processing Record 6 of Set 5 : hudson bay\n",
      "City not found. Skipping...\n",
      "Processing Record 7 of Set 5 : selcuk\n",
      "Processing Record 8 of Set 5 : saint-raphael\n",
      "Processing Record 9 of Set 5 : miri\n",
      "Processing Record 10 of Set 5 : nerchinskiy zavod\n",
      "Processing Record 11 of Set 5 : rabo de peixe\n",
      "Processing Record 12 of Set 5 : colares\n",
      "Processing Record 13 of Set 5 : buin\n",
      "Processing Record 14 of Set 5 : roma\n",
      "Processing Record 15 of Set 5 : tupaciguara\n",
      "Processing Record 16 of Set 5 : lavrentiya\n",
      "Processing Record 17 of Set 5 : klaksvik\n",
      "Processing Record 18 of Set 5 : hamilton\n",
      "City not found. Skipping...\n",
      "Processing Record 19 of Set 5 : berezovyy\n",
      "Processing Record 20 of Set 5 : perth\n",
      "Processing Record 21 of Set 5 : kodiak\n",
      "Processing Record 22 of Set 5 : znamenskoye\n",
      "Processing Record 23 of Set 5 : andros town\n",
      "Processing Record 24 of Set 5 : turbat\n",
      "Processing Record 25 of Set 5 : doha\n",
      "City not found. Skipping...\n",
      "Processing Record 26 of Set 5 : verkhnyaya inta\n",
      "Processing Record 27 of Set 5 : saint-francois\n",
      "Processing Record 28 of Set 5 : caohai\n",
      "Processing Record 29 of Set 5 : paamiut\n",
      "Processing Record 30 of Set 5 : funadhoo\n",
      "Processing Record 31 of Set 5 : tigre\n",
      "City not found. Skipping...\n",
      "Processing Record 32 of Set 5 : itarema\n",
      "Processing Record 33 of Set 5 : porto velho\n",
      "Processing Record 34 of Set 5 : grand gaube\n",
      "Processing Record 35 of Set 5 : sukhumi\n",
      "Processing Record 36 of Set 5 : sorland\n",
      "Processing Record 37 of Set 5 : provideniya\n",
      "Processing Record 38 of Set 5 : xining\n",
      "Processing Record 39 of Set 5 : awash\n",
      "Processing Record 40 of Set 5 : fairbanks\n",
      "Processing Record 41 of Set 5 : aklavik\n",
      "Processing Record 42 of Set 5 : havelock\n",
      "Processing Record 43 of Set 5 : imeni poliny osipenko\n",
      "Processing Record 44 of Set 5 : talnakh\n",
      "Processing Record 45 of Set 5 : san patricio\n",
      "Processing Record 46 of Set 5 : monterrey\n",
      "Processing Record 47 of Set 5 : elverum\n",
      "Processing Record 48 of Set 5 : golden\n",
      "Processing Record 49 of Set 5 : shelburne\n",
      "Processing Record 50 of Set 5 : upernavik\n",
      "Processing Record 0 of Set 6 : francistown\n",
      "City not found. Skipping...\n",
      "Processing Record 1 of Set 6 : yenagoa\n",
      "Processing Record 2 of Set 6 : richards bay\n",
      "Processing Record 3 of Set 6 : caborca\n",
      "Processing Record 4 of Set 6 : belousovka\n",
      "City not found. Skipping...\n",
      "Processing Record 5 of Set 6 : oum hadjer\n",
      "Processing Record 6 of Set 6 : tingo maria\n",
      "Processing Record 7 of Set 6 : faanui\n",
      "Processing Record 8 of Set 6 : moose factory\n",
      "Processing Record 9 of Set 6 : warrnambool\n",
      "Processing Record 10 of Set 6 : polovinnoye\n",
      "Processing Record 11 of Set 6 : tilichiki\n",
      "Processing Record 12 of Set 6 : neka\n",
      "Processing Record 13 of Set 6 : kirakira\n",
      "Processing Record 14 of Set 6 : port elizabeth\n",
      "Processing Record 15 of Set 6 : bakel\n",
      "Processing Record 16 of Set 6 : anshun\n",
      "Processing Record 17 of Set 6 : nuuk\n",
      "Processing Record 18 of Set 6 : baracoa\n",
      "Processing Record 19 of Set 6 : mamontovo\n",
      "Processing Record 20 of Set 6 : ilhabela\n",
      "City not found. Skipping...\n",
      "Processing Record 21 of Set 6 : birao\n",
      "Processing Record 22 of Set 6 : viedma\n",
      "Processing Record 23 of Set 6 : dingle\n",
      "City not found. Skipping...\n",
      "City not found. Skipping...\n",
      "Processing Record 24 of Set 6 : akureyri\n",
      "Processing Record 25 of Set 6 : udachnyy\n",
      "Processing Record 26 of Set 6 : abalak\n",
      "Processing Record 27 of Set 6 : tokat\n",
      "City not found. Skipping...\n",
      "Processing Record 28 of Set 6 : ankang\n",
      "Processing Record 29 of Set 6 : boguchar\n",
      "Processing Record 30 of Set 6 : matelica\n",
      "Processing Record 31 of Set 6 : pavilosta\n",
      "Processing Record 32 of Set 6 : coquimbo\n",
      "Processing Record 33 of Set 6 : raudeberg\n",
      "Processing Record 34 of Set 6 : airai\n",
      "Processing Record 35 of Set 6 : ola\n",
      "Processing Record 36 of Set 6 : klyuchi\n",
      "Processing Record 37 of Set 6 : parkes\n",
      "Processing Record 38 of Set 6 : dankov\n",
      "Processing Record 39 of Set 6 : yantal\n",
      "Processing Record 40 of Set 6 : shenkursk\n",
      "Processing Record 41 of Set 6 : flinders\n",
      "Processing Record 42 of Set 6 : maniitsoq\n",
      "Processing Record 43 of Set 6 : dolinsk\n",
      "Processing Record 44 of Set 6 : sao gabriel\n",
      "Processing Record 45 of Set 6 : udarnyy\n",
      "Processing Record 46 of Set 6 : bulancak\n",
      "Processing Record 47 of Set 6 : hami\n",
      "Processing Record 48 of Set 6 : evensk\n",
      "Processing Record 49 of Set 6 : matara\n",
      "Processing Record 50 of Set 6 : hearst\n",
      "Processing Record 0 of Set 7 : changji\n",
      "Processing Record 1 of Set 7 : kangaatsiaq\n",
      "City not found. Skipping...\n",
      "Processing Record 2 of Set 7 : bukene\n",
      "Processing Record 3 of Set 7 : mar del plata\n",
      "Processing Record 4 of Set 7 : te anau\n",
      "Processing Record 5 of Set 7 : moses lake\n",
      "Processing Record 6 of Set 7 : manicore\n",
      "Processing Record 7 of Set 7 : beloha\n",
      "Processing Record 8 of Set 7 : starobaltachevo\n",
      "Processing Record 9 of Set 7 : riyadh\n",
      "Processing Record 10 of Set 7 : chara\n",
      "Processing Record 11 of Set 7 : tarata\n",
      "Processing Record 12 of Set 7 : narsaq\n",
      "Processing Record 13 of Set 7 : pallasovka\n",
      "Processing Record 14 of Set 7 : quelimane\n",
      "Processing Record 15 of Set 7 : vila do maio\n",
      "Processing Record 16 of Set 7 : khatanga\n",
      "Processing Record 17 of Set 7 : marsh harbour\n",
      "Processing Record 18 of Set 7 : vestmanna\n",
      "Processing Record 19 of Set 7 : katsuura\n",
      "Processing Record 20 of Set 7 : colesberg\n",
      "Processing Record 21 of Set 7 : mongo\n",
      "Processing Record 22 of Set 7 : petropavlovsk-kamchatskiy\n",
      "Processing Record 23 of Set 7 : alice springs\n",
      "Processing Record 24 of Set 7 : chicama\n",
      "Processing Record 25 of Set 7 : hirara\n",
      "Processing Record 26 of Set 7 : lagos\n",
      "Processing Record 27 of Set 7 : bowen\n",
      "Processing Record 28 of Set 7 : pitimbu\n",
      "Processing Record 29 of Set 7 : nakamura\n",
      "Processing Record 30 of Set 7 : labuhan\n",
      "Processing Record 31 of Set 7 : abbeville\n",
      "Processing Record 32 of Set 7 : rudnichnyy\n",
      "Processing Record 33 of Set 7 : baoshan\n",
      "Processing Record 34 of Set 7 : cockburn town\n",
      "Processing Record 35 of Set 7 : cabo rojo\n",
      "Processing Record 36 of Set 7 : kouqian\n",
      "Processing Record 37 of Set 7 : tautira\n",
      "Processing Record 38 of Set 7 : wakkanai\n",
      "Processing Record 39 of Set 7 : kenai\n",
      "Processing Record 40 of Set 7 : bonthe\n",
      "Processing Record 41 of Set 7 : tual\n",
      "Processing Record 42 of Set 7 : valdivia\n",
      "Processing Record 43 of Set 7 : sibolga\n",
      "Processing Record 44 of Set 7 : antofagasta\n",
      "Processing Record 45 of Set 7 : dandong\n",
      "Processing Record 46 of Set 7 : kruisfontein\n",
      "Processing Record 47 of Set 7 : mount isa\n",
      "Processing Record 48 of Set 7 : minot\n",
      "Processing Record 49 of Set 7 : bajil\n",
      "Processing Record 50 of Set 7 : conde\n",
      "Processing Record 0 of Set 8 : san rafael\n",
      "Processing Record 1 of Set 8 : kidal\n",
      "Processing Record 2 of Set 8 : namatanai\n",
      "Processing Record 3 of Set 8 : talara\n",
      "Processing Record 4 of Set 8 : codrington\n",
      "Processing Record 5 of Set 8 : zhigansk\n",
      "Processing Record 6 of Set 8 : longyearbyen\n",
      "Processing Record 7 of Set 8 : bac lieu\n",
      "Processing Record 8 of Set 8 : grants pass\n",
      "Processing Record 9 of Set 8 : manokwari\n",
      "Processing Record 10 of Set 8 : morant bay\n",
      "Processing Record 11 of Set 8 : ponta do sol\n",
      "Processing Record 12 of Set 8 : iskateley\n",
      "Processing Record 13 of Set 8 : pimentel\n",
      "Processing Record 14 of Set 8 : auki\n",
      "Processing Record 15 of Set 8 : yulara\n",
      "Processing Record 16 of Set 8 : sakakah\n",
      "Processing Record 17 of Set 8 : shasta lake\n",
      "City not found. Skipping...\n",
      "Processing Record 18 of Set 8 : chiredzi\n",
      "Processing Record 19 of Set 8 : xuanhua\n"
     ]
    },
    {
     "name": "stdout",
     "output_type": "stream",
     "text": [
      "Processing Record 20 of Set 8 : san policarpo\n",
      "Processing Record 21 of Set 8 : saint anthony\n",
      "Processing Record 22 of Set 8 : komsomolskiy\n",
      "Processing Record 23 of Set 8 : kapoeta\n",
      "Processing Record 24 of Set 8 : araouane\n",
      "Processing Record 25 of Set 8 : helena\n",
      "Processing Record 26 of Set 8 : shimoda\n",
      "Processing Record 27 of Set 8 : port hedland\n",
      "Processing Record 28 of Set 8 : los llanos de aridane\n",
      "City not found. Skipping...\n",
      "City not found. Skipping...\n",
      "Processing Record 29 of Set 8 : koundara\n",
      "Processing Record 30 of Set 8 : hobyo\n",
      "Processing Record 31 of Set 8 : aguadilla\n",
      "Processing Record 32 of Set 8 : realeza\n",
      "Processing Record 33 of Set 8 : gold coast\n",
      "Processing Record 34 of Set 8 : barcelos\n",
      "Processing Record 35 of Set 8 : ojinaga\n",
      "Processing Record 36 of Set 8 : skjervoy\n",
      "Processing Record 37 of Set 8 : caravelas\n",
      "Processing Record 38 of Set 8 : khorramshahr\n",
      "Processing Record 39 of Set 8 : okhotsk\n",
      "Processing Record 40 of Set 8 : kashan\n",
      "Processing Record 41 of Set 8 : puerto escondido\n",
      "Processing Record 42 of Set 8 : gravdal\n",
      "Processing Record 43 of Set 8 : pohrebyshche\n",
      "Processing Record 44 of Set 8 : salalah\n",
      "Processing Record 45 of Set 8 : sobolevo\n",
      "Processing Record 46 of Set 8 : burnie\n",
      "City not found. Skipping...\n",
      "Processing Record 47 of Set 8 : leua\n",
      "Processing Record 48 of Set 8 : matamoros\n",
      "Processing Record 49 of Set 8 : saint-augustin\n",
      "Processing Record 50 of Set 8 : menongue\n",
      "Processing Record 0 of Set 9 : saskylakh\n",
      "Processing Record 1 of Set 9 : ostrovnoy\n",
      "Processing Record 2 of Set 9 : fortuna\n",
      "Processing Record 3 of Set 9 : anahuac\n",
      "Processing Record 4 of Set 9 : bastia\n",
      "Processing Record 5 of Set 9 : grand baie\n",
      "Processing Record 6 of Set 9 : san borja\n",
      "Processing Record 7 of Set 9 : omboue\n",
      "Processing Record 8 of Set 9 : axim\n",
      "Processing Record 9 of Set 9 : boguchany\n",
      "Processing Record 10 of Set 9 : saldanha\n",
      "Processing Record 11 of Set 9 : bethel\n",
      "Processing Record 12 of Set 9 : lakes entrance\n",
      "Processing Record 13 of Set 9 : luancheng\n",
      "Processing Record 14 of Set 9 : arco\n",
      "Processing Record 15 of Set 9 : caucaia\n",
      "Processing Record 16 of Set 9 : akyab\n",
      "Processing Record 17 of Set 9 : margate\n",
      "Processing Record 18 of Set 9 : coruripe\n",
      "City not found. Skipping...\n",
      "Processing Record 19 of Set 9 : khani\n",
      "Processing Record 20 of Set 9 : takoradi\n",
      "Processing Record 21 of Set 9 : camacupa\n",
      "Processing Record 22 of Set 9 : tungor\n",
      "Processing Record 23 of Set 9 : tabou\n",
      "Processing Record 24 of Set 9 : alampur\n",
      "Processing Record 25 of Set 9 : asau\n",
      "Processing Record 26 of Set 9 : port blair\n",
      "Processing Record 27 of Set 9 : cayenne\n",
      "Processing Record 28 of Set 9 : kinablangan\n",
      "Processing Record 29 of Set 9 : novoagansk\n",
      "Processing Record 30 of Set 9 : vienne\n",
      "Processing Record 31 of Set 9 : sabang\n",
      "City not found. Skipping...\n",
      "Processing Record 32 of Set 9 : ternate\n",
      "Processing Record 33 of Set 9 : sept-iles\n",
      "Processing Record 34 of Set 9 : atar\n",
      "Processing Record 35 of Set 9 : yamethin\n",
      "Processing Record 36 of Set 9 : kandi\n",
      "Processing Record 37 of Set 9 : iquitos\n",
      "Processing Record 38 of Set 9 : cidreira\n",
      "Processing Record 39 of Set 9 : nsanje\n",
      "Processing Record 40 of Set 9 : lillooet\n",
      "Processing Record 41 of Set 9 : troitskoye\n",
      "City not found. Skipping...\n",
      "Processing Record 42 of Set 9 : almeria\n",
      "Processing Record 43 of Set 9 : korla\n",
      "Processing Record 44 of Set 9 : ixtapa\n",
      "Processing Record 45 of Set 9 : amapa\n",
      "Processing Record 46 of Set 9 : bud\n",
      "Processing Record 47 of Set 9 : ada\n",
      "Processing Record 48 of Set 9 : yarmouth\n",
      "Processing Record 49 of Set 9 : keningau\n",
      "Processing Record 50 of Set 9 : nagapattinam\n",
      "City not found. Skipping...\n",
      "Processing Record 0 of Set 10 : kahului\n",
      "Processing Record 1 of Set 10 : charters towers\n",
      "Processing Record 2 of Set 10 : chipinge\n",
      "Processing Record 3 of Set 10 : thaba-tseka\n",
      "Processing Record 4 of Set 10 : marsa matruh\n",
      "Processing Record 5 of Set 10 : hasaki\n",
      "Processing Record 6 of Set 10 : tadine\n",
      "Processing Record 7 of Set 10 : makakilo city\n",
      "Processing Record 8 of Set 10 : maracas\n",
      "Processing Record 9 of Set 10 : mount gambier\n",
      "Processing Record 10 of Set 10 : ayan\n",
      "Processing Record 11 of Set 10 : progreso\n",
      "Processing Record 12 of Set 10 : inhambane\n",
      "Processing Record 13 of Set 10 : hualmay\n",
      "Processing Record 14 of Set 10 : alushta\n",
      "Processing Record 15 of Set 10 : elliot lake\n",
      "Processing Record 16 of Set 10 : buta\n",
      "Processing Record 17 of Set 10 : linjiang\n",
      "Processing Record 18 of Set 10 : petrov val\n",
      "Processing Record 19 of Set 10 : were ilu\n",
      "Processing Record 20 of Set 10 : new iberia\n",
      "City not found. Skipping...\n",
      "Processing Record 21 of Set 10 : norsup\n",
      "Processing Record 22 of Set 10 : kochi\n",
      "Processing Record 23 of Set 10 : jalu\n",
      "Processing Record 24 of Set 10 : yokadouma\n",
      "Processing Record 25 of Set 10 : san quintin\n",
      "Processing Record 26 of Set 10 : norman wells\n",
      "Processing Record 27 of Set 10 : kodinsk\n",
      "Processing Record 28 of Set 10 : alindao\n",
      "Processing Record 29 of Set 10 : denpasar\n",
      "Processing Record 30 of Set 10 : brae\n",
      "Processing Record 31 of Set 10 : ust-omchug\n",
      "City not found. Skipping...\n",
      "Processing Record 32 of Set 10 : hamburg\n",
      "City not found. Skipping...\n",
      "Processing Record 33 of Set 10 : severo-yeniseyskiy\n",
      "Processing Record 34 of Set 10 : thinadhoo\n",
      "City not found. Skipping...\n",
      "Processing Record 35 of Set 10 : linxia\n",
      "Processing Record 36 of Set 10 : kamaishi\n",
      "Processing Record 37 of Set 10 : zmeinogorsk\n",
      "Processing Record 38 of Set 10 : vredendal\n",
      "Processing Record 39 of Set 10 : klatovy\n",
      "Processing Record 40 of Set 10 : kultuk\n",
      "Processing Record 41 of Set 10 : fare\n",
      "Processing Record 42 of Set 10 : mauguio\n",
      "Processing Record 43 of Set 10 : constitucion\n",
      "City not found. Skipping...\n",
      "Processing Record 44 of Set 10 : marzuq\n",
      "Processing Record 45 of Set 10 : qinzhou\n",
      "Processing Record 46 of Set 10 : christchurch\n",
      "Processing Record 47 of Set 10 : puerto leguizamo\n",
      "Processing Record 48 of Set 10 : veraval\n",
      "Processing Record 49 of Set 10 : ghorawal\n",
      "Processing Record 50 of Set 10 : san jose\n",
      "Processing Record 0 of Set 11 : blackwater\n",
      "Processing Record 1 of Set 11 : saravan\n",
      "Processing Record 2 of Set 11 : koumac\n",
      "Processing Record 3 of Set 11 : camacha\n",
      "City not found. Skipping...\n",
      "Processing Record 4 of Set 11 : ballina\n",
      "Processing Record 5 of Set 11 : shawville\n",
      "Processing Record 6 of Set 11 : amahai\n",
      "Processing Record 7 of Set 11 : honiara\n",
      "Processing Record 8 of Set 11 : jian\n",
      "Processing Record 9 of Set 11 : novyy urengoy\n",
      "Processing Record 10 of Set 11 : kolaras\n",
      "Processing Record 11 of Set 11 : gorontalo\n",
      "Processing Record 12 of Set 11 : phan thiet\n",
      "Processing Record 13 of Set 11 : xinqing\n",
      "Processing Record 14 of Set 11 : najran\n",
      "Processing Record 15 of Set 11 : ahuimanu\n",
      "Processing Record 16 of Set 11 : gachala\n",
      "Processing Record 17 of Set 11 : saint-denis\n",
      "Processing Record 18 of Set 11 : erenhot\n",
      "Processing Record 19 of Set 11 : north bend\n",
      "Processing Record 20 of Set 11 : qaqortoq\n",
      "Processing Record 21 of Set 11 : mackenzie\n",
      "Processing Record 22 of Set 11 : tiarei\n",
      "Processing Record 23 of Set 11 : dawlatabad\n",
      "Processing Record 24 of Set 11 : tiznit\n",
      "Processing Record 25 of Set 11 : bilma\n",
      "Processing Record 26 of Set 11 : ganzhou\n",
      "Processing Record 27 of Set 11 : ginda\n",
      "Processing Record 28 of Set 11 : bundaberg\n",
      "Processing Record 29 of Set 11 : namibe\n",
      "Processing Record 30 of Set 11 : pisco\n",
      "Processing Record 31 of Set 11 : harrismith\n",
      "Processing Record 32 of Set 11 : praia da vitoria\n",
      "Processing Record 33 of Set 11 : pachino\n",
      "Processing Record 34 of Set 11 : battle creek\n",
      "Processing Record 35 of Set 11 : podyuga\n",
      "Processing Record 36 of Set 11 : puerto ayacucho\n",
      "Processing Record 37 of Set 11 : puerto carreno\n",
      "Processing Record 38 of Set 11 : ivdel\n",
      "Processing Record 39 of Set 11 : lexington\n",
      "Processing Record 40 of Set 11 : kholodnyy\n",
      "Processing Record 41 of Set 11 : novopavlovka\n",
      "Processing Record 42 of Set 11 : nishihara\n",
      "Processing Record 43 of Set 11 : visby\n",
      "Processing Record 44 of Set 11 : jonkoping\n",
      "----------------------------\n",
      "Data Retrieval Complete\n",
      "----------------------------\n"
     ]
    }
   ],
   "source": [
    "print(\"Beginning Data Retrieval \")\n",
    "print(\"-----------------------------\")\n",
    "\n",
    "base_url = \"http://api.openweathermap.org/data/2.5/weather?\"\n",
    "units = \"imperial\"\n",
    "query_url = f\"{base_url}appid={weather_api_key}&units={units}&q=\"\n",
    "\n",
    "# For each city name in cities list, do the following...\n",
    "for index, city in enumerate(cities, start = 1):\n",
    "    try:\n",
    "        response = requests.get(query_url + city).json()\n",
    "        city_name_list.append(response['name'])\n",
    "        cloudiness_list.append(response['clouds']['all'])\n",
    "        country_list.append(response['sys']['country'])\n",
    "        humidity_list.append(response['main']['humidity'])\n",
    "        lat_list.append(response['coord']['lat'])\n",
    "        lng_list.append(response['coord']['lon'])\n",
    "        max_temp_list.append(response['main']['temp_max'])\n",
    "        wind_speed_list.append(response['wind']['speed'])\n",
    "        if index_counter > 49:\n",
    "            index_counter = 0\n",
    "            set_counter = set_counter + 1\n",
    "        else:\n",
    "            index_counter = index_counter + 1\n",
    "        print(f\"Processing Record {index_counter} of Set {set_counter} : {city}\")\n",
    "    \n",
    "    except(KeyError, IndexError):\n",
    "        print(\"City not found. Skipping...\")\n",
    "\n",
    "print(\"----------------------------\")\n",
    "print(\"Data Retrieval Complete\")\n",
    "print(\"----------------------------\")"
   ]
  },
  {
   "cell_type": "markdown",
   "metadata": {},
   "source": [
    "### Convert Raw Data to DataFrame\n",
    "* Export the city data into a .csv.\n",
    "* Display the DataFrame"
   ]
  },
  {
   "cell_type": "code",
   "execution_count": 5,
   "metadata": {},
   "outputs": [],
   "source": [
    "# Create initial dictionary with API calls\n",
    "weather_dict = pd.DataFrame ({\"City\":city_name_list,\n",
    "                            \"Cloudiness\":cloudiness_list,\n",
    "                            \"Country\" : country_list,\n",
    "                            \"Humidity\":humidity_list,\n",
    "                            \"Lat\":lat_list,\n",
    "                            \"Lng\":lng_list,\n",
    "                            \"Max Temp\":max_temp_list,\n",
    "                            \"Wind Speed\":wind_speed_list})"
   ]
  },
  {
   "cell_type": "code",
   "execution_count": 6,
   "metadata": {},
   "outputs": [
    {
     "data": {
      "text/plain": [
       "City          554\n",
       "Cloudiness    554\n",
       "Country       554\n",
       "Humidity      554\n",
       "Lat           554\n",
       "Lng           554\n",
       "Max Temp      554\n",
       "Wind Speed    554\n",
       "dtype: int64"
      ]
     },
     "execution_count": 6,
     "metadata": {},
     "output_type": "execute_result"
    }
   ],
   "source": [
    "weather_dict.count()"
   ]
  },
  {
   "cell_type": "code",
   "execution_count": 7,
   "metadata": {},
   "outputs": [
    {
     "data": {
      "text/html": [
       "<div>\n",
       "<style scoped>\n",
       "    .dataframe tbody tr th:only-of-type {\n",
       "        vertical-align: middle;\n",
       "    }\n",
       "\n",
       "    .dataframe tbody tr th {\n",
       "        vertical-align: top;\n",
       "    }\n",
       "\n",
       "    .dataframe thead th {\n",
       "        text-align: right;\n",
       "    }\n",
       "</style>\n",
       "<table border=\"1\" class=\"dataframe\">\n",
       "  <thead>\n",
       "    <tr style=\"text-align: right;\">\n",
       "      <th></th>\n",
       "      <th>City</th>\n",
       "      <th>Cloudiness</th>\n",
       "      <th>Country</th>\n",
       "      <th>Humidity</th>\n",
       "      <th>Lat</th>\n",
       "      <th>Lng</th>\n",
       "      <th>Max Temp</th>\n",
       "      <th>Wind Speed</th>\n",
       "    </tr>\n",
       "  </thead>\n",
       "  <tbody>\n",
       "    <tr>\n",
       "      <th>0</th>\n",
       "      <td>Mana</td>\n",
       "      <td>2</td>\n",
       "      <td>GF</td>\n",
       "      <td>88</td>\n",
       "      <td>5.66</td>\n",
       "      <td>-53.78</td>\n",
       "      <td>77.70</td>\n",
       "      <td>8.30</td>\n",
       "    </tr>\n",
       "    <tr>\n",
       "      <th>1</th>\n",
       "      <td>Saint-Joseph</td>\n",
       "      <td>0</td>\n",
       "      <td>RE</td>\n",
       "      <td>83</td>\n",
       "      <td>-21.37</td>\n",
       "      <td>55.62</td>\n",
       "      <td>73.40</td>\n",
       "      <td>10.29</td>\n",
       "    </tr>\n",
       "    <tr>\n",
       "      <th>2</th>\n",
       "      <td>Hermanus</td>\n",
       "      <td>40</td>\n",
       "      <td>ZA</td>\n",
       "      <td>95</td>\n",
       "      <td>-34.42</td>\n",
       "      <td>19.23</td>\n",
       "      <td>57.99</td>\n",
       "      <td>3.85</td>\n",
       "    </tr>\n",
       "    <tr>\n",
       "      <th>3</th>\n",
       "      <td>Thompson</td>\n",
       "      <td>90</td>\n",
       "      <td>CA</td>\n",
       "      <td>85</td>\n",
       "      <td>55.74</td>\n",
       "      <td>-97.86</td>\n",
       "      <td>21.20</td>\n",
       "      <td>9.17</td>\n",
       "    </tr>\n",
       "    <tr>\n",
       "      <th>4</th>\n",
       "      <td>Bredasdorp</td>\n",
       "      <td>0</td>\n",
       "      <td>ZA</td>\n",
       "      <td>93</td>\n",
       "      <td>-34.53</td>\n",
       "      <td>20.04</td>\n",
       "      <td>55.40</td>\n",
       "      <td>1.12</td>\n",
       "    </tr>\n",
       "    <tr>\n",
       "      <th>...</th>\n",
       "      <td>...</td>\n",
       "      <td>...</td>\n",
       "      <td>...</td>\n",
       "      <td>...</td>\n",
       "      <td>...</td>\n",
       "      <td>...</td>\n",
       "      <td>...</td>\n",
       "      <td>...</td>\n",
       "    </tr>\n",
       "    <tr>\n",
       "      <th>549</th>\n",
       "      <td>Kholodnyy</td>\n",
       "      <td>93</td>\n",
       "      <td>RU</td>\n",
       "      <td>83</td>\n",
       "      <td>62.72</td>\n",
       "      <td>147.95</td>\n",
       "      <td>-27.44</td>\n",
       "      <td>1.36</td>\n",
       "    </tr>\n",
       "    <tr>\n",
       "      <th>550</th>\n",
       "      <td>Novopavlovka</td>\n",
       "      <td>98</td>\n",
       "      <td>RU</td>\n",
       "      <td>86</td>\n",
       "      <td>51.22</td>\n",
       "      <td>109.21</td>\n",
       "      <td>0.93</td>\n",
       "      <td>10.98</td>\n",
       "    </tr>\n",
       "    <tr>\n",
       "      <th>551</th>\n",
       "      <td>Nishihara</td>\n",
       "      <td>75</td>\n",
       "      <td>JP</td>\n",
       "      <td>94</td>\n",
       "      <td>26.18</td>\n",
       "      <td>127.76</td>\n",
       "      <td>69.80</td>\n",
       "      <td>12.75</td>\n",
       "    </tr>\n",
       "    <tr>\n",
       "      <th>552</th>\n",
       "      <td>Visby</td>\n",
       "      <td>98</td>\n",
       "      <td>SE</td>\n",
       "      <td>85</td>\n",
       "      <td>57.64</td>\n",
       "      <td>18.30</td>\n",
       "      <td>36.00</td>\n",
       "      <td>8.05</td>\n",
       "    </tr>\n",
       "    <tr>\n",
       "      <th>553</th>\n",
       "      <td>Jönköping</td>\n",
       "      <td>100</td>\n",
       "      <td>SE</td>\n",
       "      <td>93</td>\n",
       "      <td>57.78</td>\n",
       "      <td>14.16</td>\n",
       "      <td>35.60</td>\n",
       "      <td>11.41</td>\n",
       "    </tr>\n",
       "  </tbody>\n",
       "</table>\n",
       "<p>554 rows × 8 columns</p>\n",
       "</div>"
      ],
      "text/plain": [
       "             City  Cloudiness Country  Humidity    Lat     Lng  Max Temp  \\\n",
       "0            Mana           2      GF        88   5.66  -53.78     77.70   \n",
       "1    Saint-Joseph           0      RE        83 -21.37   55.62     73.40   \n",
       "2        Hermanus          40      ZA        95 -34.42   19.23     57.99   \n",
       "3        Thompson          90      CA        85  55.74  -97.86     21.20   \n",
       "4      Bredasdorp           0      ZA        93 -34.53   20.04     55.40   \n",
       "..            ...         ...     ...       ...    ...     ...       ...   \n",
       "549     Kholodnyy          93      RU        83  62.72  147.95    -27.44   \n",
       "550  Novopavlovka          98      RU        86  51.22  109.21      0.93   \n",
       "551     Nishihara          75      JP        94  26.18  127.76     69.80   \n",
       "552         Visby          98      SE        85  57.64   18.30     36.00   \n",
       "553     Jönköping         100      SE        93  57.78   14.16     35.60   \n",
       "\n",
       "     Wind Speed  \n",
       "0          8.30  \n",
       "1         10.29  \n",
       "2          3.85  \n",
       "3          9.17  \n",
       "4          1.12  \n",
       "..          ...  \n",
       "549        1.36  \n",
       "550       10.98  \n",
       "551       12.75  \n",
       "552        8.05  \n",
       "553       11.41  \n",
       "\n",
       "[554 rows x 8 columns]"
      ]
     },
     "execution_count": 7,
     "metadata": {},
     "output_type": "execute_result"
    }
   ],
   "source": [
    "# Display the Data Frame\n",
    "weather_dict"
   ]
  },
  {
   "cell_type": "code",
   "execution_count": 8,
   "metadata": {},
   "outputs": [
    {
     "data": {
      "text/html": [
       "<div>\n",
       "<style scoped>\n",
       "    .dataframe tbody tr th:only-of-type {\n",
       "        vertical-align: middle;\n",
       "    }\n",
       "\n",
       "    .dataframe tbody tr th {\n",
       "        vertical-align: top;\n",
       "    }\n",
       "\n",
       "    .dataframe thead th {\n",
       "        text-align: right;\n",
       "    }\n",
       "</style>\n",
       "<table border=\"1\" class=\"dataframe\">\n",
       "  <thead>\n",
       "    <tr style=\"text-align: right;\">\n",
       "      <th></th>\n",
       "      <th>Cloudiness</th>\n",
       "      <th>Humidity</th>\n",
       "      <th>Lat</th>\n",
       "      <th>Lng</th>\n",
       "      <th>Max Temp</th>\n",
       "      <th>Wind Speed</th>\n",
       "    </tr>\n",
       "  </thead>\n",
       "  <tbody>\n",
       "    <tr>\n",
       "      <th>count</th>\n",
       "      <td>554.000000</td>\n",
       "      <td>554.000000</td>\n",
       "      <td>554.000000</td>\n",
       "      <td>554.000000</td>\n",
       "      <td>554.000000</td>\n",
       "      <td>554.000000</td>\n",
       "    </tr>\n",
       "    <tr>\n",
       "      <th>mean</th>\n",
       "      <td>54.249097</td>\n",
       "      <td>75.929603</td>\n",
       "      <td>20.758953</td>\n",
       "      <td>18.407617</td>\n",
       "      <td>51.567780</td>\n",
       "      <td>7.557274</td>\n",
       "    </tr>\n",
       "    <tr>\n",
       "      <th>std</th>\n",
       "      <td>39.887083</td>\n",
       "      <td>19.793064</td>\n",
       "      <td>33.072412</td>\n",
       "      <td>90.993169</td>\n",
       "      <td>28.283895</td>\n",
       "      <td>5.356435</td>\n",
       "    </tr>\n",
       "    <tr>\n",
       "      <th>min</th>\n",
       "      <td>0.000000</td>\n",
       "      <td>1.000000</td>\n",
       "      <td>-54.800000</td>\n",
       "      <td>-179.170000</td>\n",
       "      <td>-40.000000</td>\n",
       "      <td>0.220000</td>\n",
       "    </tr>\n",
       "    <tr>\n",
       "      <th>25%</th>\n",
       "      <td>2.250000</td>\n",
       "      <td>69.000000</td>\n",
       "      <td>-6.790000</td>\n",
       "      <td>-61.167500</td>\n",
       "      <td>33.800000</td>\n",
       "      <td>3.360000</td>\n",
       "    </tr>\n",
       "    <tr>\n",
       "      <th>50%</th>\n",
       "      <td>67.500000</td>\n",
       "      <td>83.000000</td>\n",
       "      <td>25.005000</td>\n",
       "      <td>21.185000</td>\n",
       "      <td>60.495000</td>\n",
       "      <td>6.205000</td>\n",
       "    </tr>\n",
       "    <tr>\n",
       "      <th>75%</th>\n",
       "      <td>91.750000</td>\n",
       "      <td>89.000000</td>\n",
       "      <td>49.467500</td>\n",
       "      <td>100.347500</td>\n",
       "      <td>74.122500</td>\n",
       "      <td>10.290000</td>\n",
       "    </tr>\n",
       "    <tr>\n",
       "      <th>max</th>\n",
       "      <td>100.000000</td>\n",
       "      <td>100.000000</td>\n",
       "      <td>78.220000</td>\n",
       "      <td>179.320000</td>\n",
       "      <td>96.800000</td>\n",
       "      <td>32.970000</td>\n",
       "    </tr>\n",
       "  </tbody>\n",
       "</table>\n",
       "</div>"
      ],
      "text/plain": [
       "       Cloudiness    Humidity         Lat         Lng    Max Temp  Wind Speed\n",
       "count  554.000000  554.000000  554.000000  554.000000  554.000000  554.000000\n",
       "mean    54.249097   75.929603   20.758953   18.407617   51.567780    7.557274\n",
       "std     39.887083   19.793064   33.072412   90.993169   28.283895    5.356435\n",
       "min      0.000000    1.000000  -54.800000 -179.170000  -40.000000    0.220000\n",
       "25%      2.250000   69.000000   -6.790000  -61.167500   33.800000    3.360000\n",
       "50%     67.500000   83.000000   25.005000   21.185000   60.495000    6.205000\n",
       "75%     91.750000   89.000000   49.467500  100.347500   74.122500   10.290000\n",
       "max    100.000000  100.000000   78.220000  179.320000   96.800000   32.970000"
      ]
     },
     "execution_count": 8,
     "metadata": {},
     "output_type": "execute_result"
    }
   ],
   "source": [
    "weather_dict.describe()"
   ]
  },
  {
   "cell_type": "code",
   "execution_count": 9,
   "metadata": {},
   "outputs": [],
   "source": [
    "# Save city data into a csv file\n",
    "weather_dict.to_csv(\"output_data/cities.csv\", index = False)"
   ]
  },
  {
   "cell_type": "markdown",
   "metadata": {},
   "source": [
    "## Inspect the data and remove the cities where the humidity > 100%.\n",
    "----\n",
    "Skip this step if there are no cities that have humidity > 100%. "
   ]
  },
  {
   "cell_type": "code",
   "execution_count": 10,
   "metadata": {},
   "outputs": [
    {
     "data": {
      "text/html": [
       "<div>\n",
       "<style scoped>\n",
       "    .dataframe tbody tr th:only-of-type {\n",
       "        vertical-align: middle;\n",
       "    }\n",
       "\n",
       "    .dataframe tbody tr th {\n",
       "        vertical-align: top;\n",
       "    }\n",
       "\n",
       "    .dataframe thead th {\n",
       "        text-align: right;\n",
       "    }\n",
       "</style>\n",
       "<table border=\"1\" class=\"dataframe\">\n",
       "  <thead>\n",
       "    <tr style=\"text-align: right;\">\n",
       "      <th></th>\n",
       "      <th>Cloudiness</th>\n",
       "      <th>Humidity</th>\n",
       "      <th>Lat</th>\n",
       "      <th>Lng</th>\n",
       "      <th>Max Temp</th>\n",
       "      <th>Wind Speed</th>\n",
       "    </tr>\n",
       "  </thead>\n",
       "  <tbody>\n",
       "    <tr>\n",
       "      <th>count</th>\n",
       "      <td>554.000000</td>\n",
       "      <td>554.000000</td>\n",
       "      <td>554.000000</td>\n",
       "      <td>554.000000</td>\n",
       "      <td>554.000000</td>\n",
       "      <td>554.000000</td>\n",
       "    </tr>\n",
       "    <tr>\n",
       "      <th>mean</th>\n",
       "      <td>54.249097</td>\n",
       "      <td>75.929603</td>\n",
       "      <td>20.758953</td>\n",
       "      <td>18.407617</td>\n",
       "      <td>51.567780</td>\n",
       "      <td>7.557274</td>\n",
       "    </tr>\n",
       "    <tr>\n",
       "      <th>std</th>\n",
       "      <td>39.887083</td>\n",
       "      <td>19.793064</td>\n",
       "      <td>33.072412</td>\n",
       "      <td>90.993169</td>\n",
       "      <td>28.283895</td>\n",
       "      <td>5.356435</td>\n",
       "    </tr>\n",
       "    <tr>\n",
       "      <th>min</th>\n",
       "      <td>0.000000</td>\n",
       "      <td>1.000000</td>\n",
       "      <td>-54.800000</td>\n",
       "      <td>-179.170000</td>\n",
       "      <td>-40.000000</td>\n",
       "      <td>0.220000</td>\n",
       "    </tr>\n",
       "    <tr>\n",
       "      <th>25%</th>\n",
       "      <td>2.250000</td>\n",
       "      <td>69.000000</td>\n",
       "      <td>-6.790000</td>\n",
       "      <td>-61.167500</td>\n",
       "      <td>33.800000</td>\n",
       "      <td>3.360000</td>\n",
       "    </tr>\n",
       "    <tr>\n",
       "      <th>50%</th>\n",
       "      <td>67.500000</td>\n",
       "      <td>83.000000</td>\n",
       "      <td>25.005000</td>\n",
       "      <td>21.185000</td>\n",
       "      <td>60.495000</td>\n",
       "      <td>6.205000</td>\n",
       "    </tr>\n",
       "    <tr>\n",
       "      <th>75%</th>\n",
       "      <td>91.750000</td>\n",
       "      <td>89.000000</td>\n",
       "      <td>49.467500</td>\n",
       "      <td>100.347500</td>\n",
       "      <td>74.122500</td>\n",
       "      <td>10.290000</td>\n",
       "    </tr>\n",
       "    <tr>\n",
       "      <th>max</th>\n",
       "      <td>100.000000</td>\n",
       "      <td>100.000000</td>\n",
       "      <td>78.220000</td>\n",
       "      <td>179.320000</td>\n",
       "      <td>96.800000</td>\n",
       "      <td>32.970000</td>\n",
       "    </tr>\n",
       "  </tbody>\n",
       "</table>\n",
       "</div>"
      ],
      "text/plain": [
       "       Cloudiness    Humidity         Lat         Lng    Max Temp  Wind Speed\n",
       "count  554.000000  554.000000  554.000000  554.000000  554.000000  554.000000\n",
       "mean    54.249097   75.929603   20.758953   18.407617   51.567780    7.557274\n",
       "std     39.887083   19.793064   33.072412   90.993169   28.283895    5.356435\n",
       "min      0.000000    1.000000  -54.800000 -179.170000  -40.000000    0.220000\n",
       "25%      2.250000   69.000000   -6.790000  -61.167500   33.800000    3.360000\n",
       "50%     67.500000   83.000000   25.005000   21.185000   60.495000    6.205000\n",
       "75%     91.750000   89.000000   49.467500  100.347500   74.122500   10.290000\n",
       "max    100.000000  100.000000   78.220000  179.320000   96.800000   32.970000"
      ]
     },
     "execution_count": 10,
     "metadata": {},
     "output_type": "execute_result"
    }
   ],
   "source": [
    "dry_cities = weather_dict[weather_dict[\"Humidity\"]<=100]\n",
    "dry_cities.describe()"
   ]
  },
  {
   "cell_type": "code",
   "execution_count": 11,
   "metadata": {},
   "outputs": [
    {
     "name": "stdout",
     "output_type": "stream",
     "text": [
      "There are 0 cities with over 100% humidity\n"
     ]
    }
   ],
   "source": [
    "#  Get the indices of cities that have humidity over 100%.\n",
    "high_humid = weather_dict.index[weather_dict[\"Humidity\"]>100].tolist()\n",
    "\n",
    "print(f\"There are {len(high_humid)} cities with over 100% humidity\")"
   ]
  },
  {
   "cell_type": "code",
   "execution_count": 12,
   "metadata": {},
   "outputs": [
    {
     "data": {
      "text/html": [
       "<div>\n",
       "<style scoped>\n",
       "    .dataframe tbody tr th:only-of-type {\n",
       "        vertical-align: middle;\n",
       "    }\n",
       "\n",
       "    .dataframe tbody tr th {\n",
       "        vertical-align: top;\n",
       "    }\n",
       "\n",
       "    .dataframe thead th {\n",
       "        text-align: right;\n",
       "    }\n",
       "</style>\n",
       "<table border=\"1\" class=\"dataframe\">\n",
       "  <thead>\n",
       "    <tr style=\"text-align: right;\">\n",
       "      <th></th>\n",
       "      <th>Cloudiness</th>\n",
       "      <th>Humidity</th>\n",
       "      <th>Lat</th>\n",
       "      <th>Lng</th>\n",
       "      <th>Max Temp</th>\n",
       "      <th>Wind Speed</th>\n",
       "    </tr>\n",
       "  </thead>\n",
       "  <tbody>\n",
       "    <tr>\n",
       "      <th>count</th>\n",
       "      <td>554.000000</td>\n",
       "      <td>554.000000</td>\n",
       "      <td>554.000000</td>\n",
       "      <td>554.000000</td>\n",
       "      <td>554.000000</td>\n",
       "      <td>554.000000</td>\n",
       "    </tr>\n",
       "    <tr>\n",
       "      <th>mean</th>\n",
       "      <td>54.249097</td>\n",
       "      <td>75.929603</td>\n",
       "      <td>20.758953</td>\n",
       "      <td>18.407617</td>\n",
       "      <td>51.567780</td>\n",
       "      <td>7.557274</td>\n",
       "    </tr>\n",
       "    <tr>\n",
       "      <th>std</th>\n",
       "      <td>39.887083</td>\n",
       "      <td>19.793064</td>\n",
       "      <td>33.072412</td>\n",
       "      <td>90.993169</td>\n",
       "      <td>28.283895</td>\n",
       "      <td>5.356435</td>\n",
       "    </tr>\n",
       "    <tr>\n",
       "      <th>min</th>\n",
       "      <td>0.000000</td>\n",
       "      <td>1.000000</td>\n",
       "      <td>-54.800000</td>\n",
       "      <td>-179.170000</td>\n",
       "      <td>-40.000000</td>\n",
       "      <td>0.220000</td>\n",
       "    </tr>\n",
       "    <tr>\n",
       "      <th>25%</th>\n",
       "      <td>2.250000</td>\n",
       "      <td>69.000000</td>\n",
       "      <td>-6.790000</td>\n",
       "      <td>-61.167500</td>\n",
       "      <td>33.800000</td>\n",
       "      <td>3.360000</td>\n",
       "    </tr>\n",
       "    <tr>\n",
       "      <th>50%</th>\n",
       "      <td>67.500000</td>\n",
       "      <td>83.000000</td>\n",
       "      <td>25.005000</td>\n",
       "      <td>21.185000</td>\n",
       "      <td>60.495000</td>\n",
       "      <td>6.205000</td>\n",
       "    </tr>\n",
       "    <tr>\n",
       "      <th>75%</th>\n",
       "      <td>91.750000</td>\n",
       "      <td>89.000000</td>\n",
       "      <td>49.467500</td>\n",
       "      <td>100.347500</td>\n",
       "      <td>74.122500</td>\n",
       "      <td>10.290000</td>\n",
       "    </tr>\n",
       "    <tr>\n",
       "      <th>max</th>\n",
       "      <td>100.000000</td>\n",
       "      <td>100.000000</td>\n",
       "      <td>78.220000</td>\n",
       "      <td>179.320000</td>\n",
       "      <td>96.800000</td>\n",
       "      <td>32.970000</td>\n",
       "    </tr>\n",
       "  </tbody>\n",
       "</table>\n",
       "</div>"
      ],
      "text/plain": [
       "       Cloudiness    Humidity         Lat         Lng    Max Temp  Wind Speed\n",
       "count  554.000000  554.000000  554.000000  554.000000  554.000000  554.000000\n",
       "mean    54.249097   75.929603   20.758953   18.407617   51.567780    7.557274\n",
       "std     39.887083   19.793064   33.072412   90.993169   28.283895    5.356435\n",
       "min      0.000000    1.000000  -54.800000 -179.170000  -40.000000    0.220000\n",
       "25%      2.250000   69.000000   -6.790000  -61.167500   33.800000    3.360000\n",
       "50%     67.500000   83.000000   25.005000   21.185000   60.495000    6.205000\n",
       "75%     91.750000   89.000000   49.467500  100.347500   74.122500   10.290000\n",
       "max    100.000000  100.000000   78.220000  179.320000   96.800000   32.970000"
      ]
     },
     "execution_count": 12,
     "metadata": {},
     "output_type": "execute_result"
    }
   ],
   "source": [
    "# Make a new DataFrame equal to the city data to drop all humidity outliers by index.\n",
    "# Passing \"inplace=False\" will make a copy of the city_data DataFrame, which we call \"clean_city_data\".\n",
    "\n",
    "clean_city_data = weather_dict.drop(labels=high_humid,inplace=False)\n",
    "clean_city_data.head()\n",
    "clean_city_data.describe()"
   ]
  },
  {
   "cell_type": "code",
   "execution_count": 13,
   "metadata": {},
   "outputs": [],
   "source": [
    "date = date.today()"
   ]
  },
  {
   "cell_type": "markdown",
   "metadata": {},
   "source": [
    "## Plotting the Data\n",
    "* Use proper labeling of the plots using plot titles (including date of analysis) and axes labels.\n",
    "* Save the plotted figures as .pngs."
   ]
  },
  {
   "cell_type": "markdown",
   "metadata": {},
   "source": [
    "## Latitude vs. Temperature Plot"
   ]
  },
  {
   "cell_type": "code",
   "execution_count": 14,
   "metadata": {
    "scrolled": true
   },
   "outputs": [
    {
     "data": {
      "image/png": "[encoded data removed]",
      "text/plain": [
       "<Figure size 432x288 with 1 Axes>"
      ]
     },
     "metadata": {
      "needs_background": "light"
     },
     "output_type": "display_data"
    }
   ],
   "source": [
    "# Create Latitude vs. Temperature Plot scatter plot\n",
    "plt.scatter(weather_dict[\"Lat\"], weather_dict[\"Max Temp\"], facecolor = \"red\", edgecolor = \"black\")\n",
    "\n",
    "# Set title\n",
    "plt.title(f\"City Latitude vs. Max Temperature {date}\")\n",
    "\n",
    "# Set x axis label\n",
    "plt.xlabel(\"Latitude\")\n",
    "\n",
    "# Set y axis label\n",
    "plt.ylabel(\"Max Temperature (F)\")\n",
    "\n",
    "# Set grid line\n",
    "plt.grid(linestyle=\"-\", linewidth=1, alpha = 0.5)\n",
    "\n",
    "# Save the plotted figure as .pngs\n",
    "plt.savefig(\"output_data/Images/City Latitude vs Max Temperature.png\")"
   ]
  },
  {
   "cell_type": "markdown",
   "metadata": {},
   "source": [
    "Highest temperature is found at 0 latitude and as the latitude increases or decreases, temperature drops."
   ]
  },
  {
   "cell_type": "markdown",
   "metadata": {},
   "source": [
    "## Latitude vs. Humidity Plot"
   ]
  },
  {
   "cell_type": "code",
   "execution_count": 15,
   "metadata": {},
   "outputs": [
    {
     "data": {
      "image/png": "[encoded data removed]",
      "text/plain": [
       "<Figure size 432x288 with 1 Axes>"
      ]
     },
     "metadata": {
      "needs_background": "light"
     },
     "output_type": "display_data"
    }
   ],
   "source": [
    "# Create Latitude vs. Humidity Plot scatter plot\n",
    "plt.scatter(weather_dict[\"Lat\"], weather_dict[\"Humidity\"], facecolor = \"orange\", edgecolor = \"black\")\n",
    "\n",
    "# Set title\n",
    "plt.title(f\"City Latitude vs. Humidity {date}\")\n",
    "\n",
    "# Set x axis label\n",
    "plt.xlabel(\"Latitude\")\n",
    "\n",
    "# Set y axis label\n",
    "plt.ylabel(\"Humidity (%)\")\n",
    "\n",
    "# Set grid line\n",
    "plt.grid(linestyle=\"-\", linewidth=1, alpha = 0.5)\n",
    "\n",
    "# Save the plotted figure as png\n",
    "plt.savefig(\"output_data/Images/City Latitude vs Humidity.png\")"
   ]
  },
  {
   "cell_type": "markdown",
   "metadata": {},
   "source": [
    "Polar regions have lower humidity and as latitude gets higher, humidity gets higher in the southern hemisphere."
   ]
  },
  {
   "cell_type": "markdown",
   "metadata": {},
   "source": [
    "## Latitude vs. Cloudiness Plot"
   ]
  },
  {
   "cell_type": "code",
   "execution_count": 16,
   "metadata": {},
   "outputs": [
    {
     "data": {
      "image/png": "[encoded data removed]",
      "text/plain": [
       "<Figure size 432x288 with 1 Axes>"
      ]
     },
     "metadata": {
      "needs_background": "light"
     },
     "output_type": "display_data"
    }
   ],
   "source": [
    "# Create a Latitude vs. Cloudiness Plot scatter plot\n",
    "plt.scatter(weather_dict[\"Lat\"], weather_dict[\"Cloudiness\"], facecolor = \"yellow\", edgecolor= \"black\")\n",
    "\n",
    "# Set title\n",
    "plt.title(f\"City Latitude vs Cloudiness {date}\")\n",
    "\n",
    "# Set x axis label\n",
    "plt.xlabel(\"Latitude\")\n",
    "\n",
    "# Set y axis label\n",
    "plt.ylabel(\"Cloudiness\")\n",
    "\n",
    "# Set grid line\n",
    "plt.grid(linestyle=\"-\", linewidth=1, alpha = 0.5)\n",
    "\n",
    "# Save the plotted figure as png\n",
    "plt.savefig(\"output_data/Images/City Latitude vs Cloudiness.png\")"
   ]
  },
  {
   "cell_type": "markdown",
   "metadata": {},
   "source": [
    "Cloudiness data is widely spread across the latitude."
   ]
  },
  {
   "cell_type": "markdown",
   "metadata": {},
   "source": [
    "## Latitude vs. Wind Speed Plot"
   ]
  },
  {
   "cell_type": "code",
   "execution_count": 17,
   "metadata": {},
   "outputs": [
    {
     "data": {
      "image/png": "[encoded data removed]",
      "text/plain": [
       "<Figure size 432x288 with 1 Axes>"
      ]
     },
     "metadata": {
      "needs_background": "light"
     },
     "output_type": "display_data"
    }
   ],
   "source": [
    "# Create Latitude vs. Wind Speed Plot scatter plot\n",
    "plt.scatter(weather_dict[\"Lat\"], weather_dict[\"Wind Speed\"], facecolor =\"green\", edgecolor = \"black\")\n",
    "\n",
    "# Set title\n",
    "plt. title(f\"City Latitude vs. Wind Speed (mph) {date}\")\n",
    "\n",
    "# Set x axis label\n",
    "plt.xlabel(\"Latitude\")\n",
    "\n",
    "# Set y axis label\n",
    "plt.ylabel(\"Wind Speed (%)\")\n",
    "\n",
    "# Set y axis limit\n",
    "plt.ylim(-2,50)\n",
    "\n",
    "# Set grid line\n",
    "plt.grid(linestyle=\"-\", linewidth=1, alpha =0.5)\n",
    "\n",
    "# Save the plotted figure as png\n",
    "plt.savefig(\"output_data/Images/City Latitude vs Wind Speed (mph).png\")"
   ]
  },
  {
   "cell_type": "markdown",
   "metadata": {},
   "source": [
    "Wind speed data is widely spread across the latitude"
   ]
  },
  {
   "cell_type": "markdown",
   "metadata": {},
   "source": [
    "## Linear Regression"
   ]
  },
  {
   "cell_type": "code",
   "execution_count": 18,
   "metadata": {},
   "outputs": [],
   "source": [
    "# Create Northern and Southern Hemisphere DataFrames\n",
    "northern_hemisphere = weather_dict.loc[weather_dict[\"Lat\"] >= 0]\n",
    "southern_hemisphere = weather_dict.loc[weather_dict[\"Lng\"] < 0]"
   ]
  },
  {
   "cell_type": "code",
   "execution_count": 19,
   "metadata": {},
   "outputs": [],
   "source": [
    "# Define function for creating linear agression and scatter plot\n",
    "def linear_agression(x,y):\n",
    "    print(f\"The r squared is : {round(st.pearsonr(x,y)[0],2)}\")\n",
    "    (slope, intercept, rvalue, pvalue, stderr) =  linregress(x,y)\n",
    "    regress_values = x * slope + intercept\n",
    "    line_eq = \"y = \" + str(round(slope,2)) + \"x + \" + str(round(intercept,2))\n",
    "    plt.scatter(x, y)\n",
    "    plt.plot(x,regress_values,\"r-\")\n",
    "    return line_eq\n",
    "\n",
    "# Define a function for annotating\n",
    "def annotate(line_eq, a, b):\n",
    "    plt.annotate(line_eq,(a,b),fontsize=15, color =\"red\")"
   ]
  },
  {
   "cell_type": "markdown",
   "metadata": {},
   "source": [
    "####  Northern Hemisphere - Max Temp vs. Latitude Linear Regression"
   ]
  },
  {
   "cell_type": "code",
   "execution_count": 20,
   "metadata": {},
   "outputs": [
    {
     "name": "stdout",
     "output_type": "stream",
     "text": [
      "The r squared is : -0.86\n"
     ]
    },
    {
     "data": {
      "image/png": "[encoded data removed]",
      "text/plain": [
       "<Figure size 432x288 with 1 Axes>"
      ]
     },
     "metadata": {
      "needs_background": "light"
     },
     "output_type": "display_data"
    }
   ],
   "source": [
    "# Call on function #1\n",
    "equation = linear_agression(northern_hemisphere[\"Lat\"], northern_hemisphere[\"Max Temp\"])\n",
    "\n",
    "# Call on function #2\n",
    "annotate(equation, 0, 0)\n",
    "\n",
    "#Set a title#\n",
    "plt.title(\"Northern Hemisphere - Max Temp vs. Latitude Linear Regression\")\n",
    "\n",
    "# Set xlabel\n",
    "plt.xlabel(\"Latitude\")\n",
    "\n",
    "#Set ylabel\n",
    "plt.ylabel(\"Max Temp (F)\")\n",
    "\n",
    "# Save the figure as png\n",
    "plt.savefig(\"output_data/Images/Northern Hemisphere - Max Temp vs Latitude Linear Regression.png\")"
   ]
  },
  {
   "cell_type": "markdown",
   "metadata": {},
   "source": [
    "There is a strong negative correlation between latitude and max temperature for the northern hemisphere."
   ]
  },
  {
   "cell_type": "markdown",
   "metadata": {},
   "source": [
    "####  Southern Hemisphere - Max Temp vs. Latitude Linear Regression"
   ]
  },
  {
   "cell_type": "code",
   "execution_count": 21,
   "metadata": {
    "scrolled": true
   },
   "outputs": [
    {
     "name": "stdout",
     "output_type": "stream",
     "text": [
      "The r squared is : -0.74\n"
     ]
    },
    {
     "data": {
      "image/png": "[encoded data removed]",
      "text/plain": [
       "<Figure size 432x288 with 1 Axes>"
      ]
     },
     "metadata": {
      "needs_background": "light"
     },
     "output_type": "display_data"
    }
   ],
   "source": [
    "# Call on function #1\n",
    "equation = linear_agression(southern_hemisphere[\"Lat\"],southern_hemisphere[\"Max Temp\"])\n",
    "\n",
    "# Call on function #2\n",
    "annotate(equation, -30, 50)\n",
    "\n",
    "# Set a title\n",
    "plt.title(\"Southern Hemisphere - Max Temp vs. Latitude Linear Regression\")\n",
    "\n",
    "# Set xlabel\n",
    "plt.xlabel(\"Latitude\")\n",
    "\n",
    "# Set ylabel\n",
    "plt.ylabel(\"Max Temp (F)\")\n",
    "\n",
    "# Save the figure as png\n",
    "plt.savefig(\"output_data/Images/Southern Hemisphere - Max Temp vs Latitude Linear Regression.png\")"
   ]
  },
  {
   "cell_type": "markdown",
   "metadata": {},
   "source": [
    "There is a negative correlation between latitude and max temperature for southern hemisphere."
   ]
  },
  {
   "cell_type": "markdown",
   "metadata": {},
   "source": [
    "####  Northern Hemisphere - Humidity (%) vs. Latitude Linear Regression"
   ]
  },
  {
   "cell_type": "code",
   "execution_count": 22,
   "metadata": {},
   "outputs": [
    {
     "name": "stdout",
     "output_type": "stream",
     "text": [
      "The r squared is : 0.32\n"
     ]
    },
    {
     "data": {
      "image/png": "[encoded data removed]",
      "text/plain": [
       "<Figure size 432x288 with 1 Axes>"
      ]
     },
     "metadata": {
      "needs_background": "light"
     },
     "output_type": "display_data"
    }
   ],
   "source": [
    "# Call on function #1\n",
    "equation = linear_agression(northern_hemisphere[\"Lat\"], northern_hemisphere[\"Humidity\"])\n",
    "\n",
    "# Call on function #2\n",
    "annotate(equation, 40, 15)\n",
    "\n",
    "# Set a title\n",
    "plt.title(\"Northern Hemisphere = Humidity (%) vs. Latitude Linear Regression\")\n",
    "\n",
    "# Set xlabel\n",
    "plt.xlabel(\"Latitude\")\n",
    "\n",
    "# Set ylabel\n",
    "plt.ylabel(\"Humidity (%)\")\n",
    "\n",
    "# Save the figure\n",
    "plt.savefig(\"output_data/Images/Northern Hemisphere - Humidity (%) vs Latitude Linear Regression.png\")\n",
    "                                                                "
   ]
  },
  {
   "cell_type": "markdown",
   "metadata": {},
   "source": [
    "There is a moderate positive correlation between latitude and humidity for northern hemisphere."
   ]
  },
  {
   "cell_type": "markdown",
   "metadata": {},
   "source": [
    "####  Southern Hemisphere - Humidity (%) vs. Latitude Linear Regression"
   ]
  },
  {
   "cell_type": "code",
   "execution_count": 23,
   "metadata": {},
   "outputs": [
    {
     "name": "stdout",
     "output_type": "stream",
     "text": [
      "The r squared is : 0.04\n"
     ]
    },
    {
     "data": {
      "image/png": "[encoded data removed]",
      "text/plain": [
       "<Figure size 432x288 with 1 Axes>"
      ]
     },
     "metadata": {
      "needs_background": "light"
     },
     "output_type": "display_data"
    }
   ],
   "source": [
    "# Call on function #1\n",
    "equation = linear_agression(southern_hemisphere[\"Lat\"], southern_hemisphere[\"Humidity\"])\n",
    "\n",
    "# Call on function #2\n",
    "annotate(equation, -40, 50)\n",
    "\n",
    "# Set title\n",
    "plt.title(\"Southern Hemishpere = Humidity (%) vs. Latitude Linear Regression\")\n",
    "\n",
    "# Set xlabel\n",
    "plt.xlabel(\"Latitude\")\n",
    "\n",
    "# Set ylabel\n",
    "plt.ylabel(\"Humidity (%)\")\n",
    "\n",
    "# Save the figure in png\n",
    "plt.savefig(\"output_data/Images/Southern Hemisphere - Humidity (%) vs Latitude Linear Regression.png\")"
   ]
  },
  {
   "cell_type": "markdown",
   "metadata": {},
   "source": [
    "There is a moderate positive correlation between latitude and humidity for the southern hemisphere."
   ]
  },
  {
   "cell_type": "markdown",
   "metadata": {},
   "source": [
    "####  Northern Hemisphere - Cloudiness (%) vs. Latitude Linear Regression"
   ]
  },
  {
   "cell_type": "code",
   "execution_count": 24,
   "metadata": {},
   "outputs": [
    {
     "name": "stdout",
     "output_type": "stream",
     "text": [
      "The r squared is : 0.23\n"
     ]
    },
    {
     "data": {
      "image/png": "[encoded data removed]",
      "text/plain": [
       "<Figure size 432x288 with 1 Axes>"
      ]
     },
     "metadata": {
      "needs_background": "light"
     },
     "output_type": "display_data"
    }
   ],
   "source": [
    "# Call on function #1\n",
    "equation = linear_agression(northern_hemisphere[\"Lat\"], northern_hemisphere[\"Cloudiness\"])\n",
    "\n",
    "# Call on function #2\n",
    "annotate(equation, 30, 40)\n",
    "\n",
    "# Set a title\n",
    "plt.title(\"Northern Hemishpere - Cloudiness (%) vs Latitude Linear Regression\")\n",
    "\n",
    "# Set xlabel\n",
    "plt.xlabel(\"Latitude\")\n",
    "\n",
    "# Set ylabel\n",
    "plt.ylabel(\"Cloudiness (%)\")\n",
    "\n",
    "# Save the figure as a png\n",
    "plt.savefig(\"output_data/Images/Northern Hemisphere - Cloudiness (%) vs Latitude Linear Regression.png\")"
   ]
  },
  {
   "cell_type": "markdown",
   "metadata": {},
   "source": [
    "There is a weak positive correlation between latitude and cloudiness for the norhtern hemisphere."
   ]
  },
  {
   "cell_type": "markdown",
   "metadata": {},
   "source": [
    "####  Southern Hemisphere - Cloudiness (%) vs. Latitude Linear Regression"
   ]
  },
  {
   "cell_type": "code",
   "execution_count": 25,
   "metadata": {
    "scrolled": true
   },
   "outputs": [
    {
     "name": "stdout",
     "output_type": "stream",
     "text": [
      "The r squared is : 0.22\n"
     ]
    },
    {
     "data": {
      "image/png": "[encoded data removed]",
      "text/plain": [
       "<Figure size 432x288 with 1 Axes>"
      ]
     },
     "metadata": {
      "needs_background": "light"
     },
     "output_type": "display_data"
    }
   ],
   "source": [
    "# Call function #1\n",
    "equation = linear_agression(southern_hemisphere[\"Lat\"], southern_hemisphere[\"Cloudiness\"])\n",
    "\n",
    "# Call on function #2\n",
    "annotate(equation, -30, 40)\n",
    "\n",
    "# Set a title\n",
    "plt.title(\"Southern Hemisphere - Cloudiness (%) vs. Latitude Linear Regression\")\n",
    "\n",
    "# Set xlabel\n",
    "plt.xlabel(\"Latitude\")\n",
    "\n",
    "# Set ylabel\n",
    "plt.ylabel(\"Cloudiness (%)\")\n",
    "\n",
    "# Save the figure as png\n",
    "plt.savefig(\"output_data/Images/Southern Hemisphere - Cloudiness (%) vs Latitude Linear Regression.png\")"
   ]
  },
  {
   "cell_type": "markdown",
   "metadata": {},
   "source": [
    "There is a weak positive correlation between latitude and cloudiness for the southern hemisphere."
   ]
  },
  {
   "cell_type": "markdown",
   "metadata": {},
   "source": [
    "####  Northern Hemisphere - Wind Speed (mph) vs. Latitude Linear Regression"
   ]
  },
  {
   "cell_type": "code",
   "execution_count": 26,
   "metadata": {},
   "outputs": [
    {
     "name": "stdout",
     "output_type": "stream",
     "text": [
      "The r squared is : 0.18\n"
     ]
    },
    {
     "data": {
      "image/png": "[encoded data removed]",
      "text/plain": [
       "<Figure size 432x288 with 1 Axes>"
      ]
     },
     "metadata": {
      "needs_background": "light"
     },
     "output_type": "display_data"
    }
   ],
   "source": [
    "# Call an function #1\n",
    "equation = linear_agression(northern_hemisphere[\"Lat\"], northern_hemisphere[\"Wind Speed\"])\n",
    "\n",
    "# Call an function #2\n",
    "annotate(equation, 40, 20)\n",
    "\n",
    "# Set  title\n",
    "plt.title(\"Northern Hemisphere - Wind Speed (mph) vs. Latitude Linear Regression\")\n",
    "\n",
    "# Set xlabel\n",
    "plt.xlabel(\"Latitude\")\n",
    "\n",
    "# Set ylabel\n",
    "plt.ylabel(\"Wind Speed (mph)\")\n",
    "\n",
    "# Save the figure\n",
    "plt.savefig(\"output_data/Images/Northern Hemisphere - Wind Speed vs Latitude Linear Regression.png\")"
   ]
  },
  {
   "cell_type": "markdown",
   "metadata": {},
   "source": [
    "There is a weak positive correlation between latitude and wind speed for northern hemisphere."
   ]
  },
  {
   "cell_type": "markdown",
   "metadata": {},
   "source": [
    "####  Southern Hemisphere - Wind Speed (mph) vs. Latitude Linear Regression"
   ]
  },
  {
   "cell_type": "code",
   "execution_count": 27,
   "metadata": {},
   "outputs": [
    {
     "name": "stdout",
     "output_type": "stream",
     "text": [
      "The r squared is : 0.08\n"
     ]
    },
    {
     "data": {
      "image/png": "[encoded data removed]",
      "text/plain": [
       "<Figure size 432x288 with 1 Axes>"
      ]
     },
     "metadata": {
      "needs_background": "light"
     },
     "output_type": "display_data"
    }
   ],
   "source": [
    "# Call an function #1\n",
    "equation = linear_agression(southern_hemisphere[\"Lat\"], southern_hemisphere[\"Wind Speed\"])\n",
    "\n",
    "# Call an function #2\n",
    "annotate(equation, -30, 15)\n",
    "\n",
    "# Set  title\n",
    "plt.title(\"Southern Hemisphere - Wind Speed (mph) vs. Latitude Linear Regression\")\n",
    "\n",
    "# Set xlabel\n",
    "plt.xlabel(\"Latitude\")\n",
    "\n",
    "# Set ylabel\n",
    "plt.ylabel(\"Wind Speed (mph)\")\n",
    "\n",
    "# Save the figure\n",
    "plt.savefig(\"output_data/Images/Southern Hemisphere - Wind Speed vs Latitude Linear Regression.png\")"
   ]
  },
  {
   "cell_type": "markdown",
   "metadata": {},
   "source": [
    "There is a weak negative correlation between latitude and wind speed for the southern hemisphere."
   ]
  }
 ],
 "metadata": {
  "anaconda-cloud": {},
  "kernel_info": {
   "name": "python3"
  },
  "kernelspec": {
   "display_name": "PythonData2",
   "language": "python",
   "name": "pythondata2"
  },
  "language_info": {
   "codemirror_mode": {
    "name": "ipython",
    "version": 3
   },
   "file_extension": ".py",
   "mimetype": "text/x-python",
   "name": "python",
   "nbconvert_exporter": "python",
   "pygments_lexer": "ipython3",
   "version": "3.8.3"
  },
  "latex_envs": {
   "LaTeX_envs_menu_present": true,
   "autoclose": false,
   "autocomplete": true,
   "bibliofile": "biblio.bib",
   "cite_by": "apalike",
   "current_citInitial": 1,
   "eqLabelWithNumbers": true,
   "eqNumInitial": 1,
   "hotkeys": {
    "equation": "Ctrl-E",
    "itemize": "Ctrl-I"
   },
   "labels_anchors": false,
   "latex_user_defs": false,
   "report_style_numbering": false,
   "user_envs_cfg": false
  },
  "nteract": {
   "version": "0.12.3"
  }
 },
 "nbformat": 4,
 "nbformat_minor": 2
}
