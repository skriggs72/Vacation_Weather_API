{
 "cells": [
  {
   "cell_type": "markdown",
   "metadata": {},
   "source": [
    "# WeatherPy\n",
    "----\n",
    "\n",
    "#### Note\n",
    "* Instructions have been included for each segment. You do not have to follow them exactly, but they are included to help you think through the steps."
   ]
  },
  {
   "cell_type": "markdown",
   "metadata": {},
   "source": [
    "Observation 1: Southern Hemisphere climates tend to be slightly milder than those at similar latitudes in the Northern Hemisphere. This is because teh Southern Hemisphere has significantly more ocean and much less land; water heats up and cools down more slowly than land.\n",
    "\n",
    "Observation 2: Highest temperature is found at 0 latituted and as the latitude increases or decreases, temperature drops. This happens as equatorial region receives sunlight straight with less or no angle due to curvature shape of the earth.\n",
    "\n",
    "Observation 3: Latitude doesn't have a storng influence on wind speed. The speed of the wind is controlled by the strength of the air pressure gradient, the stonger the pressure gradient the higher the higher the wind speed."
   ]
  },
  {
   "cell_type": "code",
   "execution_count": 1,
   "metadata": {
    "scrolled": true
   },
   "outputs": [],
   "source": [
    "# Dependencies and Setup\n",
    "import matplotlib.pyplot as plt\n",
    "import pandas as pd\n",
    "import numpy as np\n",
    "import requests\n",
    "import time\n",
    "import scipy.stats as st\n",
    "from scipy.stats import linregress\n",
    "import datetime\n",
    "from datetime import date\n",
    "\n",
    "# Import API key\n",
    "from api_keys import weather_api_key\n",
    "\n",
    "# Incorporated citipy to determine city based on latitude and longitude\n",
    "from citipy import citipy\n",
    "\n",
    "# Output File (CSV)\n",
    "output_data_file = \"output_data/cities.csv\"\n",
    "\n",
    "# Range of latitudes and longitudes\n",
    "lat_range = (-90, 90)\n",
    "lng_range = (-180, 180)"
   ]
  },
  {
   "cell_type": "markdown",
   "metadata": {},
   "source": [
    "## Generate Cities List"
   ]
  },
  {
   "cell_type": "code",
   "execution_count": 2,
   "metadata": {},
   "outputs": [
    {
     "data": {
      "text/plain": [
       "622"
      ]
     },
     "execution_count": 2,
     "metadata": {},
     "output_type": "execute_result"
    }
   ],
   "source": [
    "# List for holding lat_lngs and cities\n",
    "lat_lngs = []\n",
    "cities = []\n",
    "countries = []\n",
    "\n",
    "# Create a set of random lat and lng combinations\n",
    "lats = np.random.uniform(low=-90.000, high=90.000, size=1500)\n",
    "lngs = np.random.uniform(low =-180.000, high=180.000, size=1500)\n",
    "lat_lngs = zip(lats, lngs)\n",
    "\n",
    "# Identify nearest city for each lat, lng combination\n",
    "for lat_lng in lat_lngs:\n",
    "    city = citipy.nearest_city(lat_lng[0], lat_lng[1]).city_name\n",
    "    \n",
    "    # If the city is unique, then add it to a our cities list\n",
    "    if city not in cities:\n",
    "        cities.append(city)\n",
    "                \n",
    "# Print the city count to confirm sufficient count\n",
    "len(cities)"
   ]
  },
  {
   "cell_type": "code",
   "execution_count": 3,
   "metadata": {
    "scrolled": true
   },
   "outputs": [],
   "source": [
    "city_name_list = []\n",
    "cloudiness_list = []\n",
    "country_list = []\n",
    "date_list = []\n",
    "humidity_list = []\n",
    "lat_list = []\n",
    "lng_list = []\n",
    "max_temp_list = []\n",
    "wind_speed_list = []\n",
    "index_counter = 0\n",
    "set_counter = 1"
   ]
  },
  {
   "cell_type": "markdown",
   "metadata": {},
   "source": [
    "### Perform API Calls\n",
    "* Perform a weather check on each city using a series of successive API calls.\n",
    "* Include a print log of each city as it'sbeing processed (with the city number and city name).\n"
   ]
  },
  {
   "cell_type": "code",
   "execution_count": 4,
   "metadata": {
    "scrolled": true
   },
   "outputs": [
    {
     "name": "stdout",
     "output_type": "stream",
     "text": [
      "Beginning Data Retrieval \n",
      "-----------------------------\n",
      "Processing Record 1 of Set 1 : busselton\n",
      "Processing Record 2 of Set 1 : cape town\n",
      "Processing Record 3 of Set 1 : new norfolk\n",
      "Processing Record 4 of Set 1 : surt\n",
      "Processing Record 5 of Set 1 : hermanus\n",
      "Processing Record 6 of Set 1 : santa cruz\n",
      "Processing Record 7 of Set 1 : malinovskiy\n",
      "Processing Record 8 of Set 1 : derzhavinsk\n",
      "Processing Record 9 of Set 1 : barra do bugres\n",
      "Processing Record 10 of Set 1 : dingle\n",
      "Processing Record 11 of Set 1 : carnarvon\n",
      "Processing Record 12 of Set 1 : avarua\n",
      "Processing Record 13 of Set 1 : niesky\n",
      "Processing Record 14 of Set 1 : bredasdorp\n",
      "Processing Record 15 of Set 1 : puerto ayora\n",
      "Processing Record 16 of Set 1 : ushuaia\n",
      "City not found. Skipping...\n",
      "Processing Record 17 of Set 1 : onguday\n",
      "Processing Record 18 of Set 1 : hobart\n",
      "Processing Record 19 of Set 1 : georgetown\n",
      "Processing Record 20 of Set 1 : porto velho\n",
      "Processing Record 21 of Set 1 : hasaki\n",
      "Processing Record 22 of Set 1 : liling\n",
      "Processing Record 23 of Set 1 : saldanha\n",
      "Processing Record 24 of Set 1 : lingyuan\n",
      "Processing Record 25 of Set 1 : robat karim\n",
      "City not found. Skipping...\n",
      "Processing Record 26 of Set 1 : rikitea\n",
      "Processing Record 27 of Set 1 : wlodawa\n",
      "Processing Record 28 of Set 1 : avera\n",
      "Processing Record 29 of Set 1 : saskylakh\n",
      "Processing Record 30 of Set 1 : hilo\n",
      "Processing Record 31 of Set 1 : punta arenas\n",
      "Processing Record 32 of Set 1 : warwick\n",
      "Processing Record 33 of Set 1 : mar del plata\n",
      "Processing Record 34 of Set 1 : diu\n",
      "Processing Record 35 of Set 1 : trairi\n",
      "Processing Record 36 of Set 1 : peniche\n",
      "Processing Record 37 of Set 1 : te anau\n",
      "Processing Record 38 of Set 1 : tual\n",
      "City not found. Skipping...\n",
      "Processing Record 39 of Set 1 : vila\n",
      "Processing Record 40 of Set 1 : kapaa\n",
      "Processing Record 41 of Set 1 : wilmington island\n",
      "Processing Record 42 of Set 1 : baiyin\n",
      "City not found. Skipping...\n",
      "Processing Record 43 of Set 1 : ribeira grande\n",
      "Processing Record 44 of Set 1 : albany\n",
      "Processing Record 45 of Set 1 : vardo\n",
      "Processing Record 46 of Set 1 : port alfred\n",
      "Processing Record 47 of Set 1 : chernyshevskiy\n",
      "Processing Record 48 of Set 1 : pringsewu\n",
      "Processing Record 49 of Set 1 : sangar\n",
      "Processing Record 50 of Set 1 : manado\n",
      "Processing Record 0 of Set 2 : saint-philippe\n",
      "City not found. Skipping...\n",
      "Processing Record 1 of Set 2 : cockburn town\n",
      "Processing Record 2 of Set 2 : dekar\n",
      "Processing Record 3 of Set 2 : bluff\n",
      "Processing Record 4 of Set 2 : padang\n",
      "Processing Record 5 of Set 2 : bangsund\n",
      "Processing Record 6 of Set 2 : mataura\n",
      "Processing Record 7 of Set 2 : carson city\n",
      "Processing Record 8 of Set 2 : tynda\n",
      "City not found. Skipping...\n",
      "Processing Record 9 of Set 2 : saint-pierre\n",
      "Processing Record 10 of Set 2 : victoria\n",
      "Processing Record 11 of Set 2 : magugu\n",
      "Processing Record 12 of Set 2 : tautira\n",
      "Processing Record 13 of Set 2 : sorong\n",
      "Processing Record 14 of Set 2 : deming\n",
      "Processing Record 15 of Set 2 : chilca\n",
      "Processing Record 16 of Set 2 : pandamatenga\n",
      "Processing Record 17 of Set 2 : eyl\n",
      "Processing Record 18 of Set 2 : arraial do cabo\n",
      "Processing Record 19 of Set 2 : atuona\n",
      "Processing Record 20 of Set 2 : bengkulu\n",
      "Processing Record 21 of Set 2 : airai\n",
      "Processing Record 22 of Set 2 : tiksi\n",
      "Processing Record 23 of Set 2 : jumla\n",
      "Processing Record 24 of Set 2 : hofn\n",
      "Processing Record 25 of Set 2 : severo-kurilsk\n",
      "Processing Record 26 of Set 2 : binzhou\n",
      "Processing Record 27 of Set 2 : bambous virieux\n",
      "Processing Record 28 of Set 2 : tuktoyaktuk\n",
      "Processing Record 29 of Set 2 : butaritari\n",
      "Processing Record 30 of Set 2 : ostrovnoy\n",
      "Processing Record 31 of Set 2 : portland\n",
      "Processing Record 32 of Set 2 : vanavara\n",
      "Processing Record 33 of Set 2 : clyde river\n",
      "Processing Record 34 of Set 2 : otavalo\n",
      "Processing Record 35 of Set 2 : lazaro cardenas\n",
      "Processing Record 36 of Set 2 : nome\n",
      "Processing Record 37 of Set 2 : ahipara\n",
      "Processing Record 38 of Set 2 : provideniya\n",
      "Processing Record 39 of Set 2 : luba\n",
      "Processing Record 40 of Set 2 : lebu\n",
      "Processing Record 41 of Set 2 : jamestown\n",
      "Processing Record 42 of Set 2 : hithadhoo\n",
      "Processing Record 43 of Set 2 : half moon bay\n",
      "City not found. Skipping...\n",
      "City not found. Skipping...\n",
      "Processing Record 44 of Set 2 : kinshasa\n",
      "Processing Record 45 of Set 2 : ust-tsilma\n",
      "Processing Record 46 of Set 2 : mahebourg\n",
      "Processing Record 47 of Set 2 : la rioja\n",
      "Processing Record 48 of Set 2 : naberera\n",
      "Processing Record 49 of Set 2 : umm lajj\n",
      "Processing Record 50 of Set 2 : elizabeth city\n",
      "Processing Record 0 of Set 3 : margate\n",
      "Processing Record 1 of Set 3 : pisco\n",
      "Processing Record 2 of Set 3 : santa rosa\n",
      "Processing Record 3 of Set 3 : kousseri\n",
      "Processing Record 4 of Set 3 : kodiak\n",
      "Processing Record 5 of Set 3 : atasu\n",
      "City not found. Skipping...\n",
      "Processing Record 6 of Set 3 : kruisfontein\n",
      "Processing Record 7 of Set 3 : labuhan\n",
      "Processing Record 8 of Set 3 : alta floresta\n",
      "Processing Record 9 of Set 3 : nikolskoye\n",
      "Processing Record 10 of Set 3 : mangrol\n",
      "Processing Record 11 of Set 3 : bonavista\n",
      "Processing Record 12 of Set 3 : bethel\n",
      "Processing Record 13 of Set 3 : dunedin\n",
      "Processing Record 14 of Set 3 : vao\n",
      "Processing Record 15 of Set 3 : surgut\n",
      "Processing Record 16 of Set 3 : sitka\n",
      "Processing Record 17 of Set 3 : thompson\n",
      "Processing Record 18 of Set 3 : cayenne\n",
      "Processing Record 19 of Set 3 : barrow\n",
      "Processing Record 20 of Set 3 : chokurdakh\n",
      "Processing Record 21 of Set 3 : laguna\n",
      "Processing Record 22 of Set 3 : flinders\n",
      "Processing Record 23 of Set 3 : itarema\n",
      "Processing Record 24 of Set 3 : nyagan\n",
      "City not found. Skipping...\n",
      "Processing Record 25 of Set 3 : lorengau\n",
      "Processing Record 26 of Set 3 : springbok\n",
      "Processing Record 27 of Set 3 : harper\n",
      "Processing Record 28 of Set 3 : yei\n",
      "Processing Record 29 of Set 3 : vaini\n",
      "Processing Record 30 of Set 3 : nyahururu\n",
      "City not found. Skipping...\n",
      "City not found. Skipping...\n",
      "Processing Record 31 of Set 3 : outlook\n",
      "Processing Record 32 of Set 3 : ilulissat\n",
      "Processing Record 33 of Set 3 : pulaski\n",
      "Processing Record 34 of Set 3 : fukue\n",
      "Processing Record 35 of Set 3 : borogontsy\n",
      "Processing Record 36 of Set 3 : sao jose da coroa grande\n",
      "Processing Record 37 of Set 3 : crotone\n",
      "Processing Record 38 of Set 3 : vila velha\n",
      "Processing Record 39 of Set 3 : aklavik\n",
      "Processing Record 40 of Set 3 : san policarpo\n",
      "Processing Record 41 of Set 3 : bonoua\n",
      "Processing Record 42 of Set 3 : cabo san lucas\n",
      "Processing Record 43 of Set 3 : pindwara\n",
      "Processing Record 44 of Set 3 : coruripe\n",
      "Processing Record 45 of Set 3 : naze\n",
      "Processing Record 46 of Set 3 : karpathos\n",
      "Processing Record 47 of Set 3 : longyearbyen\n",
      "City not found. Skipping...\n",
      "Processing Record 48 of Set 3 : chuy\n",
      "City not found. Skipping...\n",
      "Processing Record 49 of Set 3 : shakhtinsk\n",
      "Processing Record 50 of Set 3 : khatanga\n",
      "City not found. Skipping...\n",
      "Processing Record 0 of Set 4 : nanortalik\n",
      "Processing Record 1 of Set 4 : evensk\n",
      "Processing Record 2 of Set 4 : quechultenango\n",
      "Processing Record 3 of Set 4 : high level\n",
      "Processing Record 4 of Set 4 : los llanos de aridane\n",
      "Processing Record 5 of Set 4 : rodrigues alves\n",
      "Processing Record 6 of Set 4 : guerrero negro\n",
      "Processing Record 7 of Set 4 : malakal\n",
      "Processing Record 8 of Set 4 : jalu\n",
      "Processing Record 9 of Set 4 : isangel\n",
      "Processing Record 10 of Set 4 : petropavl\n",
      "Processing Record 11 of Set 4 : northam\n",
      "Processing Record 12 of Set 4 : mountain home\n",
      "Processing Record 13 of Set 4 : makarov\n",
      "Processing Record 14 of Set 4 : farafangana\n",
      "Processing Record 15 of Set 4 : deputatskiy\n",
      "Processing Record 16 of Set 4 : praia da vitoria\n",
      "Processing Record 17 of Set 4 : belaya gora\n",
      "Processing Record 18 of Set 4 : leningradskiy\n",
      "Processing Record 19 of Set 4 : nioro\n",
      "Processing Record 20 of Set 4 : chaumont\n",
      "Processing Record 21 of Set 4 : broome\n",
      "Processing Record 22 of Set 4 : constitucion\n",
      "Processing Record 23 of Set 4 : port elizabeth\n",
      "City not found. Skipping...\n",
      "Processing Record 24 of Set 4 : whakatane\n",
      "Processing Record 25 of Set 4 : beringovskiy\n",
      "Processing Record 26 of Set 4 : bridgeton\n",
      "Processing Record 27 of Set 4 : ruteng\n",
      "Processing Record 28 of Set 4 : zyryanka\n",
      "Processing Record 29 of Set 4 : broken hill\n",
      "Processing Record 30 of Set 4 : thomaston\n",
      "Processing Record 31 of Set 4 : bismarck\n",
      "Processing Record 32 of Set 4 : kiruna\n",
      "Processing Record 33 of Set 4 : nantucket\n",
      "City not found. Skipping...\n",
      "Processing Record 34 of Set 4 : castro\n",
      "Processing Record 35 of Set 4 : katsuura\n"
     ]
    },
    {
     "name": "stdout",
     "output_type": "stream",
     "text": [
      "Processing Record 36 of Set 4 : slavonski brod\n",
      "Processing Record 37 of Set 4 : kurtamysh\n",
      "Processing Record 38 of Set 4 : fairbanks\n",
      "Processing Record 39 of Set 4 : tanout\n",
      "Processing Record 40 of Set 4 : yellowknife\n",
      "Processing Record 41 of Set 4 : mimongo\n",
      "Processing Record 42 of Set 4 : touros\n",
      "Processing Record 43 of Set 4 : fortuna\n",
      "Processing Record 44 of Set 4 : nouadhibou\n",
      "Processing Record 45 of Set 4 : athabasca\n",
      "Processing Record 46 of Set 4 : jacareacanga\n",
      "Processing Record 47 of Set 4 : korla\n",
      "Processing Record 48 of Set 4 : morrope\n",
      "Processing Record 49 of Set 4 : silale\n",
      "Processing Record 50 of Set 4 : qaanaaq\n",
      "Processing Record 0 of Set 5 : sao joao da barra\n",
      "Processing Record 1 of Set 5 : nikki\n",
      "City not found. Skipping...\n",
      "Processing Record 2 of Set 5 : komsomolskiy\n",
      "City not found. Skipping...\n",
      "Processing Record 3 of Set 5 : kaitangata\n",
      "Processing Record 4 of Set 5 : corrente\n",
      "Processing Record 5 of Set 5 : westport\n",
      "Processing Record 6 of Set 5 : luderitz\n",
      "Processing Record 7 of Set 5 : beira\n",
      "Processing Record 8 of Set 5 : mayumba\n",
      "Processing Record 9 of Set 5 : sept-iles\n",
      "Processing Record 10 of Set 5 : dikson\n",
      "Processing Record 11 of Set 5 : manavalakurichi\n",
      "Processing Record 12 of Set 5 : upernavik\n",
      "Processing Record 13 of Set 5 : sinnamary\n",
      "Processing Record 14 of Set 5 : apartado\n",
      "Processing Record 15 of Set 5 : ponta do sol\n",
      "Processing Record 16 of Set 5 : souillac\n",
      "Processing Record 17 of Set 5 : port hedland\n",
      "Processing Record 18 of Set 5 : tete\n",
      "Processing Record 19 of Set 5 : paita\n",
      "Processing Record 20 of Set 5 : baykit\n",
      "Processing Record 21 of Set 5 : sao filipe\n",
      "Processing Record 22 of Set 5 : awjilah\n",
      "Processing Record 23 of Set 5 : segou\n",
      "Processing Record 24 of Set 5 : amahai\n",
      "Processing Record 25 of Set 5 : rio de janeiro\n",
      "Processing Record 26 of Set 5 : lamu\n",
      "Processing Record 27 of Set 5 : ilhabela\n",
      "Processing Record 28 of Set 5 : san patricio\n",
      "City not found. Skipping...\n",
      "Processing Record 29 of Set 5 : makat\n",
      "Processing Record 30 of Set 5 : geraldton\n",
      "Processing Record 31 of Set 5 : yulara\n",
      "Processing Record 32 of Set 5 : mayor pablo lagerenza\n",
      "Processing Record 33 of Set 5 : vigrestad\n",
      "Processing Record 34 of Set 5 : sungaipenuh\n",
      "City not found. Skipping...\n",
      "Processing Record 35 of Set 5 : lodja\n",
      "Processing Record 36 of Set 5 : kokopo\n",
      "Processing Record 37 of Set 5 : hay river\n",
      "Processing Record 38 of Set 5 : vestmanna\n",
      "Processing Record 39 of Set 5 : erenhot\n",
      "Processing Record 40 of Set 5 : merauke\n",
      "Processing Record 41 of Set 5 : maues\n",
      "Processing Record 42 of Set 5 : tuatapere\n",
      "Processing Record 43 of Set 5 : coquimbo\n",
      "Processing Record 44 of Set 5 : svetlyy\n",
      "Processing Record 45 of Set 5 : mackay\n",
      "Processing Record 46 of Set 5 : bagotville\n",
      "Processing Record 47 of Set 5 : senekal\n",
      "Processing Record 48 of Set 5 : mandalgovi\n",
      "Processing Record 49 of Set 5 : pevek\n",
      "Processing Record 50 of Set 5 : bilibino\n",
      "Processing Record 0 of Set 6 : saint-joseph\n",
      "City not found. Skipping...\n",
      "Processing Record 1 of Set 6 : groton\n",
      "Processing Record 2 of Set 6 : myitkyina\n",
      "Processing Record 3 of Set 6 : gallup\n",
      "Processing Record 4 of Set 6 : harbour breton\n",
      "Processing Record 5 of Set 6 : ferme-neuve\n",
      "Processing Record 6 of Set 6 : prieska\n",
      "Processing Record 7 of Set 6 : sainte-suzanne\n",
      "City not found. Skipping...\n",
      "Processing Record 8 of Set 6 : lokachi\n",
      "Processing Record 9 of Set 6 : linxia\n",
      "Processing Record 10 of Set 6 : elko\n",
      "City not found. Skipping...\n",
      "Processing Record 11 of Set 6 : emerald\n",
      "Processing Record 12 of Set 6 : bom jesus\n",
      "Processing Record 13 of Set 6 : qandala\n",
      "Processing Record 14 of Set 6 : aleksandrovskiy zavod\n",
      "Processing Record 15 of Set 6 : sonqor\n",
      "Processing Record 16 of Set 6 : naryan-mar\n",
      "Processing Record 17 of Set 6 : ngunguru\n",
      "Processing Record 18 of Set 6 : camara de lobos\n",
      "Processing Record 19 of Set 6 : belyy yar\n",
      "Processing Record 20 of Set 6 : saint george\n",
      "Processing Record 21 of Set 6 : halifax\n",
      "Processing Record 22 of Set 6 : mendoza\n",
      "Processing Record 23 of Set 6 : ubauro\n",
      "Processing Record 24 of Set 6 : stornoway\n",
      "City not found. Skipping...\n",
      "Processing Record 25 of Set 6 : daru\n",
      "Processing Record 26 of Set 6 : garissa\n",
      "Processing Record 27 of Set 6 : ierapetra\n",
      "Processing Record 28 of Set 6 : labrea\n",
      "Processing Record 29 of Set 6 : karaton\n",
      "Processing Record 30 of Set 6 : inirida\n",
      "City not found. Skipping...\n",
      "Processing Record 31 of Set 6 : diffa\n",
      "Processing Record 32 of Set 6 : caravelas\n",
      "Processing Record 33 of Set 6 : dasoguz\n",
      "Processing Record 34 of Set 6 : kamenka\n",
      "Processing Record 35 of Set 6 : petropavlovsk-kamchatskiy\n",
      "Processing Record 36 of Set 6 : terre haute\n",
      "Processing Record 37 of Set 6 : san andres\n",
      "Processing Record 38 of Set 6 : codrington\n",
      "Processing Record 39 of Set 6 : arkhipo-osipovka\n",
      "City not found. Skipping...\n",
      "Processing Record 40 of Set 6 : zarumilla\n",
      "Processing Record 41 of Set 6 : hualmay\n",
      "Processing Record 42 of Set 6 : maputo\n",
      "Processing Record 43 of Set 6 : kahului\n",
      "Processing Record 44 of Set 6 : araioses\n",
      "Processing Record 45 of Set 6 : morelia\n",
      "Processing Record 46 of Set 6 : kormista\n",
      "Processing Record 47 of Set 6 : hammerfest\n",
      "Processing Record 48 of Set 6 : bjelovar\n",
      "Processing Record 49 of Set 6 : schroeder\n",
      "Processing Record 50 of Set 6 : waitati\n",
      "Processing Record 0 of Set 7 : bay roberts\n",
      "Processing Record 1 of Set 7 : salgueiro\n",
      "Processing Record 2 of Set 7 : singaraja\n",
      "Processing Record 3 of Set 7 : marsh harbour\n",
      "Processing Record 4 of Set 7 : siverek\n",
      "Processing Record 5 of Set 7 : evanston\n",
      "Processing Record 6 of Set 7 : kirovskiy\n",
      "Processing Record 7 of Set 7 : rio gallegos\n",
      "Processing Record 8 of Set 7 : ketchikan\n",
      "City not found. Skipping...\n",
      "Processing Record 9 of Set 7 : oktyabrskiy\n",
      "Processing Record 10 of Set 7 : nemuro\n",
      "Processing Record 11 of Set 7 : sakakah\n",
      "Processing Record 12 of Set 7 : henties bay\n",
      "Processing Record 13 of Set 7 : ampanihy\n",
      "Processing Record 14 of Set 7 : tutoia\n",
      "Processing Record 15 of Set 7 : pingliang\n",
      "Processing Record 16 of Set 7 : tyup\n",
      "Processing Record 17 of Set 7 : finschhafen\n",
      "Processing Record 18 of Set 7 : ronne\n",
      "Processing Record 19 of Set 7 : chapais\n",
      "Processing Record 20 of Set 7 : kota belud\n",
      "Processing Record 21 of Set 7 : lagoa\n",
      "Processing Record 22 of Set 7 : rudbar\n",
      "Processing Record 23 of Set 7 : cherskiy\n",
      "Processing Record 24 of Set 7 : okhotsk\n",
      "Processing Record 25 of Set 7 : tasiilaq\n",
      "Processing Record 26 of Set 7 : mundo nuevo\n",
      "Processing Record 27 of Set 7 : saint-louis\n",
      "Processing Record 28 of Set 7 : tomatlan\n",
      "Processing Record 29 of Set 7 : podolinec\n",
      "City not found. Skipping...\n",
      "Processing Record 30 of Set 7 : krasnoselkup\n",
      "Processing Record 31 of Set 7 : mazatlan\n",
      "Processing Record 32 of Set 7 : san cristobal\n",
      "Processing Record 33 of Set 7 : darhan\n",
      "Processing Record 34 of Set 7 : henderson\n",
      "Processing Record 35 of Set 7 : kavieng\n",
      "Processing Record 36 of Set 7 : vinh\n",
      "Processing Record 37 of Set 7 : ranong\n",
      "Processing Record 38 of Set 7 : berlevag\n",
      "Processing Record 39 of Set 7 : porto torres\n",
      "Processing Record 40 of Set 7 : college\n",
      "Processing Record 41 of Set 7 : peleduy\n",
      "Processing Record 42 of Set 7 : nizhniy odes\n",
      "Processing Record 43 of Set 7 : kununurra\n",
      "Processing Record 44 of Set 7 : mount isa\n",
      "City not found. Skipping...\n",
      "Processing Record 45 of Set 7 : mbanza-ngungu\n",
      "Processing Record 46 of Set 7 : boa vista\n",
      "City not found. Skipping...\n",
      "Processing Record 47 of Set 7 : hokitika\n",
      "Processing Record 48 of Set 7 : namatanai\n",
      "Processing Record 49 of Set 7 : hamamatsu\n",
      "Processing Record 50 of Set 7 : alofi\n",
      "Processing Record 0 of Set 8 : palmer\n",
      "Processing Record 1 of Set 8 : esna\n",
      "Processing Record 2 of Set 8 : careiro da varzea\n",
      "Processing Record 3 of Set 8 : mildura\n",
      "Processing Record 4 of Set 8 : honiara\n",
      "Processing Record 5 of Set 8 : denpasar\n",
      "Processing Record 6 of Set 8 : revelstoke\n",
      "Processing Record 7 of Set 8 : bima\n",
      "Processing Record 8 of Set 8 : tilichiki\n",
      "Processing Record 9 of Set 8 : esperance\n",
      "Processing Record 10 of Set 8 : quatre cocos\n",
      "Processing Record 11 of Set 8 : lodwar\n",
      "Processing Record 12 of Set 8 : torbay\n",
      "Processing Record 13 of Set 8 : carbondale\n",
      "Processing Record 14 of Set 8 : cooma\n",
      "Processing Record 15 of Set 8 : metro\n",
      "Processing Record 16 of Set 8 : lasa\n",
      "City not found. Skipping...\n",
      "Processing Record 17 of Set 8 : takoradi\n",
      "Processing Record 18 of Set 8 : zilair\n",
      "Processing Record 19 of Set 8 : surazh\n"
     ]
    },
    {
     "name": "stdout",
     "output_type": "stream",
     "text": [
      "Processing Record 20 of Set 8 : alvaraes\n",
      "Processing Record 21 of Set 8 : byron bay\n",
      "City not found. Skipping...\n",
      "Processing Record 22 of Set 8 : la ronge\n",
      "Processing Record 23 of Set 8 : sinazongwe\n",
      "Processing Record 24 of Set 8 : east london\n",
      "Processing Record 25 of Set 8 : zhuhai\n",
      "Processing Record 26 of Set 8 : sungurlu\n",
      "Processing Record 27 of Set 8 : santa barbara\n",
      "Processing Record 28 of Set 8 : masallatah\n",
      "Processing Record 29 of Set 8 : amberley\n",
      "Processing Record 30 of Set 8 : waipawa\n",
      "Processing Record 31 of Set 8 : batticaloa\n",
      "Processing Record 32 of Set 8 : coihueco\n",
      "Processing Record 33 of Set 8 : el escorial\n",
      "Processing Record 34 of Set 8 : bilma\n",
      "Processing Record 35 of Set 8 : faanui\n",
      "Processing Record 36 of Set 8 : serebryansk\n",
      "Processing Record 37 of Set 8 : yar-sale\n",
      "Processing Record 38 of Set 8 : klaksvik\n",
      "Processing Record 39 of Set 8 : heishan\n",
      "Processing Record 40 of Set 8 : basoko\n",
      "Processing Record 41 of Set 8 : lagunas\n",
      "Processing Record 42 of Set 8 : iqaluit\n",
      "Processing Record 43 of Set 8 : dom pedrito\n",
      "Processing Record 44 of Set 8 : tucupita\n",
      "Processing Record 45 of Set 8 : angleton\n",
      "Processing Record 46 of Set 8 : aleppo\n",
      "Processing Record 47 of Set 8 : sol-iletsk\n",
      "Processing Record 48 of Set 8 : turtas\n",
      "Processing Record 49 of Set 8 : slatinany\n",
      "Processing Record 50 of Set 8 : nova olimpia\n",
      "Processing Record 0 of Set 9 : burnie\n",
      "Processing Record 1 of Set 9 : port blair\n",
      "Processing Record 2 of Set 9 : pochutla\n",
      "Processing Record 3 of Set 9 : puerto escondido\n",
      "Processing Record 4 of Set 9 : xingcheng\n",
      "City not found. Skipping...\n",
      "Processing Record 5 of Set 9 : kortkeros\n",
      "Processing Record 6 of Set 9 : port moresby\n",
      "Processing Record 7 of Set 9 : olden\n",
      "Processing Record 8 of Set 9 : north bend\n",
      "Processing Record 9 of Set 9 : taltal\n",
      "Processing Record 10 of Set 9 : little current\n",
      "Processing Record 11 of Set 9 : pathein\n",
      "Processing Record 12 of Set 9 : lavrentiya\n",
      "Processing Record 13 of Set 9 : nong khai\n",
      "Processing Record 14 of Set 9 : port-gentil\n",
      "Processing Record 15 of Set 9 : umba\n",
      "Processing Record 16 of Set 9 : kibondo\n",
      "Processing Record 17 of Set 9 : labuan\n",
      "Processing Record 18 of Set 9 : gornopravdinsk\n",
      "Processing Record 19 of Set 9 : kudahuvadhoo\n",
      "Processing Record 20 of Set 9 : freeport\n",
      "Processing Record 21 of Set 9 : manokwari\n",
      "Processing Record 22 of Set 9 : ixtapa\n",
      "Processing Record 23 of Set 9 : narsaq\n",
      "Processing Record 24 of Set 9 : cedar park\n",
      "Processing Record 25 of Set 9 : madang\n",
      "Processing Record 26 of Set 9 : kandrian\n",
      "Processing Record 27 of Set 9 : mbandaka\n",
      "Processing Record 28 of Set 9 : develi\n",
      "City not found. Skipping...\n",
      "Processing Record 29 of Set 9 : kasangulu\n",
      "City not found. Skipping...\n",
      "Processing Record 30 of Set 9 : pasni\n",
      "Processing Record 31 of Set 9 : barentu\n",
      "Processing Record 32 of Set 9 : maryborough\n",
      "Processing Record 33 of Set 9 : koutsouras\n",
      "Processing Record 34 of Set 9 : sokoni\n",
      "Processing Record 35 of Set 9 : sretensk\n",
      "Processing Record 36 of Set 9 : chikhli\n",
      "Processing Record 37 of Set 9 : north platte\n",
      "City not found. Skipping...\n",
      "Processing Record 38 of Set 9 : am timan\n",
      "Processing Record 39 of Set 9 : matara\n",
      "Processing Record 40 of Set 9 : kailua\n",
      "Processing Record 41 of Set 9 : thinadhoo\n",
      "Processing Record 42 of Set 9 : palana\n",
      "Processing Record 43 of Set 9 : sao marcos\n",
      "Processing Record 44 of Set 9 : new iberia\n",
      "Processing Record 45 of Set 9 : huarmey\n",
      "Processing Record 46 of Set 9 : schenectady\n",
      "Processing Record 47 of Set 9 : floro\n",
      "Processing Record 48 of Set 9 : ayr\n",
      "Processing Record 49 of Set 9 : mananjary\n",
      "Processing Record 50 of Set 9 : saurimo\n",
      "Processing Record 0 of Set 10 : chara\n",
      "Processing Record 1 of Set 10 : zapolyarnyy\n",
      "Processing Record 2 of Set 10 : salalah\n",
      "Processing Record 3 of Set 10 : kaka\n",
      "Processing Record 4 of Set 10 : manoel urbano\n",
      "Processing Record 5 of Set 10 : sorland\n",
      "Processing Record 6 of Set 10 : palm coast\n",
      "Processing Record 7 of Set 10 : shimoda\n",
      "Processing Record 8 of Set 10 : verkhnevilyuysk\n",
      "Processing Record 9 of Set 10 : neiafu\n",
      "Processing Record 10 of Set 10 : riyadh\n",
      "Processing Record 11 of Set 10 : urdoma\n",
      "Processing Record 12 of Set 10 : hohhot\n",
      "Processing Record 13 of Set 10 : marzuq\n",
      "Processing Record 14 of Set 10 : pyaozerskiy\n",
      "Processing Record 15 of Set 10 : hami\n",
      "Processing Record 16 of Set 10 : suleja\n",
      "Processing Record 17 of Set 10 : mehamn\n",
      "Processing Record 18 of Set 10 : maarianhamina\n",
      "Processing Record 19 of Set 10 : savannah bight\n",
      "Processing Record 20 of Set 10 : colares\n",
      "Processing Record 21 of Set 10 : kushima\n",
      "Processing Record 22 of Set 10 : ekuvukeni\n",
      "Processing Record 23 of Set 10 : koumac\n",
      "Processing Record 24 of Set 10 : marawi\n",
      "Processing Record 25 of Set 10 : bubaque\n",
      "Processing Record 26 of Set 10 : turlock\n",
      "City not found. Skipping...\n",
      "Processing Record 27 of Set 10 : kribi\n",
      "City not found. Skipping...\n",
      "Processing Record 28 of Set 10 : lewistown\n",
      "Processing Record 29 of Set 10 : cap malheureux\n",
      "Processing Record 30 of Set 10 : kenai\n",
      "Processing Record 31 of Set 10 : ratnagiri\n",
      "Processing Record 32 of Set 10 : aguimes\n",
      "Processing Record 33 of Set 10 : hirado\n",
      "Processing Record 34 of Set 10 : krasnovishersk\n",
      "Processing Record 35 of Set 10 : abnub\n",
      "Processing Record 36 of Set 10 : gopalpur\n",
      "Processing Record 37 of Set 10 : morondava\n",
      "Processing Record 38 of Set 10 : cravo norte\n",
      "City not found. Skipping...\n",
      "Processing Record 39 of Set 10 : portales\n",
      "City not found. Skipping...\n",
      "Processing Record 40 of Set 10 : townsville\n",
      "Processing Record 41 of Set 10 : port macquarie\n",
      "Processing Record 42 of Set 10 : kashi\n",
      "Processing Record 43 of Set 10 : yerofey pavlovich\n",
      "Processing Record 44 of Set 10 : bathsheba\n",
      "Processing Record 45 of Set 10 : matay\n",
      "Processing Record 46 of Set 10 : pundaguitan\n",
      "Processing Record 47 of Set 10 : nizhniy kuranakh\n",
      "City not found. Skipping...\n",
      "Processing Record 48 of Set 10 : albstadt\n",
      "Processing Record 49 of Set 10 : moyale\n",
      "Processing Record 50 of Set 10 : bambanglipuro\n",
      "Processing Record 0 of Set 11 : kiama\n",
      "Processing Record 1 of Set 11 : mabaruma\n",
      "Processing Record 2 of Set 11 : mareeba\n",
      "Processing Record 3 of Set 11 : bad laasphe\n",
      "Processing Record 4 of Set 11 : zhirnov\n",
      "Processing Record 5 of Set 11 : invermere\n",
      "Processing Record 6 of Set 11 : roald\n",
      "Processing Record 7 of Set 11 : suez\n",
      "Processing Record 8 of Set 11 : dwarka\n",
      "Processing Record 9 of Set 11 : ca mau\n",
      "Processing Record 10 of Set 11 : egvekinot\n",
      "Processing Record 11 of Set 11 : jinka\n",
      "City not found. Skipping...\n",
      "Processing Record 12 of Set 11 : fort smith\n",
      "Processing Record 13 of Set 11 : plakhtiyivka\n",
      "Processing Record 14 of Set 11 : sampit\n",
      "Processing Record 15 of Set 11 : shetpe\n",
      "Processing Record 16 of Set 11 : bereda\n",
      "Processing Record 17 of Set 11 : grindavik\n",
      "Processing Record 18 of Set 11 : nishihara\n",
      "Processing Record 19 of Set 11 : finnsnes\n",
      "Processing Record 20 of Set 11 : rundu\n",
      "Processing Record 21 of Set 11 : gushikawa\n",
      "Processing Record 22 of Set 11 : riviere-au-renard\n",
      "City not found. Skipping...\n",
      "Processing Record 23 of Set 11 : nouna\n",
      "Processing Record 24 of Set 11 : lompoc\n",
      "Processing Record 25 of Set 11 : lerwick\n",
      "Processing Record 26 of Set 11 : narrabri\n",
      "Processing Record 27 of Set 11 : aasiaat\n",
      "Processing Record 28 of Set 11 : vila franca do campo\n",
      "City not found. Skipping...\n",
      "Processing Record 29 of Set 11 : laichingen\n",
      "Processing Record 30 of Set 11 : tessalit\n",
      "Processing Record 31 of Set 11 : misratah\n",
      "Processing Record 32 of Set 11 : senador jose porfirio\n",
      "Processing Record 33 of Set 11 : darlowo\n",
      "Processing Record 34 of Set 11 : poum\n",
      "Processing Record 35 of Set 11 : faya\n",
      "Processing Record 36 of Set 11 : birao\n",
      "Processing Record 37 of Set 11 : nuuk\n",
      "Processing Record 38 of Set 11 : marsa matruh\n",
      "Processing Record 39 of Set 11 : shieli\n",
      "Processing Record 40 of Set 11 : tubuala\n",
      "Processing Record 41 of Set 11 : masalli\n",
      "Processing Record 42 of Set 11 : yumen\n",
      "Processing Record 43 of Set 11 : nalut\n",
      "Processing Record 44 of Set 11 : hamilton\n",
      "Processing Record 45 of Set 11 : cidreira\n",
      "City not found. Skipping...\n",
      "Processing Record 46 of Set 11 : filadelfia\n",
      "Processing Record 47 of Set 11 : caiaponia\n",
      "Processing Record 48 of Set 11 : krasnoye\n",
      "Processing Record 49 of Set 11 : shache\n",
      "Processing Record 50 of Set 11 : monrovia\n",
      "Processing Record 0 of Set 12 : oksfjord\n",
      "Processing Record 1 of Set 12 : terekli-mekteb\n",
      "City not found. Skipping...\n",
      "Processing Record 2 of Set 12 : homer\n"
     ]
    },
    {
     "name": "stdout",
     "output_type": "stream",
     "text": [
      "Processing Record 3 of Set 12 : simplicio mendes\n",
      "Processing Record 4 of Set 12 : dicabisagan\n",
      "Processing Record 5 of Set 12 : kulhudhuffushi\n",
      "Processing Record 6 of Set 12 : maykor\n",
      "Processing Record 7 of Set 12 : wuwei\n",
      "Processing Record 8 of Set 12 : chiredzi\n",
      "Processing Record 9 of Set 12 : eresos\n",
      "Processing Record 10 of Set 12 : winnemucca\n",
      "Processing Record 11 of Set 12 : oranjemund\n",
      "Processing Record 12 of Set 12 : felipe carrillo puerto\n",
      "Processing Record 13 of Set 12 : sistranda\n",
      "Processing Record 14 of Set 12 : steamboat springs\n",
      "----------------------------\n",
      "Data Retrieval Complete\n",
      "----------------------------\n"
     ]
    }
   ],
   "source": [
    "print(\"Beginning Data Retrieval \")\n",
    "print(\"-----------------------------\")\n",
    "\n",
    "base_url = \"http://api.openweathermap.org/data/2.5/weather?\"\n",
    "units = \"imperial\"\n",
    "query_url = f\"{base_url}appid={weather_api_key}&units={units}&q=\"\n",
    "\n",
    "# For each city name in cities list, do the following...\n",
    "for index, city in enumerate(cities, start = 1):\n",
    "    try:\n",
    "        response = requests.get(query_url + city).json()\n",
    "        city_name_list.append(response['name'])\n",
    "        cloudiness_list.append(response['clouds']['all'])\n",
    "        country_list.append(response['sys']['country'])\n",
    "        date_list.append(response['dt'])\n",
    "        humidity_list.append(response['main']['humidity'])\n",
    "        lat_list.append(response['coord']['lat'])\n",
    "        lng_list.append(response['coord']['lon'])\n",
    "        max_temp_list.append(response['main']['temp_max'])\n",
    "        wind_speed_list.append(response['wind']['speed'])\n",
    "        if index_counter > 49:\n",
    "            index_counter = 0\n",
    "            set_counter = set_counter + 1\n",
    "        else:\n",
    "            index_counter = index_counter + 1\n",
    "        print(f\"Processing Record {index_counter} of Set {set_counter} : {city}\")\n",
    "    \n",
    "    except(KeyError, IndexError):\n",
    "        print(\"City not found. Skipping...\")\n",
    "\n",
    "print(\"----------------------------\")\n",
    "print(\"Data Retrieval Complete\")\n",
    "print(\"----------------------------\")"
   ]
  },
  {
   "cell_type": "markdown",
   "metadata": {},
   "source": [
    "### Convert Raw Data to DataFrame\n",
    "* Export the city data into a .csv.\n",
    "* Display the DataFrame"
   ]
  },
  {
   "cell_type": "code",
   "execution_count": 5,
   "metadata": {},
   "outputs": [],
   "source": [
    "# Create initial dictionary with API calls\n",
    "weather_dict = pd.DataFrame ({\"City\":city_name_list,\n",
    "                            \"Cloudiness\":cloudiness_list,\n",
    "                            \"Country\" : country_list,\n",
    "                            \"Date\" : date_list,\n",
    "                            \"Humidity\":humidity_list,\n",
    "                            \"Lat\":lat_list,\n",
    "                            \"Lng\":lng_list,\n",
    "                            \"Max Temp\":max_temp_list,\n",
    "                            \"Wind Speed\":wind_speed_list})"
   ]
  },
  {
   "cell_type": "code",
   "execution_count": 6,
   "metadata": {},
   "outputs": [
    {
     "data": {
      "text/plain": [
       "City          575\n",
       "Cloudiness    575\n",
       "Country       575\n",
       "Date          575\n",
       "Humidity      575\n",
       "Lat           575\n",
       "Lng           575\n",
       "Max Temp      575\n",
       "Wind Speed    575\n",
       "dtype: int64"
      ]
     },
     "execution_count": 6,
     "metadata": {},
     "output_type": "execute_result"
    }
   ],
   "source": [
    "weather_dict.count()"
   ]
  },
  {
   "cell_type": "code",
   "execution_count": 7,
   "metadata": {},
   "outputs": [
    {
     "data": {
      "text/html": [
       "<div>\n",
       "<style scoped>\n",
       "    .dataframe tbody tr th:only-of-type {\n",
       "        vertical-align: middle;\n",
       "    }\n",
       "\n",
       "    .dataframe tbody tr th {\n",
       "        vertical-align: top;\n",
       "    }\n",
       "\n",
       "    .dataframe thead th {\n",
       "        text-align: right;\n",
       "    }\n",
       "</style>\n",
       "<table border=\"1\" class=\"dataframe\">\n",
       "  <thead>\n",
       "    <tr style=\"text-align: right;\">\n",
       "      <th></th>\n",
       "      <th>City</th>\n",
       "      <th>Cloudiness</th>\n",
       "      <th>Country</th>\n",
       "      <th>Date</th>\n",
       "      <th>Humidity</th>\n",
       "      <th>Lat</th>\n",
       "      <th>Lng</th>\n",
       "      <th>Max Temp</th>\n",
       "      <th>Wind Speed</th>\n",
       "    </tr>\n",
       "  </thead>\n",
       "  <tbody>\n",
       "    <tr>\n",
       "      <th>0</th>\n",
       "      <td>Busselton</td>\n",
       "      <td>64</td>\n",
       "      <td>AU</td>\n",
       "      <td>1607564060</td>\n",
       "      <td>9</td>\n",
       "      <td>-33.65</td>\n",
       "      <td>115.33</td>\n",
       "      <td>93.99</td>\n",
       "      <td>11.52</td>\n",
       "    </tr>\n",
       "    <tr>\n",
       "      <th>1</th>\n",
       "      <td>Cape Town</td>\n",
       "      <td>0</td>\n",
       "      <td>ZA</td>\n",
       "      <td>1607563822</td>\n",
       "      <td>88</td>\n",
       "      <td>-33.93</td>\n",
       "      <td>18.42</td>\n",
       "      <td>62.60</td>\n",
       "      <td>9.17</td>\n",
       "    </tr>\n",
       "    <tr>\n",
       "      <th>2</th>\n",
       "      <td>New Norfolk</td>\n",
       "      <td>72</td>\n",
       "      <td>AU</td>\n",
       "      <td>1607564067</td>\n",
       "      <td>46</td>\n",
       "      <td>-42.78</td>\n",
       "      <td>147.06</td>\n",
       "      <td>62.01</td>\n",
       "      <td>1.99</td>\n",
       "    </tr>\n",
       "    <tr>\n",
       "      <th>3</th>\n",
       "      <td>Sirte</td>\n",
       "      <td>0</td>\n",
       "      <td>LY</td>\n",
       "      <td>1607563908</td>\n",
       "      <td>58</td>\n",
       "      <td>31.21</td>\n",
       "      <td>16.59</td>\n",
       "      <td>61.41</td>\n",
       "      <td>16.89</td>\n",
       "    </tr>\n",
       "    <tr>\n",
       "      <th>4</th>\n",
       "      <td>Hermanus</td>\n",
       "      <td>40</td>\n",
       "      <td>ZA</td>\n",
       "      <td>1607564062</td>\n",
       "      <td>96</td>\n",
       "      <td>-34.42</td>\n",
       "      <td>19.23</td>\n",
       "      <td>57.99</td>\n",
       "      <td>1.01</td>\n",
       "    </tr>\n",
       "    <tr>\n",
       "      <th>...</th>\n",
       "      <td>...</td>\n",
       "      <td>...</td>\n",
       "      <td>...</td>\n",
       "      <td>...</td>\n",
       "      <td>...</td>\n",
       "      <td>...</td>\n",
       "      <td>...</td>\n",
       "      <td>...</td>\n",
       "      <td>...</td>\n",
       "    </tr>\n",
       "    <tr>\n",
       "      <th>570</th>\n",
       "      <td>Winnemucca</td>\n",
       "      <td>1</td>\n",
       "      <td>US</td>\n",
       "      <td>1607563858</td>\n",
       "      <td>54</td>\n",
       "      <td>40.97</td>\n",
       "      <td>-117.74</td>\n",
       "      <td>30.20</td>\n",
       "      <td>6.93</td>\n",
       "    </tr>\n",
       "    <tr>\n",
       "      <th>571</th>\n",
       "      <td>Oranjemund</td>\n",
       "      <td>58</td>\n",
       "      <td>NA</td>\n",
       "      <td>1607564104</td>\n",
       "      <td>92</td>\n",
       "      <td>-28.55</td>\n",
       "      <td>16.43</td>\n",
       "      <td>60.80</td>\n",
       "      <td>3.89</td>\n",
       "    </tr>\n",
       "    <tr>\n",
       "      <th>572</th>\n",
       "      <td>Felipe Carrillo Puerto</td>\n",
       "      <td>99</td>\n",
       "      <td>MX</td>\n",
       "      <td>1607564308</td>\n",
       "      <td>79</td>\n",
       "      <td>19.58</td>\n",
       "      <td>-88.05</td>\n",
       "      <td>67.14</td>\n",
       "      <td>3.38</td>\n",
       "    </tr>\n",
       "    <tr>\n",
       "      <th>573</th>\n",
       "      <td>Sistranda</td>\n",
       "      <td>0</td>\n",
       "      <td>NO</td>\n",
       "      <td>1607564084</td>\n",
       "      <td>64</td>\n",
       "      <td>63.73</td>\n",
       "      <td>8.83</td>\n",
       "      <td>37.40</td>\n",
       "      <td>14.99</td>\n",
       "    </tr>\n",
       "    <tr>\n",
       "      <th>574</th>\n",
       "      <td>Steamboat Springs</td>\n",
       "      <td>1</td>\n",
       "      <td>US</td>\n",
       "      <td>1607564302</td>\n",
       "      <td>31</td>\n",
       "      <td>40.48</td>\n",
       "      <td>-106.83</td>\n",
       "      <td>37.99</td>\n",
       "      <td>4.70</td>\n",
       "    </tr>\n",
       "  </tbody>\n",
       "</table>\n",
       "<p>575 rows × 9 columns</p>\n",
       "</div>"
      ],
      "text/plain": [
       "                       City  Cloudiness Country        Date  Humidity    Lat  \\\n",
       "0                 Busselton          64      AU  1607564060         9 -33.65   \n",
       "1                 Cape Town           0      ZA  1607563822        88 -33.93   \n",
       "2               New Norfolk          72      AU  1607564067        46 -42.78   \n",
       "3                     Sirte           0      LY  1607563908        58  31.21   \n",
       "4                  Hermanus          40      ZA  1607564062        96 -34.42   \n",
       "..                      ...         ...     ...         ...       ...    ...   \n",
       "570              Winnemucca           1      US  1607563858        54  40.97   \n",
       "571              Oranjemund          58      NA  1607564104        92 -28.55   \n",
       "572  Felipe Carrillo Puerto          99      MX  1607564308        79  19.58   \n",
       "573               Sistranda           0      NO  1607564084        64  63.73   \n",
       "574       Steamboat Springs           1      US  1607564302        31  40.48   \n",
       "\n",
       "        Lng  Max Temp  Wind Speed  \n",
       "0    115.33     93.99       11.52  \n",
       "1     18.42     62.60        9.17  \n",
       "2    147.06     62.01        1.99  \n",
       "3     16.59     61.41       16.89  \n",
       "4     19.23     57.99        1.01  \n",
       "..      ...       ...         ...  \n",
       "570 -117.74     30.20        6.93  \n",
       "571   16.43     60.80        3.89  \n",
       "572  -88.05     67.14        3.38  \n",
       "573    8.83     37.40       14.99  \n",
       "574 -106.83     37.99        4.70  \n",
       "\n",
       "[575 rows x 9 columns]"
      ]
     },
     "execution_count": 7,
     "metadata": {},
     "output_type": "execute_result"
    }
   ],
   "source": [
    "# Display the Data Frame\n",
    "weather_dict"
   ]
  },
  {
   "cell_type": "code",
   "execution_count": 8,
   "metadata": {},
   "outputs": [
    {
     "data": {
      "text/html": [
       "<div>\n",
       "<style scoped>\n",
       "    .dataframe tbody tr th:only-of-type {\n",
       "        vertical-align: middle;\n",
       "    }\n",
       "\n",
       "    .dataframe tbody tr th {\n",
       "        vertical-align: top;\n",
       "    }\n",
       "\n",
       "    .dataframe thead th {\n",
       "        text-align: right;\n",
       "    }\n",
       "</style>\n",
       "<table border=\"1\" class=\"dataframe\">\n",
       "  <thead>\n",
       "    <tr style=\"text-align: right;\">\n",
       "      <th></th>\n",
       "      <th>Cloudiness</th>\n",
       "      <th>Date</th>\n",
       "      <th>Humidity</th>\n",
       "      <th>Lat</th>\n",
       "      <th>Lng</th>\n",
       "      <th>Max Temp</th>\n",
       "      <th>Wind Speed</th>\n",
       "    </tr>\n",
       "  </thead>\n",
       "  <tbody>\n",
       "    <tr>\n",
       "      <th>count</th>\n",
       "      <td>575.000000</td>\n",
       "      <td>5.750000e+02</td>\n",
       "      <td>575.000000</td>\n",
       "      <td>575.000000</td>\n",
       "      <td>575.000000</td>\n",
       "      <td>575.000000</td>\n",
       "      <td>575.000000</td>\n",
       "    </tr>\n",
       "    <tr>\n",
       "      <th>mean</th>\n",
       "      <td>53.928696</td>\n",
       "      <td>1.607564e+09</td>\n",
       "      <td>75.980870</td>\n",
       "      <td>20.299687</td>\n",
       "      <td>18.853809</td>\n",
       "      <td>52.310730</td>\n",
       "      <td>7.663652</td>\n",
       "    </tr>\n",
       "    <tr>\n",
       "      <th>std</th>\n",
       "      <td>40.416130</td>\n",
       "      <td>1.215517e+02</td>\n",
       "      <td>18.225398</td>\n",
       "      <td>32.905451</td>\n",
       "      <td>90.090785</td>\n",
       "      <td>27.777447</td>\n",
       "      <td>5.569354</td>\n",
       "    </tr>\n",
       "    <tr>\n",
       "      <th>min</th>\n",
       "      <td>0.000000</td>\n",
       "      <td>1.607564e+09</td>\n",
       "      <td>8.000000</td>\n",
       "      <td>-54.800000</td>\n",
       "      <td>-179.170000</td>\n",
       "      <td>-37.750000</td>\n",
       "      <td>0.110000</td>\n",
       "    </tr>\n",
       "    <tr>\n",
       "      <th>25%</th>\n",
       "      <td>1.000000</td>\n",
       "      <td>1.607564e+09</td>\n",
       "      <td>68.000000</td>\n",
       "      <td>-6.220000</td>\n",
       "      <td>-59.795000</td>\n",
       "      <td>33.405000</td>\n",
       "      <td>3.360000</td>\n",
       "    </tr>\n",
       "    <tr>\n",
       "      <th>50%</th>\n",
       "      <td>68.000000</td>\n",
       "      <td>1.607564e+09</td>\n",
       "      <td>81.000000</td>\n",
       "      <td>25.260000</td>\n",
       "      <td>22.790000</td>\n",
       "      <td>60.600000</td>\n",
       "      <td>6.240000</td>\n",
       "    </tr>\n",
       "    <tr>\n",
       "      <th>75%</th>\n",
       "      <td>93.500000</td>\n",
       "      <td>1.607564e+09</td>\n",
       "      <td>89.000000</td>\n",
       "      <td>47.660000</td>\n",
       "      <td>99.485000</td>\n",
       "      <td>75.200000</td>\n",
       "      <td>10.580000</td>\n",
       "    </tr>\n",
       "    <tr>\n",
       "      <th>max</th>\n",
       "      <td>100.000000</td>\n",
       "      <td>1.607564e+09</td>\n",
       "      <td>100.000000</td>\n",
       "      <td>78.220000</td>\n",
       "      <td>179.320000</td>\n",
       "      <td>96.800000</td>\n",
       "      <td>35.570000</td>\n",
       "    </tr>\n",
       "  </tbody>\n",
       "</table>\n",
       "</div>"
      ],
      "text/plain": [
       "       Cloudiness          Date    Humidity         Lat         Lng  \\\n",
       "count  575.000000  5.750000e+02  575.000000  575.000000  575.000000   \n",
       "mean    53.928696  1.607564e+09   75.980870   20.299687   18.853809   \n",
       "std     40.416130  1.215517e+02   18.225398   32.905451   90.090785   \n",
       "min      0.000000  1.607564e+09    8.000000  -54.800000 -179.170000   \n",
       "25%      1.000000  1.607564e+09   68.000000   -6.220000  -59.795000   \n",
       "50%     68.000000  1.607564e+09   81.000000   25.260000   22.790000   \n",
       "75%     93.500000  1.607564e+09   89.000000   47.660000   99.485000   \n",
       "max    100.000000  1.607564e+09  100.000000   78.220000  179.320000   \n",
       "\n",
       "         Max Temp  Wind Speed  \n",
       "count  575.000000  575.000000  \n",
       "mean    52.310730    7.663652  \n",
       "std     27.777447    5.569354  \n",
       "min    -37.750000    0.110000  \n",
       "25%     33.405000    3.360000  \n",
       "50%     60.600000    6.240000  \n",
       "75%     75.200000   10.580000  \n",
       "max     96.800000   35.570000  "
      ]
     },
     "execution_count": 8,
     "metadata": {},
     "output_type": "execute_result"
    }
   ],
   "source": [
    "weather_dict.describe()"
   ]
  },
  {
   "cell_type": "code",
   "execution_count": 9,
   "metadata": {},
   "outputs": [],
   "source": [
    "# Save city data into a csv file\n",
    "weather_dict.to_csv(\"output_data/cities.csv\", index = False)"
   ]
  },
  {
   "cell_type": "markdown",
   "metadata": {},
   "source": [
    "## Inspect the data and remove the cities where the humidity > 100%.\n",
    "----\n",
    "Skip this step if there are no cities that have humidity > 100%. "
   ]
  },
  {
   "cell_type": "code",
   "execution_count": 10,
   "metadata": {},
   "outputs": [
    {
     "data": {
      "text/html": [
       "<div>\n",
       "<style scoped>\n",
       "    .dataframe tbody tr th:only-of-type {\n",
       "        vertical-align: middle;\n",
       "    }\n",
       "\n",
       "    .dataframe tbody tr th {\n",
       "        vertical-align: top;\n",
       "    }\n",
       "\n",
       "    .dataframe thead th {\n",
       "        text-align: right;\n",
       "    }\n",
       "</style>\n",
       "<table border=\"1\" class=\"dataframe\">\n",
       "  <thead>\n",
       "    <tr style=\"text-align: right;\">\n",
       "      <th></th>\n",
       "      <th>Cloudiness</th>\n",
       "      <th>Date</th>\n",
       "      <th>Humidity</th>\n",
       "      <th>Lat</th>\n",
       "      <th>Lng</th>\n",
       "      <th>Max Temp</th>\n",
       "      <th>Wind Speed</th>\n",
       "    </tr>\n",
       "  </thead>\n",
       "  <tbody>\n",
       "    <tr>\n",
       "      <th>count</th>\n",
       "      <td>575.000000</td>\n",
       "      <td>5.750000e+02</td>\n",
       "      <td>575.000000</td>\n",
       "      <td>575.000000</td>\n",
       "      <td>575.000000</td>\n",
       "      <td>575.000000</td>\n",
       "      <td>575.000000</td>\n",
       "    </tr>\n",
       "    <tr>\n",
       "      <th>mean</th>\n",
       "      <td>53.928696</td>\n",
       "      <td>1.607564e+09</td>\n",
       "      <td>75.980870</td>\n",
       "      <td>20.299687</td>\n",
       "      <td>18.853809</td>\n",
       "      <td>52.310730</td>\n",
       "      <td>7.663652</td>\n",
       "    </tr>\n",
       "    <tr>\n",
       "      <th>std</th>\n",
       "      <td>40.416130</td>\n",
       "      <td>1.215517e+02</td>\n",
       "      <td>18.225398</td>\n",
       "      <td>32.905451</td>\n",
       "      <td>90.090785</td>\n",
       "      <td>27.777447</td>\n",
       "      <td>5.569354</td>\n",
       "    </tr>\n",
       "    <tr>\n",
       "      <th>min</th>\n",
       "      <td>0.000000</td>\n",
       "      <td>1.607564e+09</td>\n",
       "      <td>8.000000</td>\n",
       "      <td>-54.800000</td>\n",
       "      <td>-179.170000</td>\n",
       "      <td>-37.750000</td>\n",
       "      <td>0.110000</td>\n",
       "    </tr>\n",
       "    <tr>\n",
       "      <th>25%</th>\n",
       "      <td>1.000000</td>\n",
       "      <td>1.607564e+09</td>\n",
       "      <td>68.000000</td>\n",
       "      <td>-6.220000</td>\n",
       "      <td>-59.795000</td>\n",
       "      <td>33.405000</td>\n",
       "      <td>3.360000</td>\n",
       "    </tr>\n",
       "    <tr>\n",
       "      <th>50%</th>\n",
       "      <td>68.000000</td>\n",
       "      <td>1.607564e+09</td>\n",
       "      <td>81.000000</td>\n",
       "      <td>25.260000</td>\n",
       "      <td>22.790000</td>\n",
       "      <td>60.600000</td>\n",
       "      <td>6.240000</td>\n",
       "    </tr>\n",
       "    <tr>\n",
       "      <th>75%</th>\n",
       "      <td>93.500000</td>\n",
       "      <td>1.607564e+09</td>\n",
       "      <td>89.000000</td>\n",
       "      <td>47.660000</td>\n",
       "      <td>99.485000</td>\n",
       "      <td>75.200000</td>\n",
       "      <td>10.580000</td>\n",
       "    </tr>\n",
       "    <tr>\n",
       "      <th>max</th>\n",
       "      <td>100.000000</td>\n",
       "      <td>1.607564e+09</td>\n",
       "      <td>100.000000</td>\n",
       "      <td>78.220000</td>\n",
       "      <td>179.320000</td>\n",
       "      <td>96.800000</td>\n",
       "      <td>35.570000</td>\n",
       "    </tr>\n",
       "  </tbody>\n",
       "</table>\n",
       "</div>"
      ],
      "text/plain": [
       "       Cloudiness          Date    Humidity         Lat         Lng  \\\n",
       "count  575.000000  5.750000e+02  575.000000  575.000000  575.000000   \n",
       "mean    53.928696  1.607564e+09   75.980870   20.299687   18.853809   \n",
       "std     40.416130  1.215517e+02   18.225398   32.905451   90.090785   \n",
       "min      0.000000  1.607564e+09    8.000000  -54.800000 -179.170000   \n",
       "25%      1.000000  1.607564e+09   68.000000   -6.220000  -59.795000   \n",
       "50%     68.000000  1.607564e+09   81.000000   25.260000   22.790000   \n",
       "75%     93.500000  1.607564e+09   89.000000   47.660000   99.485000   \n",
       "max    100.000000  1.607564e+09  100.000000   78.220000  179.320000   \n",
       "\n",
       "         Max Temp  Wind Speed  \n",
       "count  575.000000  575.000000  \n",
       "mean    52.310730    7.663652  \n",
       "std     27.777447    5.569354  \n",
       "min    -37.750000    0.110000  \n",
       "25%     33.405000    3.360000  \n",
       "50%     60.600000    6.240000  \n",
       "75%     75.200000   10.580000  \n",
       "max     96.800000   35.570000  "
      ]
     },
     "execution_count": 10,
     "metadata": {},
     "output_type": "execute_result"
    }
   ],
   "source": [
    "dry_cities = weather_dict[weather_dict[\"Humidity\"]<=100]\n",
    "dry_cities.describe()"
   ]
  },
  {
   "cell_type": "code",
   "execution_count": 11,
   "metadata": {},
   "outputs": [
    {
     "name": "stdout",
     "output_type": "stream",
     "text": [
      "There are 0 cities with over 100% humidity\n"
     ]
    }
   ],
   "source": [
    "#  Get the indices of cities that have humidity over 100%.\n",
    "high_humid = weather_dict.index[weather_dict[\"Humidity\"]>100].tolist()\n",
    "\n",
    "print(f\"There are {len(high_humid)} cities with over 100% humidity\")"
   ]
  },
  {
   "cell_type": "code",
   "execution_count": 12,
   "metadata": {},
   "outputs": [
    {
     "data": {
      "text/html": [
       "<div>\n",
       "<style scoped>\n",
       "    .dataframe tbody tr th:only-of-type {\n",
       "        vertical-align: middle;\n",
       "    }\n",
       "\n",
       "    .dataframe tbody tr th {\n",
       "        vertical-align: top;\n",
       "    }\n",
       "\n",
       "    .dataframe thead th {\n",
       "        text-align: right;\n",
       "    }\n",
       "</style>\n",
       "<table border=\"1\" class=\"dataframe\">\n",
       "  <thead>\n",
       "    <tr style=\"text-align: right;\">\n",
       "      <th></th>\n",
       "      <th>Cloudiness</th>\n",
       "      <th>Date</th>\n",
       "      <th>Humidity</th>\n",
       "      <th>Lat</th>\n",
       "      <th>Lng</th>\n",
       "      <th>Max Temp</th>\n",
       "      <th>Wind Speed</th>\n",
       "    </tr>\n",
       "  </thead>\n",
       "  <tbody>\n",
       "    <tr>\n",
       "      <th>count</th>\n",
       "      <td>575.000000</td>\n",
       "      <td>5.750000e+02</td>\n",
       "      <td>575.000000</td>\n",
       "      <td>575.000000</td>\n",
       "      <td>575.000000</td>\n",
       "      <td>575.000000</td>\n",
       "      <td>575.000000</td>\n",
       "    </tr>\n",
       "    <tr>\n",
       "      <th>mean</th>\n",
       "      <td>53.928696</td>\n",
       "      <td>1.607564e+09</td>\n",
       "      <td>75.980870</td>\n",
       "      <td>20.299687</td>\n",
       "      <td>18.853809</td>\n",
       "      <td>52.310730</td>\n",
       "      <td>7.663652</td>\n",
       "    </tr>\n",
       "    <tr>\n",
       "      <th>std</th>\n",
       "      <td>40.416130</td>\n",
       "      <td>1.215517e+02</td>\n",
       "      <td>18.225398</td>\n",
       "      <td>32.905451</td>\n",
       "      <td>90.090785</td>\n",
       "      <td>27.777447</td>\n",
       "      <td>5.569354</td>\n",
       "    </tr>\n",
       "    <tr>\n",
       "      <th>min</th>\n",
       "      <td>0.000000</td>\n",
       "      <td>1.607564e+09</td>\n",
       "      <td>8.000000</td>\n",
       "      <td>-54.800000</td>\n",
       "      <td>-179.170000</td>\n",
       "      <td>-37.750000</td>\n",
       "      <td>0.110000</td>\n",
       "    </tr>\n",
       "    <tr>\n",
       "      <th>25%</th>\n",
       "      <td>1.000000</td>\n",
       "      <td>1.607564e+09</td>\n",
       "      <td>68.000000</td>\n",
       "      <td>-6.220000</td>\n",
       "      <td>-59.795000</td>\n",
       "      <td>33.405000</td>\n",
       "      <td>3.360000</td>\n",
       "    </tr>\n",
       "    <tr>\n",
       "      <th>50%</th>\n",
       "      <td>68.000000</td>\n",
       "      <td>1.607564e+09</td>\n",
       "      <td>81.000000</td>\n",
       "      <td>25.260000</td>\n",
       "      <td>22.790000</td>\n",
       "      <td>60.600000</td>\n",
       "      <td>6.240000</td>\n",
       "    </tr>\n",
       "    <tr>\n",
       "      <th>75%</th>\n",
       "      <td>93.500000</td>\n",
       "      <td>1.607564e+09</td>\n",
       "      <td>89.000000</td>\n",
       "      <td>47.660000</td>\n",
       "      <td>99.485000</td>\n",
       "      <td>75.200000</td>\n",
       "      <td>10.580000</td>\n",
       "    </tr>\n",
       "    <tr>\n",
       "      <th>max</th>\n",
       "      <td>100.000000</td>\n",
       "      <td>1.607564e+09</td>\n",
       "      <td>100.000000</td>\n",
       "      <td>78.220000</td>\n",
       "      <td>179.320000</td>\n",
       "      <td>96.800000</td>\n",
       "      <td>35.570000</td>\n",
       "    </tr>\n",
       "  </tbody>\n",
       "</table>\n",
       "</div>"
      ],
      "text/plain": [
       "       Cloudiness          Date    Humidity         Lat         Lng  \\\n",
       "count  575.000000  5.750000e+02  575.000000  575.000000  575.000000   \n",
       "mean    53.928696  1.607564e+09   75.980870   20.299687   18.853809   \n",
       "std     40.416130  1.215517e+02   18.225398   32.905451   90.090785   \n",
       "min      0.000000  1.607564e+09    8.000000  -54.800000 -179.170000   \n",
       "25%      1.000000  1.607564e+09   68.000000   -6.220000  -59.795000   \n",
       "50%     68.000000  1.607564e+09   81.000000   25.260000   22.790000   \n",
       "75%     93.500000  1.607564e+09   89.000000   47.660000   99.485000   \n",
       "max    100.000000  1.607564e+09  100.000000   78.220000  179.320000   \n",
       "\n",
       "         Max Temp  Wind Speed  \n",
       "count  575.000000  575.000000  \n",
       "mean    52.310730    7.663652  \n",
       "std     27.777447    5.569354  \n",
       "min    -37.750000    0.110000  \n",
       "25%     33.405000    3.360000  \n",
       "50%     60.600000    6.240000  \n",
       "75%     75.200000   10.580000  \n",
       "max     96.800000   35.570000  "
      ]
     },
     "execution_count": 12,
     "metadata": {},
     "output_type": "execute_result"
    }
   ],
   "source": [
    "# Make a new DataFrame equal to the city data to drop all humidity outliers by index.\n",
    "# Passing \"inplace=False\" will make a copy of the city_data DataFrame, which we call \"clean_city_data\".\n",
    "\n",
    "clean_city_data = weather_dict.drop(labels=high_humid,inplace=False)\n",
    "clean_city_data.head()\n",
    "clean_city_data.describe()"
   ]
  },
  {
   "cell_type": "code",
   "execution_count": 13,
   "metadata": {},
   "outputs": [],
   "source": [
    "date = date.today()"
   ]
  },
  {
   "cell_type": "markdown",
   "metadata": {},
   "source": [
    "## Plotting the Data\n",
    "* Use proper labeling of the plots using plot titles (including date of analysis) and axes labels.\n",
    "* Save the plotted figures as .pngs."
   ]
  },
  {
   "cell_type": "markdown",
   "metadata": {},
   "source": [
    "## Latitude vs. Temperature Plot"
   ]
  },
  {
   "cell_type": "code",
   "execution_count": 14,
   "metadata": {
    "scrolled": true
   },
   "outputs": [
    {
     "data": {
      "image/png": "[encoded data removed]",
      "text/plain": [
       "<Figure size 432x288 with 1 Axes>"
      ]
     },
     "metadata": {
      "needs_background": "light"
     },
     "output_type": "display_data"
    }
   ],
   "source": [
    "# Create Latitude vs. Temperature Plot scatter plot\n",
    "plt.scatter(weather_dict[\"Lat\"], weather_dict[\"Max Temp\"], facecolor = \"red\", edgecolor = \"black\")\n",
    "\n",
    "# Set title\n",
    "plt.title(f\"City Latitude vs. Max Temperature {date}\")\n",
    "\n",
    "# Set x axis label\n",
    "plt.xlabel(\"Latitude\")\n",
    "\n",
    "# Set y axis label\n",
    "plt.ylabel(\"Max Temperature (F)\")\n",
    "\n",
    "# Set grid line\n",
    "plt.grid(linestyle=\"-\", linewidth=1, alpha = 0.5)\n",
    "\n",
    "# Save the plotted figure as .pngs\n",
    "plt.savefig(\"output_data/Images/City Latitude vs Max Temperature.png\")"
   ]
  },
  {
   "cell_type": "markdown",
   "metadata": {},
   "source": [
    "Highest temperature is found at 0 latitude and as the latitude increases or decreases, temperature drops."
   ]
  },
  {
   "cell_type": "markdown",
   "metadata": {},
   "source": [
    "## Latitude vs. Humidity Plot"
   ]
  },
  {
   "cell_type": "code",
   "execution_count": 15,
   "metadata": {},
   "outputs": [
    {
     "data": {
      "image/png": "[encoded data removed]",
      "text/plain": [
       "<Figure size 432x288 with 1 Axes>"
      ]
     },
     "metadata": {
      "needs_background": "light"
     },
     "output_type": "display_data"
    }
   ],
   "source": [
    "# Create Latitude vs. Humidity Plot scatter plot\n",
    "plt.scatter(weather_dict[\"Lat\"], weather_dict[\"Humidity\"], facecolor = \"orange\", edgecolor = \"black\")\n",
    "\n",
    "# Set title\n",
    "plt.title(f\"City Latitude vs. Humidity {date}\")\n",
    "\n",
    "# Set x axis label\n",
    "plt.xlabel(\"Latitude\")\n",
    "\n",
    "# Set y axis label\n",
    "plt.ylabel(\"Humidity (%)\")\n",
    "\n",
    "# Set grid line\n",
    "plt.grid(linestyle=\"-\", linewidth=1, alpha = 0.5)\n",
    "\n",
    "# Save the plotted figure as png\n",
    "plt.savefig(\"output_data/Images/City Latitude vs Humidity.png\")"
   ]
  },
  {
   "cell_type": "markdown",
   "metadata": {},
   "source": [
    "Polar regions have lower humidity and as latitude gets higher, humidity gets higher in the southern hemisphere."
   ]
  },
  {
   "cell_type": "markdown",
   "metadata": {},
   "source": [
    "## Latitude vs. Cloudiness Plot"
   ]
  },
  {
   "cell_type": "code",
   "execution_count": 16,
   "metadata": {},
   "outputs": [
    {
     "data": {
      "image/png": "[encoded data removed]",
      "text/plain": [
       "<Figure size 432x288 with 1 Axes>"
      ]
     },
     "metadata": {
      "needs_background": "light"
     },
     "output_type": "display_data"
    }
   ],
   "source": [
    "# Create a Latitude vs. Cloudiness Plot scatter plot\n",
    "plt.scatter(weather_dict[\"Lat\"], weather_dict[\"Cloudiness\"], facecolor = \"yellow\", edgecolor= \"black\")\n",
    "\n",
    "# Set title\n",
    "plt.title(f\"City Latitude vs Cloudiness {date}\")\n",
    "\n",
    "# Set x axis label\n",
    "plt.xlabel(\"Latitude\")\n",
    "\n",
    "# Set y axis label\n",
    "plt.ylabel(\"Cloudiness\")\n",
    "\n",
    "# Set grid line\n",
    "plt.grid(linestyle=\"-\", linewidth=1, alpha = 0.5)\n",
    "\n",
    "# Save the plotted figure as png\n",
    "plt.savefig(\"output_data/Images/City Latitude vs Cloudiness.png\")"
   ]
  },
  {
   "cell_type": "markdown",
   "metadata": {},
   "source": [
    "Cloudiness data is widely spread across the latitude."
   ]
  },
  {
   "cell_type": "markdown",
   "metadata": {},
   "source": [
    "## Latitude vs. Wind Speed Plot"
   ]
  },
  {
   "cell_type": "code",
   "execution_count": 17,
   "metadata": {},
   "outputs": [
    {
     "data": {
      "image/png": "[encoded data removed]",
      "text/plain": [
       "<Figure size 432x288 with 1 Axes>"
      ]
     },
     "metadata": {
      "needs_background": "light"
     },
     "output_type": "display_data"
    }
   ],
   "source": [
    "# Create Latitude vs. Wind Speed Plot scatter plot\n",
    "plt.scatter(weather_dict[\"Lat\"], weather_dict[\"Wind Speed\"], facecolor =\"green\", edgecolor = \"black\")\n",
    "\n",
    "# Set title\n",
    "plt. title(f\"City Latitude vs. Wind Speed (mph) {date}\")\n",
    "\n",
    "# Set x axis label\n",
    "plt.xlabel(\"Latitude\")\n",
    "\n",
    "# Set y axis label\n",
    "plt.ylabel(\"Wind Speed (%)\")\n",
    "\n",
    "# Set y axis limit\n",
    "plt.ylim(-2,50)\n",
    "\n",
    "# Set grid line\n",
    "plt.grid(linestyle=\"-\", linewidth=1, alpha =0.5)\n",
    "\n",
    "# Save the plotted figure as png\n",
    "plt.savefig(\"output_data/Images/City Latitude vs Wind Speed (mph).png\")"
   ]
  },
  {
   "cell_type": "markdown",
   "metadata": {},
   "source": [
    "Wind speed data is widely spread across the latitude"
   ]
  },
  {
   "cell_type": "markdown",
   "metadata": {},
   "source": [
    "## Linear Regression"
   ]
  },
  {
   "cell_type": "code",
   "execution_count": 18,
   "metadata": {},
   "outputs": [],
   "source": [
    "# Create Northern and Southern Hemisphere DataFrames\n",
    "northern_hemisphere = weather_dict.loc[weather_dict[\"Lat\"] >= 0]\n",
    "southern_hemisphere = weather_dict.loc[weather_dict[\"Lng\"] < 0]"
   ]
  },
  {
   "cell_type": "code",
   "execution_count": 19,
   "metadata": {},
   "outputs": [],
   "source": [
    "# Define function for creating linear agression and scatter plot\n",
    "def linear_agression(x,y):\n",
    "    print(f\"The r squared is : {round(st.pearsonr(x,y)[0],2)}\")\n",
    "    (slope, intercept, rvalue, pvalue, stderr) =  linregress(x,y)\n",
    "    regress_values = x * slope + intercept\n",
    "    line_eq = \"y = \" + str(round(slope,2)) + \"x + \" + str(round(intercept,2))\n",
    "    plt.scatter(x, y)\n",
    "    plt.plot(x,regress_values,\"r-\")\n",
    "    return line_eq\n",
    "\n",
    "# Define a function for annotating\n",
    "def annotate(line_eq, a, b):\n",
    "    plt.annotate(line_eq,(a,b),fontsize=15, color =\"red\")"
   ]
  },
  {
   "cell_type": "markdown",
   "metadata": {},
   "source": [
    "####  Northern Hemisphere - Max Temp vs. Latitude Linear Regression"
   ]
  },
  {
   "cell_type": "code",
   "execution_count": 31,
   "metadata": {},
   "outputs": [
    {
     "name": "stdout",
     "output_type": "stream",
     "text": [
      "The r squared is : -0.85\n"
     ]
    },
    {
     "data": {
      "image/png": "[encoded data removed]",
      "text/plain": [
       "<Figure size 432x288 with 1 Axes>"
      ]
     },
     "metadata": {
      "needs_background": "light"
     },
     "output_type": "display_data"
    }
   ],
   "source": [
    "# Call on function #1\n",
    "equation = linear_agression(northern_hemisphere[\"Lat\"], northern_hemisphere[\"Max Temp\"])\n",
    "\n",
    "# Call on function #2\n",
    "annotate(equation, 0, 0)\n",
    "\n",
    "#Set a title#\n",
    "plt.title(\"Northern Hemisphere - Max Temp vs. Latitude Linear Regression\")\n",
    "\n",
    "# Set xlabel\n",
    "plt.xlabel(\"Latitude\")\n",
    "\n",
    "#Set ylabel\n",
    "plt.ylabel(\"Max Temp (F)\")\n",
    "\n",
    "# Save the figure as png\n",
    "plt.savefig(\"output_data/Images/Northern Hemisphere - Max Temp vs Latitude Linear Regression.png\")"
   ]
  },
  {
   "cell_type": "markdown",
   "metadata": {},
   "source": [
    "There is a strong negative correlation between latitude and max temperature for the northern hemisphere."
   ]
  },
  {
   "cell_type": "markdown",
   "metadata": {},
   "source": [
    "####  Southern Hemisphere - Max Temp vs. Latitude Linear Regression"
   ]
  },
  {
   "cell_type": "code",
   "execution_count": 21,
   "metadata": {
    "scrolled": true
   },
   "outputs": [
    {
     "name": "stdout",
     "output_type": "stream",
     "text": [
      "The r squared is : -0.76\n"
     ]
    },
    {
     "data": {
      "image/png": "[encoded data removed]",
      "text/plain": [
       "<Figure size 432x288 with 1 Axes>"
      ]
     },
     "metadata": {
      "needs_background": "light"
     },
     "output_type": "display_data"
    }
   ],
   "source": [
    "# Call on function #1\n",
    "equation = linear_agression(southern_hemisphere[\"Lat\"],southern_hemisphere[\"Max Temp\"])\n",
    "\n",
    "# Call on function #2\n",
    "annotate(equation, -30, 50)\n",
    "\n",
    "# Set a title\n",
    "plt.title(\"Southern Hemisphere - Max Temp vs. Latitude Linear Regression\")\n",
    "\n",
    "# Set xlabel\n",
    "plt.xlabel(\"Latitude\")\n",
    "\n",
    "# Set ylabel\n",
    "plt.ylabel(\"Max Temp (F)\")\n",
    "\n",
    "# Save the figure as png\n",
    "plt.savefig(\"output_data/Images/Southern Hemisphere - Max Temp vs Latitude Linear Regression.png\")"
   ]
  },
  {
   "cell_type": "markdown",
   "metadata": {},
   "source": [
    "There is a negative correlation between latitude and max temperature for southern hemisphere."
   ]
  },
  {
   "cell_type": "markdown",
   "metadata": {},
   "source": [
    "####  Northern Hemisphere - Humidity (%) vs. Latitude Linear Regression"
   ]
  },
  {
   "cell_type": "code",
   "execution_count": 22,
   "metadata": {},
   "outputs": [
    {
     "name": "stdout",
     "output_type": "stream",
     "text": [
      "The r squared is : 0.35\n"
     ]
    },
    {
     "data": {
      "image/png": "[encoded data removed]",
      "text/plain": [
       "<Figure size 432x288 with 1 Axes>"
      ]
     },
     "metadata": {
      "needs_background": "light"
     },
     "output_type": "display_data"
    }
   ],
   "source": [
    "# Call on function #1\n",
    "equation = linear_agression(northern_hemisphere[\"Lat\"], northern_hemisphere[\"Humidity\"])\n",
    "\n",
    "# Call on function #2\n",
    "annotate(equation, 40, 15)\n",
    "\n",
    "# Set a title\n",
    "plt.title(\"Northern Hemisphere = Humidity (%) vs. Latitude Linear Regression\")\n",
    "\n",
    "# Set xlabel\n",
    "plt.xlabel(\"Latitude\")\n",
    "\n",
    "# Set ylabel\n",
    "plt.ylabel(\"Humidity (%)\")\n",
    "\n",
    "# Save the figure\n",
    "plt.savefig(\"output_data/Images/Northern Hemisphere - Humidity (%) vs Latitude Linear Regression.png\")\n",
    "                                                                "
   ]
  },
  {
   "cell_type": "markdown",
   "metadata": {},
   "source": [
    "There is a moderate positive correlation between latitude and humidity for northern hemisphere."
   ]
  },
  {
   "cell_type": "markdown",
   "metadata": {},
   "source": [
    "####  Southern Hemisphere - Humidity (%) vs. Latitude Linear Regression"
   ]
  },
  {
   "cell_type": "code",
   "execution_count": 23,
   "metadata": {},
   "outputs": [
    {
     "name": "stdout",
     "output_type": "stream",
     "text": [
      "The r squared is : -0.07\n"
     ]
    },
    {
     "data": {
      "image/png": "[encoded data removed]",
      "text/plain": [
       "<Figure size 432x288 with 1 Axes>"
      ]
     },
     "metadata": {
      "needs_background": "light"
     },
     "output_type": "display_data"
    }
   ],
   "source": [
    "# Call on function #1\n",
    "equation = linear_agression(southern_hemisphere[\"Lat\"], southern_hemisphere[\"Humidity\"])\n",
    "\n",
    "# Call on function #2\n",
    "annotate(equation, -40, 50)\n",
    "\n",
    "# Set title\n",
    "plt.title(\"Southern Hemishpere = Humidity (%) vs. Latitude Linear Regression\")\n",
    "\n",
    "# Set xlabel\n",
    "plt.xlabel(\"Latitude\")\n",
    "\n",
    "# Set ylabel\n",
    "plt.ylabel(\"Humidity (%)\")\n",
    "\n",
    "# Save the figure in png\n",
    "plt.savefig(\"output_data/Images/Southern Hemisphere - Humidity (%) vs Latitude Linear Regression.png\")"
   ]
  },
  {
   "cell_type": "markdown",
   "metadata": {},
   "source": [
    "There is a moderate positive correlation between latitude and humidity for the southern hemisphere."
   ]
  },
  {
   "cell_type": "markdown",
   "metadata": {},
   "source": [
    "####  Northern Hemisphere - Cloudiness (%) vs. Latitude Linear Regression"
   ]
  },
  {
   "cell_type": "code",
   "execution_count": 24,
   "metadata": {},
   "outputs": [
    {
     "name": "stdout",
     "output_type": "stream",
     "text": [
      "The r squared is : 0.29\n"
     ]
    },
    {
     "data": {
      "image/png": "[encoded data removed]",
      "text/plain": [
       "<Figure size 432x288 with 1 Axes>"
      ]
     },
     "metadata": {
      "needs_background": "light"
     },
     "output_type": "display_data"
    }
   ],
   "source": [
    "# Call on function #1\n",
    "equation = linear_agression(northern_hemisphere[\"Lat\"], northern_hemisphere[\"Cloudiness\"])\n",
    "\n",
    "# Call on function #2\n",
    "annotate(equation, 30, 40)\n",
    "\n",
    "# Set a title\n",
    "plt.title(\"Northern Hemishpere - Cloudiness (%) vs Latitude Linear Regression\")\n",
    "\n",
    "# Set xlabel\n",
    "plt.xlabel(\"Latitude\")\n",
    "\n",
    "# Set ylabel\n",
    "plt.ylabel(\"Cloudiness (%)\")\n",
    "\n",
    "# Save the figure as a png\n",
    "plt.savefig(\"output_data/Images/Northern Hemisphere - Cloudiness (%) vs Latitude Linear Regression.png\")"
   ]
  },
  {
   "cell_type": "markdown",
   "metadata": {},
   "source": [
    "There is a weak positive correlation between latitude and cloudiness for the norhtern hemisphere."
   ]
  },
  {
   "cell_type": "markdown",
   "metadata": {},
   "source": [
    "####  Southern Hemisphere - Cloudiness (%) vs. Latitude Linear Regression"
   ]
  },
  {
   "cell_type": "code",
   "execution_count": 25,
   "metadata": {
    "scrolled": true
   },
   "outputs": [
    {
     "name": "stdout",
     "output_type": "stream",
     "text": [
      "The r squared is : 0.06\n"
     ]
    },
    {
     "data": {
      "image/png": "[encoded data removed]",
      "text/plain": [
       "<Figure size 432x288 with 1 Axes>"
      ]
     },
     "metadata": {
      "needs_background": "light"
     },
     "output_type": "display_data"
    }
   ],
   "source": [
    "# Call function #1\n",
    "equation = linear_agression(southern_hemisphere[\"Lat\"], southern_hemisphere[\"Cloudiness\"])\n",
    "\n",
    "# Call on function #2\n",
    "annotate(equation, -30, 40)\n",
    "\n",
    "# Set a title\n",
    "plt.title(\"Southern Hemisphere - Cloudiness (%) vs. Latitude Linear Regression\")\n",
    "\n",
    "# Set xlabel\n",
    "plt.xlabel(\"Latitude\")\n",
    "\n",
    "# Set ylabel\n",
    "plt.ylabel(\"Cloudiness (%)\")\n",
    "\n",
    "# Save the figure as png\n",
    "plt.savefig(\"output_data/Images/Southern Hemisphere - Cloudiness (%) vs Latitude Linear Regression.png\")"
   ]
  },
  {
   "cell_type": "markdown",
   "metadata": {},
   "source": [
    "There is a weak positive correlation between latitude and cloudiness for the southern hemisphere."
   ]
  },
  {
   "cell_type": "markdown",
   "metadata": {},
   "source": [
    "####  Northern Hemisphere - Wind Speed (mph) vs. Latitude Linear Regression"
   ]
  },
  {
   "cell_type": "code",
   "execution_count": 26,
   "metadata": {},
   "outputs": [
    {
     "name": "stdout",
     "output_type": "stream",
     "text": [
      "The r squared is : 0.2\n"
     ]
    },
    {
     "data": {
      "image/png": "[encoded data removed]",
      "text/plain": [
       "<Figure size 432x288 with 1 Axes>"
      ]
     },
     "metadata": {
      "needs_background": "light"
     },
     "output_type": "display_data"
    }
   ],
   "source": [
    "# Call an function #1\n",
    "equation = linear_agression(northern_hemisphere[\"Lat\"], northern_hemisphere[\"Wind Speed\"])\n",
    "\n",
    "# Call an function #2\n",
    "annotate(equation, 40, 20)\n",
    "\n",
    "# Set  title\n",
    "plt.title(\"Northern Hemisphere - Wind Speed (mph) vs. Latitude Linear Regression\")\n",
    "\n",
    "# Set xlabel\n",
    "plt.xlabel(\"Latitude\")\n",
    "\n",
    "# Set ylabel\n",
    "plt.ylabel(\"Wind Speed (mph)\")\n",
    "\n",
    "# Save the figure\n",
    "plt.savefig(\"output_data/Images/Northern Hemisphere - Wind Speed vs Latitude Linear Regression.png\")"
   ]
  },
  {
   "cell_type": "markdown",
   "metadata": {},
   "source": [
    "There is a weak positive correlation between latitude and wind speed for northern hemisphere."
   ]
  },
  {
   "cell_type": "markdown",
   "metadata": {},
   "source": [
    "####  Southern Hemisphere - Wind Speed (mph) vs. Latitude Linear Regression"
   ]
  },
  {
   "cell_type": "code",
   "execution_count": 27,
   "metadata": {},
   "outputs": [
    {
     "name": "stdout",
     "output_type": "stream",
     "text": [
      "The r squared is : 0.11\n"
     ]
    },
    {
     "data": {
      "image/png": "[encoded data removed]",
      "text/plain": [
       "<Figure size 432x288 with 1 Axes>"
      ]
     },
     "metadata": {
      "needs_background": "light"
     },
     "output_type": "display_data"
    }
   ],
   "source": [
    "# Call an function #1\n",
    "equation = linear_agression(southern_hemisphere[\"Lat\"], southern_hemisphere[\"Wind Speed\"])\n",
    "\n",
    "# Call an function #2\n",
    "annotate(equation, -30, 15)\n",
    "\n",
    "# Set  title\n",
    "plt.title(\"Southern Hemisphere - Wind Speed (mph) vs. Latitude Linear Regression\")\n",
    "\n",
    "# Set xlabel\n",
    "plt.xlabel(\"Latitude\")\n",
    "\n",
    "# Set ylabel\n",
    "plt.ylabel(\"Wind Speed (mph)\")\n",
    "\n",
    "# Save the figure\n",
    "plt.savefig(\"output_data/Images/Southern Hemisphere - Wind Speed vs Latitude Linear Regression.png\")"
   ]
  },
  {
   "cell_type": "markdown",
   "metadata": {},
   "source": [
    "There is a weak negative correlation between latitude and wind speed for the southern hemisphere."
   ]
  }
 ],
 "metadata": {
  "anaconda-cloud": {},
  "kernel_info": {
   "name": "python3"
  },
  "kernelspec": {
   "display_name": "PythonData2",
   "language": "python",
   "name": "pythondata2"
  },
  "language_info": {
   "codemirror_mode": {
    "name": "ipython",
    "version": 3
   },
   "file_extension": ".py",
   "mimetype": "text/x-python",
   "name": "python",
   "nbconvert_exporter": "python",
   "pygments_lexer": "ipython3",
   "version": "3.8.3"
  },
  "latex_envs": {
   "LaTeX_envs_menu_present": true,
   "autoclose": false,
   "autocomplete": true,
   "bibliofile": "biblio.bib",
   "cite_by": "apalike",
   "current_citInitial": 1,
   "eqLabelWithNumbers": true,
   "eqNumInitial": 1,
   "hotkeys": {
    "equation": "Ctrl-E",
    "itemize": "Ctrl-I"
   },
   "labels_anchors": false,
   "latex_user_defs": false,
   "report_style_numbering": false,
   "user_envs_cfg": false
  },
  "nteract": {
   "version": "0.12.3"
  }
 },
 "nbformat": 4,
 "nbformat_minor": 2
}
