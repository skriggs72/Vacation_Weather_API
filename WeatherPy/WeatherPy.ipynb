{
 "cells": [
  {
   "cell_type": "markdown",
   "metadata": {},
   "source": [
    "# WeatherPy\n",
    "----\n",
    "\n",
    "#### Note\n",
    "* Instructions have been included for each segment. You do not have to follow them exactly, but they are included to help you think through the steps."
   ]
  },
  {
   "cell_type": "markdown",
   "metadata": {},
   "source": [
    "Observation 1: Southern Hemisphere climates tend to be slightly milder than those at similar latitudes in the Northern Hemisphere. This is because teh Southern Hemisphere has significantly more ocean and much less land; water heats up and cools down more slowly than land.\n",
    "\n",
    "Observation 2: Highest temperature is found at 0 latituted and as the latitude increases or decreases, temperature drops. This happens as equatorial region receives sunlight straight with less or no angle due to curvature shape of the earth.\n",
    "\n",
    "Ovbservation 3: Latitude doesn't have a storng influence on wind speed. The speed of the wind is controlled by the strength of the air pressure gradient, the stonger the pressure gradient the higher the higher the wind speed."
   ]
  },
  {
   "cell_type": "code",
   "execution_count": 1,
   "metadata": {
    "scrolled": true
   },
   "outputs": [],
   "source": [
    "# Dependencies and Setup\n",
    "import matplotlib.pyplot as plt\n",
    "import pandas as pd\n",
    "import numpy as np\n",
    "import requests\n",
    "import time\n",
    "import scipy.stats as st\n",
    "from scipy.stats import linregress\n",
    "\n",
    "# Import API key\n",
    "from api_keys import weather_api_key\n",
    "\n",
    "# Incorporated citipy to determine city based on latitude and longitude\n",
    "from citipy import citipy\n",
    "\n",
    "# Output File (CSV)\n",
    "output_data_file = \"output_data/cities.csv\"\n",
    "\n",
    "# Range of latitudes and longitudes\n",
    "lat_range = (-90, 90)\n",
    "lng_range = (-180, 180)"
   ]
  },
  {
   "cell_type": "markdown",
   "metadata": {},
   "source": [
    "## Generate Cities List"
   ]
  },
  {
   "cell_type": "code",
   "execution_count": 2,
   "metadata": {},
   "outputs": [
    {
     "data": {
      "text/plain": [
       "607"
      ]
     },
     "execution_count": 2,
     "metadata": {},
     "output_type": "execute_result"
    }
   ],
   "source": [
    "# List for holding lat_lngs and cities\n",
    "lat_lngs = []\n",
    "cities = []\n",
    "countries = []\n",
    "\n",
    "# Create a set of random lat and lng combinations\n",
    "lats = np.random.uniform(low=-90.000, high=90.000, size=1500)\n",
    "lngs = np.random.uniform(low =-180.000, high=180.000, size=1500)\n",
    "lat_lngs = zip(lats, lngs)\n",
    "\n",
    "# Identify nearest city for each lat, lng combination\n",
    "for lat_lng in lat_lngs:\n",
    "    city = citipy.nearest_city(lat_lng[0], lat_lng[1]).city_name\n",
    "    \n",
    "    # If the city is unique, then add it to a our cities list\n",
    "    if city not in cities:\n",
    "        cities.append(city)\n",
    "                \n",
    "# Print the city count to confirm sufficient count\n",
    "len(cities)"
   ]
  },
  {
   "cell_type": "code",
   "execution_count": 3,
   "metadata": {
    "scrolled": true
   },
   "outputs": [],
   "source": [
    "city_name_list = []\n",
    "cloudiness_list = []\n",
    "country_list = []\n",
    "date_list = []\n",
    "humidity_list = []\n",
    "lat_list = []\n",
    "lng_list = []\n",
    "max_temp_list = []\n",
    "wind_speed_list = []\n",
    "index_counter = 0\n",
    "set_counter = 1"
   ]
  },
  {
   "cell_type": "markdown",
   "metadata": {},
   "source": [
    "### Perform API Calls\n",
    "* Perform a weather check on each city using a series of successive API calls.\n",
    "* Include a print log of each city as it'sbeing processed (with the city number and city name).\n"
   ]
  },
  {
   "cell_type": "code",
   "execution_count": 4,
   "metadata": {
    "scrolled": true
   },
   "outputs": [
    {
     "name": "stdout",
     "output_type": "stream",
     "text": [
      "Beginning Data Retrieval \n",
      "-----------------------------\n",
      "Processing Record 1 of Set 1 : nanortalik\n",
      "Processing Record 2 of Set 1 : prince rupert\n",
      "Processing Record 3 of Set 1 : ismailia\n",
      "Processing Record 4 of Set 1 : sol-iletsk\n",
      "Processing Record 5 of Set 1 : jamestown\n",
      "Processing Record 6 of Set 1 : bredasdorp\n",
      "City not found. Skipping...\n",
      "Processing Record 7 of Set 1 : rikitea\n",
      "Processing Record 8 of Set 1 : itoman\n",
      "Processing Record 9 of Set 1 : sinnamary\n",
      "Processing Record 10 of Set 1 : panique\n",
      "Processing Record 11 of Set 1 : sept-iles\n",
      "Processing Record 12 of Set 1 : provideniya\n",
      "Processing Record 13 of Set 1 : bridlington\n",
      "Processing Record 14 of Set 1 : georgetown\n",
      "Processing Record 15 of Set 1 : rincon\n",
      "Processing Record 16 of Set 1 : billings\n",
      "Processing Record 17 of Set 1 : cidreira\n",
      "Processing Record 18 of Set 1 : busselton\n",
      "Processing Record 19 of Set 1 : ushuaia\n",
      "Processing Record 20 of Set 1 : hermanus\n",
      "Processing Record 21 of Set 1 : spas\n",
      "Processing Record 22 of Set 1 : port alfred\n",
      "Processing Record 23 of Set 1 : wilmington island\n",
      "Processing Record 24 of Set 1 : port elizabeth\n",
      "Processing Record 25 of Set 1 : kapaa\n",
      "Processing Record 26 of Set 1 : avarua\n",
      "Processing Record 27 of Set 1 : new norfolk\n",
      "Processing Record 28 of Set 1 : atuona\n",
      "Processing Record 29 of Set 1 : mataura\n",
      "Processing Record 30 of Set 1 : port blair\n",
      "Processing Record 31 of Set 1 : inta\n",
      "City not found. Skipping...\n",
      "Processing Record 32 of Set 1 : chokurdakh\n",
      "Processing Record 33 of Set 1 : mahebourg\n",
      "Processing Record 34 of Set 1 : tual\n",
      "Processing Record 35 of Set 1 : arraial do cabo\n",
      "Processing Record 36 of Set 1 : chodavaram\n",
      "Processing Record 37 of Set 1 : talnakh\n",
      "Processing Record 38 of Set 1 : flinders\n",
      "Processing Record 39 of Set 1 : cape town\n",
      "Processing Record 40 of Set 1 : cherskiy\n",
      "City not found. Skipping...\n",
      "Processing Record 41 of Set 1 : sao joao da barra\n",
      "Processing Record 42 of Set 1 : saldanha\n",
      "City not found. Skipping...\n",
      "Processing Record 43 of Set 1 : ribeira grande\n",
      "Processing Record 44 of Set 1 : qaanaaq\n",
      "Processing Record 45 of Set 1 : vila velha\n",
      "Processing Record 46 of Set 1 : saint-philippe\n",
      "Processing Record 47 of Set 1 : sao filipe\n",
      "Processing Record 48 of Set 1 : barranca\n",
      "Processing Record 49 of Set 1 : airai\n",
      "Processing Record 50 of Set 1 : harare\n",
      "Processing Record 0 of Set 2 : castro\n",
      "Processing Record 1 of Set 2 : namatanai\n",
      "Processing Record 2 of Set 2 : hami\n",
      "Processing Record 3 of Set 2 : gorom-gorom\n",
      "Processing Record 4 of Set 2 : sohbatpur\n",
      "Processing Record 5 of Set 2 : punta arenas\n",
      "Processing Record 6 of Set 2 : albany\n",
      "Processing Record 7 of Set 2 : tomohon\n",
      "Processing Record 8 of Set 2 : tuktoyaktuk\n",
      "Processing Record 9 of Set 2 : pisco\n",
      "Processing Record 10 of Set 2 : morehead\n",
      "Processing Record 11 of Set 2 : bluff\n",
      "Processing Record 12 of Set 2 : terra santa\n",
      "Processing Record 13 of Set 2 : chebsara\n",
      "Processing Record 14 of Set 2 : tura\n",
      "Processing Record 15 of Set 2 : north bend\n",
      "Processing Record 16 of Set 2 : dzilam gonzalez\n",
      "Processing Record 17 of Set 2 : puerto ayora\n",
      "Processing Record 18 of Set 2 : general pico\n",
      "Processing Record 19 of Set 2 : kavaratti\n",
      "Processing Record 20 of Set 2 : yerbogachen\n",
      "Processing Record 21 of Set 2 : nadym\n",
      "Processing Record 22 of Set 2 : upernavik\n",
      "Processing Record 23 of Set 2 : ilulissat\n",
      "Processing Record 24 of Set 2 : dingle\n",
      "City not found. Skipping...\n",
      "Processing Record 25 of Set 2 : middelburg\n",
      "Processing Record 26 of Set 2 : borba\n",
      "Processing Record 27 of Set 2 : lavrentiya\n",
      "Processing Record 28 of Set 2 : dongsheng\n",
      "Processing Record 29 of Set 2 : vaini\n",
      "Processing Record 30 of Set 2 : dawson creek\n",
      "Processing Record 31 of Set 2 : khatanga\n",
      "Processing Record 32 of Set 2 : urubicha\n",
      "Processing Record 33 of Set 2 : dikson\n",
      "Processing Record 34 of Set 2 : hobart\n",
      "Processing Record 35 of Set 2 : hilo\n",
      "Processing Record 36 of Set 2 : kaitangata\n",
      "City not found. Skipping...\n",
      "City not found. Skipping...\n",
      "Processing Record 37 of Set 2 : hobyo\n",
      "Processing Record 38 of Set 2 : nouakchott\n",
      "Processing Record 39 of Set 2 : la ronge\n",
      "Processing Record 40 of Set 2 : waingapu\n",
      "Processing Record 41 of Set 2 : brokopondo\n",
      "Processing Record 42 of Set 2 : porto novo\n",
      "Processing Record 43 of Set 2 : mnogovershinnyy\n",
      "Processing Record 44 of Set 2 : aklavik\n",
      "Processing Record 45 of Set 2 : lebu\n",
      "Processing Record 46 of Set 2 : pacific grove\n",
      "Processing Record 47 of Set 2 : holbeach\n",
      "Processing Record 48 of Set 2 : mar del plata\n",
      "City not found. Skipping...\n",
      "Processing Record 49 of Set 2 : east london\n",
      "Processing Record 50 of Set 2 : waipawa\n",
      "Processing Record 0 of Set 3 : port hardy\n",
      "Processing Record 1 of Set 3 : alice springs\n",
      "Processing Record 2 of Set 3 : esperance\n",
      "Processing Record 3 of Set 3 : seredka\n",
      "Processing Record 4 of Set 3 : ribeira brava\n",
      "Processing Record 5 of Set 3 : bima\n",
      "Processing Record 6 of Set 3 : rafraf\n",
      "Processing Record 7 of Set 3 : westport\n",
      "Processing Record 8 of Set 3 : homer\n",
      "City not found. Skipping...\n",
      "Processing Record 9 of Set 3 : hasaki\n",
      "Processing Record 10 of Set 3 : vao\n",
      "City not found. Skipping...\n",
      "Processing Record 11 of Set 3 : chicama\n",
      "Processing Record 12 of Set 3 : tamboril\n",
      "Processing Record 13 of Set 3 : ancud\n",
      "Processing Record 14 of Set 3 : ojiya\n",
      "Processing Record 15 of Set 3 : hualmay\n",
      "Processing Record 16 of Set 3 : bethel\n",
      "Processing Record 17 of Set 3 : carauari\n",
      "Processing Record 18 of Set 3 : high level\n",
      "Processing Record 19 of Set 3 : ewa beach\n",
      "Processing Record 20 of Set 3 : tobermory\n",
      "Processing Record 21 of Set 3 : san andres\n",
      "Processing Record 22 of Set 3 : kawalu\n",
      "Processing Record 23 of Set 3 : naze\n",
      "Processing Record 24 of Set 3 : kruisfontein\n",
      "City not found. Skipping...\n",
      "Processing Record 25 of Set 3 : progreso\n",
      "Processing Record 26 of Set 3 : gat\n",
      "Processing Record 27 of Set 3 : sambava\n",
      "Processing Record 28 of Set 3 : pochutla\n",
      "Processing Record 29 of Set 3 : manzhouli\n",
      "Processing Record 30 of Set 3 : okhotsk\n",
      "Processing Record 31 of Set 3 : antofagasta\n",
      "Processing Record 32 of Set 3 : ostrovnoy\n",
      "Processing Record 33 of Set 3 : mayo\n",
      "Processing Record 34 of Set 3 : saint george\n",
      "Processing Record 35 of Set 3 : bengkulu\n",
      "Processing Record 36 of Set 3 : scarborough\n",
      "Processing Record 37 of Set 3 : dauphin\n",
      "Processing Record 38 of Set 3 : port hawkesbury\n",
      "Processing Record 39 of Set 3 : ballina\n",
      "Processing Record 40 of Set 3 : touros\n",
      "Processing Record 41 of Set 3 : margate\n",
      "City not found. Skipping...\n",
      "Processing Record 42 of Set 3 : klaksvik\n",
      "Processing Record 43 of Set 3 : zambezi\n",
      "Processing Record 44 of Set 3 : havelock\n",
      "Processing Record 45 of Set 3 : butaritari\n",
      "Processing Record 46 of Set 3 : santa rosa\n",
      "Processing Record 47 of Set 3 : tasiilaq\n",
      "City not found. Skipping...\n",
      "Processing Record 48 of Set 3 : cassilandia\n",
      "Processing Record 49 of Set 3 : chalala\n",
      "Processing Record 50 of Set 3 : abu dhabi\n",
      "Processing Record 0 of Set 4 : katsuura\n",
      "Processing Record 1 of Set 4 : shancheng\n",
      "Processing Record 2 of Set 4 : gaziantep\n",
      "Processing Record 3 of Set 4 : honjo\n",
      "Processing Record 4 of Set 4 : kainantu\n",
      "Processing Record 5 of Set 4 : kushima\n",
      "Processing Record 6 of Set 4 : sao raimundo nonato\n",
      "Processing Record 7 of Set 4 : uppsala\n",
      "Processing Record 8 of Set 4 : yumen\n",
      "Processing Record 9 of Set 4 : poum\n",
      "Processing Record 10 of Set 4 : nelson bay\n",
      "Processing Record 11 of Set 4 : cabo san lucas\n",
      "Processing Record 12 of Set 4 : caravelas\n",
      "Processing Record 13 of Set 4 : zeya\n",
      "Processing Record 14 of Set 4 : guerrero negro\n",
      "Processing Record 15 of Set 4 : pajapan\n",
      "City not found. Skipping...\n",
      "Processing Record 16 of Set 4 : taguatinga\n",
      "Processing Record 17 of Set 4 : fort nelson\n",
      "Processing Record 18 of Set 4 : husavik\n",
      "Processing Record 19 of Set 4 : myitkyina\n",
      "Processing Record 20 of Set 4 : jiangyou\n",
      "Processing Record 21 of Set 4 : vestmannaeyjar\n",
      "Processing Record 22 of Set 4 : madinat sittah uktubar\n",
      "Processing Record 23 of Set 4 : barrow\n",
      "Processing Record 24 of Set 4 : luwuk\n",
      "Processing Record 25 of Set 4 : ghatsila\n",
      "Processing Record 26 of Set 4 : broome\n",
      "City not found. Skipping...\n",
      "Processing Record 27 of Set 4 : lima\n",
      "Processing Record 28 of Set 4 : allapalli\n",
      "City not found. Skipping...\n",
      "Processing Record 29 of Set 4 : axim\n",
      "Processing Record 30 of Set 4 : iskateley\n",
      "Processing Record 31 of Set 4 : boa vista\n",
      "Processing Record 32 of Set 4 : boralday\n",
      "Processing Record 33 of Set 4 : sigli\n",
      "Processing Record 34 of Set 4 : komsomolskiy\n",
      "Processing Record 35 of Set 4 : pitimbu\n"
     ]
    },
    {
     "name": "stdout",
     "output_type": "stream",
     "text": [
      "Processing Record 36 of Set 4 : hofn\n",
      "Processing Record 37 of Set 4 : qingyuan\n",
      "Processing Record 38 of Set 4 : tazovskiy\n",
      "Processing Record 39 of Set 4 : bitung\n",
      "Processing Record 40 of Set 4 : chuy\n",
      "Processing Record 41 of Set 4 : okoneshnikovo\n",
      "Processing Record 42 of Set 4 : tiksi\n",
      "Processing Record 43 of Set 4 : great falls\n",
      "Processing Record 44 of Set 4 : agadir\n",
      "Processing Record 45 of Set 4 : muroto\n",
      "Processing Record 46 of Set 4 : ostersund\n",
      "Processing Record 47 of Set 4 : yellowknife\n",
      "Processing Record 48 of Set 4 : krasnoselkup\n",
      "Processing Record 49 of Set 4 : heilbron\n",
      "Processing Record 50 of Set 4 : stralsund\n",
      "City not found. Skipping...\n",
      "Processing Record 0 of Set 5 : geraldton\n",
      "Processing Record 1 of Set 5 : karratha\n",
      "Processing Record 2 of Set 5 : quelimane\n",
      "Processing Record 3 of Set 5 : bonavista\n",
      "Processing Record 4 of Set 5 : rio gallegos\n",
      "Processing Record 5 of Set 5 : luau\n",
      "Processing Record 6 of Set 5 : hithadhoo\n",
      "Processing Record 7 of Set 5 : yeniseysk\n",
      "Processing Record 8 of Set 5 : kamenka\n",
      "Processing Record 9 of Set 5 : lorengau\n",
      "Processing Record 10 of Set 5 : maple creek\n",
      "Processing Record 11 of Set 5 : skjervoy\n",
      "City not found. Skipping...\n",
      "Processing Record 12 of Set 5 : tagusao\n",
      "Processing Record 13 of Set 5 : ola\n",
      "Processing Record 14 of Set 5 : adrar\n",
      "Processing Record 15 of Set 5 : gorodets\n",
      "Processing Record 16 of Set 5 : cascais\n",
      "Processing Record 17 of Set 5 : grand gaube\n",
      "City not found. Skipping...\n",
      "Processing Record 18 of Set 5 : port lincoln\n",
      "Processing Record 19 of Set 5 : bougouni\n",
      "Processing Record 20 of Set 5 : havre-saint-pierre\n",
      "Processing Record 21 of Set 5 : evensk\n",
      "Processing Record 22 of Set 5 : dilla\n",
      "Processing Record 23 of Set 5 : lata\n",
      "Processing Record 24 of Set 5 : dmitrovsk-orlovskiy\n",
      "Processing Record 25 of Set 5 : preobrazheniye\n",
      "Processing Record 26 of Set 5 : mareeba\n",
      "City not found. Skipping...\n",
      "Processing Record 27 of Set 5 : avera\n",
      "Processing Record 28 of Set 5 : ponta do sol\n",
      "Processing Record 29 of Set 5 : norman wells\n",
      "Processing Record 30 of Set 5 : fort frances\n",
      "Processing Record 31 of Set 5 : victoria\n",
      "Processing Record 32 of Set 5 : san patricio\n",
      "Processing Record 33 of Set 5 : krasnyy chikoy\n",
      "Processing Record 34 of Set 5 : natal\n",
      "Processing Record 35 of Set 5 : oranjemund\n",
      "Processing Record 36 of Set 5 : namibe\n",
      "Processing Record 37 of Set 5 : garelochhead\n",
      "Processing Record 38 of Set 5 : coquimbo\n",
      "Processing Record 39 of Set 5 : acapulco\n",
      "Processing Record 40 of Set 5 : nizhniy tsasuchey\n",
      "Processing Record 41 of Set 5 : riyadh\n",
      "Processing Record 42 of Set 5 : carnarvon\n",
      "Processing Record 43 of Set 5 : ust-kuyga\n",
      "Processing Record 44 of Set 5 : ahipara\n",
      "Processing Record 45 of Set 5 : knysna\n",
      "Processing Record 46 of Set 5 : hirara\n",
      "Processing Record 47 of Set 5 : santiago\n",
      "Processing Record 48 of Set 5 : itarema\n",
      "City not found. Skipping...\n",
      "Processing Record 49 of Set 5 : kerema\n",
      "City not found. Skipping...\n",
      "Processing Record 50 of Set 5 : tuatapere\n",
      "Processing Record 0 of Set 6 : boende\n",
      "Processing Record 1 of Set 6 : banda aceh\n",
      "Processing Record 2 of Set 6 : afrikanda\n",
      "Processing Record 3 of Set 6 : buluang\n",
      "Processing Record 4 of Set 6 : prado\n",
      "Processing Record 5 of Set 6 : yankton\n",
      "Processing Record 6 of Set 6 : pevek\n",
      "Processing Record 7 of Set 6 : gazli\n",
      "Processing Record 8 of Set 6 : monrovia\n",
      "City not found. Skipping...\n",
      "Processing Record 9 of Set 6 : mali\n",
      "Processing Record 10 of Set 6 : lere\n",
      "City not found. Skipping...\n",
      "Processing Record 11 of Set 6 : coihaique\n",
      "Processing Record 12 of Set 6 : gorontalo\n",
      "Processing Record 13 of Set 6 : laguna\n",
      "Processing Record 14 of Set 6 : conceicao do araguaia\n",
      "City not found. Skipping...\n",
      "Processing Record 15 of Set 6 : bambous virieux\n",
      "Processing Record 16 of Set 6 : taoudenni\n",
      "Processing Record 17 of Set 6 : moose factory\n",
      "Processing Record 18 of Set 6 : raahe\n",
      "Processing Record 19 of Set 6 : thompson\n",
      "Processing Record 20 of Set 6 : yar-sale\n",
      "Processing Record 21 of Set 6 : adoni\n",
      "Processing Record 22 of Set 6 : palmas\n",
      "Processing Record 23 of Set 6 : tuy hoa\n",
      "Processing Record 24 of Set 6 : torbay\n",
      "City not found. Skipping...\n",
      "Processing Record 25 of Set 6 : arsk\n",
      "Processing Record 26 of Set 6 : bonthe\n",
      "Processing Record 27 of Set 6 : san cataldo\n",
      "Processing Record 28 of Set 6 : mawlamyine\n",
      "Processing Record 29 of Set 6 : bongor\n",
      "Processing Record 30 of Set 6 : kloulklubed\n",
      "Processing Record 31 of Set 6 : mahanoro\n",
      "Processing Record 32 of Set 6 : majene\n",
      "Processing Record 33 of Set 6 : batticaloa\n",
      "Processing Record 34 of Set 6 : burnie\n",
      "Processing Record 35 of Set 6 : schwedt\n",
      "Processing Record 36 of Set 6 : cayenne\n",
      "Processing Record 37 of Set 6 : lincoln\n",
      "Processing Record 38 of Set 6 : mount gambier\n",
      "Processing Record 39 of Set 6 : aden\n",
      "Processing Record 40 of Set 6 : puerto baquerizo moreno\n",
      "Processing Record 41 of Set 6 : gizo\n",
      "Processing Record 42 of Set 6 : macae\n",
      "Processing Record 43 of Set 6 : kristiinankaupunki\n",
      "Processing Record 44 of Set 6 : christchurch\n",
      "Processing Record 45 of Set 6 : atar\n",
      "Processing Record 46 of Set 6 : owando\n",
      "Processing Record 47 of Set 6 : guadalupe\n",
      "Processing Record 48 of Set 6 : wismar\n",
      "City not found. Skipping...\n",
      "Processing Record 49 of Set 6 : varadero\n",
      "Processing Record 50 of Set 6 : saskylakh\n",
      "Processing Record 0 of Set 7 : arlit\n",
      "Processing Record 1 of Set 7 : maldonado\n",
      "Processing Record 2 of Set 7 : berlevag\n",
      "Processing Record 3 of Set 7 : oktyabrskiy\n",
      "Processing Record 4 of Set 7 : kodiak\n",
      "Processing Record 5 of Set 7 : te anau\n",
      "Processing Record 6 of Set 7 : clyde river\n",
      "Processing Record 7 of Set 7 : jalu\n",
      "Processing Record 8 of Set 7 : tocopilla\n",
      "Processing Record 9 of Set 7 : broken hill\n",
      "Processing Record 10 of Set 7 : hameln\n",
      "Processing Record 11 of Set 7 : sim\n",
      "Processing Record 12 of Set 7 : beringovskiy\n",
      "Processing Record 13 of Set 7 : mendi\n",
      "Processing Record 14 of Set 7 : nikolskoye\n",
      "Processing Record 15 of Set 7 : ugoofaaru\n",
      "Processing Record 16 of Set 7 : iqaluit\n",
      "Processing Record 17 of Set 7 : los llanos de aridane\n",
      "Processing Record 18 of Set 7 : tapes\n",
      "Processing Record 19 of Set 7 : hoi an\n",
      "Processing Record 20 of Set 7 : behshahr\n",
      "Processing Record 21 of Set 7 : labuhan\n",
      "Processing Record 22 of Set 7 : fare\n",
      "Processing Record 23 of Set 7 : san joaquin\n",
      "Processing Record 24 of Set 7 : thenzawl\n",
      "Processing Record 25 of Set 7 : olinda\n",
      "Processing Record 26 of Set 7 : wates\n",
      "City not found. Skipping...\n",
      "Processing Record 27 of Set 7 : lucapa\n",
      "Processing Record 28 of Set 7 : yulara\n",
      "Processing Record 29 of Set 7 : nome\n",
      "Processing Record 30 of Set 7 : saint-georges\n",
      "Processing Record 31 of Set 7 : amasya\n",
      "Processing Record 32 of Set 7 : leiyang\n",
      "City not found. Skipping...\n",
      "Processing Record 33 of Set 7 : svetlogorsk\n",
      "Processing Record 34 of Set 7 : koutiala\n",
      "Processing Record 35 of Set 7 : lucea\n",
      "City not found. Skipping...\n",
      "Processing Record 36 of Set 7 : severo-kurilsk\n",
      "Processing Record 37 of Set 7 : maniitsoq\n",
      "City not found. Skipping...\n",
      "Processing Record 38 of Set 7 : biloxi\n",
      "Processing Record 39 of Set 7 : nishihara\n",
      "Processing Record 40 of Set 7 : pangkalanbuun\n",
      "Processing Record 41 of Set 7 : lumphat\n",
      "Processing Record 42 of Set 7 : neepawa\n",
      "Processing Record 43 of Set 7 : hudson bay\n",
      "Processing Record 44 of Set 7 : hervey bay\n",
      "Processing Record 45 of Set 7 : luderitz\n",
      "Processing Record 46 of Set 7 : sabang\n",
      "Processing Record 47 of Set 7 : byron bay\n",
      "City not found. Skipping...\n",
      "Processing Record 48 of Set 7 : boqueirao\n",
      "Processing Record 49 of Set 7 : portland\n",
      "Processing Record 50 of Set 7 : ginir\n",
      "Processing Record 0 of Set 8 : smolenka\n",
      "Processing Record 1 of Set 8 : mongoumba\n",
      "Processing Record 2 of Set 8 : barcelos\n",
      "Processing Record 3 of Set 8 : marsh harbour\n",
      "Processing Record 4 of Set 8 : thinadhoo\n",
      "Processing Record 5 of Set 8 : gamba\n",
      "Processing Record 6 of Set 8 : presidencia roque saenz pena\n",
      "Processing Record 7 of Set 8 : langsa\n",
      "Processing Record 8 of Set 8 : maragogi\n",
      "Processing Record 9 of Set 8 : dhidhdhoo\n",
      "Processing Record 10 of Set 8 : coos bay\n",
      "City not found. Skipping...\n",
      "Processing Record 11 of Set 8 : sault sainte marie\n",
      "Processing Record 12 of Set 8 : mount isa\n",
      "Processing Record 13 of Set 8 : hakkari\n",
      "Processing Record 14 of Set 8 : puerto plata\n",
      "Processing Record 15 of Set 8 : lagoa\n",
      "Processing Record 16 of Set 8 : san diego de los banos\n",
      "Processing Record 17 of Set 8 : hambantota\n",
      "Processing Record 18 of Set 8 : dharchula\n",
      "Processing Record 19 of Set 8 : santa vitoria do palmar\n"
     ]
    },
    {
     "name": "stdout",
     "output_type": "stream",
     "text": [
      "Processing Record 20 of Set 8 : lewiston\n",
      "Processing Record 21 of Set 8 : cockburn town\n",
      "Processing Record 22 of Set 8 : souillac\n",
      "Processing Record 23 of Set 8 : kavieng\n",
      "City not found. Skipping...\n",
      "Processing Record 24 of Set 8 : pauini\n",
      "City not found. Skipping...\n",
      "Processing Record 25 of Set 8 : tautira\n",
      "Processing Record 26 of Set 8 : srednekolymsk\n",
      "Processing Record 27 of Set 8 : koindu\n",
      "Processing Record 28 of Set 8 : tahta\n",
      "Processing Record 29 of Set 8 : moron\n",
      "Processing Record 30 of Set 8 : vanimo\n",
      "Processing Record 31 of Set 8 : hamilton\n",
      "Processing Record 32 of Set 8 : tombouctou\n",
      "Processing Record 33 of Set 8 : la asuncion\n",
      "Processing Record 34 of Set 8 : bara\n",
      "Processing Record 35 of Set 8 : manhattan\n",
      "Processing Record 36 of Set 8 : sorland\n",
      "Processing Record 37 of Set 8 : mugumu\n",
      "Processing Record 38 of Set 8 : lyndon\n",
      "Processing Record 39 of Set 8 : hirado\n",
      "Processing Record 40 of Set 8 : lashio\n",
      "Processing Record 41 of Set 8 : araouane\n",
      "Processing Record 42 of Set 8 : kharp\n",
      "Processing Record 43 of Set 8 : katangli\n",
      "Processing Record 44 of Set 8 : caernarfon\n",
      "Processing Record 45 of Set 8 : hammerfest\n",
      "Processing Record 46 of Set 8 : kambing\n",
      "Processing Record 47 of Set 8 : houma\n",
      "Processing Record 48 of Set 8 : severo-yeniseyskiy\n",
      "Processing Record 49 of Set 8 : bonnyville\n",
      "Processing Record 50 of Set 8 : kalmunai\n",
      "Processing Record 0 of Set 9 : saint-joseph\n",
      "Processing Record 1 of Set 9 : porto real do colegio\n",
      "Processing Record 2 of Set 9 : acarau\n",
      "Processing Record 3 of Set 9 : pedasi\n",
      "Processing Record 4 of Set 9 : saint anthony\n",
      "Processing Record 5 of Set 9 : esmeraldas\n",
      "Processing Record 6 of Set 9 : dhekiajuli\n",
      "City not found. Skipping...\n",
      "Processing Record 7 of Set 9 : pontianak\n",
      "Processing Record 8 of Set 9 : kralendijk\n",
      "Processing Record 9 of Set 9 : tiznit\n",
      "Processing Record 10 of Set 9 : zhanaozen\n",
      "Processing Record 11 of Set 9 : kailua\n",
      "City not found. Skipping...\n",
      "Processing Record 12 of Set 9 : kudahuvadhoo\n",
      "Processing Record 13 of Set 9 : vila franca do campo\n",
      "Processing Record 14 of Set 9 : kytmanovo\n",
      "Processing Record 15 of Set 9 : biak\n",
      "Processing Record 16 of Set 9 : gaoual\n",
      "Processing Record 17 of Set 9 : huarmey\n",
      "Processing Record 18 of Set 9 : ossora\n",
      "Processing Record 19 of Set 9 : emirdag\n",
      "Processing Record 20 of Set 9 : raga\n",
      "Processing Record 21 of Set 9 : manacapuru\n",
      "Processing Record 22 of Set 9 : brae\n",
      "Processing Record 23 of Set 9 : whitehorse\n",
      "Processing Record 24 of Set 9 : tommot\n",
      "Processing Record 25 of Set 9 : longido\n",
      "Processing Record 26 of Set 9 : sao joao do paraiso\n",
      "City not found. Skipping...\n",
      "Processing Record 27 of Set 9 : novaya igirma\n",
      "Processing Record 28 of Set 9 : mosquera\n",
      "Processing Record 29 of Set 9 : tsiroanomandidy\n",
      "Processing Record 30 of Set 9 : anadyr\n",
      "Processing Record 31 of Set 9 : akdepe\n",
      "City not found. Skipping...\n",
      "Processing Record 32 of Set 9 : brawley\n",
      "Processing Record 33 of Set 9 : ust-maya\n",
      "Processing Record 34 of Set 9 : russell\n",
      "Processing Record 35 of Set 9 : muhos\n",
      "Processing Record 36 of Set 9 : monteagudo\n",
      "Processing Record 37 of Set 9 : qasigiannguit\n",
      "Processing Record 38 of Set 9 : copiapo\n",
      "Processing Record 39 of Set 9 : pocone\n",
      "Processing Record 40 of Set 9 : saint-denis\n",
      "Processing Record 41 of Set 9 : chapais\n",
      "Processing Record 42 of Set 9 : killin\n",
      "Processing Record 43 of Set 9 : warmbad\n",
      "Processing Record 44 of Set 9 : savonlinna\n",
      "Processing Record 45 of Set 9 : neuquen\n",
      "Processing Record 46 of Set 9 : barreirinha\n",
      "Processing Record 47 of Set 9 : haines junction\n",
      "Processing Record 48 of Set 9 : ushtobe\n",
      "Processing Record 49 of Set 9 : mari\n",
      "Processing Record 50 of Set 9 : leticia\n",
      "Processing Record 0 of Set 10 : longyearbyen\n",
      "Processing Record 1 of Set 10 : palmer\n",
      "Processing Record 2 of Set 10 : valparaiso\n",
      "Processing Record 3 of Set 10 : marawi\n",
      "Processing Record 4 of Set 10 : calbuco\n",
      "Processing Record 5 of Set 10 : sistranda\n",
      "Processing Record 6 of Set 10 : kingman\n",
      "Processing Record 7 of Set 10 : erenhot\n",
      "Processing Record 8 of Set 10 : sawakin\n",
      "Processing Record 9 of Set 10 : faanui\n",
      "Processing Record 10 of Set 10 : nuevo casas grandes\n",
      "Processing Record 11 of Set 10 : katobu\n",
      "Processing Record 12 of Set 10 : ngong\n",
      "Processing Record 13 of Set 10 : inhambane\n",
      "Processing Record 14 of Set 10 : novyy urengoy\n",
      "Processing Record 15 of Set 10 : derzhavinsk\n",
      "Processing Record 16 of Set 10 : samarai\n",
      "Processing Record 17 of Set 10 : coahuayana\n",
      "Processing Record 18 of Set 10 : tigil\n",
      "Processing Record 19 of Set 10 : neiafu\n",
      "Processing Record 20 of Set 10 : ambilobe\n",
      "Processing Record 21 of Set 10 : yining\n",
      "Processing Record 22 of Set 10 : mogadishu\n",
      "Processing Record 23 of Set 10 : chernyshevskiy\n",
      "Processing Record 24 of Set 10 : padang\n",
      "Processing Record 25 of Set 10 : plettenberg bay\n",
      "Processing Record 26 of Set 10 : tondano\n",
      "Processing Record 27 of Set 10 : san quintin\n",
      "Processing Record 28 of Set 10 : fortuna\n",
      "Processing Record 29 of Set 10 : ghorawal\n",
      "Processing Record 30 of Set 10 : selje\n",
      "Processing Record 31 of Set 10 : carbonia\n",
      "Processing Record 32 of Set 10 : abha\n",
      "Processing Record 33 of Set 10 : qaqortoq\n",
      "Processing Record 34 of Set 10 : grindavik\n",
      "Processing Record 35 of Set 10 : bahraich\n",
      "Processing Record 36 of Set 10 : umba\n",
      "Processing Record 37 of Set 10 : zhuanghe\n",
      "Processing Record 38 of Set 10 : viedma\n",
      "Processing Record 39 of Set 10 : dunedin\n",
      "Processing Record 40 of Set 10 : akyab\n",
      "Processing Record 41 of Set 10 : buraydah\n",
      "City not found. Skipping...\n",
      "Processing Record 42 of Set 10 : madimba\n",
      "Processing Record 43 of Set 10 : korla\n",
      "Processing Record 44 of Set 10 : paracuru\n",
      "Processing Record 45 of Set 10 : matagami\n",
      "Processing Record 46 of Set 10 : pangnirtung\n",
      "City not found. Skipping...\n",
      "Processing Record 47 of Set 10 : henties bay\n",
      "Processing Record 48 of Set 10 : nantucket\n",
      "Processing Record 49 of Set 10 : ixtapa\n",
      "Processing Record 50 of Set 10 : port macquarie\n",
      "Processing Record 0 of Set 11 : fukue\n",
      "Processing Record 1 of Set 11 : ati\n",
      "City not found. Skipping...\n",
      "Processing Record 2 of Set 11 : isangel\n",
      "Processing Record 3 of Set 11 : doha\n",
      "Processing Record 4 of Set 11 : madang\n",
      "Processing Record 5 of Set 11 : dukat\n",
      "City not found. Skipping...\n",
      "Processing Record 6 of Set 11 : constitucion\n",
      "Processing Record 7 of Set 11 : kalabo\n",
      "Processing Record 8 of Set 11 : taree\n",
      "City not found. Skipping...\n",
      "Processing Record 9 of Set 11 : santa isabel do rio negro\n",
      "Processing Record 10 of Set 11 : ribnitz-damgarten\n",
      "Processing Record 11 of Set 11 : alofi\n",
      "Processing Record 12 of Set 11 : ishigaki\n",
      "City not found. Skipping...\n",
      "Processing Record 13 of Set 11 : zhanakorgan\n",
      "Processing Record 14 of Set 11 : lasa\n",
      "Processing Record 15 of Set 11 : apold\n",
      "City not found. Skipping...\n",
      "Processing Record 16 of Set 11 : baiyin\n",
      "Processing Record 17 of Set 11 : mbanza-ngungu\n",
      "Processing Record 18 of Set 11 : bendigo\n",
      "Processing Record 19 of Set 11 : harper\n",
      "Processing Record 20 of Set 11 : lokoja\n",
      "Processing Record 21 of Set 11 : belmonte\n",
      "Processing Record 22 of Set 11 : strathpeffer\n",
      "Processing Record 23 of Set 11 : shimoda\n",
      "Processing Record 24 of Set 11 : fairbanks\n",
      "Processing Record 25 of Set 11 : leh\n",
      "Processing Record 26 of Set 11 : kuna\n",
      "Processing Record 27 of Set 11 : bosaso\n",
      "Processing Record 28 of Set 11 : doaba\n",
      "Processing Record 29 of Set 11 : ambon\n",
      "Processing Record 30 of Set 11 : hovd\n",
      "Processing Record 31 of Set 11 : mikhaylovka\n",
      "Processing Record 32 of Set 11 : danielskuil\n",
      "City not found. Skipping...\n",
      "Processing Record 33 of Set 11 : pashiya\n",
      "Processing Record 34 of Set 11 : san jose\n",
      "Processing Record 35 of Set 11 : robertsport\n",
      "Processing Record 36 of Set 11 : camacha\n",
      "Processing Record 37 of Set 11 : santa maria\n",
      "Processing Record 38 of Set 11 : tokur\n",
      "Processing Record 39 of Set 11 : am timan\n",
      "Processing Record 40 of Set 11 : irgakly\n",
      "City not found. Skipping...\n",
      "Processing Record 41 of Set 11 : asosa\n",
      "Processing Record 42 of Set 11 : jining\n",
      "Processing Record 43 of Set 11 : charters towers\n",
      "Processing Record 44 of Set 11 : hay river\n",
      "Processing Record 45 of Set 11 : agadez\n",
      "Processing Record 46 of Set 11 : sitka\n",
      "Processing Record 47 of Set 11 : mitoc\n",
      "Processing Record 48 of Set 11 : lamballe\n",
      "Processing Record 49 of Set 11 : banepa\n",
      "----------------------------\n",
      "Data Retrieval Complete\n",
      "----------------------------\n"
     ]
    }
   ],
   "source": [
    "print(\"Beginning Data Retrieval \")\n",
    "print(\"-----------------------------\")\n",
    "\n",
    "base_url = \"http://api.openweathermap.org/data/2.5/weather?\"\n",
    "units = \"imperial\"\n",
    "query_url = f\"{base_url}appid={weather_api_key}&units={units}&q=\"\n",
    "\n",
    "# For each city name in cities list, do the following...\n",
    "for index, city in enumerate(cities, start = 1):\n",
    "    try:\n",
    "        response = requests.get(query_url + city).json()\n",
    "        city_name_list.append(response['name'])\n",
    "        cloudiness_list.append(response['clouds']['all'])\n",
    "        country_list.append(response['sys']['country'])\n",
    "        date_list.append(response['dt'])\n",
    "        humidity_list.append(response['main']['humidity'])\n",
    "        lat_list.append(response['coord']['lat'])\n",
    "        lng_list.append(response['coord']['lon'])\n",
    "        max_temp_list.append(response['main']['temp_max'])\n",
    "        wind_speed_list.append(response['wind']['speed'])\n",
    "        if index_counter > 49:\n",
    "            index_counter = 0\n",
    "            set_counter = set_counter + 1\n",
    "        else:\n",
    "            index_counter = index_counter + 1\n",
    "        print(f\"Processing Record {index_counter} of Set {set_counter} : {city}\")\n",
    "    \n",
    "    except(KeyError, IndexError):\n",
    "        print(\"City not found. Skipping...\")\n",
    "\n",
    "print(\"----------------------------\")\n",
    "print(\"Data Retrieval Complete\")\n",
    "print(\"----------------------------\")"
   ]
  },
  {
   "cell_type": "markdown",
   "metadata": {},
   "source": [
    "### Convert Raw Data to DataFrame\n",
    "* Export the city data into a .csv.\n",
    "* Display the DataFrame"
   ]
  },
  {
   "cell_type": "code",
   "execution_count": 5,
   "metadata": {},
   "outputs": [],
   "source": [
    "# Create initial dictionary with API calls\n",
    "weather_dict = pd.DataFrame ({\"City\":city_name_list,\n",
    "                            \"Cloudiness\":cloudiness_list,\n",
    "                            \"Country\" : country_list,\n",
    "                            \"Date\" : date_list,\n",
    "                            \"Humidity\":humidity_list,\n",
    "                            \"Lat\":lat_list,\n",
    "                            \"Lng\":lng_list,\n",
    "                            \"Max Temp\":max_temp_list,\n",
    "                            \"Wind Speed\":wind_speed_list})"
   ]
  },
  {
   "cell_type": "code",
   "execution_count": 6,
   "metadata": {},
   "outputs": [
    {
     "data": {
      "text/plain": [
       "City          559\n",
       "Cloudiness    559\n",
       "Country       559\n",
       "Date          559\n",
       "Humidity      559\n",
       "Lat           559\n",
       "Lng           559\n",
       "Max Temp      559\n",
       "Wind Speed    559\n",
       "dtype: int64"
      ]
     },
     "execution_count": 6,
     "metadata": {},
     "output_type": "execute_result"
    }
   ],
   "source": [
    "weather_dict.count()"
   ]
  },
  {
   "cell_type": "code",
   "execution_count": 7,
   "metadata": {},
   "outputs": [
    {
     "data": {
      "text/html": [
       "<div>\n",
       "<style scoped>\n",
       "    .dataframe tbody tr th:only-of-type {\n",
       "        vertical-align: middle;\n",
       "    }\n",
       "\n",
       "    .dataframe tbody tr th {\n",
       "        vertical-align: top;\n",
       "    }\n",
       "\n",
       "    .dataframe thead th {\n",
       "        text-align: right;\n",
       "    }\n",
       "</style>\n",
       "<table border=\"1\" class=\"dataframe\">\n",
       "  <thead>\n",
       "    <tr style=\"text-align: right;\">\n",
       "      <th></th>\n",
       "      <th>City</th>\n",
       "      <th>Cloudiness</th>\n",
       "      <th>Country</th>\n",
       "      <th>Date</th>\n",
       "      <th>Humidity</th>\n",
       "      <th>Lat</th>\n",
       "      <th>Lng</th>\n",
       "      <th>Max Temp</th>\n",
       "      <th>Wind Speed</th>\n",
       "    </tr>\n",
       "  </thead>\n",
       "  <tbody>\n",
       "    <tr>\n",
       "      <th>0</th>\n",
       "      <td>Nanortalik</td>\n",
       "      <td>97</td>\n",
       "      <td>GL</td>\n",
       "      <td>1607448608</td>\n",
       "      <td>85</td>\n",
       "      <td>60.14</td>\n",
       "      <td>-45.24</td>\n",
       "      <td>30.61</td>\n",
       "      <td>4.76</td>\n",
       "    </tr>\n",
       "    <tr>\n",
       "      <th>1</th>\n",
       "      <td>Prince Rupert</td>\n",
       "      <td>90</td>\n",
       "      <td>CA</td>\n",
       "      <td>1607448609</td>\n",
       "      <td>87</td>\n",
       "      <td>54.32</td>\n",
       "      <td>-130.32</td>\n",
       "      <td>46.40</td>\n",
       "      <td>12.75</td>\n",
       "    </tr>\n",
       "    <tr>\n",
       "      <th>2</th>\n",
       "      <td>Ismailia</td>\n",
       "      <td>0</td>\n",
       "      <td>EG</td>\n",
       "      <td>1607448610</td>\n",
       "      <td>57</td>\n",
       "      <td>30.60</td>\n",
       "      <td>32.27</td>\n",
       "      <td>63.45</td>\n",
       "      <td>8.37</td>\n",
       "    </tr>\n",
       "    <tr>\n",
       "      <th>3</th>\n",
       "      <td>Sol'-Iletsk</td>\n",
       "      <td>0</td>\n",
       "      <td>RU</td>\n",
       "      <td>1607448610</td>\n",
       "      <td>91</td>\n",
       "      <td>51.16</td>\n",
       "      <td>54.99</td>\n",
       "      <td>7.84</td>\n",
       "      <td>6.76</td>\n",
       "    </tr>\n",
       "    <tr>\n",
       "      <th>4</th>\n",
       "      <td>Jamestown</td>\n",
       "      <td>1</td>\n",
       "      <td>US</td>\n",
       "      <td>1607448610</td>\n",
       "      <td>87</td>\n",
       "      <td>42.10</td>\n",
       "      <td>-79.24</td>\n",
       "      <td>33.01</td>\n",
       "      <td>16.11</td>\n",
       "    </tr>\n",
       "    <tr>\n",
       "      <th>...</th>\n",
       "      <td>...</td>\n",
       "      <td>...</td>\n",
       "      <td>...</td>\n",
       "      <td>...</td>\n",
       "      <td>...</td>\n",
       "      <td>...</td>\n",
       "      <td>...</td>\n",
       "      <td>...</td>\n",
       "      <td>...</td>\n",
       "    </tr>\n",
       "    <tr>\n",
       "      <th>554</th>\n",
       "      <td>Agadez</td>\n",
       "      <td>11</td>\n",
       "      <td>NE</td>\n",
       "      <td>1607448700</td>\n",
       "      <td>18</td>\n",
       "      <td>19.75</td>\n",
       "      <td>10.25</td>\n",
       "      <td>77.13</td>\n",
       "      <td>7.56</td>\n",
       "    </tr>\n",
       "    <tr>\n",
       "      <th>555</th>\n",
       "      <td>Sitka</td>\n",
       "      <td>90</td>\n",
       "      <td>US</td>\n",
       "      <td>1607448700</td>\n",
       "      <td>87</td>\n",
       "      <td>57.05</td>\n",
       "      <td>-135.33</td>\n",
       "      <td>42.80</td>\n",
       "      <td>3.36</td>\n",
       "    </tr>\n",
       "    <tr>\n",
       "      <th>556</th>\n",
       "      <td>Mitoc</td>\n",
       "      <td>90</td>\n",
       "      <td>RO</td>\n",
       "      <td>1607448700</td>\n",
       "      <td>100</td>\n",
       "      <td>48.10</td>\n",
       "      <td>27.03</td>\n",
       "      <td>25.00</td>\n",
       "      <td>10.29</td>\n",
       "    </tr>\n",
       "    <tr>\n",
       "      <th>557</th>\n",
       "      <td>Lamballe</td>\n",
       "      <td>40</td>\n",
       "      <td>FR</td>\n",
       "      <td>1607448700</td>\n",
       "      <td>86</td>\n",
       "      <td>48.47</td>\n",
       "      <td>-2.51</td>\n",
       "      <td>42.01</td>\n",
       "      <td>8.05</td>\n",
       "    </tr>\n",
       "    <tr>\n",
       "      <th>558</th>\n",
       "      <td>Banepā</td>\n",
       "      <td>40</td>\n",
       "      <td>NP</td>\n",
       "      <td>1607448700</td>\n",
       "      <td>93</td>\n",
       "      <td>27.63</td>\n",
       "      <td>85.52</td>\n",
       "      <td>51.80</td>\n",
       "      <td>3.36</td>\n",
       "    </tr>\n",
       "  </tbody>\n",
       "</table>\n",
       "<p>559 rows × 9 columns</p>\n",
       "</div>"
      ],
      "text/plain": [
       "              City  Cloudiness Country        Date  Humidity    Lat     Lng  \\\n",
       "0       Nanortalik          97      GL  1607448608        85  60.14  -45.24   \n",
       "1    Prince Rupert          90      CA  1607448609        87  54.32 -130.32   \n",
       "2         Ismailia           0      EG  1607448610        57  30.60   32.27   \n",
       "3      Sol'-Iletsk           0      RU  1607448610        91  51.16   54.99   \n",
       "4        Jamestown           1      US  1607448610        87  42.10  -79.24   \n",
       "..             ...         ...     ...         ...       ...    ...     ...   \n",
       "554         Agadez          11      NE  1607448700        18  19.75   10.25   \n",
       "555          Sitka          90      US  1607448700        87  57.05 -135.33   \n",
       "556          Mitoc          90      RO  1607448700       100  48.10   27.03   \n",
       "557       Lamballe          40      FR  1607448700        86  48.47   -2.51   \n",
       "558         Banepā          40      NP  1607448700        93  27.63   85.52   \n",
       "\n",
       "     Max Temp  Wind Speed  \n",
       "0       30.61        4.76  \n",
       "1       46.40       12.75  \n",
       "2       63.45        8.37  \n",
       "3        7.84        6.76  \n",
       "4       33.01       16.11  \n",
       "..        ...         ...  \n",
       "554     77.13        7.56  \n",
       "555     42.80        3.36  \n",
       "556     25.00       10.29  \n",
       "557     42.01        8.05  \n",
       "558     51.80        3.36  \n",
       "\n",
       "[559 rows x 9 columns]"
      ]
     },
     "execution_count": 7,
     "metadata": {},
     "output_type": "execute_result"
    }
   ],
   "source": [
    "# Display the Data Frame\n",
    "weather_dict"
   ]
  },
  {
   "cell_type": "code",
   "execution_count": 8,
   "metadata": {},
   "outputs": [
    {
     "data": {
      "text/html": [
       "<div>\n",
       "<style scoped>\n",
       "    .dataframe tbody tr th:only-of-type {\n",
       "        vertical-align: middle;\n",
       "    }\n",
       "\n",
       "    .dataframe tbody tr th {\n",
       "        vertical-align: top;\n",
       "    }\n",
       "\n",
       "    .dataframe thead th {\n",
       "        text-align: right;\n",
       "    }\n",
       "</style>\n",
       "<table border=\"1\" class=\"dataframe\">\n",
       "  <thead>\n",
       "    <tr style=\"text-align: right;\">\n",
       "      <th></th>\n",
       "      <th>Cloudiness</th>\n",
       "      <th>Date</th>\n",
       "      <th>Humidity</th>\n",
       "      <th>Lat</th>\n",
       "      <th>Lng</th>\n",
       "      <th>Max Temp</th>\n",
       "      <th>Wind Speed</th>\n",
       "    </tr>\n",
       "  </thead>\n",
       "  <tbody>\n",
       "    <tr>\n",
       "      <th>count</th>\n",
       "      <td>559.000000</td>\n",
       "      <td>5.590000e+02</td>\n",
       "      <td>559.000000</td>\n",
       "      <td>559.000000</td>\n",
       "      <td>559.000000</td>\n",
       "      <td>559.000000</td>\n",
       "      <td>559.000000</td>\n",
       "    </tr>\n",
       "    <tr>\n",
       "      <th>mean</th>\n",
       "      <td>53.971377</td>\n",
       "      <td>1.607449e+09</td>\n",
       "      <td>72.330948</td>\n",
       "      <td>18.849893</td>\n",
       "      <td>15.884365</td>\n",
       "      <td>54.500268</td>\n",
       "      <td>8.170054</td>\n",
       "    </tr>\n",
       "    <tr>\n",
       "      <th>std</th>\n",
       "      <td>36.717207</td>\n",
       "      <td>6.512493e+01</td>\n",
       "      <td>20.840828</td>\n",
       "      <td>33.249361</td>\n",
       "      <td>90.819970</td>\n",
       "      <td>28.181113</td>\n",
       "      <td>5.348562</td>\n",
       "    </tr>\n",
       "    <tr>\n",
       "      <th>min</th>\n",
       "      <td>0.000000</td>\n",
       "      <td>1.607448e+09</td>\n",
       "      <td>11.000000</td>\n",
       "      <td>-54.800000</td>\n",
       "      <td>-175.200000</td>\n",
       "      <td>-36.920000</td>\n",
       "      <td>0.720000</td>\n",
       "    </tr>\n",
       "    <tr>\n",
       "      <th>25%</th>\n",
       "      <td>20.000000</td>\n",
       "      <td>1.607449e+09</td>\n",
       "      <td>62.000000</td>\n",
       "      <td>-7.900000</td>\n",
       "      <td>-64.500000</td>\n",
       "      <td>34.000000</td>\n",
       "      <td>4.175000</td>\n",
       "    </tr>\n",
       "    <tr>\n",
       "      <th>50%</th>\n",
       "      <td>66.000000</td>\n",
       "      <td>1.607449e+09</td>\n",
       "      <td>78.000000</td>\n",
       "      <td>21.320000</td>\n",
       "      <td>18.730000</td>\n",
       "      <td>63.140000</td>\n",
       "      <td>6.930000</td>\n",
       "    </tr>\n",
       "    <tr>\n",
       "      <th>75%</th>\n",
       "      <td>90.000000</td>\n",
       "      <td>1.607449e+09</td>\n",
       "      <td>88.000000</td>\n",
       "      <td>48.285000</td>\n",
       "      <td>96.580000</td>\n",
       "      <td>77.000000</td>\n",
       "      <td>11.390000</td>\n",
       "    </tr>\n",
       "    <tr>\n",
       "      <th>max</th>\n",
       "      <td>100.000000</td>\n",
       "      <td>1.607449e+09</td>\n",
       "      <td>100.000000</td>\n",
       "      <td>78.220000</td>\n",
       "      <td>179.320000</td>\n",
       "      <td>102.110000</td>\n",
       "      <td>39.530000</td>\n",
       "    </tr>\n",
       "  </tbody>\n",
       "</table>\n",
       "</div>"
      ],
      "text/plain": [
       "       Cloudiness          Date    Humidity         Lat         Lng  \\\n",
       "count  559.000000  5.590000e+02  559.000000  559.000000  559.000000   \n",
       "mean    53.971377  1.607449e+09   72.330948   18.849893   15.884365   \n",
       "std     36.717207  6.512493e+01   20.840828   33.249361   90.819970   \n",
       "min      0.000000  1.607448e+09   11.000000  -54.800000 -175.200000   \n",
       "25%     20.000000  1.607449e+09   62.000000   -7.900000  -64.500000   \n",
       "50%     66.000000  1.607449e+09   78.000000   21.320000   18.730000   \n",
       "75%     90.000000  1.607449e+09   88.000000   48.285000   96.580000   \n",
       "max    100.000000  1.607449e+09  100.000000   78.220000  179.320000   \n",
       "\n",
       "         Max Temp  Wind Speed  \n",
       "count  559.000000  559.000000  \n",
       "mean    54.500268    8.170054  \n",
       "std     28.181113    5.348562  \n",
       "min    -36.920000    0.720000  \n",
       "25%     34.000000    4.175000  \n",
       "50%     63.140000    6.930000  \n",
       "75%     77.000000   11.390000  \n",
       "max    102.110000   39.530000  "
      ]
     },
     "execution_count": 8,
     "metadata": {},
     "output_type": "execute_result"
    }
   ],
   "source": [
    "weather_dict.describe()"
   ]
  },
  {
   "cell_type": "code",
   "execution_count": 9,
   "metadata": {},
   "outputs": [],
   "source": [
    "# Save city data into a csv file\n",
    "weather_dict.to_csv(\"output_data/cities.csv\", index = False)"
   ]
  },
  {
   "cell_type": "markdown",
   "metadata": {},
   "source": [
    "## Inspect the data and remove the cities where the humidity > 100%.\n",
    "----\n",
    "Skip this step if there are no cities that have humidity > 100%. "
   ]
  },
  {
   "cell_type": "code",
   "execution_count": null,
   "metadata": {},
   "outputs": [],
   "source": []
  },
  {
   "cell_type": "code",
   "execution_count": 10,
   "metadata": {},
   "outputs": [],
   "source": [
    "#  Get the indices of cities that have humidity over 100%.\n"
   ]
  },
  {
   "cell_type": "code",
   "execution_count": 11,
   "metadata": {},
   "outputs": [],
   "source": [
    "# Make a new DataFrame equal to the city data to drop all humidity outliers by index.\n",
    "# Passing \"inplace=False\" will make a copy of the city_data DataFrame, which we call \"clean_city_data\".\n"
   ]
  },
  {
   "cell_type": "code",
   "execution_count": null,
   "metadata": {},
   "outputs": [],
   "source": [
    "\n"
   ]
  },
  {
   "cell_type": "markdown",
   "metadata": {},
   "source": [
    "## Plotting the Data\n",
    "* Use proper labeling of the plots using plot titles (including date of analysis) and axes labels.\n",
    "* Save the plotted figures as .pngs."
   ]
  },
  {
   "cell_type": "markdown",
   "metadata": {},
   "source": [
    "## Latitude vs. Temperature Plot"
   ]
  },
  {
   "cell_type": "code",
   "execution_count": 12,
   "metadata": {
    "scrolled": true
   },
   "outputs": [
    {
     "data": {
      "image/png": "[encoded data removed]",
      "text/plain": [
       "<Figure size 432x288 with 1 Axes>"
      ]
     },
     "metadata": {
      "needs_background": "light"
     },
     "output_type": "display_data"
    }
   ],
   "source": [
    "# Create Latitude vs. Temperature Plot scatter plot\n",
    "plt.scatter(weather_dict[\"Lat\"], weather_dict[\"Max Temp\"], facecolor = \"red\", edgecolor = \"black\")\n",
    "\n",
    "# Set title\n",
    "plt.title(\"City Latitude vs. Max Temperature (12/07/2020)\")\n",
    "\n",
    "# Set x axis label\n",
    "plt.xlabel(\"Latitude\")\n",
    "\n",
    "# Set y axis label\n",
    "plt.ylabel(\"Max Temperature (F)\")\n",
    "\n",
    "# Set grid line\n",
    "plt.grid(linestyle=\"-\", linewidth=1, alpha = 0.5)\n",
    "\n",
    "# Save the plotted figure as .pngs\n",
    "plt.savefig(\"output_data/Images/City Latitude vs Max Temperature.png\")"
   ]
  },
  {
   "cell_type": "markdown",
   "metadata": {},
   "source": [
    "Highest temperature is found at 0 latitude and as the latitude increases or decreases, temperature drops."
   ]
  },
  {
   "cell_type": "markdown",
   "metadata": {},
   "source": [
    "## Latitude vs. Humidity Plot"
   ]
  },
  {
   "cell_type": "code",
   "execution_count": 13,
   "metadata": {},
   "outputs": [
    {
     "data": {
      "image/png": "[encoded data removed]",
      "text/plain": [
       "<Figure size 432x288 with 1 Axes>"
      ]
     },
     "metadata": {
      "needs_background": "light"
     },
     "output_type": "display_data"
    }
   ],
   "source": [
    "# Create Latitude vs. Humidity Plot scatter plot\n",
    "plt.scatter(weather_dict[\"Lat\"], weather_dict[\"Humidity\"], facecolor = \"orange\", edgecolor = \"black\")\n",
    "\n",
    "# Set title\n",
    "plt.title(\"City Latitude vs. Humidity (12/07/2020)\")\n",
    "\n",
    "# Set x axis label\n",
    "plt.xlabel(\"Latitude\")\n",
    "\n",
    "# Set y axis label\n",
    "plt.ylabel(\"Humidity (%)\")\n",
    "\n",
    "# Set grid line\n",
    "plt.grid(linestyle=\"-\", linewidth=1, alpha = 0.5)\n",
    "\n",
    "# Save the plotted figure as png\n",
    "plt.savefig(\"output_data/Images/City Latitude vs Humidity.png\")"
   ]
  },
  {
   "cell_type": "markdown",
   "metadata": {},
   "source": [
    "Polar regions have lower humidity and as latitude gets higher, humidity gets higher in the southern hemisphere."
   ]
  },
  {
   "cell_type": "markdown",
   "metadata": {},
   "source": [
    "## Latitude vs. Cloudiness Plot"
   ]
  },
  {
   "cell_type": "code",
   "execution_count": 14,
   "metadata": {},
   "outputs": [
    {
     "data": {
      "image/png": "[encoded data removed]",
      "text/plain": [
       "<Figure size 432x288 with 1 Axes>"
      ]
     },
     "metadata": {
      "needs_background": "light"
     },
     "output_type": "display_data"
    }
   ],
   "source": [
    "# Create a Latitude vs. Cloudiness Plot scatter plot\n",
    "plt.scatter(weather_dict[\"Lat\"], weather_dict[\"Cloudiness\"], facecolor = \"yellow\", edgecolor= \"black\")\n",
    "\n",
    "# Set title\n",
    "plt.title(\"City Latitude vs Cloudiness (12/07/2020)\")\n",
    "\n",
    "# Set x axis label\n",
    "plt.xlabel(\"Latitude\")\n",
    "\n",
    "# Set y axis label\n",
    "plt.ylabel(\"Cloudiness\")\n",
    "\n",
    "# Set grid line\n",
    "plt.grid(linestyle=\"-\", linewidth=1, alpha = 0.5)\n",
    "\n",
    "# Save the plotted figure as png\n",
    "plt.savefig(\"output_data/Images/City Latitude vs Cloudiness.png\")"
   ]
  },
  {
   "cell_type": "markdown",
   "metadata": {},
   "source": [
    "Cloudiness data is widely spread across the latitude."
   ]
  },
  {
   "cell_type": "markdown",
   "metadata": {},
   "source": [
    "## Latitude vs. Wind Speed Plot"
   ]
  },
  {
   "cell_type": "code",
   "execution_count": 15,
   "metadata": {},
   "outputs": [
    {
     "data": {
      "image/png": "[encoded data removed]",
      "text/plain": [
       "<Figure size 432x288 with 1 Axes>"
      ]
     },
     "metadata": {
      "needs_background": "light"
     },
     "output_type": "display_data"
    }
   ],
   "source": [
    "# Create Latitude vs. Wind Speed Plot scatter plot\n",
    "plt.scatter(weather_dict[\"Lat\"], weather_dict[\"Wind Speed\"], facecolor =\"green\", edgecolor = \"black\")\n",
    "\n",
    "# Set title\n",
    "plt. title(\"City Latitude vs. Wind Speed (mph) (12/07/2020)\")\n",
    "\n",
    "# Set x axis label\n",
    "plt.xlabel(\"Latitude\")\n",
    "\n",
    "# Set y axis label\n",
    "plt.ylabel(\"Wind Speed (%)\")\n",
    "\n",
    "# Set y axis limit\n",
    "plt.ylim(-2,50)\n",
    "\n",
    "# Set grid line\n",
    "plt.grid(linestyle=\"-\", linewidth=1, alpha =0.5)\n",
    "\n",
    "# Save the plotted figure as png\n",
    "plt.savefig(\"output_data/Images/City Latitude vs Wind Speed (mph).png\")"
   ]
  },
  {
   "cell_type": "markdown",
   "metadata": {},
   "source": [
    "Wind speed data is widely spread across the latitude"
   ]
  },
  {
   "cell_type": "markdown",
   "metadata": {},
   "source": [
    "## Linear Regression"
   ]
  },
  {
   "cell_type": "code",
   "execution_count": 16,
   "metadata": {},
   "outputs": [],
   "source": [
    "# Create Northern and Southern Hemisphere DataFrames\n",
    "northern_hemisphere = weather_dict.loc[weather_dict[\"Lat\"] >= 0]\n",
    "southern_hemisphere = weather_dict.loc[weather_dict[\"Lng\"] < 0]"
   ]
  },
  {
   "cell_type": "code",
   "execution_count": 17,
   "metadata": {},
   "outputs": [],
   "source": [
    "# Define function for creating linear agression and scatter plot\n",
    "def linear_agression(x,y):\n",
    "    print(f\"The r squared is : {round(st.pearsonr(x,y)[0],2)}\")\n",
    "    (slope, intercept, rvalue, pvalue, stderr) =  linregress(x,y)\n",
    "    regress_values = x * slope + intercept\n",
    "    line_eq = \"y = \" + str(round(slope,2)) + \"x + \" + str(round(intercept,2))\n",
    "    plt.scatter(x, y)\n",
    "    plt.plot(x,regress_values,\"r-\")\n",
    "    return line_eq\n",
    "\n",
    "# Define a function for annotating\n",
    "def annotate(line_eq, a, b):\n",
    "    plt.annotate(line_eq,(a,b),fontsize=15, color =\"red\")"
   ]
  },
  {
   "cell_type": "markdown",
   "metadata": {},
   "source": [
    "####  Northern Hemisphere - Max Temp vs. Latitude Linear Regression"
   ]
  },
  {
   "cell_type": "code",
   "execution_count": 18,
   "metadata": {},
   "outputs": [
    {
     "name": "stdout",
     "output_type": "stream",
     "text": [
      "The r squared is : -0.88\n"
     ]
    },
    {
     "data": {
      "image/png": "[encoded data removed]",
      "text/plain": [
       "<Figure size 432x288 with 1 Axes>"
      ]
     },
     "metadata": {
      "needs_background": "light"
     },
     "output_type": "display_data"
    }
   ],
   "source": [
    "# Call on function #1\n",
    "equation = linear_agression(northern_hemisphere[\"Lat\"], northern_hemisphere[\"Max Temp\"])\n",
    "\n",
    "# Call on function #2\n",
    "annotate(equation, 0, 0)\n",
    "\n",
    "#Set a title\n",
    "plt.title(\"Northern Hemisphere - Max Temp vs. Latitude Linear Regression\")\n",
    "\n",
    "# Set xlabel\n",
    "plt.xlabel(\"Latitude\")\n",
    "\n",
    "#Set ylabel\n",
    "plt.ylabel(\"Max Temp (F)\")\n",
    "\n",
    "# Save the figure as png\n",
    "plt.savefig(\"output_data/Images/Northern Hemisphere - Max Temp vs Latitude Linear Regression.png\")"
   ]
  },
  {
   "cell_type": "markdown",
   "metadata": {},
   "source": [
    "There is a strong negative correlation between latitude and max temperature for the northern hemisphere."
   ]
  },
  {
   "cell_type": "markdown",
   "metadata": {},
   "source": [
    "####  Southern Hemisphere - Max Temp vs. Latitude Linear Regression"
   ]
  },
  {
   "cell_type": "code",
   "execution_count": 19,
   "metadata": {
    "scrolled": true
   },
   "outputs": [
    {
     "name": "stdout",
     "output_type": "stream",
     "text": [
      "The r squared is : -0.78\n"
     ]
    },
    {
     "data": {
      "image/png": "[encoded data removed]",
      "text/plain": [
       "<Figure size 432x288 with 1 Axes>"
      ]
     },
     "metadata": {
      "needs_background": "light"
     },
     "output_type": "display_data"
    }
   ],
   "source": [
    "# Call on function #1\n",
    "equation = linear_agression(southern_hemisphere[\"Lat\"],southern_hemisphere[\"Max Temp\"])\n",
    "\n",
    "# Call on function #2\n",
    "annotate(equation, -30, 50)\n",
    "\n",
    "# Set a title\n",
    "plt.title(\"Southern Hemisphere - Max Temp vs. Latitude Linear Regression\")\n",
    "\n",
    "# Set xlabel\n",
    "plt.xlabel(\"Latitude\")\n",
    "\n",
    "# Set ylabel\n",
    "plt.ylabel(\"Max Temp (F)\")\n",
    "\n",
    "# Save the figure as png\n",
    "plt.savefig(\"output_data/Images/Southern Hemisphere - Max Temp vs Latitude Linear Regression.png\")"
   ]
  },
  {
   "cell_type": "markdown",
   "metadata": {},
   "source": [
    "There is a negative correlation between latitude and max temperature for southern hemisphere."
   ]
  },
  {
   "cell_type": "markdown",
   "metadata": {},
   "source": [
    "####  Northern Hemisphere - Humidity (%) vs. Latitude Linear Regression"
   ]
  },
  {
   "cell_type": "code",
   "execution_count": 20,
   "metadata": {},
   "outputs": [
    {
     "name": "stdout",
     "output_type": "stream",
     "text": [
      "The r squared is : 0.37\n"
     ]
    },
    {
     "data": {
      "image/png": "[encoded data removed]",
      "text/plain": [
       "<Figure size 432x288 with 1 Axes>"
      ]
     },
     "metadata": {
      "needs_background": "light"
     },
     "output_type": "display_data"
    }
   ],
   "source": [
    "# Call on function #1\n",
    "equation = linear_agression(northern_hemisphere[\"Lat\"], northern_hemisphere[\"Humidity\"])\n",
    "\n",
    "# Call on function #2\n",
    "annotate(equation, 40, 15)\n",
    "\n",
    "# Set a title\n",
    "plt.title(\"Northern Hemisphere = Humidity (%) vs. Latitude Linear Regression\")\n",
    "\n",
    "# Set xlabel\n",
    "plt.xlabel(\"Latitude\")\n",
    "\n",
    "# Set ylabel\n",
    "plt.ylabel(\"Humidity (%)\")\n",
    "\n",
    "# Save the figure\n",
    "plt.savefig(\"output_data/Images/Northern Hemisphere - Humidity (%) vs Latitude Linear Regression.png\")\n",
    "                                                                "
   ]
  },
  {
   "cell_type": "markdown",
   "metadata": {},
   "source": [
    "There is a moderate positive correlation between latitude and humidity for northern hemisphere."
   ]
  },
  {
   "cell_type": "markdown",
   "metadata": {},
   "source": [
    "####  Southern Hemisphere - Humidity (%) vs. Latitude Linear Regression"
   ]
  },
  {
   "cell_type": "code",
   "execution_count": 21,
   "metadata": {},
   "outputs": [
    {
     "name": "stdout",
     "output_type": "stream",
     "text": [
      "The r squared is : 0.28\n"
     ]
    },
    {
     "data": {
      "image/png": "[encoded data removed]",
      "text/plain": [
       "<Figure size 432x288 with 1 Axes>"
      ]
     },
     "metadata": {
      "needs_background": "light"
     },
     "output_type": "display_data"
    }
   ],
   "source": [
    "# Call on function #1\n",
    "equation = linear_agression(southern_hemisphere[\"Lat\"], southern_hemisphere[\"Humidity\"])\n",
    "\n",
    "# Call on function #2\n",
    "annotate(equation, -40, 50)\n",
    "\n",
    "# Set title\n",
    "plt.title(\"Southern Hemishpere = Humidity (%) vs. Latitude Linear Regression\")\n",
    "\n",
    "# Set xlabel\n",
    "plt.xlabel(\"Latitude\")\n",
    "\n",
    "# Set ylabel\n",
    "plt.ylabel(\"Humidity (%)\")\n",
    "\n",
    "# Save the figure in png\n",
    "plt.savefig(\"output_data/Images/Southern Hemisphere - Humidity (%) vs Latitude Linear Regression.png\")"
   ]
  },
  {
   "cell_type": "markdown",
   "metadata": {},
   "source": [
    "There is a moderate positive correlation between latitude and humidity for the southern hemisphere."
   ]
  },
  {
   "cell_type": "markdown",
   "metadata": {},
   "source": [
    "####  Northern Hemisphere - Cloudiness (%) vs. Latitude Linear Regression"
   ]
  },
  {
   "cell_type": "code",
   "execution_count": 22,
   "metadata": {},
   "outputs": [
    {
     "name": "stdout",
     "output_type": "stream",
     "text": [
      "The r squared is : 0.19\n"
     ]
    },
    {
     "data": {
      "image/png": "[encoded data removed]",
      "text/plain": [
       "<Figure size 432x288 with 1 Axes>"
      ]
     },
     "metadata": {
      "needs_background": "light"
     },
     "output_type": "display_data"
    }
   ],
   "source": [
    "# Call on function #1\n",
    "equation = linear_agression(northern_hemisphere[\"Lat\"], northern_hemisphere[\"Cloudiness\"])\n",
    "\n",
    "# Call on function #2\n",
    "annotate(equation, 30, 40)\n",
    "\n",
    "# Set a title\n",
    "plt.title(\"Northern Hemishpere - Cloudiness (%) vs Latitude Linear Regression\")\n",
    "\n",
    "# Set xlabel\n",
    "plt.xlabel(\"Latitude\")\n",
    "\n",
    "# Set ylabel\n",
    "plt.ylabel(\"Cloudiness (%)\")\n",
    "\n",
    "# Save the figure as a png\n",
    "plt.savefig(\"output_data/Images/Northern Hemisphere - Cloudiness (%) vs Latitude Linear Regression.png\")"
   ]
  },
  {
   "cell_type": "markdown",
   "metadata": {},
   "source": [
    "There is a weak positive correlation between latitude and cloudiness for the norhtern hemisphere."
   ]
  },
  {
   "cell_type": "markdown",
   "metadata": {},
   "source": [
    "####  Southern Hemisphere - Cloudiness (%) vs. Latitude Linear Regression"
   ]
  },
  {
   "cell_type": "code",
   "execution_count": 23,
   "metadata": {
    "scrolled": true
   },
   "outputs": [
    {
     "name": "stdout",
     "output_type": "stream",
     "text": [
      "The r squared is : 0.08\n"
     ]
    },
    {
     "data": {
      "image/png": "[encoded data removed]",
      "text/plain": [
       "<Figure size 432x288 with 1 Axes>"
      ]
     },
     "metadata": {
      "needs_background": "light"
     },
     "output_type": "display_data"
    }
   ],
   "source": [
    "# Call function #1\n",
    "equation = linear_agression(southern_hemisphere[\"Lat\"], southern_hemisphere[\"Cloudiness\"])\n",
    "\n",
    "# Call on function #2\n",
    "annotate(equation, -30, 40)\n",
    "\n",
    "# Set a title\n",
    "plt.title(\"Southern Hemisphere - Cloudiness (%) vs. Latitude Linear Regression\")\n",
    "\n",
    "# Set xlabel\n",
    "plt.xlabel(\"Latitude\")\n",
    "\n",
    "# Set ylabel\n",
    "plt.ylabel(\"Cloudiness (%)\")\n",
    "\n",
    "# Save the figure as png\n",
    "plt.savefig(\"output_data/Images/Southern Hemisphere - Cloudiness (%) vs Latitude Linear Regression.png\")"
   ]
  },
  {
   "cell_type": "markdown",
   "metadata": {},
   "source": [
    "There is a weak positive correlation between latitude and cloudiness for the southern hemisphere."
   ]
  },
  {
   "cell_type": "markdown",
   "metadata": {},
   "source": [
    "####  Northern Hemisphere - Wind Speed (mph) vs. Latitude Linear Regression"
   ]
  },
  {
   "cell_type": "code",
   "execution_count": 24,
   "metadata": {},
   "outputs": [
    {
     "name": "stdout",
     "output_type": "stream",
     "text": [
      "The r squared is : 0.04\n"
     ]
    },
    {
     "data": {
      "image/png": "[encoded data removed]",
      "text/plain": [
       "<Figure size 432x288 with 1 Axes>"
      ]
     },
     "metadata": {
      "needs_background": "light"
     },
     "output_type": "display_data"
    }
   ],
   "source": [
    "# Call an function #1\n",
    "equation = linear_agression(northern_hemisphere[\"Lat\"], northern_hemisphere[\"Wind Speed\"])\n",
    "\n",
    "# Call an function #2\n",
    "annotate(equation, 40, 20)\n",
    "\n",
    "# Set  title\n",
    "plt.title(\"Northern Hemisphere - Wind Speed (mph) vs. Latitude Linear Regression\")\n",
    "\n",
    "# Set xlabel\n",
    "plt.xlabel(\"Latitude\")\n",
    "\n",
    "# Set ylabel\n",
    "plt.ylabel(\"Wind Speed (mph)\")\n",
    "\n",
    "# Save the figure\n",
    "plt.savefig(\"output_data/Images/Northern Hemisphere - Wind Speed vs Latitude Linear Regression.png\")"
   ]
  },
  {
   "cell_type": "markdown",
   "metadata": {},
   "source": [
    "There is a weak positive correlation between latitude and wind speed for northern hemisphere."
   ]
  },
  {
   "cell_type": "markdown",
   "metadata": {},
   "source": [
    "####  Southern Hemisphere - Wind Speed (mph) vs. Latitude Linear Regression"
   ]
  },
  {
   "cell_type": "code",
   "execution_count": 25,
   "metadata": {},
   "outputs": [
    {
     "name": "stdout",
     "output_type": "stream",
     "text": [
      "The r squared is : -0.13\n"
     ]
    },
    {
     "data": {
      "image/png": "[encoded data removed]",
      "text/plain": [
       "<Figure size 432x288 with 1 Axes>"
      ]
     },
     "metadata": {
      "needs_background": "light"
     },
     "output_type": "display_data"
    }
   ],
   "source": [
    "# Call an function #1\n",
    "equation = linear_agression(southern_hemisphere[\"Lat\"], southern_hemisphere[\"Wind Speed\"])\n",
    "\n",
    "# Call an function #2\n",
    "annotate(equation, -30, 15)\n",
    "\n",
    "# Set  title\n",
    "plt.title(\"Southern Hemisphere - Wind Speed (mph) vs. Latitude Linear Regression\")\n",
    "\n",
    "# Set xlabel\n",
    "plt.xlabel(\"Latitude\")\n",
    "\n",
    "# Set ylabel\n",
    "plt.ylabel(\"Wind Speed (mph)\")\n",
    "\n",
    "# Save the figure\n",
    "plt.savefig(\"output_data/Images/Southern Hemisphere - Wind Speed vs Latitude Linear Regression.png\")"
   ]
  },
  {
   "cell_type": "markdown",
   "metadata": {},
   "source": [
    "There is a weak negative correlation between latitude and wind speed for the southern hemisphere."
   ]
  }
 ],
 "metadata": {
  "anaconda-cloud": {},
  "kernel_info": {
   "name": "python3"
  },
  "kernelspec": {
   "display_name": "PythonData2",
   "language": "python",
   "name": "pythondata2"
  },
  "language_info": {
   "codemirror_mode": {
    "name": "ipython",
    "version": 3
   },
   "file_extension": ".py",
   "mimetype": "text/x-python",
   "name": "python",
   "nbconvert_exporter": "python",
   "pygments_lexer": "ipython3",
   "version": "3.8.3"
  },
  "latex_envs": {
   "LaTeX_envs_menu_present": true,
   "autoclose": false,
   "autocomplete": true,
   "bibliofile": "biblio.bib",
   "cite_by": "apalike",
   "current_citInitial": 1,
   "eqLabelWithNumbers": true,
   "eqNumInitial": 1,
   "hotkeys": {
    "equation": "Ctrl-E",
    "itemize": "Ctrl-I"
   },
   "labels_anchors": false,
   "latex_user_defs": false,
   "report_style_numbering": false,
   "user_envs_cfg": false
  },
  "nteract": {
   "version": "0.12.3"
  }
 },
 "nbformat": 4,
 "nbformat_minor": 2
}
