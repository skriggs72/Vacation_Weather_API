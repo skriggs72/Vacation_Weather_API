{
 "cells": [
  {
   "cell_type": "markdown",
   "metadata": {},
   "source": [
    "# WeatherPy\n",
    "----\n",
    "\n",
    "#### Note\n",
    "* Instructions have been included for each segment. You do not have to follow them exactly, but they are included to help you think through the steps."
   ]
  },
  {
   "cell_type": "markdown",
   "metadata": {},
   "source": [
    "Observation 1: Southern Hemisphere climates tend to be slightly milder than those at similar latitudes in the Northern Hemisphere. This is because teh Southern Hemisphere has significantly more ocean and much less land; water heats up and cools down more slowly than land.\n",
    "\n",
    "Observation 2: Highest temperature is found at 0 latituted and as the latitude increases or decreases, temperature drops. This happens as equatorial region receives sunlight straight with less or no angle due to curvature shape of the earth.\n",
    "\n",
    "Observation 3: Latitude doesn't have a storng influence on wind speed. The speed of the wind is controlled by the strength of the air pressure gradient, the stonger the pressure gradient the higher the higher the wind speed."
   ]
  },
  {
   "cell_type": "code",
   "execution_count": 32,
   "metadata": {
    "scrolled": true
   },
   "outputs": [],
   "source": [
    "# Dependencies and Setup\n",
    "import matplotlib.pyplot as plt\n",
    "import pandas as pd\n",
    "import numpy as np\n",
    "import requests\n",
    "import time\n",
    "import scipy.stats as st\n",
    "from scipy.stats import linregress\n",
    "import time\n",
    "\n",
    "# Import API key\n",
    "from api_keys import weather_api_key\n",
    "\n",
    "# Incorporated citipy to determine city based on latitude and longitude\n",
    "from citipy import citipy\n",
    "\n",
    "# Output File (CSV)\n",
    "output_data_file = \"output_data/cities.csv\"\n",
    "\n",
    "# Range of latitudes and longitudes\n",
    "lat_range = (-90, 90)\n",
    "lng_range = (-180, 180)"
   ]
  },
  {
   "cell_type": "markdown",
   "metadata": {},
   "source": [
    "## Generate Cities List"
   ]
  },
  {
   "cell_type": "code",
   "execution_count": 2,
   "metadata": {},
   "outputs": [
    {
     "data": {
      "text/plain": [
       "626"
      ]
     },
     "execution_count": 2,
     "metadata": {},
     "output_type": "execute_result"
    }
   ],
   "source": [
    "# List for holding lat_lngs and cities\n",
    "lat_lngs = []\n",
    "cities = []\n",
    "countries = []\n",
    "\n",
    "# Create a set of random lat and lng combinations\n",
    "lats = np.random.uniform(low=-90.000, high=90.000, size=1500)\n",
    "lngs = np.random.uniform(low =-180.000, high=180.000, size=1500)\n",
    "lat_lngs = zip(lats, lngs)\n",
    "\n",
    "# Identify nearest city for each lat, lng combination\n",
    "for lat_lng in lat_lngs:\n",
    "    city = citipy.nearest_city(lat_lng[0], lat_lng[1]).city_name\n",
    "    \n",
    "    # If the city is unique, then add it to a our cities list\n",
    "    if city not in cities:\n",
    "        cities.append(city)\n",
    "                \n",
    "# Print the city count to confirm sufficient count\n",
    "len(cities)"
   ]
  },
  {
   "cell_type": "code",
   "execution_count": 3,
   "metadata": {
    "scrolled": true
   },
   "outputs": [],
   "source": [
    "city_name_list = []\n",
    "cloudiness_list = []\n",
    "country_list = []\n",
    "date_list = []\n",
    "humidity_list = []\n",
    "lat_list = []\n",
    "lng_list = []\n",
    "max_temp_list = []\n",
    "wind_speed_list = []\n",
    "index_counter = 0\n",
    "set_counter = 1"
   ]
  },
  {
   "cell_type": "markdown",
   "metadata": {},
   "source": [
    "### Perform API Calls\n",
    "* Perform a weather check on each city using a series of successive API calls.\n",
    "* Include a print log of each city as it'sbeing processed (with the city number and city name).\n"
   ]
  },
  {
   "cell_type": "code",
   "execution_count": 4,
   "metadata": {
    "scrolled": true
   },
   "outputs": [
    {
     "name": "stdout",
     "output_type": "stream",
     "text": [
      "Beginning Data Retrieval \n",
      "-----------------------------\n",
      "Processing Record 1 of Set 1 : marystown\n",
      "City not found. Skipping...\n",
      "Processing Record 2 of Set 1 : punta arenas\n",
      "Processing Record 3 of Set 1 : barrow\n",
      "Processing Record 4 of Set 1 : albany\n",
      "Processing Record 5 of Set 1 : nalut\n",
      "Processing Record 6 of Set 1 : cockburn town\n",
      "Processing Record 7 of Set 1 : guerrero negro\n",
      "Processing Record 8 of Set 1 : guarapari\n",
      "Processing Record 9 of Set 1 : praia\n",
      "City not found. Skipping...\n",
      "City not found. Skipping...\n",
      "Processing Record 10 of Set 1 : rikitea\n",
      "City not found. Skipping...\n",
      "Processing Record 11 of Set 1 : vaini\n",
      "City not found. Skipping...\n",
      "Processing Record 12 of Set 1 : diamantino\n",
      "City not found. Skipping...\n",
      "City not found. Skipping...\n",
      "Processing Record 13 of Set 1 : busselton\n",
      "Processing Record 14 of Set 1 : torbay\n",
      "Processing Record 15 of Set 1 : cape town\n",
      "Processing Record 16 of Set 1 : port alfred\n",
      "Processing Record 17 of Set 1 : hobart\n",
      "Processing Record 18 of Set 1 : ushuaia\n",
      "Processing Record 19 of Set 1 : avera\n",
      "Processing Record 20 of Set 1 : provideniya\n",
      "Processing Record 21 of Set 1 : avarua\n",
      "Processing Record 22 of Set 1 : tuatapere\n",
      "Processing Record 23 of Set 1 : yellowknife\n",
      "Processing Record 24 of Set 1 : butaritari\n",
      "Processing Record 25 of Set 1 : nishihara\n",
      "Processing Record 26 of Set 1 : arraial do cabo\n",
      "Processing Record 27 of Set 1 : chitipa\n",
      "Processing Record 28 of Set 1 : mataura\n",
      "Processing Record 29 of Set 1 : east london\n",
      "Processing Record 30 of Set 1 : colares\n",
      "Processing Record 31 of Set 1 : puerto ayora\n",
      "Processing Record 32 of Set 1 : klaksvik\n",
      "Processing Record 33 of Set 1 : kavaratti\n",
      "Processing Record 34 of Set 1 : hofn\n",
      "Processing Record 35 of Set 1 : saint-francois\n",
      "Processing Record 36 of Set 1 : hermanus\n",
      "Processing Record 37 of Set 1 : bluff\n",
      "Processing Record 38 of Set 1 : thompson\n",
      "Processing Record 39 of Set 1 : locri\n",
      "City not found. Skipping...\n",
      "Processing Record 40 of Set 1 : kapaa\n",
      "Processing Record 41 of Set 1 : taoudenni\n",
      "Processing Record 42 of Set 1 : te anau\n",
      "Processing Record 43 of Set 1 : hithadhoo\n",
      "Processing Record 44 of Set 1 : takoradi\n",
      "Processing Record 45 of Set 1 : turayf\n",
      "City not found. Skipping...\n",
      "Processing Record 46 of Set 1 : deputatskiy\n",
      "Processing Record 47 of Set 1 : oksfjord\n",
      "Processing Record 48 of Set 1 : sitka\n",
      "Processing Record 49 of Set 1 : ponta delgada\n",
      "Processing Record 50 of Set 1 : ponta do sol\n",
      "Processing Record 0 of Set 2 : carnarvon\n",
      "Processing Record 1 of Set 2 : gravdal\n",
      "Processing Record 2 of Set 2 : atuona\n",
      "Processing Record 3 of Set 2 : tual\n",
      "Processing Record 4 of Set 2 : nikolskoye\n",
      "Processing Record 5 of Set 2 : castro\n",
      "Processing Record 6 of Set 2 : pevek\n",
      "Processing Record 7 of Set 2 : talnakh\n",
      "Processing Record 8 of Set 2 : saint-philippe\n",
      "Processing Record 9 of Set 2 : agucadoura\n",
      "Processing Record 10 of Set 2 : zhigalovo\n",
      "Processing Record 11 of Set 2 : leopold\n",
      "Processing Record 12 of Set 2 : port macquarie\n",
      "City not found. Skipping...\n",
      "Processing Record 13 of Set 2 : port elizabeth\n",
      "Processing Record 14 of Set 2 : laguna\n",
      "Processing Record 15 of Set 2 : new norfolk\n",
      "Processing Record 16 of Set 2 : pitiquito\n",
      "Processing Record 17 of Set 2 : khatanga\n",
      "Processing Record 18 of Set 2 : champerico\n",
      "Processing Record 19 of Set 2 : havre-saint-pierre\n",
      "Processing Record 20 of Set 2 : sao gabriel da cachoeira\n",
      "Processing Record 21 of Set 2 : kruisfontein\n",
      "Processing Record 22 of Set 2 : mahebourg\n",
      "Processing Record 23 of Set 2 : amazar\n",
      "Processing Record 24 of Set 2 : alice springs\n",
      "Processing Record 25 of Set 2 : nome\n",
      "Processing Record 26 of Set 2 : meadow lake\n",
      "Processing Record 27 of Set 2 : kupang\n",
      "Processing Record 28 of Set 2 : hualmay\n",
      "Processing Record 29 of Set 2 : qaanaaq\n",
      "Processing Record 30 of Set 2 : ilulissat\n",
      "Processing Record 31 of Set 2 : mora\n",
      "City not found. Skipping...\n",
      "Processing Record 32 of Set 2 : faanui\n",
      "Processing Record 33 of Set 2 : guhagar\n",
      "Processing Record 34 of Set 2 : vao\n",
      "Processing Record 35 of Set 2 : tiarei\n",
      "Processing Record 36 of Set 2 : tasiilaq\n",
      "Processing Record 37 of Set 2 : saskylakh\n",
      "Processing Record 38 of Set 2 : adrar\n",
      "Processing Record 39 of Set 2 : bredasdorp\n",
      "Processing Record 40 of Set 2 : jamestown\n",
      "Processing Record 41 of Set 2 : evinayong\n",
      "Processing Record 42 of Set 2 : chuy\n",
      "Processing Record 43 of Set 2 : ribeira grande\n",
      "Processing Record 44 of Set 2 : dicabisagan\n",
      "Processing Record 45 of Set 2 : beringovskiy\n",
      "Processing Record 46 of Set 2 : sindgi\n",
      "Processing Record 47 of Set 2 : victoria\n",
      "City not found. Skipping...\n",
      "Processing Record 48 of Set 2 : clyde river\n",
      "City not found. Skipping...\n",
      "Processing Record 49 of Set 2 : sola\n",
      "Processing Record 50 of Set 2 : bay saint louis\n",
      "Processing Record 0 of Set 3 : san cristobal\n",
      "Processing Record 1 of Set 3 : hasaki\n",
      "Processing Record 2 of Set 3 : honggang\n",
      "City not found. Skipping...\n",
      "Processing Record 3 of Set 3 : esperance\n",
      "Processing Record 4 of Set 3 : sechura\n",
      "Processing Record 5 of Set 3 : chkalovskoye\n",
      "City not found. Skipping...\n",
      "Processing Record 6 of Set 3 : wajir\n",
      "Processing Record 7 of Set 3 : kaitangata\n",
      "Processing Record 8 of Set 3 : talcahuano\n",
      "Processing Record 9 of Set 3 : olafsvik\n",
      "Processing Record 10 of Set 3 : puerto colombia\n",
      "Processing Record 11 of Set 3 : chumikan\n",
      "Processing Record 12 of Set 3 : airai\n",
      "Processing Record 13 of Set 3 : laramie\n",
      "Processing Record 14 of Set 3 : saint anthony\n",
      "Processing Record 15 of Set 3 : kumylzhenskaya\n",
      "Processing Record 16 of Set 3 : ballina\n",
      "Processing Record 17 of Set 3 : los llanos de aridane\n",
      "Processing Record 18 of Set 3 : arica\n",
      "City not found. Skipping...\n",
      "Processing Record 19 of Set 3 : luderitz\n",
      "Processing Record 20 of Set 3 : kagay\n",
      "Processing Record 21 of Set 3 : saldanha\n",
      "Processing Record 22 of Set 3 : araouane\n",
      "City not found. Skipping...\n",
      "City not found. Skipping...\n",
      "Processing Record 23 of Set 3 : isangel\n",
      "Processing Record 24 of Set 3 : san patricio\n",
      "Processing Record 25 of Set 3 : hilo\n",
      "Processing Record 26 of Set 3 : kahului\n",
      "Processing Record 27 of Set 3 : alofi\n",
      "Processing Record 28 of Set 3 : camana\n",
      "Processing Record 29 of Set 3 : sikar\n",
      "Processing Record 30 of Set 3 : souillac\n",
      "Processing Record 31 of Set 3 : bambous virieux\n",
      "Processing Record 32 of Set 3 : bahua\n",
      "Processing Record 33 of Set 3 : astana\n",
      "Processing Record 34 of Set 3 : mar del plata\n",
      "Processing Record 35 of Set 3 : sao joao da barra\n",
      "Processing Record 36 of Set 3 : christchurch\n",
      "Processing Record 37 of Set 3 : ancud\n",
      "City not found. Skipping...\n",
      "Processing Record 38 of Set 3 : lorengau\n",
      "Processing Record 39 of Set 3 : champasak\n",
      "Processing Record 40 of Set 3 : fredericksburg\n",
      "Processing Record 41 of Set 3 : surt\n",
      "Processing Record 42 of Set 3 : mayo\n",
      "Processing Record 43 of Set 3 : iqaluit\n",
      "Processing Record 44 of Set 3 : jardim\n",
      "Processing Record 45 of Set 3 : mineiros\n",
      "Processing Record 46 of Set 3 : prabumulih\n",
      "Processing Record 47 of Set 3 : touros\n",
      "City not found. Skipping...\n",
      "Processing Record 48 of Set 3 : evensk\n",
      "Processing Record 49 of Set 3 : watrous\n",
      "Processing Record 50 of Set 3 : bima\n",
      "Processing Record 0 of Set 4 : vila franca do campo\n",
      "Processing Record 1 of Set 4 : mount gambier\n",
      "Processing Record 2 of Set 4 : owando\n",
      "Processing Record 3 of Set 4 : georgetown\n",
      "Processing Record 4 of Set 4 : fort frances\n",
      "Processing Record 5 of Set 4 : kodiak\n",
      "Processing Record 6 of Set 4 : qunduz\n",
      "Processing Record 7 of Set 4 : dikson\n",
      "Processing Record 8 of Set 4 : honiara\n",
      "Processing Record 9 of Set 4 : awjilah\n",
      "City not found. Skipping...\n",
      "Processing Record 10 of Set 4 : kimparana\n",
      "Processing Record 11 of Set 4 : kigorobya\n",
      "Processing Record 12 of Set 4 : grindavik\n",
      "Processing Record 13 of Set 4 : maragogi\n",
      "Processing Record 14 of Set 4 : zaraza\n",
      "Processing Record 15 of Set 4 : hokitika\n",
      "Processing Record 16 of Set 4 : ostrovnoy\n",
      "Processing Record 17 of Set 4 : praia da vitoria\n",
      "Processing Record 18 of Set 4 : pocone\n",
      "Processing Record 19 of Set 4 : tuktoyaktuk\n",
      "Processing Record 20 of Set 4 : nanortalik\n",
      "Processing Record 21 of Set 4 : iquitos\n",
      "Processing Record 22 of Set 4 : itarema\n",
      "Processing Record 23 of Set 4 : hovd\n",
      "Processing Record 24 of Set 4 : kavieng\n",
      "Processing Record 25 of Set 4 : aklavik\n",
      "City not found. Skipping...\n",
      "Processing Record 26 of Set 4 : lazarev\n",
      "City not found. Skipping...\n",
      "Processing Record 27 of Set 4 : tera\n",
      "Processing Record 28 of Set 4 : synya\n",
      "Processing Record 29 of Set 4 : goundam\n",
      "Processing Record 30 of Set 4 : alekseyevskoye\n"
     ]
    },
    {
     "name": "stdout",
     "output_type": "stream",
     "text": [
      "Processing Record 31 of Set 4 : brae\n",
      "Processing Record 32 of Set 4 : kuloy\n",
      "Processing Record 33 of Set 4 : khandyga\n",
      "Processing Record 34 of Set 4 : lithgow\n",
      "Processing Record 35 of Set 4 : seymchan\n",
      "Processing Record 36 of Set 4 : luganville\n",
      "Processing Record 37 of Set 4 : coos bay\n",
      "Processing Record 38 of Set 4 : udachnyy\n",
      "Processing Record 39 of Set 4 : bonavista\n",
      "Processing Record 40 of Set 4 : marsh harbour\n",
      "Processing Record 41 of Set 4 : mubende\n",
      "Processing Record 42 of Set 4 : marondera\n",
      "Processing Record 43 of Set 4 : longyearbyen\n",
      "Processing Record 44 of Set 4 : cayenne\n",
      "Processing Record 45 of Set 4 : abu zabad\n",
      "City not found. Skipping...\n",
      "Processing Record 46 of Set 4 : bud\n",
      "Processing Record 47 of Set 4 : khonsa\n",
      "Processing Record 48 of Set 4 : usolye\n",
      "Processing Record 49 of Set 4 : saint george\n",
      "Processing Record 50 of Set 4 : seda\n",
      "Processing Record 0 of Set 5 : umm lajj\n",
      "Processing Record 1 of Set 5 : norman wells\n",
      "Processing Record 2 of Set 5 : paita\n",
      "Processing Record 3 of Set 5 : lebu\n",
      "Processing Record 4 of Set 5 : cherskiy\n",
      "City not found. Skipping...\n",
      "Processing Record 5 of Set 5 : balakhninskiy\n",
      "Processing Record 6 of Set 5 : ipanema\n",
      "Processing Record 7 of Set 5 : altamira\n",
      "Processing Record 8 of Set 5 : shelburne\n",
      "Processing Record 9 of Set 5 : katsuura\n",
      "Processing Record 10 of Set 5 : hangu\n",
      "Processing Record 11 of Set 5 : esperanza\n",
      "Processing Record 12 of Set 5 : coihaique\n",
      "Processing Record 13 of Set 5 : bara\n",
      "Processing Record 14 of Set 5 : gigmoto\n",
      "Processing Record 15 of Set 5 : rawah\n",
      "Processing Record 16 of Set 5 : zharkent\n",
      "Processing Record 17 of Set 5 : bolgatanga\n",
      "Processing Record 18 of Set 5 : batagay-alyta\n",
      "Processing Record 19 of Set 5 : sao mateus do sul\n",
      "City not found. Skipping...\n",
      "Processing Record 20 of Set 5 : wajima\n",
      "Processing Record 21 of Set 5 : mackenzie\n",
      "Processing Record 22 of Set 5 : mahibadhoo\n",
      "Processing Record 23 of Set 5 : cabo san lucas\n",
      "Processing Record 24 of Set 5 : gold coast\n",
      "Processing Record 25 of Set 5 : geraldton\n",
      "Processing Record 26 of Set 5 : codrington\n",
      "Processing Record 27 of Set 5 : grinnell\n",
      "Processing Record 28 of Set 5 : westport\n",
      "Processing Record 29 of Set 5 : saint-jean-de-luz\n",
      "Processing Record 30 of Set 5 : sao filipe\n",
      "Processing Record 31 of Set 5 : vila velha\n",
      "Processing Record 32 of Set 5 : camopi\n",
      "Processing Record 33 of Set 5 : chokurdakh\n",
      "Processing Record 34 of Set 5 : chapais\n",
      "Processing Record 35 of Set 5 : brookhaven\n",
      "Processing Record 36 of Set 5 : gat\n",
      "Processing Record 37 of Set 5 : kempsey\n",
      "Processing Record 38 of Set 5 : tyumentsevo\n",
      "Processing Record 39 of Set 5 : tuy hoa\n",
      "Processing Record 40 of Set 5 : luyang\n",
      "City not found. Skipping...\n",
      "Processing Record 41 of Set 5 : burnie\n",
      "Processing Record 42 of Set 5 : swellendam\n",
      "Processing Record 43 of Set 5 : cidreira\n",
      "Processing Record 44 of Set 5 : port moresby\n",
      "Processing Record 45 of Set 5 : monrovia\n",
      "Processing Record 46 of Set 5 : mazagao\n",
      "Processing Record 47 of Set 5 : padang\n",
      "Processing Record 48 of Set 5 : lavrentiya\n",
      "Processing Record 49 of Set 5 : lompoc\n",
      "City not found. Skipping...\n",
      "Processing Record 50 of Set 5 : deer lake\n",
      "Processing Record 0 of Set 6 : zhigansk\n",
      "Processing Record 1 of Set 6 : atambua\n",
      "Processing Record 2 of Set 6 : itapevi\n",
      "Processing Record 3 of Set 6 : yulara\n",
      "Processing Record 4 of Set 6 : bukama\n",
      "Processing Record 5 of Set 6 : matadi\n",
      "Processing Record 6 of Set 6 : mehamn\n",
      "Processing Record 7 of Set 6 : dwarka\n",
      "Processing Record 8 of Set 6 : kouroussa\n",
      "Processing Record 9 of Set 6 : ongandjera\n",
      "Processing Record 10 of Set 6 : tczew\n",
      "Processing Record 11 of Set 6 : rosario\n",
      "Processing Record 12 of Set 6 : walvis bay\n",
      "Processing Record 13 of Set 6 : kalmar\n",
      "Processing Record 14 of Set 6 : port lincoln\n",
      "Processing Record 15 of Set 6 : caceres\n",
      "Processing Record 16 of Set 6 : yeppoon\n",
      "Processing Record 17 of Set 6 : kindu\n",
      "Processing Record 18 of Set 6 : le port\n",
      "Processing Record 19 of Set 6 : biograd na moru\n",
      "Processing Record 20 of Set 6 : townsville\n",
      "Processing Record 21 of Set 6 : solnechnyy\n",
      "Processing Record 22 of Set 6 : olinda\n",
      "City not found. Skipping...\n",
      "Processing Record 23 of Set 6 : san vicente\n",
      "Processing Record 24 of Set 6 : mahajanga\n",
      "Processing Record 25 of Set 6 : bitung\n",
      "Processing Record 26 of Set 6 : chapada dos guimaraes\n",
      "Processing Record 27 of Set 6 : sivaki\n",
      "Processing Record 28 of Set 6 : flinders\n",
      "Processing Record 29 of Set 6 : goure\n",
      "Processing Record 30 of Set 6 : peleduy\n",
      "Processing Record 31 of Set 6 : tessalit\n",
      "Processing Record 32 of Set 6 : kenai\n",
      "Processing Record 33 of Set 6 : nichelino\n",
      "Processing Record 34 of Set 6 : shingu\n",
      "Processing Record 35 of Set 6 : bathsheba\n",
      "City not found. Skipping...\n",
      "Processing Record 36 of Set 6 : fenoarivo\n",
      "Processing Record 37 of Set 6 : bethel\n",
      "Processing Record 38 of Set 6 : ornskoldsvik\n",
      "Processing Record 39 of Set 6 : trapani\n",
      "Processing Record 40 of Set 6 : tiksi\n",
      "Processing Record 41 of Set 6 : ulaanbaatar\n",
      "Processing Record 42 of Set 6 : ulladulla\n",
      "Processing Record 43 of Set 6 : mbeya\n",
      "Processing Record 44 of Set 6 : senneterre\n",
      "Processing Record 45 of Set 6 : palmer\n",
      "Processing Record 46 of Set 6 : ambulu\n",
      "Processing Record 47 of Set 6 : lufilufi\n",
      "City not found. Skipping...\n",
      "Processing Record 48 of Set 6 : hirado\n",
      "Processing Record 49 of Set 6 : kudahuvadhoo\n",
      "Processing Record 50 of Set 6 : rio gallegos\n",
      "Processing Record 0 of Set 7 : korampallam\n",
      "Processing Record 1 of Set 7 : iquique\n",
      "Processing Record 2 of Set 7 : rawson\n",
      "Processing Record 3 of Set 7 : lakhtar\n",
      "Processing Record 4 of Set 7 : egvekinot\n",
      "Processing Record 5 of Set 7 : kikwit\n",
      "Processing Record 6 of Set 7 : abu dhabi\n",
      "Processing Record 7 of Set 7 : upernavik\n",
      "Processing Record 8 of Set 7 : puerto quijarro\n",
      "Processing Record 9 of Set 7 : novo aripuana\n",
      "Processing Record 10 of Set 7 : umm kaddadah\n",
      "Processing Record 11 of Set 7 : gualaquiza\n",
      "Processing Record 12 of Set 7 : noyabrsk\n",
      "Processing Record 13 of Set 7 : valdivia\n",
      "Processing Record 14 of Set 7 : lasa\n",
      "City not found. Skipping...\n",
      "Processing Record 15 of Set 7 : hamilton\n",
      "Processing Record 16 of Set 7 : bulalacao\n",
      "Processing Record 17 of Set 7 : viedma\n",
      "Processing Record 18 of Set 7 : dunedin\n",
      "Processing Record 19 of Set 7 : vilhena\n",
      "Processing Record 20 of Set 7 : bandarbeyla\n",
      "Processing Record 21 of Set 7 : caravelas\n",
      "Processing Record 22 of Set 7 : aljezur\n",
      "Processing Record 23 of Set 7 : erzin\n",
      "Processing Record 24 of Set 7 : bar harbor\n",
      "Processing Record 25 of Set 7 : cheyenne\n",
      "Processing Record 26 of Set 7 : maebaru\n",
      "Processing Record 27 of Set 7 : gilbues\n",
      "Processing Record 28 of Set 7 : binzhou\n",
      "Processing Record 29 of Set 7 : folldal\n",
      "Processing Record 30 of Set 7 : fairbanks\n",
      "Processing Record 31 of Set 7 : puerto parra\n",
      "City not found. Skipping...\n",
      "Processing Record 32 of Set 7 : pesochnoye\n",
      "Processing Record 33 of Set 7 : poum\n",
      "Processing Record 34 of Set 7 : moses lake\n",
      "Processing Record 35 of Set 7 : lata\n",
      "Processing Record 36 of Set 7 : athabasca\n",
      "Processing Record 37 of Set 7 : la primavera\n",
      "Processing Record 38 of Set 7 : bossangoa\n",
      "Processing Record 39 of Set 7 : mancio lima\n",
      "Processing Record 40 of Set 7 : faya\n",
      "Processing Record 41 of Set 7 : swan river\n",
      "Processing Record 42 of Set 7 : najran\n",
      "City not found. Skipping...\n",
      "Processing Record 43 of Set 7 : sadiqabad\n",
      "Processing Record 44 of Set 7 : lishu\n",
      "Processing Record 45 of Set 7 : hambantota\n",
      "Processing Record 46 of Set 7 : amga\n",
      "Processing Record 47 of Set 7 : juba\n",
      "Processing Record 48 of Set 7 : hami\n",
      "Processing Record 49 of Set 7 : cumra\n",
      "Processing Record 50 of Set 7 : wagar\n",
      "Processing Record 0 of Set 8 : damaturu\n",
      "Processing Record 1 of Set 8 : homer\n",
      "City not found. Skipping...\n",
      "Processing Record 2 of Set 8 : harboore\n",
      "Processing Record 3 of Set 8 : abeche\n",
      "Processing Record 4 of Set 8 : manaure\n",
      "Processing Record 5 of Set 8 : baturaja\n",
      "Processing Record 6 of Set 8 : college\n",
      "Processing Record 7 of Set 8 : cabanas\n",
      "City not found. Skipping...\n",
      "Processing Record 8 of Set 8 : lamar\n",
      "Processing Record 9 of Set 8 : zabid\n",
      "City not found. Skipping...\n",
      "Processing Record 10 of Set 8 : cape canaveral\n",
      "Processing Record 11 of Set 8 : benguela\n",
      "Processing Record 12 of Set 8 : zalantun\n",
      "Processing Record 13 of Set 8 : daru\n",
      "Processing Record 14 of Set 8 : destin\n",
      "Processing Record 15 of Set 8 : flin flon\n",
      "Processing Record 16 of Set 8 : shenjiamen\n",
      "Processing Record 17 of Set 8 : port hedland\n"
     ]
    },
    {
     "name": "stdout",
     "output_type": "stream",
     "text": [
      "Processing Record 18 of Set 8 : makakilo city\n",
      "Processing Record 19 of Set 8 : shima\n",
      "Processing Record 20 of Set 8 : kozhevnikovo\n",
      "Processing Record 21 of Set 8 : pontian kecil\n",
      "Processing Record 22 of Set 8 : maldonado\n",
      "Processing Record 23 of Set 8 : la rioja\n",
      "Processing Record 24 of Set 8 : petropavlovsk-kamchatskiy\n",
      "Processing Record 25 of Set 8 : bira\n",
      "Processing Record 26 of Set 8 : rudnogorsk\n",
      "Processing Record 27 of Set 8 : kerikeri\n",
      "Processing Record 28 of Set 8 : prince rupert\n",
      "Processing Record 29 of Set 8 : naze\n",
      "Processing Record 30 of Set 8 : ahipara\n",
      "Processing Record 31 of Set 8 : chengde\n",
      "Processing Record 32 of Set 8 : virginia beach\n",
      "Processing Record 33 of Set 8 : aksay\n",
      "Processing Record 34 of Set 8 : sajanan\n",
      "Processing Record 35 of Set 8 : hobyo\n",
      "Processing Record 36 of Set 8 : severo-kurilsk\n",
      "Processing Record 37 of Set 8 : kununurra\n",
      "Processing Record 38 of Set 8 : moroto\n",
      "City not found. Skipping...\n",
      "Processing Record 39 of Set 8 : tongliao\n",
      "Processing Record 40 of Set 8 : thohoyandou\n",
      "Processing Record 41 of Set 8 : bengkulu\n",
      "Processing Record 42 of Set 8 : meulaboh\n",
      "Processing Record 43 of Set 8 : juneau\n",
      "City not found. Skipping...\n",
      "Processing Record 44 of Set 8 : schwedt\n",
      "Processing Record 45 of Set 8 : natal\n",
      "Processing Record 46 of Set 8 : baherden\n",
      "Processing Record 47 of Set 8 : vestmannaeyjar\n",
      "City not found. Skipping...\n",
      "Processing Record 48 of Set 8 : constitucion\n",
      "Processing Record 49 of Set 8 : qui nhon\n",
      "Processing Record 50 of Set 8 : tonneins\n",
      "Processing Record 0 of Set 9 : puri\n",
      "Processing Record 1 of Set 9 : dunajska streda\n",
      "Processing Record 2 of Set 9 : wau\n",
      "Processing Record 3 of Set 9 : sisimiut\n",
      "Processing Record 4 of Set 9 : san bernardo\n",
      "Processing Record 5 of Set 9 : katete\n",
      "Processing Record 6 of Set 9 : luena\n",
      "Processing Record 7 of Set 9 : saint-joseph\n",
      "Processing Record 8 of Set 9 : puerto asis\n",
      "Processing Record 9 of Set 9 : poya\n",
      "Processing Record 10 of Set 9 : cumana\n",
      "Processing Record 11 of Set 9 : la asuncion\n",
      "Processing Record 12 of Set 9 : monroe\n",
      "Processing Record 13 of Set 9 : zhumadian\n",
      "Processing Record 14 of Set 9 : stubbekobing\n",
      "Processing Record 15 of Set 9 : paramonga\n",
      "Processing Record 16 of Set 9 : winslow\n",
      "Processing Record 17 of Set 9 : puerto del rosario\n",
      "Processing Record 18 of Set 9 : pontes e lacerda\n",
      "Processing Record 19 of Set 9 : dharchula\n",
      "Processing Record 20 of Set 9 : vikulovo\n",
      "Processing Record 21 of Set 9 : moorhead\n",
      "City not found. Skipping...\n",
      "Processing Record 22 of Set 9 : baghdad\n",
      "Processing Record 23 of Set 9 : zhuhai\n",
      "Processing Record 24 of Set 9 : broome\n",
      "Processing Record 25 of Set 9 : gimli\n",
      "Processing Record 26 of Set 9 : urubicha\n",
      "Processing Record 27 of Set 9 : kurilsk\n",
      "Processing Record 28 of Set 9 : roald\n",
      "City not found. Skipping...\n",
      "Processing Record 29 of Set 9 : islamkot\n",
      "Processing Record 30 of Set 9 : pratteln\n",
      "Processing Record 31 of Set 9 : dalen\n",
      "Processing Record 32 of Set 9 : yumen\n",
      "Processing Record 33 of Set 9 : chaman\n",
      "Processing Record 34 of Set 9 : ngunguru\n",
      "Processing Record 35 of Set 9 : ust-nera\n",
      "Processing Record 36 of Set 9 : thinadhoo\n",
      "Processing Record 37 of Set 9 : talara\n",
      "Processing Record 38 of Set 9 : la union\n",
      "Processing Record 39 of Set 9 : puerto escondido\n",
      "Processing Record 40 of Set 9 : komsomolskiy\n",
      "Processing Record 41 of Set 9 : broken hill\n",
      "Processing Record 42 of Set 9 : mogadishu\n",
      "Processing Record 43 of Set 9 : sainte-marie\n",
      "Processing Record 44 of Set 9 : cabedelo\n",
      "Processing Record 45 of Set 9 : namatanai\n",
      "Processing Record 46 of Set 9 : conceicao do araguaia\n",
      "Processing Record 47 of Set 9 : streator\n",
      "City not found. Skipping...\n",
      "Processing Record 48 of Set 9 : kaele\n",
      "Processing Record 49 of Set 9 : teya\n",
      "Processing Record 50 of Set 9 : yatou\n",
      "Processing Record 0 of Set 10 : marienburg\n",
      "Processing Record 1 of Set 10 : gladstone\n",
      "Processing Record 2 of Set 10 : kamaishi\n",
      "Processing Record 3 of Set 10 : mitsamiouli\n",
      "Processing Record 4 of Set 10 : morrope\n",
      "Processing Record 5 of Set 10 : ulfborg\n",
      "Processing Record 6 of Set 10 : chara\n",
      "Processing Record 7 of Set 10 : asfi\n",
      "Processing Record 8 of Set 10 : ingham\n",
      "Processing Record 9 of Set 10 : biloela\n",
      "Processing Record 10 of Set 10 : qaqortoq\n",
      "Processing Record 11 of Set 10 : dickinson\n",
      "Processing Record 12 of Set 10 : garowe\n",
      "Processing Record 13 of Set 10 : praya\n",
      "City not found. Skipping...\n",
      "Processing Record 14 of Set 10 : tres arroyos\n",
      "Processing Record 15 of Set 10 : black diamond\n",
      "City not found. Skipping...\n",
      "Processing Record 16 of Set 10 : paracuru\n",
      "Processing Record 17 of Set 10 : fougamou\n",
      "City not found. Skipping...\n",
      "Processing Record 18 of Set 10 : kirakira\n",
      "Processing Record 19 of Set 10 : gaurela\n",
      "Processing Record 20 of Set 10 : la plata\n",
      "Processing Record 21 of Set 10 : henties bay\n",
      "Processing Record 22 of Set 10 : castlegar\n",
      "City not found. Skipping...\n",
      "Processing Record 23 of Set 10 : san quintin\n",
      "Processing Record 24 of Set 10 : ibi\n",
      "City not found. Skipping...\n",
      "Processing Record 25 of Set 10 : ginda\n",
      "Processing Record 26 of Set 10 : kalemie\n",
      "Processing Record 27 of Set 10 : lere\n",
      "Processing Record 28 of Set 10 : parelhas\n",
      "Processing Record 29 of Set 10 : kiyasovo\n",
      "Processing Record 30 of Set 10 : manono\n",
      "Processing Record 31 of Set 10 : bereda\n",
      "City not found. Skipping...\n",
      "Processing Record 32 of Set 10 : miranda de ebro\n",
      "City not found. Skipping...\n",
      "Processing Record 33 of Set 10 : huarmey\n",
      "Processing Record 34 of Set 10 : paamiut\n",
      "Processing Record 35 of Set 10 : berlevag\n",
      "Processing Record 36 of Set 10 : agirish\n",
      "Processing Record 37 of Set 10 : sur\n",
      "Processing Record 38 of Set 10 : inhambane\n",
      "Processing Record 39 of Set 10 : tura\n",
      "Processing Record 40 of Set 10 : okhotsk\n",
      "Processing Record 41 of Set 10 : aransas pass\n",
      "Processing Record 42 of Set 10 : kyaukse\n",
      "Processing Record 43 of Set 10 : port blair\n",
      "Processing Record 44 of Set 10 : mezen\n",
      "Processing Record 45 of Set 10 : kadarkut\n",
      "Processing Record 46 of Set 10 : pundaguitan\n",
      "Processing Record 47 of Set 10 : svetlogorsk\n",
      "Processing Record 48 of Set 10 : ibra\n",
      "Processing Record 49 of Set 10 : alyangula\n",
      "City not found. Skipping...\n",
      "Processing Record 50 of Set 10 : pangnirtung\n",
      "Processing Record 0 of Set 11 : san isidro\n",
      "Processing Record 1 of Set 11 : batman\n",
      "Processing Record 2 of Set 11 : san ramon de la nueva oran\n",
      "Processing Record 3 of Set 11 : ayan\n",
      "Processing Record 4 of Set 11 : gebre guracha\n",
      "Processing Record 5 of Set 11 : chegdomyn\n",
      "City not found. Skipping...\n",
      "Processing Record 6 of Set 11 : kalmunai\n",
      "City not found. Skipping...\n",
      "Processing Record 7 of Set 11 : garoua\n",
      "City not found. Skipping...\n",
      "Processing Record 8 of Set 11 : leningradskiy\n",
      "Processing Record 9 of Set 11 : sergeyevka\n",
      "Processing Record 10 of Set 11 : raudeberg\n",
      "Processing Record 11 of Set 11 : kaseda\n",
      "Processing Record 12 of Set 11 : wetaskiwin\n",
      "Processing Record 13 of Set 11 : port augusta\n",
      "Processing Record 14 of Set 11 : kemijarvi\n",
      "Processing Record 15 of Set 11 : tabuk\n",
      "Processing Record 16 of Set 11 : bam\n",
      "Processing Record 17 of Set 11 : agadez\n",
      "Processing Record 18 of Set 11 : hof\n",
      "City not found. Skipping...\n",
      "Processing Record 19 of Set 11 : leh\n",
      "Processing Record 20 of Set 11 : grand gaube\n",
      "Processing Record 21 of Set 11 : oyama\n",
      "Processing Record 22 of Set 11 : tazovskiy\n",
      "Processing Record 23 of Set 11 : grand-santi\n",
      "Processing Record 24 of Set 11 : alamos\n",
      "Processing Record 25 of Set 11 : tibati\n",
      "Processing Record 26 of Set 11 : lagoa\n",
      "Processing Record 27 of Set 11 : montecristo\n",
      "City not found. Skipping...\n",
      "Processing Record 28 of Set 11 : acapulco\n",
      "Processing Record 29 of Set 11 : cuxhaven\n",
      "Processing Record 30 of Set 11 : narsaq\n",
      "Processing Record 31 of Set 11 : mangrol\n",
      "Processing Record 32 of Set 11 : vryheid\n",
      "Processing Record 33 of Set 11 : markova\n",
      "Processing Record 34 of Set 11 : ygatimi\n",
      "Processing Record 35 of Set 11 : porto novo\n",
      "Processing Record 36 of Set 11 : naco\n",
      "Processing Record 37 of Set 11 : atasu\n",
      "City not found. Skipping...\n",
      "Processing Record 38 of Set 11 : mailsi\n",
      "City not found. Skipping...\n",
      "Processing Record 39 of Set 11 : tiznit\n",
      "Processing Record 40 of Set 11 : plouzane\n",
      "Processing Record 41 of Set 11 : phan thiet\n",
      "City not found. Skipping...\n",
      "Processing Record 42 of Set 11 : pokrovsk\n",
      "Processing Record 43 of Set 11 : damietta\n",
      "Processing Record 44 of Set 11 : talaya\n",
      "Processing Record 45 of Set 11 : worgl\n",
      "Processing Record 46 of Set 11 : half moon bay\n",
      "City not found. Skipping...\n"
     ]
    },
    {
     "name": "stdout",
     "output_type": "stream",
     "text": [
      "Processing Record 47 of Set 11 : asosa\n",
      "Processing Record 48 of Set 11 : hope\n",
      "Processing Record 49 of Set 11 : wynyard\n",
      "City not found. Skipping...\n",
      "Processing Record 50 of Set 11 : ausa\n",
      "Processing Record 0 of Set 12 : salalah\n",
      "Processing Record 1 of Set 12 : glens falls\n",
      "Processing Record 2 of Set 12 : gushikawa\n",
      "Processing Record 3 of Set 12 : road town\n",
      "Processing Record 4 of Set 12 : menomonie\n",
      "----------------------------\n",
      "Data Retrieval Complete\n",
      "----------------------------\n"
     ]
    }
   ],
   "source": [
    "print(\"Beginning Data Retrieval \")\n",
    "print(\"-----------------------------\")\n",
    "\n",
    "base_url = \"http://api.openweathermap.org/data/2.5/weather?\"\n",
    "units = \"imperial\"\n",
    "query_url = f\"{base_url}appid={weather_api_key}&units={units}&q=\"\n",
    "\n",
    "# For each city name in cities list, do the following...\n",
    "for index, city in enumerate(cities, start = 1):\n",
    "    try:\n",
    "        response = requests.get(query_url + city).json()\n",
    "        city_name_list.append(response['name'])\n",
    "        cloudiness_list.append(response['clouds']['all'])\n",
    "        country_list.append(response['sys']['country'])\n",
    "        date_list.append(response['dt'])\n",
    "        humidity_list.append(response['main']['humidity'])\n",
    "        lat_list.append(response['coord']['lat'])\n",
    "        lng_list.append(response['coord']['lon'])\n",
    "        max_temp_list.append(response['main']['temp_max'])\n",
    "        wind_speed_list.append(response['wind']['speed'])\n",
    "        if index_counter > 49:\n",
    "            index_counter = 0\n",
    "            set_counter = set_counter + 1\n",
    "        else:\n",
    "            index_counter = index_counter + 1\n",
    "        print(f\"Processing Record {index_counter} of Set {set_counter} : {city}\")\n",
    "    \n",
    "    except(KeyError, IndexError):\n",
    "        print(\"City not found. Skipping...\")\n",
    "\n",
    "print(\"----------------------------\")\n",
    "print(\"Data Retrieval Complete\")\n",
    "print(\"----------------------------\")"
   ]
  },
  {
   "cell_type": "markdown",
   "metadata": {},
   "source": [
    "### Convert Raw Data to DataFrame\n",
    "* Export the city data into a .csv.\n",
    "* Display the DataFrame"
   ]
  },
  {
   "cell_type": "code",
   "execution_count": 5,
   "metadata": {},
   "outputs": [],
   "source": [
    "# Create initial dictionary with API calls\n",
    "weather_dict = pd.DataFrame ({\"City\":city_name_list,\n",
    "                            \"Cloudiness\":cloudiness_list,\n",
    "                            \"Country\" : country_list,\n",
    "                            \"Date\" : date_list,\n",
    "                            \"Humidity\":humidity_list,\n",
    "                            \"Lat\":lat_list,\n",
    "                            \"Lng\":lng_list,\n",
    "                            \"Max Temp\":max_temp_list,\n",
    "                            \"Wind Speed\":wind_speed_list})"
   ]
  },
  {
   "cell_type": "code",
   "execution_count": 6,
   "metadata": {},
   "outputs": [
    {
     "data": {
      "text/plain": [
       "City          565\n",
       "Cloudiness    565\n",
       "Country       565\n",
       "Date          565\n",
       "Humidity      565\n",
       "Lat           565\n",
       "Lng           565\n",
       "Max Temp      565\n",
       "Wind Speed    565\n",
       "dtype: int64"
      ]
     },
     "execution_count": 6,
     "metadata": {},
     "output_type": "execute_result"
    }
   ],
   "source": [
    "weather_dict.count()"
   ]
  },
  {
   "cell_type": "code",
   "execution_count": 7,
   "metadata": {},
   "outputs": [
    {
     "data": {
      "text/html": [
       "<div>\n",
       "<style scoped>\n",
       "    .dataframe tbody tr th:only-of-type {\n",
       "        vertical-align: middle;\n",
       "    }\n",
       "\n",
       "    .dataframe tbody tr th {\n",
       "        vertical-align: top;\n",
       "    }\n",
       "\n",
       "    .dataframe thead th {\n",
       "        text-align: right;\n",
       "    }\n",
       "</style>\n",
       "<table border=\"1\" class=\"dataframe\">\n",
       "  <thead>\n",
       "    <tr style=\"text-align: right;\">\n",
       "      <th></th>\n",
       "      <th>City</th>\n",
       "      <th>Cloudiness</th>\n",
       "      <th>Country</th>\n",
       "      <th>Date</th>\n",
       "      <th>Humidity</th>\n",
       "      <th>Lat</th>\n",
       "      <th>Lng</th>\n",
       "      <th>Max Temp</th>\n",
       "      <th>Wind Speed</th>\n",
       "    </tr>\n",
       "  </thead>\n",
       "  <tbody>\n",
       "    <tr>\n",
       "      <th>0</th>\n",
       "      <td>Marystown</td>\n",
       "      <td>100</td>\n",
       "      <td>CA</td>\n",
       "      <td>1607561475</td>\n",
       "      <td>80</td>\n",
       "      <td>47.17</td>\n",
       "      <td>-55.15</td>\n",
       "      <td>38.64</td>\n",
       "      <td>21.23</td>\n",
       "    </tr>\n",
       "    <tr>\n",
       "      <th>1</th>\n",
       "      <td>Punta Arenas</td>\n",
       "      <td>100</td>\n",
       "      <td>CL</td>\n",
       "      <td>1607561414</td>\n",
       "      <td>76</td>\n",
       "      <td>-53.15</td>\n",
       "      <td>-70.92</td>\n",
       "      <td>50.00</td>\n",
       "      <td>2.24</td>\n",
       "    </tr>\n",
       "    <tr>\n",
       "      <th>2</th>\n",
       "      <td>Barrow</td>\n",
       "      <td>90</td>\n",
       "      <td>US</td>\n",
       "      <td>1607561476</td>\n",
       "      <td>70</td>\n",
       "      <td>71.29</td>\n",
       "      <td>-156.79</td>\n",
       "      <td>-5.80</td>\n",
       "      <td>14.99</td>\n",
       "    </tr>\n",
       "    <tr>\n",
       "      <th>3</th>\n",
       "      <td>Albany</td>\n",
       "      <td>86</td>\n",
       "      <td>US</td>\n",
       "      <td>1607561476</td>\n",
       "      <td>73</td>\n",
       "      <td>42.60</td>\n",
       "      <td>-73.97</td>\n",
       "      <td>34.00</td>\n",
       "      <td>3.29</td>\n",
       "    </tr>\n",
       "    <tr>\n",
       "      <th>4</th>\n",
       "      <td>Nālūt</td>\n",
       "      <td>13</td>\n",
       "      <td>LY</td>\n",
       "      <td>1607561476</td>\n",
       "      <td>60</td>\n",
       "      <td>30.33</td>\n",
       "      <td>10.85</td>\n",
       "      <td>49.50</td>\n",
       "      <td>4.85</td>\n",
       "    </tr>\n",
       "    <tr>\n",
       "      <th>...</th>\n",
       "      <td>...</td>\n",
       "      <td>...</td>\n",
       "      <td>...</td>\n",
       "      <td>...</td>\n",
       "      <td>...</td>\n",
       "      <td>...</td>\n",
       "      <td>...</td>\n",
       "      <td>...</td>\n",
       "      <td>...</td>\n",
       "    </tr>\n",
       "    <tr>\n",
       "      <th>560</th>\n",
       "      <td>Salalah</td>\n",
       "      <td>0</td>\n",
       "      <td>OM</td>\n",
       "      <td>1607561543</td>\n",
       "      <td>25</td>\n",
       "      <td>17.02</td>\n",
       "      <td>54.09</td>\n",
       "      <td>73.40</td>\n",
       "      <td>6.93</td>\n",
       "    </tr>\n",
       "    <tr>\n",
       "      <th>561</th>\n",
       "      <td>Glens Falls</td>\n",
       "      <td>90</td>\n",
       "      <td>US</td>\n",
       "      <td>1607561543</td>\n",
       "      <td>92</td>\n",
       "      <td>43.31</td>\n",
       "      <td>-73.64</td>\n",
       "      <td>32.00</td>\n",
       "      <td>8.05</td>\n",
       "    </tr>\n",
       "    <tr>\n",
       "      <th>562</th>\n",
       "      <td>Gushikawa</td>\n",
       "      <td>40</td>\n",
       "      <td>JP</td>\n",
       "      <td>1607561543</td>\n",
       "      <td>94</td>\n",
       "      <td>26.35</td>\n",
       "      <td>127.87</td>\n",
       "      <td>69.80</td>\n",
       "      <td>5.82</td>\n",
       "    </tr>\n",
       "    <tr>\n",
       "      <th>563</th>\n",
       "      <td>Road Town</td>\n",
       "      <td>75</td>\n",
       "      <td>VG</td>\n",
       "      <td>1607561535</td>\n",
       "      <td>88</td>\n",
       "      <td>18.42</td>\n",
       "      <td>-64.62</td>\n",
       "      <td>78.01</td>\n",
       "      <td>2.24</td>\n",
       "    </tr>\n",
       "    <tr>\n",
       "      <th>564</th>\n",
       "      <td>Menomonie</td>\n",
       "      <td>1</td>\n",
       "      <td>US</td>\n",
       "      <td>1607561544</td>\n",
       "      <td>80</td>\n",
       "      <td>44.88</td>\n",
       "      <td>-91.92</td>\n",
       "      <td>34.00</td>\n",
       "      <td>3.36</td>\n",
       "    </tr>\n",
       "  </tbody>\n",
       "</table>\n",
       "<p>565 rows × 9 columns</p>\n",
       "</div>"
      ],
      "text/plain": [
       "             City  Cloudiness Country        Date  Humidity    Lat     Lng  \\\n",
       "0       Marystown         100      CA  1607561475        80  47.17  -55.15   \n",
       "1    Punta Arenas         100      CL  1607561414        76 -53.15  -70.92   \n",
       "2          Barrow          90      US  1607561476        70  71.29 -156.79   \n",
       "3          Albany          86      US  1607561476        73  42.60  -73.97   \n",
       "4           Nālūt          13      LY  1607561476        60  30.33   10.85   \n",
       "..            ...         ...     ...         ...       ...    ...     ...   \n",
       "560       Salalah           0      OM  1607561543        25  17.02   54.09   \n",
       "561   Glens Falls          90      US  1607561543        92  43.31  -73.64   \n",
       "562     Gushikawa          40      JP  1607561543        94  26.35  127.87   \n",
       "563     Road Town          75      VG  1607561535        88  18.42  -64.62   \n",
       "564     Menomonie           1      US  1607561544        80  44.88  -91.92   \n",
       "\n",
       "     Max Temp  Wind Speed  \n",
       "0       38.64       21.23  \n",
       "1       50.00        2.24  \n",
       "2       -5.80       14.99  \n",
       "3       34.00        3.29  \n",
       "4       49.50        4.85  \n",
       "..        ...         ...  \n",
       "560     73.40        6.93  \n",
       "561     32.00        8.05  \n",
       "562     69.80        5.82  \n",
       "563     78.01        2.24  \n",
       "564     34.00        3.36  \n",
       "\n",
       "[565 rows x 9 columns]"
      ]
     },
     "execution_count": 7,
     "metadata": {},
     "output_type": "execute_result"
    }
   ],
   "source": [
    "# Display the Data Frame\n",
    "weather_dict"
   ]
  },
  {
   "cell_type": "code",
   "execution_count": 8,
   "metadata": {},
   "outputs": [
    {
     "data": {
      "text/html": [
       "<div>\n",
       "<style scoped>\n",
       "    .dataframe tbody tr th:only-of-type {\n",
       "        vertical-align: middle;\n",
       "    }\n",
       "\n",
       "    .dataframe tbody tr th {\n",
       "        vertical-align: top;\n",
       "    }\n",
       "\n",
       "    .dataframe thead th {\n",
       "        text-align: right;\n",
       "    }\n",
       "</style>\n",
       "<table border=\"1\" class=\"dataframe\">\n",
       "  <thead>\n",
       "    <tr style=\"text-align: right;\">\n",
       "      <th></th>\n",
       "      <th>Cloudiness</th>\n",
       "      <th>Date</th>\n",
       "      <th>Humidity</th>\n",
       "      <th>Lat</th>\n",
       "      <th>Lng</th>\n",
       "      <th>Max Temp</th>\n",
       "      <th>Wind Speed</th>\n",
       "    </tr>\n",
       "  </thead>\n",
       "  <tbody>\n",
       "    <tr>\n",
       "      <th>count</th>\n",
       "      <td>565.000000</td>\n",
       "      <td>5.650000e+02</td>\n",
       "      <td>565.000000</td>\n",
       "      <td>565.000000</td>\n",
       "      <td>565.000000</td>\n",
       "      <td>565.000000</td>\n",
       "      <td>565.000000</td>\n",
       "    </tr>\n",
       "    <tr>\n",
       "      <th>mean</th>\n",
       "      <td>53.915044</td>\n",
       "      <td>1.607561e+09</td>\n",
       "      <td>74.902655</td>\n",
       "      <td>18.672018</td>\n",
       "      <td>16.870602</td>\n",
       "      <td>52.672354</td>\n",
       "      <td>7.523717</td>\n",
       "    </tr>\n",
       "    <tr>\n",
       "      <th>std</th>\n",
       "      <td>40.520416</td>\n",
       "      <td>5.561842e+01</td>\n",
       "      <td>20.028599</td>\n",
       "      <td>33.286284</td>\n",
       "      <td>90.889590</td>\n",
       "      <td>27.386357</td>\n",
       "      <td>5.340319</td>\n",
       "    </tr>\n",
       "    <tr>\n",
       "      <th>min</th>\n",
       "      <td>0.000000</td>\n",
       "      <td>1.607561e+09</td>\n",
       "      <td>4.000000</td>\n",
       "      <td>-54.800000</td>\n",
       "      <td>-179.170000</td>\n",
       "      <td>-40.000000</td>\n",
       "      <td>0.200000</td>\n",
       "    </tr>\n",
       "    <tr>\n",
       "      <th>25%</th>\n",
       "      <td>1.000000</td>\n",
       "      <td>1.607561e+09</td>\n",
       "      <td>68.000000</td>\n",
       "      <td>-9.010000</td>\n",
       "      <td>-63.000000</td>\n",
       "      <td>36.000000</td>\n",
       "      <td>3.360000</td>\n",
       "    </tr>\n",
       "    <tr>\n",
       "      <th>50%</th>\n",
       "      <td>75.000000</td>\n",
       "      <td>1.607562e+09</td>\n",
       "      <td>80.000000</td>\n",
       "      <td>22.280000</td>\n",
       "      <td>16.360000</td>\n",
       "      <td>61.000000</td>\n",
       "      <td>5.990000</td>\n",
       "    </tr>\n",
       "    <tr>\n",
       "      <th>75%</th>\n",
       "      <td>95.000000</td>\n",
       "      <td>1.607562e+09</td>\n",
       "      <td>88.000000</td>\n",
       "      <td>47.130000</td>\n",
       "      <td>97.200000</td>\n",
       "      <td>73.810000</td>\n",
       "      <td>10.330000</td>\n",
       "    </tr>\n",
       "    <tr>\n",
       "      <th>max</th>\n",
       "      <td>100.000000</td>\n",
       "      <td>1.607562e+09</td>\n",
       "      <td>100.000000</td>\n",
       "      <td>78.220000</td>\n",
       "      <td>179.320000</td>\n",
       "      <td>89.600000</td>\n",
       "      <td>33.710000</td>\n",
       "    </tr>\n",
       "  </tbody>\n",
       "</table>\n",
       "</div>"
      ],
      "text/plain": [
       "       Cloudiness          Date    Humidity         Lat         Lng  \\\n",
       "count  565.000000  5.650000e+02  565.000000  565.000000  565.000000   \n",
       "mean    53.915044  1.607561e+09   74.902655   18.672018   16.870602   \n",
       "std     40.520416  5.561842e+01   20.028599   33.286284   90.889590   \n",
       "min      0.000000  1.607561e+09    4.000000  -54.800000 -179.170000   \n",
       "25%      1.000000  1.607561e+09   68.000000   -9.010000  -63.000000   \n",
       "50%     75.000000  1.607562e+09   80.000000   22.280000   16.360000   \n",
       "75%     95.000000  1.607562e+09   88.000000   47.130000   97.200000   \n",
       "max    100.000000  1.607562e+09  100.000000   78.220000  179.320000   \n",
       "\n",
       "         Max Temp  Wind Speed  \n",
       "count  565.000000  565.000000  \n",
       "mean    52.672354    7.523717  \n",
       "std     27.386357    5.340319  \n",
       "min    -40.000000    0.200000  \n",
       "25%     36.000000    3.360000  \n",
       "50%     61.000000    5.990000  \n",
       "75%     73.810000   10.330000  \n",
       "max     89.600000   33.710000  "
      ]
     },
     "execution_count": 8,
     "metadata": {},
     "output_type": "execute_result"
    }
   ],
   "source": [
    "weather_dict.describe()"
   ]
  },
  {
   "cell_type": "code",
   "execution_count": 9,
   "metadata": {},
   "outputs": [],
   "source": [
    "# Save city data into a csv file\n",
    "weather_dict.to_csv(\"output_data/cities.csv\", index = False)"
   ]
  },
  {
   "cell_type": "markdown",
   "metadata": {},
   "source": [
    "## Inspect the data and remove the cities where the humidity > 100%.\n",
    "----\n",
    "Skip this step if there are no cities that have humidity > 100%. "
   ]
  },
  {
   "cell_type": "code",
   "execution_count": 40,
   "metadata": {},
   "outputs": [
    {
     "data": {
      "text/html": [
       "<div>\n",
       "<style scoped>\n",
       "    .dataframe tbody tr th:only-of-type {\n",
       "        vertical-align: middle;\n",
       "    }\n",
       "\n",
       "    .dataframe tbody tr th {\n",
       "        vertical-align: top;\n",
       "    }\n",
       "\n",
       "    .dataframe thead th {\n",
       "        text-align: right;\n",
       "    }\n",
       "</style>\n",
       "<table border=\"1\" class=\"dataframe\">\n",
       "  <thead>\n",
       "    <tr style=\"text-align: right;\">\n",
       "      <th></th>\n",
       "      <th>Cloudiness</th>\n",
       "      <th>Date</th>\n",
       "      <th>Humidity</th>\n",
       "      <th>Lat</th>\n",
       "      <th>Lng</th>\n",
       "      <th>Max Temp</th>\n",
       "      <th>Wind Speed</th>\n",
       "    </tr>\n",
       "  </thead>\n",
       "  <tbody>\n",
       "    <tr>\n",
       "      <th>count</th>\n",
       "      <td>565.000000</td>\n",
       "      <td>5.650000e+02</td>\n",
       "      <td>565.000000</td>\n",
       "      <td>565.000000</td>\n",
       "      <td>565.000000</td>\n",
       "      <td>565.000000</td>\n",
       "      <td>565.000000</td>\n",
       "    </tr>\n",
       "    <tr>\n",
       "      <th>mean</th>\n",
       "      <td>53.915044</td>\n",
       "      <td>1.607561e+09</td>\n",
       "      <td>74.902655</td>\n",
       "      <td>18.672018</td>\n",
       "      <td>16.870602</td>\n",
       "      <td>52.672354</td>\n",
       "      <td>7.523717</td>\n",
       "    </tr>\n",
       "    <tr>\n",
       "      <th>std</th>\n",
       "      <td>40.520416</td>\n",
       "      <td>5.561842e+01</td>\n",
       "      <td>20.028599</td>\n",
       "      <td>33.286284</td>\n",
       "      <td>90.889590</td>\n",
       "      <td>27.386357</td>\n",
       "      <td>5.340319</td>\n",
       "    </tr>\n",
       "    <tr>\n",
       "      <th>min</th>\n",
       "      <td>0.000000</td>\n",
       "      <td>1.607561e+09</td>\n",
       "      <td>4.000000</td>\n",
       "      <td>-54.800000</td>\n",
       "      <td>-179.170000</td>\n",
       "      <td>-40.000000</td>\n",
       "      <td>0.200000</td>\n",
       "    </tr>\n",
       "    <tr>\n",
       "      <th>25%</th>\n",
       "      <td>1.000000</td>\n",
       "      <td>1.607561e+09</td>\n",
       "      <td>68.000000</td>\n",
       "      <td>-9.010000</td>\n",
       "      <td>-63.000000</td>\n",
       "      <td>36.000000</td>\n",
       "      <td>3.360000</td>\n",
       "    </tr>\n",
       "    <tr>\n",
       "      <th>50%</th>\n",
       "      <td>75.000000</td>\n",
       "      <td>1.607562e+09</td>\n",
       "      <td>80.000000</td>\n",
       "      <td>22.280000</td>\n",
       "      <td>16.360000</td>\n",
       "      <td>61.000000</td>\n",
       "      <td>5.990000</td>\n",
       "    </tr>\n",
       "    <tr>\n",
       "      <th>75%</th>\n",
       "      <td>95.000000</td>\n",
       "      <td>1.607562e+09</td>\n",
       "      <td>88.000000</td>\n",
       "      <td>47.130000</td>\n",
       "      <td>97.200000</td>\n",
       "      <td>73.810000</td>\n",
       "      <td>10.330000</td>\n",
       "    </tr>\n",
       "    <tr>\n",
       "      <th>max</th>\n",
       "      <td>100.000000</td>\n",
       "      <td>1.607562e+09</td>\n",
       "      <td>100.000000</td>\n",
       "      <td>78.220000</td>\n",
       "      <td>179.320000</td>\n",
       "      <td>89.600000</td>\n",
       "      <td>33.710000</td>\n",
       "    </tr>\n",
       "  </tbody>\n",
       "</table>\n",
       "</div>"
      ],
      "text/plain": [
       "       Cloudiness          Date    Humidity         Lat         Lng  \\\n",
       "count  565.000000  5.650000e+02  565.000000  565.000000  565.000000   \n",
       "mean    53.915044  1.607561e+09   74.902655   18.672018   16.870602   \n",
       "std     40.520416  5.561842e+01   20.028599   33.286284   90.889590   \n",
       "min      0.000000  1.607561e+09    4.000000  -54.800000 -179.170000   \n",
       "25%      1.000000  1.607561e+09   68.000000   -9.010000  -63.000000   \n",
       "50%     75.000000  1.607562e+09   80.000000   22.280000   16.360000   \n",
       "75%     95.000000  1.607562e+09   88.000000   47.130000   97.200000   \n",
       "max    100.000000  1.607562e+09  100.000000   78.220000  179.320000   \n",
       "\n",
       "         Max Temp  Wind Speed  \n",
       "count  565.000000  565.000000  \n",
       "mean    52.672354    7.523717  \n",
       "std     27.386357    5.340319  \n",
       "min    -40.000000    0.200000  \n",
       "25%     36.000000    3.360000  \n",
       "50%     61.000000    5.990000  \n",
       "75%     73.810000   10.330000  \n",
       "max     89.600000   33.710000  "
      ]
     },
     "execution_count": 40,
     "metadata": {},
     "output_type": "execute_result"
    }
   ],
   "source": [
    "dry_cities = weather_dict[weather_dict[\"Humidity\"]<=100]\n",
    "dry_cities.describe()"
   ]
  },
  {
   "cell_type": "code",
   "execution_count": 42,
   "metadata": {},
   "outputs": [
    {
     "name": "stdout",
     "output_type": "stream",
     "text": [
      "There are 0 cities with over 100% humidity\n"
     ]
    }
   ],
   "source": [
    "#  Get the indices of cities that have humidity over 100%.\n",
    "high_humid = weather_dict.index[weather_dict[\"Humidity\"]>100].tolist()\n",
    "\n",
    "print(f\"There are {len(high_humid)} cities with over 100% humidity\")"
   ]
  },
  {
   "cell_type": "code",
   "execution_count": 43,
   "metadata": {},
   "outputs": [
    {
     "data": {
      "text/html": [
       "<div>\n",
       "<style scoped>\n",
       "    .dataframe tbody tr th:only-of-type {\n",
       "        vertical-align: middle;\n",
       "    }\n",
       "\n",
       "    .dataframe tbody tr th {\n",
       "        vertical-align: top;\n",
       "    }\n",
       "\n",
       "    .dataframe thead th {\n",
       "        text-align: right;\n",
       "    }\n",
       "</style>\n",
       "<table border=\"1\" class=\"dataframe\">\n",
       "  <thead>\n",
       "    <tr style=\"text-align: right;\">\n",
       "      <th></th>\n",
       "      <th>Cloudiness</th>\n",
       "      <th>Date</th>\n",
       "      <th>Humidity</th>\n",
       "      <th>Lat</th>\n",
       "      <th>Lng</th>\n",
       "      <th>Max Temp</th>\n",
       "      <th>Wind Speed</th>\n",
       "    </tr>\n",
       "  </thead>\n",
       "  <tbody>\n",
       "    <tr>\n",
       "      <th>count</th>\n",
       "      <td>565.000000</td>\n",
       "      <td>5.650000e+02</td>\n",
       "      <td>565.000000</td>\n",
       "      <td>565.000000</td>\n",
       "      <td>565.000000</td>\n",
       "      <td>565.000000</td>\n",
       "      <td>565.000000</td>\n",
       "    </tr>\n",
       "    <tr>\n",
       "      <th>mean</th>\n",
       "      <td>53.915044</td>\n",
       "      <td>1.607561e+09</td>\n",
       "      <td>74.902655</td>\n",
       "      <td>18.672018</td>\n",
       "      <td>16.870602</td>\n",
       "      <td>52.672354</td>\n",
       "      <td>7.523717</td>\n",
       "    </tr>\n",
       "    <tr>\n",
       "      <th>std</th>\n",
       "      <td>40.520416</td>\n",
       "      <td>5.561842e+01</td>\n",
       "      <td>20.028599</td>\n",
       "      <td>33.286284</td>\n",
       "      <td>90.889590</td>\n",
       "      <td>27.386357</td>\n",
       "      <td>5.340319</td>\n",
       "    </tr>\n",
       "    <tr>\n",
       "      <th>min</th>\n",
       "      <td>0.000000</td>\n",
       "      <td>1.607561e+09</td>\n",
       "      <td>4.000000</td>\n",
       "      <td>-54.800000</td>\n",
       "      <td>-179.170000</td>\n",
       "      <td>-40.000000</td>\n",
       "      <td>0.200000</td>\n",
       "    </tr>\n",
       "    <tr>\n",
       "      <th>25%</th>\n",
       "      <td>1.000000</td>\n",
       "      <td>1.607561e+09</td>\n",
       "      <td>68.000000</td>\n",
       "      <td>-9.010000</td>\n",
       "      <td>-63.000000</td>\n",
       "      <td>36.000000</td>\n",
       "      <td>3.360000</td>\n",
       "    </tr>\n",
       "    <tr>\n",
       "      <th>50%</th>\n",
       "      <td>75.000000</td>\n",
       "      <td>1.607562e+09</td>\n",
       "      <td>80.000000</td>\n",
       "      <td>22.280000</td>\n",
       "      <td>16.360000</td>\n",
       "      <td>61.000000</td>\n",
       "      <td>5.990000</td>\n",
       "    </tr>\n",
       "    <tr>\n",
       "      <th>75%</th>\n",
       "      <td>95.000000</td>\n",
       "      <td>1.607562e+09</td>\n",
       "      <td>88.000000</td>\n",
       "      <td>47.130000</td>\n",
       "      <td>97.200000</td>\n",
       "      <td>73.810000</td>\n",
       "      <td>10.330000</td>\n",
       "    </tr>\n",
       "    <tr>\n",
       "      <th>max</th>\n",
       "      <td>100.000000</td>\n",
       "      <td>1.607562e+09</td>\n",
       "      <td>100.000000</td>\n",
       "      <td>78.220000</td>\n",
       "      <td>179.320000</td>\n",
       "      <td>89.600000</td>\n",
       "      <td>33.710000</td>\n",
       "    </tr>\n",
       "  </tbody>\n",
       "</table>\n",
       "</div>"
      ],
      "text/plain": [
       "       Cloudiness          Date    Humidity         Lat         Lng  \\\n",
       "count  565.000000  5.650000e+02  565.000000  565.000000  565.000000   \n",
       "mean    53.915044  1.607561e+09   74.902655   18.672018   16.870602   \n",
       "std     40.520416  5.561842e+01   20.028599   33.286284   90.889590   \n",
       "min      0.000000  1.607561e+09    4.000000  -54.800000 -179.170000   \n",
       "25%      1.000000  1.607561e+09   68.000000   -9.010000  -63.000000   \n",
       "50%     75.000000  1.607562e+09   80.000000   22.280000   16.360000   \n",
       "75%     95.000000  1.607562e+09   88.000000   47.130000   97.200000   \n",
       "max    100.000000  1.607562e+09  100.000000   78.220000  179.320000   \n",
       "\n",
       "         Max Temp  Wind Speed  \n",
       "count  565.000000  565.000000  \n",
       "mean    52.672354    7.523717  \n",
       "std     27.386357    5.340319  \n",
       "min    -40.000000    0.200000  \n",
       "25%     36.000000    3.360000  \n",
       "50%     61.000000    5.990000  \n",
       "75%     73.810000   10.330000  \n",
       "max     89.600000   33.710000  "
      ]
     },
     "execution_count": 43,
     "metadata": {},
     "output_type": "execute_result"
    }
   ],
   "source": [
    "# Make a new DataFrame equal to the city data to drop all humidity outliers by index.\n",
    "# Passing \"inplace=False\" will make a copy of the city_data DataFrame, which we call \"clean_city_data\".\n",
    "\n",
    "clean_city_data = weather_dict.drop(labels=high_humid,inplace=False)\n",
    "clean_city_data.head()\n",
    "clean_city_data.describe()"
   ]
  },
  {
   "cell_type": "code",
   "execution_count": 33,
   "metadata": {},
   "outputs": [],
   "source": [
    "date = date.today()"
   ]
  },
  {
   "cell_type": "markdown",
   "metadata": {},
   "source": [
    "## Plotting the Data\n",
    "* Use proper labeling of the plots using plot titles (including date of analysis) and axes labels.\n",
    "* Save the plotted figures as .pngs."
   ]
  },
  {
   "cell_type": "markdown",
   "metadata": {},
   "source": [
    "## Latitude vs. Temperature Plot"
   ]
  },
  {
   "cell_type": "code",
   "execution_count": 34,
   "metadata": {
    "scrolled": true
   },
   "outputs": [
    {
     "data": {
      "image/png": "[encoded data removed]",
      "text/plain": [
       "<Figure size 432x288 with 1 Axes>"
      ]
     },
     "metadata": {
      "needs_background": "light"
     },
     "output_type": "display_data"
    }
   ],
   "source": [
    "# Create Latitude vs. Temperature Plot scatter plot\n",
    "plt.scatter(weather_dict[\"Lat\"], weather_dict[\"Max Temp\"], facecolor = \"red\", edgecolor = \"black\")\n",
    "\n",
    "# Set title\n",
    "plt.title(f\"City Latitude vs. Max Temperature {date}\")\n",
    "\n",
    "# Set x axis label\n",
    "plt.xlabel(\"Latitude\")\n",
    "\n",
    "# Set y axis label\n",
    "plt.ylabel(\"Max Temperature (F)\")\n",
    "\n",
    "# Set grid line\n",
    "plt.grid(linestyle=\"-\", linewidth=1, alpha = 0.5)\n",
    "\n",
    "# Save the plotted figure as .pngs\n",
    "plt.savefig(\"output_data/Images/City Latitude vs Max Temperature.png\")"
   ]
  },
  {
   "cell_type": "markdown",
   "metadata": {},
   "source": [
    "Highest temperature is found at 0 latitude and as the latitude increases or decreases, temperature drops."
   ]
  },
  {
   "cell_type": "markdown",
   "metadata": {},
   "source": [
    "## Latitude vs. Humidity Plot"
   ]
  },
  {
   "cell_type": "code",
   "execution_count": 36,
   "metadata": {},
   "outputs": [
    {
     "data": {
      "image/png": "[encoded data removed]",
      "text/plain": [
       "<Figure size 432x288 with 1 Axes>"
      ]
     },
     "metadata": {
      "needs_background": "light"
     },
     "output_type": "display_data"
    }
   ],
   "source": [
    "# Create Latitude vs. Humidity Plot scatter plot\n",
    "plt.scatter(weather_dict[\"Lat\"], weather_dict[\"Humidity\"], facecolor = \"orange\", edgecolor = \"black\")\n",
    "\n",
    "# Set title\n",
    "plt.title(f\"City Latitude vs. Humidity {date}\")\n",
    "\n",
    "# Set x axis label\n",
    "plt.xlabel(\"Latitude\")\n",
    "\n",
    "# Set y axis label\n",
    "plt.ylabel(\"Humidity (%)\")\n",
    "\n",
    "# Set grid line\n",
    "plt.grid(linestyle=\"-\", linewidth=1, alpha = 0.5)\n",
    "\n",
    "# Save the plotted figure as png\n",
    "plt.savefig(\"output_data/Images/City Latitude vs Humidity.png\")"
   ]
  },
  {
   "cell_type": "markdown",
   "metadata": {},
   "source": [
    "Polar regions have lower humidity and as latitude gets higher, humidity gets higher in the southern hemisphere."
   ]
  },
  {
   "cell_type": "markdown",
   "metadata": {},
   "source": [
    "## Latitude vs. Cloudiness Plot"
   ]
  },
  {
   "cell_type": "code",
   "execution_count": 37,
   "metadata": {},
   "outputs": [
    {
     "data": {
      "image/png": "[encoded data removed]",
      "text/plain": [
       "<Figure size 432x288 with 1 Axes>"
      ]
     },
     "metadata": {
      "needs_background": "light"
     },
     "output_type": "display_data"
    }
   ],
   "source": [
    "# Create a Latitude vs. Cloudiness Plot scatter plot\n",
    "plt.scatter(weather_dict[\"Lat\"], weather_dict[\"Cloudiness\"], facecolor = \"yellow\", edgecolor= \"black\")\n",
    "\n",
    "# Set title\n",
    "plt.title(f\"City Latitude vs Cloudiness {date}\")\n",
    "\n",
    "# Set x axis label\n",
    "plt.xlabel(\"Latitude\")\n",
    "\n",
    "# Set y axis label\n",
    "plt.ylabel(\"Cloudiness\")\n",
    "\n",
    "# Set grid line\n",
    "plt.grid(linestyle=\"-\", linewidth=1, alpha = 0.5)\n",
    "\n",
    "# Save the plotted figure as png\n",
    "plt.savefig(\"output_data/Images/City Latitude vs Cloudiness.png\")"
   ]
  },
  {
   "cell_type": "markdown",
   "metadata": {},
   "source": [
    "Cloudiness data is widely spread across the latitude."
   ]
  },
  {
   "cell_type": "markdown",
   "metadata": {},
   "source": [
    "## Latitude vs. Wind Speed Plot"
   ]
  },
  {
   "cell_type": "code",
   "execution_count": 38,
   "metadata": {},
   "outputs": [
    {
     "data": {
      "image/png": "[encoded data removed]",
      "text/plain": [
       "<Figure size 432x288 with 1 Axes>"
      ]
     },
     "metadata": {
      "needs_background": "light"
     },
     "output_type": "display_data"
    }
   ],
   "source": [
    "# Create Latitude vs. Wind Speed Plot scatter plot\n",
    "plt.scatter(weather_dict[\"Lat\"], weather_dict[\"Wind Speed\"], facecolor =\"green\", edgecolor = \"black\")\n",
    "\n",
    "# Set title\n",
    "plt. title(f\"City Latitude vs. Wind Speed (mph) {date}\")\n",
    "\n",
    "# Set x axis label\n",
    "plt.xlabel(\"Latitude\")\n",
    "\n",
    "# Set y axis label\n",
    "plt.ylabel(\"Wind Speed (%)\")\n",
    "\n",
    "# Set y axis limit\n",
    "plt.ylim(-2,50)\n",
    "\n",
    "# Set grid line\n",
    "plt.grid(linestyle=\"-\", linewidth=1, alpha =0.5)\n",
    "\n",
    "# Save the plotted figure as png\n",
    "plt.savefig(\"output_data/Images/City Latitude vs Wind Speed (mph).png\")"
   ]
  },
  {
   "cell_type": "markdown",
   "metadata": {},
   "source": [
    "Wind speed data is widely spread across the latitude"
   ]
  },
  {
   "cell_type": "markdown",
   "metadata": {},
   "source": [
    "## Linear Regression"
   ]
  },
  {
   "cell_type": "code",
   "execution_count": 16,
   "metadata": {},
   "outputs": [],
   "source": [
    "# Create Northern and Southern Hemisphere DataFrames\n",
    "northern_hemisphere = weather_dict.loc[weather_dict[\"Lat\"] >= 0]\n",
    "southern_hemisphere = weather_dict.loc[weather_dict[\"Lng\"] < 0]"
   ]
  },
  {
   "cell_type": "code",
   "execution_count": 17,
   "metadata": {},
   "outputs": [],
   "source": [
    "# Define function for creating linear agression and scatter plot\n",
    "def linear_agression(x,y):\n",
    "    print(f\"The r squared is : {round(st.pearsonr(x,y)[0],2)}\")\n",
    "    (slope, intercept, rvalue, pvalue, stderr) =  linregress(x,y)\n",
    "    regress_values = x * slope + intercept\n",
    "    line_eq = \"y = \" + str(round(slope,2)) + \"x + \" + str(round(intercept,2))\n",
    "    plt.scatter(x, y)\n",
    "    plt.plot(x,regress_values,\"r-\")\n",
    "    return line_eq\n",
    "\n",
    "# Define a function for annotating\n",
    "def annotate(line_eq, a, b):\n",
    "    plt.annotate(line_eq,(a,b),fontsize=15, color =\"red\")"
   ]
  },
  {
   "cell_type": "markdown",
   "metadata": {},
   "source": [
    "####  Northern Hemisphere - Max Temp vs. Latitude Linear Regression"
   ]
  },
  {
   "cell_type": "code",
   "execution_count": 19,
   "metadata": {},
   "outputs": [
    {
     "name": "stdout",
     "output_type": "stream",
     "text": [
      "The r squared is : -0.86\n"
     ]
    },
    {
     "data": {
      "image/png": "[encoded data removed]",
      "text/plain": [
       "<Figure size 432x288 with 1 Axes>"
      ]
     },
     "metadata": {
      "needs_background": "light"
     },
     "output_type": "display_data"
    }
   ],
   "source": [
    "# Call on function #1\n",
    "equation = linear_agression(northern_hemisphere[\"Lat\"], northern_hemisphere[\"Max Temp\"])\n",
    "\n",
    "# Call on function #2\n",
    "annotate(equation, 0, 0)\n",
    "\n",
    "#Set a title#\n",
    "plt.title(\"Northern Hemisphere - Max Temp vs. Latitude Linear Regression\")\n",
    "\n",
    "# Set xlabel\n",
    "plt.xlabel(\"Latitude\")\n",
    "\n",
    "#Set ylabel\n",
    "plt.ylabel(\"Max Temp (F)\")\n",
    "\n",
    "# Save the figure as png\n",
    "plt.savefig(\"output_data/Images/Northern Hemisphere - Max Temp vs Latitude Linear Regression.png\")"
   ]
  },
  {
   "cell_type": "markdown",
   "metadata": {},
   "source": [
    "There is a strong negative correlation between latitude and max temperature for the northern hemisphere."
   ]
  },
  {
   "cell_type": "markdown",
   "metadata": {},
   "source": [
    "####  Southern Hemisphere - Max Temp vs. Latitude Linear Regression"
   ]
  },
  {
   "cell_type": "code",
   "execution_count": 20,
   "metadata": {
    "scrolled": true
   },
   "outputs": [
    {
     "name": "stdout",
     "output_type": "stream",
     "text": [
      "The r squared is : -0.74\n"
     ]
    },
    {
     "data": {
      "image/png": "[encoded data removed]",
      "text/plain": [
       "<Figure size 432x288 with 1 Axes>"
      ]
     },
     "metadata": {
      "needs_background": "light"
     },
     "output_type": "display_data"
    }
   ],
   "source": [
    "# Call on function #1\n",
    "equation = linear_agression(southern_hemisphere[\"Lat\"],southern_hemisphere[\"Max Temp\"])\n",
    "\n",
    "# Call on function #2\n",
    "annotate(equation, -30, 50)\n",
    "\n",
    "# Set a title\n",
    "plt.title(\"Southern Hemisphere - Max Temp vs. Latitude Linear Regression\")\n",
    "\n",
    "# Set xlabel\n",
    "plt.xlabel(\"Latitude\")\n",
    "\n",
    "# Set ylabel\n",
    "plt.ylabel(\"Max Temp (F)\")\n",
    "\n",
    "# Save the figure as png\n",
    "plt.savefig(\"output_data/Images/Southern Hemisphere - Max Temp vs Latitude Linear Regression.png\")"
   ]
  },
  {
   "cell_type": "markdown",
   "metadata": {},
   "source": [
    "There is a negative correlation between latitude and max temperature for southern hemisphere."
   ]
  },
  {
   "cell_type": "markdown",
   "metadata": {},
   "source": [
    "####  Northern Hemisphere - Humidity (%) vs. Latitude Linear Regression"
   ]
  },
  {
   "cell_type": "code",
   "execution_count": 21,
   "metadata": {},
   "outputs": [
    {
     "name": "stdout",
     "output_type": "stream",
     "text": [
      "The r squared is : 0.34\n"
     ]
    },
    {
     "data": {
      "image/png": "[encoded data removed]",
      "text/plain": [
       "<Figure size 432x288 with 1 Axes>"
      ]
     },
     "metadata": {
      "needs_background": "light"
     },
     "output_type": "display_data"
    }
   ],
   "source": [
    "# Call on function #1\n",
    "equation = linear_agression(northern_hemisphere[\"Lat\"], northern_hemisphere[\"Humidity\"])\n",
    "\n",
    "# Call on function #2\n",
    "annotate(equation, 40, 15)\n",
    "\n",
    "# Set a title\n",
    "plt.title(\"Northern Hemisphere = Humidity (%) vs. Latitude Linear Regression\")\n",
    "\n",
    "# Set xlabel\n",
    "plt.xlabel(\"Latitude\")\n",
    "\n",
    "# Set ylabel\n",
    "plt.ylabel(\"Humidity (%)\")\n",
    "\n",
    "# Save the figure\n",
    "plt.savefig(\"output_data/Images/Northern Hemisphere - Humidity (%) vs Latitude Linear Regression.png\")\n",
    "                                                                "
   ]
  },
  {
   "cell_type": "markdown",
   "metadata": {},
   "source": [
    "There is a moderate positive correlation between latitude and humidity for northern hemisphere."
   ]
  },
  {
   "cell_type": "markdown",
   "metadata": {},
   "source": [
    "####  Southern Hemisphere - Humidity (%) vs. Latitude Linear Regression"
   ]
  },
  {
   "cell_type": "code",
   "execution_count": 22,
   "metadata": {},
   "outputs": [
    {
     "name": "stdout",
     "output_type": "stream",
     "text": [
      "The r squared is : 0.05\n"
     ]
    },
    {
     "data": {
      "image/png": "[encoded data removed]",
      "text/plain": [
       "<Figure size 432x288 with 1 Axes>"
      ]
     },
     "metadata": {
      "needs_background": "light"
     },
     "output_type": "display_data"
    }
   ],
   "source": [
    "# Call on function #1\n",
    "equation = linear_agression(southern_hemisphere[\"Lat\"], southern_hemisphere[\"Humidity\"])\n",
    "\n",
    "# Call on function #2\n",
    "annotate(equation, -40, 50)\n",
    "\n",
    "# Set title\n",
    "plt.title(\"Southern Hemishpere = Humidity (%) vs. Latitude Linear Regression\")\n",
    "\n",
    "# Set xlabel\n",
    "plt.xlabel(\"Latitude\")\n",
    "\n",
    "# Set ylabel\n",
    "plt.ylabel(\"Humidity (%)\")\n",
    "\n",
    "# Save the figure in png\n",
    "plt.savefig(\"output_data/Images/Southern Hemisphere - Humidity (%) vs Latitude Linear Regression.png\")"
   ]
  },
  {
   "cell_type": "markdown",
   "metadata": {},
   "source": [
    "There is a moderate positive correlation between latitude and humidity for the southern hemisphere."
   ]
  },
  {
   "cell_type": "markdown",
   "metadata": {},
   "source": [
    "####  Northern Hemisphere - Cloudiness (%) vs. Latitude Linear Regression"
   ]
  },
  {
   "cell_type": "code",
   "execution_count": 23,
   "metadata": {},
   "outputs": [
    {
     "name": "stdout",
     "output_type": "stream",
     "text": [
      "The r squared is : 0.2\n"
     ]
    },
    {
     "data": {
      "image/png": "[encoded data removed]",
      "text/plain": [
       "<Figure size 432x288 with 1 Axes>"
      ]
     },
     "metadata": {
      "needs_background": "light"
     },
     "output_type": "display_data"
    }
   ],
   "source": [
    "# Call on function #1\n",
    "equation = linear_agression(northern_hemisphere[\"Lat\"], northern_hemisphere[\"Cloudiness\"])\n",
    "\n",
    "# Call on function #2\n",
    "annotate(equation, 30, 40)\n",
    "\n",
    "# Set a title\n",
    "plt.title(\"Northern Hemishpere - Cloudiness (%) vs Latitude Linear Regression\")\n",
    "\n",
    "# Set xlabel\n",
    "plt.xlabel(\"Latitude\")\n",
    "\n",
    "# Set ylabel\n",
    "plt.ylabel(\"Cloudiness (%)\")\n",
    "\n",
    "# Save the figure as a png\n",
    "plt.savefig(\"output_data/Images/Northern Hemisphere - Cloudiness (%) vs Latitude Linear Regression.png\")"
   ]
  },
  {
   "cell_type": "markdown",
   "metadata": {},
   "source": [
    "There is a weak positive correlation between latitude and cloudiness for the norhtern hemisphere."
   ]
  },
  {
   "cell_type": "markdown",
   "metadata": {},
   "source": [
    "####  Southern Hemisphere - Cloudiness (%) vs. Latitude Linear Regression"
   ]
  },
  {
   "cell_type": "code",
   "execution_count": 24,
   "metadata": {
    "scrolled": true
   },
   "outputs": [
    {
     "name": "stdout",
     "output_type": "stream",
     "text": [
      "The r squared is : 0.18\n"
     ]
    },
    {
     "data": {
      "image/png": "[encoded data removed]",
      "text/plain": [
       "<Figure size 432x288 with 1 Axes>"
      ]
     },
     "metadata": {
      "needs_background": "light"
     },
     "output_type": "display_data"
    }
   ],
   "source": [
    "# Call function #1\n",
    "equation = linear_agression(southern_hemisphere[\"Lat\"], southern_hemisphere[\"Cloudiness\"])\n",
    "\n",
    "# Call on function #2\n",
    "annotate(equation, -30, 40)\n",
    "\n",
    "# Set a title\n",
    "plt.title(\"Southern Hemisphere - Cloudiness (%) vs. Latitude Linear Regression\")\n",
    "\n",
    "# Set xlabel\n",
    "plt.xlabel(\"Latitude\")\n",
    "\n",
    "# Set ylabel\n",
    "plt.ylabel(\"Cloudiness (%)\")\n",
    "\n",
    "# Save the figure as png\n",
    "plt.savefig(\"output_data/Images/Southern Hemisphere - Cloudiness (%) vs Latitude Linear Regression.png\")"
   ]
  },
  {
   "cell_type": "markdown",
   "metadata": {},
   "source": [
    "There is a weak positive correlation between latitude and cloudiness for the southern hemisphere."
   ]
  },
  {
   "cell_type": "markdown",
   "metadata": {},
   "source": [
    "####  Northern Hemisphere - Wind Speed (mph) vs. Latitude Linear Regression"
   ]
  },
  {
   "cell_type": "code",
   "execution_count": 25,
   "metadata": {},
   "outputs": [
    {
     "name": "stdout",
     "output_type": "stream",
     "text": [
      "The r squared is : 0.1\n"
     ]
    },
    {
     "data": {
      "image/png": "[encoded data removed]",
      "text/plain": [
       "<Figure size 432x288 with 1 Axes>"
      ]
     },
     "metadata": {
      "needs_background": "light"
     },
     "output_type": "display_data"
    }
   ],
   "source": [
    "# Call an function #1\n",
    "equation = linear_agression(northern_hemisphere[\"Lat\"], northern_hemisphere[\"Wind Speed\"])\n",
    "\n",
    "# Call an function #2\n",
    "annotate(equation, 40, 20)\n",
    "\n",
    "# Set  title\n",
    "plt.title(\"Northern Hemisphere - Wind Speed (mph) vs. Latitude Linear Regression\")\n",
    "\n",
    "# Set xlabel\n",
    "plt.xlabel(\"Latitude\")\n",
    "\n",
    "# Set ylabel\n",
    "plt.ylabel(\"Wind Speed (mph)\")\n",
    "\n",
    "# Save the figure\n",
    "plt.savefig(\"output_data/Images/Northern Hemisphere - Wind Speed vs Latitude Linear Regression.png\")"
   ]
  },
  {
   "cell_type": "markdown",
   "metadata": {},
   "source": [
    "There is a weak positive correlation between latitude and wind speed for northern hemisphere."
   ]
  },
  {
   "cell_type": "markdown",
   "metadata": {},
   "source": [
    "####  Southern Hemisphere - Wind Speed (mph) vs. Latitude Linear Regression"
   ]
  },
  {
   "cell_type": "code",
   "execution_count": 26,
   "metadata": {},
   "outputs": [
    {
     "name": "stdout",
     "output_type": "stream",
     "text": [
      "The r squared is : 0.06\n"
     ]
    },
    {
     "data": {
      "image/png": "[encoded data removed]",
      "text/plain": [
       "<Figure size 432x288 with 1 Axes>"
      ]
     },
     "metadata": {
      "needs_background": "light"
     },
     "output_type": "display_data"
    }
   ],
   "source": [
    "# Call an function #1\n",
    "equation = linear_agression(southern_hemisphere[\"Lat\"], southern_hemisphere[\"Wind Speed\"])\n",
    "\n",
    "# Call an function #2\n",
    "annotate(equation, -30, 15)\n",
    "\n",
    "# Set  title\n",
    "plt.title(\"Southern Hemisphere - Wind Speed (mph) vs. Latitude Linear Regression\")\n",
    "\n",
    "# Set xlabel\n",
    "plt.xlabel(\"Latitude\")\n",
    "\n",
    "# Set ylabel\n",
    "plt.ylabel(\"Wind Speed (mph)\")\n",
    "\n",
    "# Save the figure\n",
    "plt.savefig(\"output_data/Images/Southern Hemisphere - Wind Speed vs Latitude Linear Regression.png\")"
   ]
  },
  {
   "cell_type": "markdown",
   "metadata": {},
   "source": [
    "There is a weak negative correlation between latitude and wind speed for the southern hemisphere."
   ]
  }
 ],
 "metadata": {
  "anaconda-cloud": {},
  "kernel_info": {
   "name": "python3"
  },
  "kernelspec": {
   "display_name": "PythonData2",
   "language": "python",
   "name": "pythondata2"
  },
  "language_info": {
   "codemirror_mode": {
    "name": "ipython",
    "version": 3
   },
   "file_extension": ".py",
   "mimetype": "text/x-python",
   "name": "python",
   "nbconvert_exporter": "python",
   "pygments_lexer": "ipython3",
   "version": "3.8.3"
  },
  "latex_envs": {
   "LaTeX_envs_menu_present": true,
   "autoclose": false,
   "autocomplete": true,
   "bibliofile": "biblio.bib",
   "cite_by": "apalike",
   "current_citInitial": 1,
   "eqLabelWithNumbers": true,
   "eqNumInitial": 1,
   "hotkeys": {
    "equation": "Ctrl-E",
    "itemize": "Ctrl-I"
   },
   "labels_anchors": false,
   "latex_user_defs": false,
   "report_style_numbering": false,
   "user_envs_cfg": false
  },
  "nteract": {
   "version": "0.12.3"
  }
 },
 "nbformat": 4,
 "nbformat_minor": 2
}
